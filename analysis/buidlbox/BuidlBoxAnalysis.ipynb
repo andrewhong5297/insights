{
 "cells": [
  {
   "cell_type": "markdown",
   "id": "923c8f31",
   "metadata": {},
   "source": [
    "# BuidlBox Analysis\n",
    "\n",
    "This notebook looks at historic hackathon submissions and analyzes the following:\n",
    "\n",
    "- does the project have a valid GitHub namespace (`owner/repo` or `owner`) that can be extracted?\n",
    "- is the project already on Open Source Observer?\n",
    "- if not on OSO:\n",
    "  - is the project's owner a User or Organization?\n",
    "  - if a User:\n",
    "      - is the hackathon repo still active?\n",
    "      - has the user contributed to other projects on OSO?\n",
    "  - if an Organization:\n",
    "      - is the hackathon repo still active?\n",
    "      - are there other active repos in its namespace?"
   ]
  },
  {
   "cell_type": "code",
   "execution_count": 1,
   "id": "c99d10ef",
   "metadata": {},
   "outputs": [],
   "source": [
    "from google.cloud import bigquery\n",
    "import json\n",
    "import os\n",
    "import pandas as pd\n",
    "import sys\n",
    "import time\n",
    "from urllib.parse import urlparse\n",
    "\n",
    "sys.path.append(os.path.abspath(\"../../scripts/\"))\n",
    "from github import validate_github_artifact, get_owner_type"
   ]
  },
  {
   "cell_type": "markdown",
   "id": "8f5241cd",
   "metadata": {},
   "source": [
    "# Query latest OSO project data"
   ]
  },
  {
   "cell_type": "code",
   "execution_count": 2,
   "id": "88f4436e",
   "metadata": {},
   "outputs": [],
   "source": [
    "os.environ['GOOGLE_APPLICATION_CREDENTIALS'] = '../../gcp_credentials.json'\n",
    "client = bigquery.Client()"
   ]
  },
  {
   "cell_type": "code",
   "execution_count": 3,
   "id": "eadb10f8",
   "metadata": {},
   "outputs": [
    {
     "data": {
      "text/html": [
       "<div>\n",
       "<style scoped>\n",
       "    .dataframe tbody tr th:only-of-type {\n",
       "        vertical-align: middle;\n",
       "    }\n",
       "\n",
       "    .dataframe tbody tr th {\n",
       "        vertical-align: top;\n",
       "    }\n",
       "\n",
       "    .dataframe thead th {\n",
       "        text-align: right;\n",
       "    }\n",
       "</style>\n",
       "<table border=\"1\" class=\"dataframe\">\n",
       "  <thead>\n",
       "    <tr style=\"text-align: right;\">\n",
       "      <th></th>\n",
       "      <th>project_id</th>\n",
       "      <th>project_slug</th>\n",
       "      <th>artifact_name</th>\n",
       "    </tr>\n",
       "  </thead>\n",
       "  <tbody>\n",
       "    <tr>\n",
       "      <th>34983</th>\n",
       "      <td>3Ff_uAlA9as0h6fCxaj-HlzTHlSoc8ObP7lPnUZhHjs=</td>\n",
       "      <td>understanding-optimism-codebase-joohhnnn</td>\n",
       "      <td>joohhnnn/understanding-optimism-codebase-cn</td>\n",
       "    </tr>\n",
       "    <tr>\n",
       "      <th>34984</th>\n",
       "      <td>3Ff_uAlA9as0h6fCxaj-HlzTHlSoc8ObP7lPnUZhHjs=</td>\n",
       "      <td>understanding-optimism-codebase-joohhnnn</td>\n",
       "      <td>joohhnnn/understanding-optimism-codebase</td>\n",
       "    </tr>\n",
       "    <tr>\n",
       "      <th>34985</th>\n",
       "      <td>YDP3svOj26WLxY0ieeWS_HhrnM8r8mNIWc14n1497Mo=</td>\n",
       "      <td>text-to-text-transfer-transformer-google-research</td>\n",
       "      <td>google-research/text-to-text-transfer-transformer</td>\n",
       "    </tr>\n",
       "  </tbody>\n",
       "</table>\n",
       "</div>"
      ],
      "text/plain": [
       "                                         project_id  \\\n",
       "34983  3Ff_uAlA9as0h6fCxaj-HlzTHlSoc8ObP7lPnUZhHjs=   \n",
       "34984  3Ff_uAlA9as0h6fCxaj-HlzTHlSoc8ObP7lPnUZhHjs=   \n",
       "34985  YDP3svOj26WLxY0ieeWS_HhrnM8r8mNIWc14n1497Mo=   \n",
       "\n",
       "                                            project_slug  \\\n",
       "34983           understanding-optimism-codebase-joohhnnn   \n",
       "34984           understanding-optimism-codebase-joohhnnn   \n",
       "34985  text-to-text-transfer-transformer-google-research   \n",
       "\n",
       "                                           artifact_name  \n",
       "34983        joohhnnn/understanding-optimism-codebase-cn  \n",
       "34984           joohhnnn/understanding-optimism-codebase  \n",
       "34985  google-research/text-to-text-transfer-transformer  "
      ]
     },
     "execution_count": 3,
     "metadata": {},
     "output_type": "execute_result"
    }
   ],
   "source": [
    "query = \"\"\"\n",
    "SELECT DISTINCT project_id, project_slug, artifact_name \n",
    "FROM `opensource-observer.oso.artifacts_by_project`\n",
    "WHERE artifact_namespace = 'GITHUB'\n",
    "\"\"\"\n",
    "\n",
    "result = client.query(query)\n",
    "project_artifacts = result.to_dataframe()\n",
    "project_artifacts.tail(3)"
   ]
  },
  {
   "cell_type": "code",
   "execution_count": 4,
   "id": "a121234c",
   "metadata": {},
   "outputs": [
    {
     "data": {
      "text/plain": [
       "34959"
      ]
     },
     "execution_count": 4,
     "metadata": {},
     "output_type": "execute_result"
    }
   ],
   "source": [
    "existing_repos = list(project_artifacts['artifact_name'].unique())\n",
    "len(existing_repos)"
   ]
  },
  {
   "cell_type": "code",
   "execution_count": 5,
   "id": "fde930d3",
   "metadata": {},
   "outputs": [
    {
     "data": {
      "text/plain": [
       "1576"
      ]
     },
     "execution_count": 5,
     "metadata": {},
     "output_type": "execute_result"
    }
   ],
   "source": [
    "existing_orgs = list(set([x.split('/')[0] for x in existing_repos]))\n",
    "len(existing_orgs)"
   ]
  },
  {
   "cell_type": "markdown",
   "id": "c5a122be",
   "metadata": {},
   "source": [
    "# Query latest OSO user data"
   ]
  },
  {
   "cell_type": "code",
   "execution_count": 6,
   "id": "88b5c97f",
   "metadata": {},
   "outputs": [
    {
     "data": {
      "text/html": [
       "<div>\n",
       "<style scoped>\n",
       "    .dataframe tbody tr th:only-of-type {\n",
       "        vertical-align: middle;\n",
       "    }\n",
       "\n",
       "    .dataframe tbody tr th {\n",
       "        vertical-align: top;\n",
       "    }\n",
       "\n",
       "    .dataframe thead th {\n",
       "        text-align: right;\n",
       "    }\n",
       "</style>\n",
       "<table border=\"1\" class=\"dataframe\">\n",
       "  <thead>\n",
       "    <tr style=\"text-align: right;\">\n",
       "      <th></th>\n",
       "      <th>project_id</th>\n",
       "      <th>user_name</th>\n",
       "      <th>date_last_activity</th>\n",
       "    </tr>\n",
       "  </thead>\n",
       "  <tbody>\n",
       "    <tr>\n",
       "      <th>1806584</th>\n",
       "      <td>y9t7a2RCN_Cxpi-g-8Qmb5txYxaC0nARzZwmwSWinuI=</td>\n",
       "      <td>thomasheim11</td>\n",
       "      <td>2023-07-08 16:45:31+00:00</td>\n",
       "    </tr>\n",
       "    <tr>\n",
       "      <th>1806585</th>\n",
       "      <td>y9t7a2RCN_Cxpi-g-8Qmb5txYxaC0nARzZwmwSWinuI=</td>\n",
       "      <td>seoyong1</td>\n",
       "      <td>2023-04-23 11:35:25+00:00</td>\n",
       "    </tr>\n",
       "    <tr>\n",
       "      <th>1806586</th>\n",
       "      <td>y9t7a2RCN_Cxpi-g-8Qmb5txYxaC0nARzZwmwSWinuI=</td>\n",
       "      <td>ftfdfrancoeur65</td>\n",
       "      <td>2021-12-16 15:16:38+00:00</td>\n",
       "    </tr>\n",
       "  </tbody>\n",
       "</table>\n",
       "</div>"
      ],
      "text/plain": [
       "                                           project_id        user_name  \\\n",
       "1806584  y9t7a2RCN_Cxpi-g-8Qmb5txYxaC0nARzZwmwSWinuI=     thomasheim11   \n",
       "1806585  y9t7a2RCN_Cxpi-g-8Qmb5txYxaC0nARzZwmwSWinuI=         seoyong1   \n",
       "1806586  y9t7a2RCN_Cxpi-g-8Qmb5txYxaC0nARzZwmwSWinuI=  ftfdfrancoeur65   \n",
       "\n",
       "               date_last_activity  \n",
       "1806584 2023-07-08 16:45:31+00:00  \n",
       "1806585 2023-04-23 11:35:25+00:00  \n",
       "1806586 2021-12-16 15:16:38+00:00  "
      ]
     },
     "execution_count": 6,
     "metadata": {},
     "output_type": "execute_result"
    }
   ],
   "source": [
    "query = \"\"\"\n",
    "SELECT \n",
    "  project_id,\n",
    "  LOWER(from_name) AS user_name,\n",
    "  MAX(time) AS date_last_activity\n",
    "FROM `opensource-observer.oso.int_events_to_project`\n",
    "WHERE to_namespace = 'GITHUB'\n",
    "GROUP BY 1, 2\n",
    "\"\"\"\n",
    "\n",
    "result = client.query(query)\n",
    "project_users = result.to_dataframe()\n",
    "project_users.tail(3)"
   ]
  },
  {
   "cell_type": "code",
   "execution_count": 7,
   "id": "13de1217",
   "metadata": {},
   "outputs": [
    {
     "data": {
      "text/plain": [
       "958869"
      ]
     },
     "execution_count": 7,
     "metadata": {},
     "output_type": "execute_result"
    }
   ],
   "source": [
    "existing_users = project_users['user_name'].unique()\n",
    "len(existing_users)"
   ]
  },
  {
   "cell_type": "markdown",
   "id": "ece4329c",
   "metadata": {},
   "source": [
    "# Process BuidlBox data"
   ]
  },
  {
   "cell_type": "code",
   "execution_count": 8,
   "id": "685cb375",
   "metadata": {},
   "outputs": [],
   "source": [
    "# helper functions for parsing GitHub urls\n",
    "\n",
    "def parse_url(url):\n",
    "    parsed_url = urlparse(url)\n",
    "    path = parsed_url.path.strip(\"/\").split(\"/\")\n",
    "    if len(path) > 2:\n",
    "        return None\n",
    "    namespace =  \"/\".join(path).lower()\n",
    "    namespace = namespace.replace(\".git\", \"\")\n",
    "    if len(namespace) < 2:\n",
    "        return None\n",
    "    return namespace\n",
    "\n",
    "def splitter(x, pos):\n",
    "    if isinstance(x, str):\n",
    "        if '/' in x:\n",
    "            return x.split('/')[pos]\n",
    "        elif pos == 0:\n",
    "            return x\n",
    "    return None"
   ]
  },
  {
   "cell_type": "code",
   "execution_count": 9,
   "id": "9db196f0",
   "metadata": {},
   "outputs": [
    {
     "data": {
      "text/html": [
       "<div>\n",
       "<style scoped>\n",
       "    .dataframe tbody tr th:only-of-type {\n",
       "        vertical-align: middle;\n",
       "    }\n",
       "\n",
       "    .dataframe tbody tr th {\n",
       "        vertical-align: top;\n",
       "    }\n",
       "\n",
       "    .dataframe thead th {\n",
       "        text-align: right;\n",
       "    }\n",
       "</style>\n",
       "<table border=\"1\" class=\"dataframe\">\n",
       "  <thead>\n",
       "    <tr style=\"text-align: right;\">\n",
       "      <th></th>\n",
       "      <th>project_name</th>\n",
       "      <th>repo_url</th>\n",
       "      <th>created_date</th>\n",
       "      <th>hackathon_name</th>\n",
       "      <th>bounty_title</th>\n",
       "      <th>org</th>\n",
       "      <th>gitcoin/buidlbox</th>\n",
       "      <th>github_namespace</th>\n",
       "      <th>github_owner</th>\n",
       "      <th>github_repo</th>\n",
       "      <th>is_valid_github_url</th>\n",
       "      <th>is_valid_github_namespace</th>\n",
       "      <th>does_owner_have_project_on_oso</th>\n",
       "      <th>is_repo_on_oso</th>\n",
       "    </tr>\n",
       "  </thead>\n",
       "  <tbody>\n",
       "    <tr>\n",
       "      <th>0</th>\n",
       "      <td>aaveboard</td>\n",
       "      <td>https://github.com/merwane/aaveboard</td>\n",
       "      <td>2019-11-12 14:03:18+00</td>\n",
       "      <td>Web3 World</td>\n",
       "      <td>Gitcoin x Aave Hackathon Challenge : Build a m...</td>\n",
       "      <td>aave</td>\n",
       "      <td>gitcoin</td>\n",
       "      <td>merwane/aaveboard</td>\n",
       "      <td>merwane</td>\n",
       "      <td>aaveboard</td>\n",
       "      <td>True</td>\n",
       "      <td>True</td>\n",
       "      <td>False</td>\n",
       "      <td>False</td>\n",
       "    </tr>\n",
       "    <tr>\n",
       "      <th>1</th>\n",
       "      <td>Monitoring DApp</td>\n",
       "      <td>https://github.com/thesachinmittal/Aave-Monito...</td>\n",
       "      <td>2019-11-12 14:05:27+00</td>\n",
       "      <td>Web3 World</td>\n",
       "      <td>Gitcoin x Aave Hackathon Challenge : Build a m...</td>\n",
       "      <td>aave</td>\n",
       "      <td>gitcoin</td>\n",
       "      <td>thesachinmittal/aave-monitoring-dapp</td>\n",
       "      <td>thesachinmittal</td>\n",
       "      <td>aave-monitoring-dapp</td>\n",
       "      <td>True</td>\n",
       "      <td>True</td>\n",
       "      <td>False</td>\n",
       "      <td>False</td>\n",
       "    </tr>\n",
       "    <tr>\n",
       "      <th>2</th>\n",
       "      <td>Monitoring DApp</td>\n",
       "      <td>https://github.com/Ljtron/Aave-Monitoring-Dapp...</td>\n",
       "      <td>2019-11-12 14:06:42+00</td>\n",
       "      <td>Web3 World</td>\n",
       "      <td>Gitcoin x Aave Hackathon Challenge : Build a m...</td>\n",
       "      <td>aave</td>\n",
       "      <td>gitcoin</td>\n",
       "      <td>ljtron/aave-monitoring-dapp-for-data-lovers</td>\n",
       "      <td>ljtron</td>\n",
       "      <td>aave-monitoring-dapp-for-data-lovers</td>\n",
       "      <td>True</td>\n",
       "      <td>True</td>\n",
       "      <td>False</td>\n",
       "      <td>False</td>\n",
       "    </tr>\n",
       "  </tbody>\n",
       "</table>\n",
       "</div>"
      ],
      "text/plain": [
       "      project_name                                           repo_url  \\\n",
       "0        aaveboard               https://github.com/merwane/aaveboard   \n",
       "1  Monitoring DApp  https://github.com/thesachinmittal/Aave-Monito...   \n",
       "2  Monitoring DApp  https://github.com/Ljtron/Aave-Monitoring-Dapp...   \n",
       "\n",
       "             created_date hackathon_name  \\\n",
       "0  2019-11-12 14:03:18+00     Web3 World   \n",
       "1  2019-11-12 14:05:27+00     Web3 World   \n",
       "2  2019-11-12 14:06:42+00     Web3 World   \n",
       "\n",
       "                                        bounty_title   org gitcoin/buidlbox  \\\n",
       "0  Gitcoin x Aave Hackathon Challenge : Build a m...  aave          gitcoin   \n",
       "1  Gitcoin x Aave Hackathon Challenge : Build a m...  aave          gitcoin   \n",
       "2  Gitcoin x Aave Hackathon Challenge : Build a m...  aave          gitcoin   \n",
       "\n",
       "                              github_namespace     github_owner  \\\n",
       "0                            merwane/aaveboard          merwane   \n",
       "1         thesachinmittal/aave-monitoring-dapp  thesachinmittal   \n",
       "2  ljtron/aave-monitoring-dapp-for-data-lovers           ljtron   \n",
       "\n",
       "                            github_repo  is_valid_github_url  \\\n",
       "0                             aaveboard                 True   \n",
       "1                  aave-monitoring-dapp                 True   \n",
       "2  aave-monitoring-dapp-for-data-lovers                 True   \n",
       "\n",
       "   is_valid_github_namespace  does_owner_have_project_on_oso  is_repo_on_oso  \n",
       "0                       True                           False           False  \n",
       "1                       True                           False           False  \n",
       "2                       True                           False           False  "
      ]
     },
     "execution_count": 9,
     "metadata": {},
     "output_type": "execute_result"
    }
   ],
   "source": [
    "bb = pd.read_csv('data/gitcoin+buidlbox_data.csv')\n",
    "\n",
    "# parse GitHub urls\n",
    "bb['github_namespace'] = bb['repo_url'].apply(parse_url)\n",
    "bb['github_owner'] = bb['github_namespace'].apply(lambda x: splitter(x,0))\n",
    "bb['github_repo'] = bb['github_namespace'].apply(lambda x: splitter(x,1))\n",
    "\n",
    "# analyze repos\n",
    "bb['is_valid_github_url'] = bb['repo_url'].str.contains(\"github.com/\")\n",
    "bb['is_valid_github_namespace'] = bb['github_namespace'].apply(lambda x: isinstance(x, str))\n",
    "bb['does_owner_have_project_on_oso'] = bb['github_owner'].apply(lambda x: x in existing_orgs)\n",
    "bb['is_repo_on_oso'] = bb['github_namespace'].apply(lambda x: x in existing_repos)\n",
    "\n",
    "bb.head(3)"
   ]
  },
  {
   "cell_type": "code",
   "execution_count": 10,
   "id": "f571cce8",
   "metadata": {},
   "outputs": [
    {
     "data": {
      "text/plain": [
       "is_valid_github_url               0.993522\n",
       "is_valid_github_namespace         0.775522\n",
       "does_owner_have_project_on_oso    0.018464\n",
       "is_repo_on_oso                    0.010797\n",
       "dtype: float64"
      ]
     },
     "execution_count": 10,
     "metadata": {},
     "output_type": "execute_result"
    }
   ],
   "source": [
    "bb[bb.columns[-4:]].mean()"
   ]
  },
  {
   "cell_type": "markdown",
   "id": "07f711db",
   "metadata": {},
   "source": [
    "# Lookup whether project is User or Org"
   ]
  },
  {
   "cell_type": "code",
   "execution_count": 11,
   "id": "e36b1bad",
   "metadata": {},
   "outputs": [
    {
     "data": {
      "text/plain": [
       "4780"
      ]
     },
     "execution_count": 11,
     "metadata": {},
     "output_type": "execute_result"
    }
   ],
   "source": [
    "bb_owners = list(bb['github_owner'].dropna().unique())\n",
    "len(bb_owners)"
   ]
  },
  {
   "cell_type": "code",
   "execution_count": 12,
   "id": "5f5e3d4f",
   "metadata": {},
   "outputs": [],
   "source": [
    "def process_owners(list_of_owners, json_path, sleep=1):\n",
    "    \n",
    "    if os.path.exists(json_path):\n",
    "        with open(json_path, 'r') as f:\n",
    "            results = json.load(f)\n",
    "    else:\n",
    "        results = {}\n",
    "    \n",
    "    for x in list_of_owners:\n",
    "        if x in results:\n",
    "            continue\n",
    "        outcome = get_owner_type(x)\n",
    "        results.update({x:outcome})        \n",
    "        with open(json_path, 'w') as f:\n",
    "            json.dump(results, f, indent=2)\n",
    "        time.sleep(sleep)\n",
    "        \n",
    "    return results\n",
    "    \n",
    "github_checks_path = 'data/github_owners.json'    \n",
    "github_owners = process_owners(\n",
    "    bb_owners, \n",
    "    github_checks_path,\n",
    "    sleep=0\n",
    ")    "
   ]
  },
  {
   "cell_type": "code",
   "execution_count": 13,
   "id": "5ab3c030",
   "metadata": {},
   "outputs": [
    {
     "data": {
      "text/html": [
       "<div>\n",
       "<style scoped>\n",
       "    .dataframe tbody tr th:only-of-type {\n",
       "        vertical-align: middle;\n",
       "    }\n",
       "\n",
       "    .dataframe tbody tr th {\n",
       "        vertical-align: top;\n",
       "    }\n",
       "\n",
       "    .dataframe thead th {\n",
       "        text-align: right;\n",
       "    }\n",
       "</style>\n",
       "<table border=\"1\" class=\"dataframe\">\n",
       "  <thead>\n",
       "    <tr style=\"text-align: right;\">\n",
       "      <th></th>\n",
       "      <th>project_name</th>\n",
       "      <th>repo_url</th>\n",
       "      <th>created_date</th>\n",
       "      <th>hackathon_name</th>\n",
       "      <th>bounty_title</th>\n",
       "      <th>org</th>\n",
       "      <th>gitcoin/buidlbox</th>\n",
       "      <th>github_namespace</th>\n",
       "      <th>github_owner</th>\n",
       "      <th>github_repo</th>\n",
       "      <th>is_valid_github_url</th>\n",
       "      <th>is_valid_github_namespace</th>\n",
       "      <th>does_owner_have_project_on_oso</th>\n",
       "      <th>is_repo_on_oso</th>\n",
       "      <th>github_owner_type</th>\n",
       "    </tr>\n",
       "  </thead>\n",
       "  <tbody>\n",
       "    <tr>\n",
       "      <th>18520</th>\n",
       "      <td>PledgePost</td>\n",
       "      <td>https://github.com/PledgePost/v2Interface</td>\n",
       "      <td>2023-12-26 11:37:31.15+00</td>\n",
       "      <td>Allo on Arbitrum Hackathon</td>\n",
       "      <td>Best review and evaluation tool</td>\n",
       "      <td>ArbitrumDAO</td>\n",
       "      <td>buidlbox</td>\n",
       "      <td>pledgepost/v2interface</td>\n",
       "      <td>pledgepost</td>\n",
       "      <td>v2interface</td>\n",
       "      <td>True</td>\n",
       "      <td>True</td>\n",
       "      <td>False</td>\n",
       "      <td>False</td>\n",
       "      <td>Organization</td>\n",
       "    </tr>\n",
       "    <tr>\n",
       "      <th>18521</th>\n",
       "      <td>Monetizado</td>\n",
       "      <td>https://github.com/monetizado/Contracts</td>\n",
       "      <td>2024-03-08 18:24:23.109+00</td>\n",
       "      <td>ALT+D(enver)</td>\n",
       "      <td>Virtual Vibes &amp; Blockchain Bytes</td>\n",
       "      <td>buidlbox</td>\n",
       "      <td>buidlbox</td>\n",
       "      <td>monetizado/contracts</td>\n",
       "      <td>monetizado</td>\n",
       "      <td>contracts</td>\n",
       "      <td>True</td>\n",
       "      <td>True</td>\n",
       "      <td>False</td>\n",
       "      <td>False</td>\n",
       "      <td>Organization</td>\n",
       "    </tr>\n",
       "    <tr>\n",
       "      <th>18522</th>\n",
       "      <td>PledgePost</td>\n",
       "      <td>https://github.com/PledgePost/v2Interface</td>\n",
       "      <td>2023-12-26 11:37:31.15+00</td>\n",
       "      <td>Allo on Arbitrum Hackathon</td>\n",
       "      <td>Best Novel Funding Distribution Tool</td>\n",
       "      <td>ArbitrumDAO</td>\n",
       "      <td>buidlbox</td>\n",
       "      <td>pledgepost/v2interface</td>\n",
       "      <td>pledgepost</td>\n",
       "      <td>v2interface</td>\n",
       "      <td>True</td>\n",
       "      <td>True</td>\n",
       "      <td>False</td>\n",
       "      <td>False</td>\n",
       "      <td>Organization</td>\n",
       "    </tr>\n",
       "  </tbody>\n",
       "</table>\n",
       "</div>"
      ],
      "text/plain": [
       "      project_name                                   repo_url  \\\n",
       "18520   PledgePost  https://github.com/PledgePost/v2Interface   \n",
       "18521   Monetizado    https://github.com/monetizado/Contracts   \n",
       "18522   PledgePost  https://github.com/PledgePost/v2Interface   \n",
       "\n",
       "                     created_date              hackathon_name  \\\n",
       "18520   2023-12-26 11:37:31.15+00  Allo on Arbitrum Hackathon   \n",
       "18521  2024-03-08 18:24:23.109+00                ALT+D(enver)   \n",
       "18522   2023-12-26 11:37:31.15+00  Allo on Arbitrum Hackathon   \n",
       "\n",
       "                               bounty_title          org gitcoin/buidlbox  \\\n",
       "18520       Best review and evaluation tool  ArbitrumDAO         buidlbox   \n",
       "18521      Virtual Vibes & Blockchain Bytes     buidlbox         buidlbox   \n",
       "18522  Best Novel Funding Distribution Tool  ArbitrumDAO         buidlbox   \n",
       "\n",
       "             github_namespace github_owner  github_repo  is_valid_github_url  \\\n",
       "18520  pledgepost/v2interface   pledgepost  v2interface                 True   \n",
       "18521    monetizado/contracts   monetizado    contracts                 True   \n",
       "18522  pledgepost/v2interface   pledgepost  v2interface                 True   \n",
       "\n",
       "       is_valid_github_namespace  does_owner_have_project_on_oso  \\\n",
       "18520                       True                           False   \n",
       "18521                       True                           False   \n",
       "18522                       True                           False   \n",
       "\n",
       "       is_repo_on_oso github_owner_type  \n",
       "18520           False      Organization  \n",
       "18521           False      Organization  \n",
       "18522           False      Organization  "
      ]
     },
     "execution_count": 13,
     "metadata": {},
     "output_type": "execute_result"
    }
   ],
   "source": [
    "bb['github_owner_type'] = bb['github_owner'].map(github_owners)\n",
    "bb.tail(3)"
   ]
  },
  {
   "cell_type": "markdown",
   "id": "0e1a9301",
   "metadata": {},
   "source": [
    "# Check whether user is contributing to other projects on OSO"
   ]
  },
  {
   "cell_type": "code",
   "execution_count": 14,
   "id": "c58cf969",
   "metadata": {},
   "outputs": [
    {
     "data": {
      "text/plain": [
       "2079"
      ]
     },
     "execution_count": 14,
     "metadata": {},
     "output_type": "execute_result"
    }
   ],
   "source": [
    "bb_users_on_oso = (\n",
    "    set(bb[bb['github_owner_type'] == 'User']['github_owner'].unique())\n",
    "    .intersection(set(existing_users))\n",
    ")\n",
    "len(bb_users_on_oso)"
   ]
  },
  {
   "cell_type": "code",
   "execution_count": 15,
   "id": "151b4e80",
   "metadata": {},
   "outputs": [
    {
     "data": {
      "text/html": [
       "<div>\n",
       "<style scoped>\n",
       "    .dataframe tbody tr th:only-of-type {\n",
       "        vertical-align: middle;\n",
       "    }\n",
       "\n",
       "    .dataframe tbody tr th {\n",
       "        vertical-align: top;\n",
       "    }\n",
       "\n",
       "    .dataframe thead th {\n",
       "        text-align: right;\n",
       "    }\n",
       "</style>\n",
       "<table border=\"1\" class=\"dataframe\">\n",
       "  <thead>\n",
       "    <tr style=\"text-align: right;\">\n",
       "      <th></th>\n",
       "      <th>date_last_activity</th>\n",
       "      <th>project_id</th>\n",
       "    </tr>\n",
       "    <tr>\n",
       "      <th>user_name</th>\n",
       "      <th></th>\n",
       "      <th></th>\n",
       "    </tr>\n",
       "  </thead>\n",
       "  <tbody>\n",
       "    <tr>\n",
       "      <th>00x-dx</th>\n",
       "      <td>2024-01-30 16:20:29+00:00</td>\n",
       "      <td>2</td>\n",
       "    </tr>\n",
       "    <tr>\n",
       "      <th>0101coding</th>\n",
       "      <td>2022-08-08 18:37:03+00:00</td>\n",
       "      <td>1</td>\n",
       "    </tr>\n",
       "    <tr>\n",
       "      <th>0xandrew</th>\n",
       "      <td>2022-04-11 18:54:35+00:00</td>\n",
       "      <td>1</td>\n",
       "    </tr>\n",
       "    <tr>\n",
       "      <th>0xb0x</th>\n",
       "      <td>2022-06-07 19:41:50+00:00</td>\n",
       "      <td>2</td>\n",
       "    </tr>\n",
       "    <tr>\n",
       "      <th>0xbeedao</th>\n",
       "      <td>2022-03-28 23:58:38+00:00</td>\n",
       "      <td>4</td>\n",
       "    </tr>\n",
       "    <tr>\n",
       "      <th>...</th>\n",
       "      <td>...</td>\n",
       "      <td>...</td>\n",
       "    </tr>\n",
       "    <tr>\n",
       "      <th>zpencerguy</th>\n",
       "      <td>2023-07-14 23:01:06+00:00</td>\n",
       "      <td>8</td>\n",
       "    </tr>\n",
       "    <tr>\n",
       "      <th>zvezdochetag</th>\n",
       "      <td>2023-11-17 15:21:45+00:00</td>\n",
       "      <td>11</td>\n",
       "    </tr>\n",
       "    <tr>\n",
       "      <th>zyfrank</th>\n",
       "      <td>2021-06-18 00:40:07+00:00</td>\n",
       "      <td>16</td>\n",
       "    </tr>\n",
       "    <tr>\n",
       "      <th>zyra-zia</th>\n",
       "      <td>2020-06-20 19:10:27+00:00</td>\n",
       "      <td>1</td>\n",
       "    </tr>\n",
       "    <tr>\n",
       "      <th>zzhengzhuo</th>\n",
       "      <td>2023-06-09 11:21:09+00:00</td>\n",
       "      <td>3</td>\n",
       "    </tr>\n",
       "  </tbody>\n",
       "</table>\n",
       "<p>2079 rows × 2 columns</p>\n",
       "</div>"
      ],
      "text/plain": [
       "                    date_last_activity  project_id\n",
       "user_name                                         \n",
       "00x-dx       2024-01-30 16:20:29+00:00           2\n",
       "0101coding   2022-08-08 18:37:03+00:00           1\n",
       "0xandrew     2022-04-11 18:54:35+00:00           1\n",
       "0xb0x        2022-06-07 19:41:50+00:00           2\n",
       "0xbeedao     2022-03-28 23:58:38+00:00           4\n",
       "...                                ...         ...\n",
       "zpencerguy   2023-07-14 23:01:06+00:00           8\n",
       "zvezdochetag 2023-11-17 15:21:45+00:00          11\n",
       "zyfrank      2021-06-18 00:40:07+00:00          16\n",
       "zyra-zia     2020-06-20 19:10:27+00:00           1\n",
       "zzhengzhuo   2023-06-09 11:21:09+00:00           3\n",
       "\n",
       "[2079 rows x 2 columns]"
      ]
     },
     "execution_count": 15,
     "metadata": {},
     "output_type": "execute_result"
    }
   ],
   "source": [
    "project_users_on_bb = (\n",
    "    project_users[project_users['user_name'].isin(bb_users_on_oso)]\n",
    "    .groupby('user_name')\n",
    "    .agg(\n",
    "        {\n",
    "            'date_last_activity': max,\n",
    "            'project_id': 'nunique'\n",
    "        }\n",
    "    )\n",
    ")\n",
    "project_users_on_bb"
   ]
  },
  {
   "cell_type": "code",
   "execution_count": 16,
   "id": "44008efc",
   "metadata": {},
   "outputs": [
    {
     "data": {
      "text/plain": [
       "512"
      ]
     },
     "execution_count": 16,
     "metadata": {},
     "output_type": "execute_result"
    }
   ],
   "source": [
    "bb_recent_users_on_oso = list(project_users_on_bb[project_users_on_bb['date_last_activity'] >= '2024-01-01'].index)\n",
    "len(bb_recent_users_on_oso)"
   ]
  },
  {
   "cell_type": "code",
   "execution_count": 17,
   "id": "38171d3e",
   "metadata": {},
   "outputs": [
    {
     "data": {
      "text/html": [
       "<div>\n",
       "<style scoped>\n",
       "    .dataframe tbody tr th:only-of-type {\n",
       "        vertical-align: middle;\n",
       "    }\n",
       "\n",
       "    .dataframe tbody tr th {\n",
       "        vertical-align: top;\n",
       "    }\n",
       "\n",
       "    .dataframe thead th {\n",
       "        text-align: right;\n",
       "    }\n",
       "</style>\n",
       "<table border=\"1\" class=\"dataframe\">\n",
       "  <thead>\n",
       "    <tr style=\"text-align: right;\">\n",
       "      <th></th>\n",
       "      <th>project_name</th>\n",
       "      <th>repo_url</th>\n",
       "      <th>created_date</th>\n",
       "      <th>hackathon_name</th>\n",
       "      <th>bounty_title</th>\n",
       "      <th>org</th>\n",
       "      <th>gitcoin/buidlbox</th>\n",
       "      <th>github_namespace</th>\n",
       "      <th>github_owner</th>\n",
       "      <th>github_repo</th>\n",
       "      <th>is_valid_github_url</th>\n",
       "      <th>is_valid_github_namespace</th>\n",
       "      <th>does_owner_have_project_on_oso</th>\n",
       "      <th>is_repo_on_oso</th>\n",
       "      <th>github_owner_type</th>\n",
       "      <th>is_user_visible_on_oso</th>\n",
       "      <th>is_user_active_recently_on_oso</th>\n",
       "    </tr>\n",
       "  </thead>\n",
       "  <tbody>\n",
       "    <tr>\n",
       "      <th>18520</th>\n",
       "      <td>PledgePost</td>\n",
       "      <td>https://github.com/PledgePost/v2Interface</td>\n",
       "      <td>2023-12-26 11:37:31.15+00</td>\n",
       "      <td>Allo on Arbitrum Hackathon</td>\n",
       "      <td>Best review and evaluation tool</td>\n",
       "      <td>ArbitrumDAO</td>\n",
       "      <td>buidlbox</td>\n",
       "      <td>pledgepost/v2interface</td>\n",
       "      <td>pledgepost</td>\n",
       "      <td>v2interface</td>\n",
       "      <td>True</td>\n",
       "      <td>True</td>\n",
       "      <td>False</td>\n",
       "      <td>False</td>\n",
       "      <td>Organization</td>\n",
       "      <td>False</td>\n",
       "      <td>False</td>\n",
       "    </tr>\n",
       "    <tr>\n",
       "      <th>18521</th>\n",
       "      <td>Monetizado</td>\n",
       "      <td>https://github.com/monetizado/Contracts</td>\n",
       "      <td>2024-03-08 18:24:23.109+00</td>\n",
       "      <td>ALT+D(enver)</td>\n",
       "      <td>Virtual Vibes &amp; Blockchain Bytes</td>\n",
       "      <td>buidlbox</td>\n",
       "      <td>buidlbox</td>\n",
       "      <td>monetizado/contracts</td>\n",
       "      <td>monetizado</td>\n",
       "      <td>contracts</td>\n",
       "      <td>True</td>\n",
       "      <td>True</td>\n",
       "      <td>False</td>\n",
       "      <td>False</td>\n",
       "      <td>Organization</td>\n",
       "      <td>False</td>\n",
       "      <td>False</td>\n",
       "    </tr>\n",
       "    <tr>\n",
       "      <th>18522</th>\n",
       "      <td>PledgePost</td>\n",
       "      <td>https://github.com/PledgePost/v2Interface</td>\n",
       "      <td>2023-12-26 11:37:31.15+00</td>\n",
       "      <td>Allo on Arbitrum Hackathon</td>\n",
       "      <td>Best Novel Funding Distribution Tool</td>\n",
       "      <td>ArbitrumDAO</td>\n",
       "      <td>buidlbox</td>\n",
       "      <td>pledgepost/v2interface</td>\n",
       "      <td>pledgepost</td>\n",
       "      <td>v2interface</td>\n",
       "      <td>True</td>\n",
       "      <td>True</td>\n",
       "      <td>False</td>\n",
       "      <td>False</td>\n",
       "      <td>Organization</td>\n",
       "      <td>False</td>\n",
       "      <td>False</td>\n",
       "    </tr>\n",
       "  </tbody>\n",
       "</table>\n",
       "</div>"
      ],
      "text/plain": [
       "      project_name                                   repo_url  \\\n",
       "18520   PledgePost  https://github.com/PledgePost/v2Interface   \n",
       "18521   Monetizado    https://github.com/monetizado/Contracts   \n",
       "18522   PledgePost  https://github.com/PledgePost/v2Interface   \n",
       "\n",
       "                     created_date              hackathon_name  \\\n",
       "18520   2023-12-26 11:37:31.15+00  Allo on Arbitrum Hackathon   \n",
       "18521  2024-03-08 18:24:23.109+00                ALT+D(enver)   \n",
       "18522   2023-12-26 11:37:31.15+00  Allo on Arbitrum Hackathon   \n",
       "\n",
       "                               bounty_title          org gitcoin/buidlbox  \\\n",
       "18520       Best review and evaluation tool  ArbitrumDAO         buidlbox   \n",
       "18521      Virtual Vibes & Blockchain Bytes     buidlbox         buidlbox   \n",
       "18522  Best Novel Funding Distribution Tool  ArbitrumDAO         buidlbox   \n",
       "\n",
       "             github_namespace github_owner  github_repo  is_valid_github_url  \\\n",
       "18520  pledgepost/v2interface   pledgepost  v2interface                 True   \n",
       "18521    monetizado/contracts   monetizado    contracts                 True   \n",
       "18522  pledgepost/v2interface   pledgepost  v2interface                 True   \n",
       "\n",
       "       is_valid_github_namespace  does_owner_have_project_on_oso  \\\n",
       "18520                       True                           False   \n",
       "18521                       True                           False   \n",
       "18522                       True                           False   \n",
       "\n",
       "       is_repo_on_oso github_owner_type  is_user_visible_on_oso  \\\n",
       "18520           False      Organization                   False   \n",
       "18521           False      Organization                   False   \n",
       "18522           False      Organization                   False   \n",
       "\n",
       "       is_user_active_recently_on_oso  \n",
       "18520                           False  \n",
       "18521                           False  \n",
       "18522                           False  "
      ]
     },
     "execution_count": 17,
     "metadata": {},
     "output_type": "execute_result"
    }
   ],
   "source": [
    "bb['is_user_visible_on_oso'] = bb['github_owner'].apply(lambda x: x in bb_users_on_oso)\n",
    "bb['is_user_active_recently_on_oso'] = bb['github_owner'].apply(lambda x: x in bb_recent_users_on_oso)\n",
    "\n",
    "bb.tail(3)"
   ]
  },
  {
   "cell_type": "markdown",
   "id": "75282318",
   "metadata": {},
   "source": [
    "# Get GitHub info for projects not on OSO"
   ]
  },
  {
   "cell_type": "code",
   "execution_count": 18,
   "id": "22cd0923",
   "metadata": {},
   "outputs": [
    {
     "data": {
      "text/plain": [
       "8843"
      ]
     },
     "execution_count": 18,
     "metadata": {},
     "output_type": "execute_result"
    }
   ],
   "source": [
    "bb_potential_artifacts = list(\n",
    "    bb[bb['does_owner_have_project_on_oso'] == False]\n",
    "    ['github_namespace'].dropna().unique()\n",
    ")\n",
    "len(bb_potential_artifacts)"
   ]
  },
  {
   "cell_type": "code",
   "execution_count": 19,
   "id": "1af5183f",
   "metadata": {},
   "outputs": [],
   "source": [
    "def process_github(list_of_artifacts, json_path, sleep=1):\n",
    "    \n",
    "    if os.path.exists(json_path):\n",
    "        with open(json_path, 'r') as f:\n",
    "            results = json.load(f)\n",
    "    else:\n",
    "        results = {}\n",
    "    \n",
    "    for a in list_of_artifacts:\n",
    "        if a in results:\n",
    "            continue\n",
    "        outcome = validate_github_artifact(a)\n",
    "        results.update({a:outcome})        \n",
    "        with open(json_path, 'w') as f:\n",
    "            json.dump(results, f, indent=2)\n",
    "        time.sleep(sleep)\n",
    "        \n",
    "    return results\n",
    "    \n",
    "github_checks_path = 'data/github_checks.json'    \n",
    "github_results = process_github(\n",
    "    bb_potential_artifacts, \n",
    "    github_checks_path,\n",
    "    sleep=0\n",
    ")    "
   ]
  },
  {
   "cell_type": "code",
   "execution_count": 20,
   "id": "f65fa7d9",
   "metadata": {},
   "outputs": [],
   "source": [
    "bb['is_valid_new_project'] = bb['github_namespace'].apply(\n",
    "    lambda x: github_results.get(x, {'Approved': False})['Approved'])\n",
    "\n",
    "bb['project_status_notes'] = bb['github_namespace'].apply(\n",
    "    lambda x: github_results.get(x, {'Reason': None})['Reason'])"
   ]
  },
  {
   "cell_type": "code",
   "execution_count": 21,
   "id": "4c802c8e",
   "metadata": {},
   "outputs": [],
   "source": [
    "bb['is_repo_still_available'] = (\n",
    "    (bb['is_valid_github_namespace'] == True)\n",
    "    & (bb['project_status_notes'] != 'Repo no longer available.')\n",
    ")"
   ]
  },
  {
   "cell_type": "code",
   "execution_count": 22,
   "id": "eef61cc5",
   "metadata": {},
   "outputs": [
    {
     "data": {
      "text/plain": [
       "is_valid_github_url               0.993522\n",
       "is_valid_github_namespace         0.775522\n",
       "does_owner_have_project_on_oso    0.018464\n",
       "is_repo_on_oso                    0.010797\n",
       "is_user_visible_on_oso            0.418777\n",
       "is_user_active_recently_on_oso    0.115316\n",
       "is_valid_new_project              0.007504\n",
       "is_repo_still_available           0.574313\n",
       "dtype: float64"
      ]
     },
     "execution_count": 22,
     "metadata": {},
     "output_type": "execute_result"
    }
   ],
   "source": [
    "test_cols = [c for c in bb.columns if c.split('_')[0] in ['is', 'does']]\n",
    "bb[test_cols].mean()"
   ]
  },
  {
   "cell_type": "markdown",
   "id": "267f98d8",
   "metadata": {},
   "source": [
    "# Export snapshot of data"
   ]
  },
  {
   "cell_type": "code",
   "execution_count": 23,
   "id": "49133373",
   "metadata": {},
   "outputs": [],
   "source": [
    "bb.to_csv('data/oso_bb_analysis.csv')"
   ]
  },
  {
   "cell_type": "markdown",
   "id": "927622a7",
   "metadata": {},
   "source": [
    "# Print projects to add to OSO"
   ]
  },
  {
   "cell_type": "code",
   "execution_count": 24,
   "id": "ca1e38b5",
   "metadata": {},
   "outputs": [
    {
     "name": "stdout",
     "output_type": "stream",
     "text": [
      "- https://github.com/0xchijioke/pooldive\n",
      "- https://github.com/agoraspacedao/guild.xyz\n",
      "- https://github.com/akord-com\n",
      "- https://github.com/alexandr-masl/web3-crowdfunding-on-allo-v2\n",
      "- https://github.com/alexandre-abrioux/golem-node\n",
      "- https://github.com/algorand/go-algorand-sdk\n",
      "- https://github.com/alloliance\n",
      "- https://github.com/anudit/convo\n",
      "- https://github.com/bitcoin\n",
      "- https://github.com/castvell/sperax-auditory-report\n",
      "- https://github.com/ceramicnetwork/ceramic\n",
      "- https://github.com/cheqlabs/denota\n",
      "- https://github.com/cryptonerdcn/wasm-cairo\n",
      "- https://github.com/dapotatoman/tez-it-all\n",
      "- https://github.com/defitrack/defitrack-core\n",
      "- https://github.com/dimensiondev/maskbook\n",
      "- https://github.com/ebridgecrosschain\n",
      "- https://github.com/elimu-ai\n",
      "- https://github.com/ensuro/ensuro-binancehackathon\n",
      "- https://github.com/farque65/evmaddresstracker\n",
      "- https://github.com/flowstake\n",
      "- https://github.com/g-r-ay/arbitrum-qa-dashboard\n",
      "- https://github.com/harmony-one\n",
      "- https://github.com/harmony-one/docs-home\n",
      "- https://github.com/heeju-k/daomocles\n",
      "- https://github.com/izar-bridge\n",
      "- https://github.com/kodadot/nft-gallery\n",
      "- https://github.com/libertum-project\n",
      "- https://github.com/litentry\n",
      "- https://github.com/mapofzones\n",
      "- https://github.com/nakamotovikram/flappynft\n",
      "- https://github.com/nervosnetwork/ckb\n",
      "- https://github.com/nervosnetwork/ckb-cli\n",
      "- https://github.com/nextdotid/proof_server\n",
      "- https://github.com/nft-link/telegram-bot\n",
      "- https://github.com/norswap/cards\n",
      "- https://github.com/opendive\n",
      "- https://github.com/panmoni/yapbay\n",
      "- https://github.com/parsiq\n",
      "- https://github.com/peopleequity/equityswap\n",
      "- https://github.com/phala-network/phala-blockchain\n",
      "- https://github.com/piperfinance\n",
      "- https://github.com/ponkila/homestakeros\n",
      "- https://github.com/portkey-wallet\n",
      "- https://github.com/prophetfund/peanut-contracts\n",
      "- https://github.com/reserve-protocol\n",
      "- https://github.com/reserve-protocol/protocol\n",
      "- https://github.com/rkalis/revoke.cash\n",
      "- https://github.com/sodiumlabs\n",
      "- https://github.com/subquery/subql\n",
      "- https://github.com/substrate-developer-hub/substrate-node-template\n",
      "- https://github.com/sway-gang/sway-network\n",
      "- https://github.com/tenderize\n",
      "- https://github.com/terragrids\n",
      "- https://github.com/tevaera-labs/contracts\n",
      "- https://github.com/toystotinkerwith/darkcoin\n",
      "- https://github.com/valory-xyz/governatooorr\n",
      "- https://github.com/vishal-143x/marrysoul\n",
      "- https://github.com/vporton/carbon-flow\n",
      "- https://github.com/welightproject/function_server_based_on_arweave\n",
      "- https://github.com/yashkarthik/yashkarthik.xyz\n",
      "- https://github.com/yearone-io/universal-grave\n",
      "- https://github.com/zkex\n"
     ]
    }
   ],
   "source": [
    "potential_projects = sorted(bb[bb['is_valid_new_project'] == True]['github_namespace'].unique())\n",
    "for p in potential_projects:\n",
    "    print(f\"- https://github.com/{p}\")"
   ]
  }
 ],
 "metadata": {
  "kernelspec": {
   "display_name": "Python 3 (ipykernel)",
   "language": "python",
   "name": "python3"
  },
  "language_info": {
   "codemirror_mode": {
    "name": "ipython",
    "version": 3
   },
   "file_extension": ".py",
   "mimetype": "text/x-python",
   "name": "python",
   "nbconvert_exporter": "python",
   "pygments_lexer": "ipython3",
   "version": "3.11.5"
  }
 },
 "nbformat": 4,
 "nbformat_minor": 5
}
