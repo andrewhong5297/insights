{
 "cells": [
  {
   "cell_type": "code",
   "execution_count": 23,
   "id": "7321e0db",
   "metadata": {},
   "outputs": [],
   "source": [
    "from datetime import datetime, timedelta\n",
    "from google.cloud import bigquery\n",
    "import json\n",
    "import os\n",
    "import pandas as pd\n",
    "import sys\n",
    "\n",
    "sys.path.append(os.path.abspath(\"../../scripts/\"))\n",
    "from github import validate_github_artifact, get_owner_type"
   ]
  },
  {
   "cell_type": "code",
   "execution_count": 2,
   "id": "394e94a3",
   "metadata": {},
   "outputs": [],
   "source": [
    "os.environ['GOOGLE_APPLICATION_CREDENTIALS'] = '../../gcp_credentials.json'\n",
    "client = bigquery.Client()"
   ]
  },
  {
   "cell_type": "markdown",
   "id": "ada3b1b4",
   "metadata": {},
   "source": [
    "# Get all repos on OSO"
   ]
  },
  {
   "cell_type": "code",
   "execution_count": 11,
   "id": "08f63a9b",
   "metadata": {},
   "outputs": [
    {
     "data": {
      "text/html": [
       "<div>\n",
       "<style scoped>\n",
       "    .dataframe tbody tr th:only-of-type {\n",
       "        vertical-align: middle;\n",
       "    }\n",
       "\n",
       "    .dataframe tbody tr th {\n",
       "        vertical-align: top;\n",
       "    }\n",
       "\n",
       "    .dataframe thead th {\n",
       "        text-align: right;\n",
       "    }\n",
       "</style>\n",
       "<table border=\"1\" class=\"dataframe\">\n",
       "  <thead>\n",
       "    <tr style=\"text-align: right;\">\n",
       "      <th></th>\n",
       "      <th>project_id</th>\n",
       "      <th>project_slug</th>\n",
       "      <th>project_name</th>\n",
       "      <th>repository_source</th>\n",
       "      <th>artifact_id</th>\n",
       "      <th>repo_is_fork</th>\n",
       "      <th>repo_fork_count</th>\n",
       "      <th>repo_star_count</th>\n",
       "      <th>first_commit_date</th>\n",
       "      <th>last_commit_date</th>\n",
       "      <th>repo_name_with_owner</th>\n",
       "      <th>repo_owner</th>\n",
       "    </tr>\n",
       "  </thead>\n",
       "  <tbody>\n",
       "    <tr>\n",
       "      <th>37068</th>\n",
       "      <td>wXDIn1ZhRNdQ682uvEAtHNxdN_fzvxGWSbcWWIA96s0=</td>\n",
       "      <td>freedom-of-the-press-foundation</td>\n",
       "      <td>Freedom of the Press Foundation</td>\n",
       "      <td>GITHUB</td>\n",
       "      <td>IrJU7rLHqTirc8WnGq7sezm2uhax6bNdKZ84-zR77p8=</td>\n",
       "      <td>True</td>\n",
       "      <td>0</td>\n",
       "      <td>0</td>\n",
       "      <td>NaT</td>\n",
       "      <td>NaT</td>\n",
       "      <td>freedomofpress/python-gnupg</td>\n",
       "      <td>freedomofpress</td>\n",
       "    </tr>\n",
       "    <tr>\n",
       "      <th>37069</th>\n",
       "      <td>wXDIn1ZhRNdQ682uvEAtHNxdN_fzvxGWSbcWWIA96s0=</td>\n",
       "      <td>freedom-of-the-press-foundation</td>\n",
       "      <td>Freedom of the Press Foundation</td>\n",
       "      <td>GITHUB</td>\n",
       "      <td>ca0yOVhuQghHd-nPYbCgtAIzzpcylrZIt4SHv39Kijo=</td>\n",
       "      <td>True</td>\n",
       "      <td>0</td>\n",
       "      <td>0</td>\n",
       "      <td>NaT</td>\n",
       "      <td>NaT</td>\n",
       "      <td>freedomofpress/terraform-google-gke</td>\n",
       "      <td>freedomofpress</td>\n",
       "    </tr>\n",
       "    <tr>\n",
       "      <th>37070</th>\n",
       "      <td>wXDIn1ZhRNdQ682uvEAtHNxdN_fzvxGWSbcWWIA96s0=</td>\n",
       "      <td>freedom-of-the-press-foundation</td>\n",
       "      <td>Freedom of the Press Foundation</td>\n",
       "      <td>GITHUB</td>\n",
       "      <td>CQfiljcSIgRrUpiHcp2u0Y3YmDzyUIqZ9UNBYAxa4Xc=</td>\n",
       "      <td>True</td>\n",
       "      <td>1</td>\n",
       "      <td>0</td>\n",
       "      <td>2020-03-26 00:00:00+00:00</td>\n",
       "      <td>2020-03-26 00:00:00+00:00</td>\n",
       "      <td>freedomofpress/redmine_cc_addresses</td>\n",
       "      <td>freedomofpress</td>\n",
       "    </tr>\n",
       "  </tbody>\n",
       "</table>\n",
       "</div>"
      ],
      "text/plain": [
       "                                         project_id  \\\n",
       "37068  wXDIn1ZhRNdQ682uvEAtHNxdN_fzvxGWSbcWWIA96s0=   \n",
       "37069  wXDIn1ZhRNdQ682uvEAtHNxdN_fzvxGWSbcWWIA96s0=   \n",
       "37070  wXDIn1ZhRNdQ682uvEAtHNxdN_fzvxGWSbcWWIA96s0=   \n",
       "\n",
       "                          project_slug                     project_name  \\\n",
       "37068  freedom-of-the-press-foundation  Freedom of the Press Foundation   \n",
       "37069  freedom-of-the-press-foundation  Freedom of the Press Foundation   \n",
       "37070  freedom-of-the-press-foundation  Freedom of the Press Foundation   \n",
       "\n",
       "      repository_source                                   artifact_id  \\\n",
       "37068            GITHUB  IrJU7rLHqTirc8WnGq7sezm2uhax6bNdKZ84-zR77p8=   \n",
       "37069            GITHUB  ca0yOVhuQghHd-nPYbCgtAIzzpcylrZIt4SHv39Kijo=   \n",
       "37070            GITHUB  CQfiljcSIgRrUpiHcp2u0Y3YmDzyUIqZ9UNBYAxa4Xc=   \n",
       "\n",
       "       repo_is_fork  repo_fork_count  repo_star_count  \\\n",
       "37068          True                0                0   \n",
       "37069          True                0                0   \n",
       "37070          True                1                0   \n",
       "\n",
       "              first_commit_date          last_commit_date  \\\n",
       "37068                       NaT                       NaT   \n",
       "37069                       NaT                       NaT   \n",
       "37070 2020-03-26 00:00:00+00:00 2020-03-26 00:00:00+00:00   \n",
       "\n",
       "                      repo_name_with_owner      repo_owner  \n",
       "37068          freedomofpress/python-gnupg  freedomofpress  \n",
       "37069  freedomofpress/terraform-google-gke  freedomofpress  \n",
       "37070  freedomofpress/redmine_cc_addresses  freedomofpress  "
      ]
     },
     "execution_count": 11,
     "metadata": {},
     "output_type": "execute_result"
    }
   ],
   "source": [
    "query = \"\"\"\n",
    "SELECT *\n",
    "FROM `opensource-observer.oso.repos_by_project`\n",
    "\"\"\"\n",
    "result = client.query(query)\n",
    "repos = result.to_dataframe()\n",
    "repos['repo_owner'] = repos['repo_name_with_owner'].apply(lambda x: x.split('/')[0])\n",
    "repos.tail(3)"
   ]
  },
  {
   "cell_type": "code",
   "execution_count": 12,
   "id": "fca5f7a6",
   "metadata": {},
   "outputs": [
    {
     "name": "stdout",
     "output_type": "stream",
     "text": [
      "36986\n",
      "1648\n"
     ]
    }
   ],
   "source": [
    "oso_repos = sorted(repos['repo_name_with_owner'].unique())\n",
    "oso_owners = sorted(repos['repo_owner'].unique())\n",
    "\n",
    "print(len(oso_repos))\n",
    "print(len(oso_owners))"
   ]
  },
  {
   "cell_type": "markdown",
   "id": "e2aa80d1",
   "metadata": {},
   "source": [
    "# Get GG projects from Metabase"
   ]
  },
  {
   "cell_type": "code",
   "execution_count": 50,
   "id": "360f031d",
   "metadata": {},
   "outputs": [
    {
     "data": {
      "text/html": [
       "<div>\n",
       "<style scoped>\n",
       "    .dataframe tbody tr th:only-of-type {\n",
       "        vertical-align: middle;\n",
       "    }\n",
       "\n",
       "    .dataframe tbody tr th {\n",
       "        vertical-align: top;\n",
       "    }\n",
       "\n",
       "    .dataframe thead th {\n",
       "        text-align: right;\n",
       "    }\n",
       "</style>\n",
       "<table border=\"1\" class=\"dataframe\">\n",
       "  <thead>\n",
       "    <tr style=\"text-align: right;\">\n",
       "      <th></th>\n",
       "      <th>chain_id</th>\n",
       "      <th>round_id</th>\n",
       "      <th>round_name</th>\n",
       "      <th>project_name</th>\n",
       "      <th>project_github</th>\n",
       "      <th>payout_address</th>\n",
       "      <th>status</th>\n",
       "    </tr>\n",
       "  </thead>\n",
       "  <tbody>\n",
       "    <tr>\n",
       "      <th>518</th>\n",
       "      <td>42161</td>\n",
       "      <td>23</td>\n",
       "      <td>Hackathon Alumni</td>\n",
       "      <td>Dspyt- into CodeVerse</td>\n",
       "      <td>dspytdao</td>\n",
       "      <td>0x4C11BA2ed1D936d769d0cce34CbC7Ea1E85182d0</td>\n",
       "      <td>APPROVED</td>\n",
       "    </tr>\n",
       "    <tr>\n",
       "      <th>519</th>\n",
       "      <td>42161</td>\n",
       "      <td>23</td>\n",
       "      <td>Hackathon Alumni</td>\n",
       "      <td>Coordination-Play</td>\n",
       "      <td>coordination-play</td>\n",
       "      <td>0x955Af1c1637Facf4dD5d9D2428e073573dAD5699</td>\n",
       "      <td>APPROVED</td>\n",
       "    </tr>\n",
       "    <tr>\n",
       "      <th>520</th>\n",
       "      <td>42161</td>\n",
       "      <td>23</td>\n",
       "      <td>Hackathon Alumni</td>\n",
       "      <td>AI Swarm</td>\n",
       "      <td>aiswarm</td>\n",
       "      <td>0x52ea367e1C074409e841a559dFfA321BDB12b3bE</td>\n",
       "      <td>APPROVED</td>\n",
       "    </tr>\n",
       "    <tr>\n",
       "      <th>521</th>\n",
       "      <td>42161</td>\n",
       "      <td>23</td>\n",
       "      <td>Hackathon Alumni</td>\n",
       "      <td>FundIt</td>\n",
       "      <td>ecoland-world</td>\n",
       "      <td>0xc8f0bae52D42f42d1Aed7b4af00CA3EF6C516c23</td>\n",
       "      <td>APPROVED</td>\n",
       "    </tr>\n",
       "    <tr>\n",
       "      <th>522</th>\n",
       "      <td>42161</td>\n",
       "      <td>23</td>\n",
       "      <td>Hackathon Alumni</td>\n",
       "      <td>AdLand</td>\n",
       "      <td>adcommune</td>\n",
       "      <td>0x26bBec292e5080ecFD36F38FF1619FF35826b113</td>\n",
       "      <td>APPROVED</td>\n",
       "    </tr>\n",
       "  </tbody>\n",
       "</table>\n",
       "</div>"
      ],
      "text/plain": [
       "     chain_id  round_id        round_name           project_name  \\\n",
       "518     42161        23  Hackathon Alumni  Dspyt- into CodeVerse   \n",
       "519     42161        23  Hackathon Alumni      Coordination-Play   \n",
       "520     42161        23  Hackathon Alumni               AI Swarm   \n",
       "521     42161        23  Hackathon Alumni                 FundIt   \n",
       "522     42161        23  Hackathon Alumni                 AdLand   \n",
       "\n",
       "        project_github                              payout_address    status  \n",
       "518           dspytdao  0x4C11BA2ed1D936d769d0cce34CbC7Ea1E85182d0  APPROVED  \n",
       "519  coordination-play  0x955Af1c1637Facf4dD5d9D2428e073573dAD5699  APPROVED  \n",
       "520            aiswarm  0x52ea367e1C074409e841a559dFfA321BDB12b3bE  APPROVED  \n",
       "521      ecoland-world  0xc8f0bae52D42f42d1Aed7b4af00CA3EF6C516c23  APPROVED  \n",
       "522          adcommune  0x26bBec292e5080ecFD36F38FF1619FF35826b113  APPROVED  "
      ]
     },
     "execution_count": 50,
     "metadata": {},
     "output_type": "execute_result"
    }
   ],
   "source": [
    "projects = pd.read_csv('data/csv/gg20_projects_2024-04-28T02_16_23.202076Z.csv')\n",
    "projects.tail()"
   ]
  },
  {
   "cell_type": "code",
   "execution_count": 51,
   "id": "3af99469",
   "metadata": {},
   "outputs": [
    {
     "data": {
      "text/plain": [
       "333"
      ]
     },
     "execution_count": 51,
     "metadata": {},
     "output_type": "execute_result"
    }
   ],
   "source": [
    "project_githubs = sorted(projects['project_github'].dropna().str.lower().unique())\n",
    "len(project_githubs)"
   ]
  },
  {
   "cell_type": "markdown",
   "id": "d273da2b",
   "metadata": {},
   "source": [
    "# Identify projects that should be added to OSO"
   ]
  },
  {
   "cell_type": "code",
   "execution_count": 32,
   "id": "25194c46",
   "metadata": {},
   "outputs": [
    {
     "name": "stdout",
     "output_type": "stream",
     "text": [
      "{'commits': 38, 'authors': 3, 'unique_days': 8, 'newest_commit_date': '2024-04-27', 'oldest_commit_date': '2024-04-13'}\n",
      "Error parsing data: 'NoneType' object is not subscriptable {'data': {'repository': {'defaultBranchRef': None}}}\n",
      "{'commits': 76, 'authors': 5, 'unique_days': 4, 'newest_commit_date': '2024-04-03', 'oldest_commit_date': '2024-03-28'}\n",
      "{'commits': 28, 'authors': 1, 'unique_days': 9, 'newest_commit_date': '2024-04-26', 'oldest_commit_date': '2024-04-18'}\n",
      "Error parsing data: 'NoneType' object is not subscriptable {'data': {'repository': {'defaultBranchRef': None}}}\n",
      "{'commits': 47, 'authors': 1, 'unique_days': 16, 'newest_commit_date': '2024-04-25', 'oldest_commit_date': '2024-03-30'}\n",
      "{'commits': 33, 'authors': 3, 'unique_days': 15, 'newest_commit_date': '2024-04-17', 'oldest_commit_date': '2024-03-09'}\n",
      "{'commits': 27, 'authors': 3, 'unique_days': 5, 'newest_commit_date': '2024-04-17', 'oldest_commit_date': '2024-03-15'}\n",
      "{'commits': 15, 'authors': 2, 'unique_days': 4, 'newest_commit_date': '2024-03-08', 'oldest_commit_date': '2024-03-05'}\n",
      "{'commits': 22, 'authors': 1, 'unique_days': 5, 'newest_commit_date': '2024-04-04', 'oldest_commit_date': '2024-03-23'}\n",
      "{'commits': 72, 'authors': 2, 'unique_days': 22, 'newest_commit_date': '2024-04-24', 'oldest_commit_date': '2024-03-20'}\n",
      "{'commits': 50, 'authors': 3, 'unique_days': 15, 'newest_commit_date': '2024-04-18', 'oldest_commit_date': '2024-03-21'}\n",
      "{'commits': 11, 'authors': 2, 'unique_days': 3, 'newest_commit_date': '2024-04-21', 'oldest_commit_date': '2024-04-19'}\n",
      "Error parsing data: 'NoneType' object is not subscriptable {'data': {'repository': {'defaultBranchRef': None}}}\n",
      "Error parsing data: 'NoneType' object is not subscriptable {'data': {'repository': {'defaultBranchRef': None}}}\n"
     ]
    }
   ],
   "source": [
    "found = []\n",
    "not_found = []\n",
    "\n",
    "for project in project_githubs:\n",
    "    project = project.strip().strip('/')\n",
    "    type_ = 'repo' if '/' in project else 'owner'\n",
    "    if project in oso_repos or project in oso_owners:\n",
    "        found.append({project: type_})\n",
    "    else:\n",
    "        not_found.append({\n",
    "            'artifact': project,\n",
    "            'type': type_,\n",
    "            'outcome': validate_github_artifact(project)\n",
    "        })"
   ]
  },
  {
   "cell_type": "code",
   "execution_count": 28,
   "id": "f0f97849",
   "metadata": {},
   "outputs": [
    {
     "data": {
      "text/plain": [
       "174"
      ]
     },
     "execution_count": 28,
     "metadata": {},
     "output_type": "execute_result"
    }
   ],
   "source": [
    "with open(\"data/gg20-github-checks.json\", \"w\") as f:\n",
    "    json.dump(not_found, f, indent=2)"
   ]
  },
  {
   "cell_type": "code",
   "execution_count": 36,
   "id": "89213f0f",
   "metadata": {},
   "outputs": [],
   "source": [
    "projects_to_add = []\n",
    "for p in not_found:\n",
    "    if p['outcome']['Approved']:\n",
    "        projects_to_add.append(p)\n",
    "        \n",
    "artifacts_to_add = [x['artifact'] for x in projects_to_add]        "
   ]
  },
  {
   "cell_type": "code",
   "execution_count": 48,
   "id": "94231033",
   "metadata": {},
   "outputs": [
    {
     "data": {
      "text/html": [
       "<div>\n",
       "<style scoped>\n",
       "    .dataframe tbody tr th:only-of-type {\n",
       "        vertical-align: middle;\n",
       "    }\n",
       "\n",
       "    .dataframe tbody tr th {\n",
       "        vertical-align: top;\n",
       "    }\n",
       "\n",
       "    .dataframe thead th {\n",
       "        text-align: right;\n",
       "    }\n",
       "</style>\n",
       "<table border=\"1\" class=\"dataframe\">\n",
       "  <thead>\n",
       "    <tr style=\"text-align: right;\">\n",
       "      <th></th>\n",
       "      <th>Project</th>\n",
       "      <th>GitHub</th>\n",
       "    </tr>\n",
       "  </thead>\n",
       "  <tbody>\n",
       "    <tr>\n",
       "      <th>10</th>\n",
       "      <td>Metrics Garden Labs</td>\n",
       "      <td>https://github.com/metrics-garden-labs</td>\n",
       "    </tr>\n",
       "    <tr>\n",
       "      <th>12</th>\n",
       "      <td>Armitage</td>\n",
       "      <td>https://github.com/armitage-labs</td>\n",
       "    </tr>\n",
       "    <tr>\n",
       "      <th>20</th>\n",
       "      <td>Index Wallets</td>\n",
       "      <td>https://github.com/optionhq</td>\n",
       "    </tr>\n",
       "    <tr>\n",
       "      <th>36</th>\n",
       "      <td>IPC Explorer</td>\n",
       "      <td>https://github.com/cronian-tech</td>\n",
       "    </tr>\n",
       "    <tr>\n",
       "      <th>37</th>\n",
       "      <td>Proof of passport</td>\n",
       "      <td>https://github.com/zk-passport</td>\n",
       "    </tr>\n",
       "    <tr>\n",
       "      <th>...</th>\n",
       "      <td>...</td>\n",
       "      <td>...</td>\n",
       "    </tr>\n",
       "    <tr>\n",
       "      <th>507</th>\n",
       "      <td>Agents With Benefits</td>\n",
       "      <td>https://github.com/agentswbenefits</td>\n",
       "    </tr>\n",
       "    <tr>\n",
       "      <th>513</th>\n",
       "      <td>Perpetual Organization Architect</td>\n",
       "      <td>https://github.com/perpetualorganizationarchitect</td>\n",
       "    </tr>\n",
       "    <tr>\n",
       "      <th>519</th>\n",
       "      <td>Coordination-Play</td>\n",
       "      <td>https://github.com/coordination-play</td>\n",
       "    </tr>\n",
       "    <tr>\n",
       "      <th>520</th>\n",
       "      <td>AI Swarm</td>\n",
       "      <td>https://github.com/aiswarm</td>\n",
       "    </tr>\n",
       "    <tr>\n",
       "      <th>522</th>\n",
       "      <td>AdLand</td>\n",
       "      <td>https://github.com/adcommune</td>\n",
       "    </tr>\n",
       "  </tbody>\n",
       "</table>\n",
       "<p>78 rows × 2 columns</p>\n",
       "</div>"
      ],
      "text/plain": [
       "                              Project  \\\n",
       "10                Metrics Garden Labs   \n",
       "12                           Armitage   \n",
       "20                      Index Wallets   \n",
       "36                       IPC Explorer   \n",
       "37                  Proof of passport   \n",
       "..                                ...   \n",
       "507              Agents With Benefits   \n",
       "513  Perpetual Organization Architect   \n",
       "519                 Coordination-Play   \n",
       "520                          AI Swarm   \n",
       "522                            AdLand   \n",
       "\n",
       "                                                GitHub  \n",
       "10              https://github.com/metrics-garden-labs  \n",
       "12                    https://github.com/armitage-labs  \n",
       "20                         https://github.com/optionhq  \n",
       "36                     https://github.com/cronian-tech  \n",
       "37                      https://github.com/zk-passport  \n",
       "..                                                 ...  \n",
       "507                 https://github.com/agentswbenefits  \n",
       "513  https://github.com/perpetualorganizationarchitect  \n",
       "519               https://github.com/coordination-play  \n",
       "520                         https://github.com/aiswarm  \n",
       "522                       https://github.com/adcommune  \n",
       "\n",
       "[78 rows x 2 columns]"
      ]
     },
     "execution_count": 48,
     "metadata": {},
     "output_type": "execute_result"
    }
   ],
   "source": [
    "csv_version = (\n",
    "    projects[projects['project_github'].str.lower().isin(artifacts_to_add)]\n",
    "    [['project_name', 'project_github']]\n",
    "    .drop_duplicates()\n",
    ")\n",
    "csv_version.columns = ['Project', 'GitHub']\n",
    "\n",
    "csv_version['GitHub'] = csv_version['GitHub'].apply(lambda x: f\"https://github.com/{x.lower()}\")\n",
    "csv_version"
   ]
  },
  {
   "cell_type": "code",
   "execution_count": 52,
   "id": "6da7f9aa",
   "metadata": {},
   "outputs": [],
   "source": [
    "csv_version.to_csv(\"data/csv/gg20_new_projects.csv\")"
   ]
  }
 ],
 "metadata": {
  "kernelspec": {
   "display_name": "Python 3 (ipykernel)",
   "language": "python",
   "name": "python3"
  },
  "language_info": {
   "codemirror_mode": {
    "name": "ipython",
    "version": 3
   },
   "file_extension": ".py",
   "mimetype": "text/x-python",
   "name": "python",
   "nbconvert_exporter": "python",
   "pygments_lexer": "ipython3",
   "version": "3.11.5"
  }
 },
 "nbformat": 4,
 "nbformat_minor": 5
}
