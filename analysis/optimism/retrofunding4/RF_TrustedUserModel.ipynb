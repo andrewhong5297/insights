{
 "cells": [
  {
   "cell_type": "code",
   "execution_count": 1,
   "id": "4c9f67be-3465-4ced-baee-9b8e217b84f2",
   "metadata": {},
   "outputs": [],
   "source": [
    "from google.cloud import bigquery\n",
    "import os\n",
    "import pandas as pd\n",
    "\n",
    "os.environ['GOOGLE_APPLICATION_CREDENTIALS'] = '../../../gcp_credentials.json'\n",
    "client = bigquery.Client()"
   ]
  },
  {
   "cell_type": "code",
   "execution_count": 2,
   "id": "dfec2df7-ffb0-4cba-8a38-237878dbf1d2",
   "metadata": {},
   "outputs": [],
   "source": [
    "query = \"\"\"\n",
    "    select\n",
    "      address,\n",
    "      farcaster_prepermissionless > 0 as farcaster_prepermissionless,\n",
    "      eigentrust_verification > 0 as eigentrust_verification,\n",
    "      passport_verification > 0 as passport_verification,\n",
    "      optimist_nft_verification > 0 as optimist_nft_verification,\n",
    "      airdrop_verification > 0 as airdrop_verification\n",
    "    from `opensource-observer.oso.rf4_trusted_users`\n",
    "    where is_trusted_user = True\n",
    "\"\"\"\n",
    "results = client.query(query)"
   ]
  },
  {
   "cell_type": "code",
   "execution_count": 3,
   "id": "e5baf798-a0b2-46b0-9ab9-70fe0d35dc49",
   "metadata": {},
   "outputs": [
    {
     "data": {
      "text/html": [
       "<div>\n",
       "<style scoped>\n",
       "    .dataframe tbody tr th:only-of-type {\n",
       "        vertical-align: middle;\n",
       "    }\n",
       "\n",
       "    .dataframe tbody tr th {\n",
       "        vertical-align: top;\n",
       "    }\n",
       "\n",
       "    .dataframe thead th {\n",
       "        text-align: right;\n",
       "    }\n",
       "</style>\n",
       "<table border=\"1\" class=\"dataframe\">\n",
       "  <thead>\n",
       "    <tr style=\"text-align: right;\">\n",
       "      <th></th>\n",
       "      <th>address</th>\n",
       "      <th>farcaster_prepermissionless</th>\n",
       "      <th>eigentrust_verification</th>\n",
       "      <th>passport_verification</th>\n",
       "      <th>optimist_nft_verification</th>\n",
       "      <th>airdrop_verification</th>\n",
       "    </tr>\n",
       "  </thead>\n",
       "  <tbody>\n",
       "    <tr>\n",
       "      <th>0</th>\n",
       "      <td>34arafcmp7w4huudihocfe3tik4kft97rmwdtuxthmrv</td>\n",
       "      <td>False</td>\n",
       "      <td>True</td>\n",
       "      <td>False</td>\n",
       "      <td>False</td>\n",
       "      <td>False</td>\n",
       "    </tr>\n",
       "  </tbody>\n",
       "</table>\n",
       "</div>"
      ],
      "text/plain": [
       "                                        address  farcaster_prepermissionless  \\\n",
       "0  34arafcmp7w4huudihocfe3tik4kft97rmwdtuxthmrv                        False   \n",
       "\n",
       "   eigentrust_verification  passport_verification  optimist_nft_verification  \\\n",
       "0                     True                  False                      False   \n",
       "\n",
       "   airdrop_verification  \n",
       "0                 False  "
      ]
     },
     "execution_count": 3,
     "metadata": {},
     "output_type": "execute_result"
    }
   ],
   "source": [
    "df = results.to_dataframe()\n",
    "df.head(1)"
   ]
  },
  {
   "cell_type": "code",
   "execution_count": 4,
   "id": "50b87cd1-11fc-4269-be22-a5f25f5ef957",
   "metadata": {},
   "outputs": [
    {
     "data": {
      "text/plain": [
       "97728"
      ]
     },
     "execution_count": 4,
     "metadata": {},
     "output_type": "execute_result"
    }
   ],
   "source": [
    "len(df)"
   ]
  },
  {
   "cell_type": "code",
   "execution_count": 5,
   "id": "c44220c6-d21c-4cfc-84e3-eaf28252ccd9",
   "metadata": {},
   "outputs": [
    {
     "data": {
      "text/plain": [
       "89351"
      ]
     },
     "execution_count": 5,
     "metadata": {},
     "output_type": "execute_result"
    }
   ],
   "source": [
    "df = df[df['address'].str.contains('0x') == True]\n",
    "df.set_index('address', inplace=True)\n",
    "len(df)"
   ]
  },
  {
   "cell_type": "code",
   "execution_count": 6,
   "id": "3f77df28-08f6-4308-9f77-6737d8998dc9",
   "metadata": {},
   "outputs": [
    {
     "data": {
      "text/html": [
       "<div>\n",
       "<style scoped>\n",
       "    .dataframe tbody tr th:only-of-type {\n",
       "        vertical-align: middle;\n",
       "    }\n",
       "\n",
       "    .dataframe tbody tr th {\n",
       "        vertical-align: top;\n",
       "    }\n",
       "\n",
       "    .dataframe thead th {\n",
       "        text-align: right;\n",
       "    }\n",
       "</style>\n",
       "<table border=\"1\" class=\"dataframe\">\n",
       "  <thead>\n",
       "    <tr style=\"text-align: right;\">\n",
       "      <th></th>\n",
       "      <th>farcaster_prepermissionless</th>\n",
       "      <th>eigentrust_verification</th>\n",
       "      <th>passport_verification</th>\n",
       "      <th>optimist_nft_verification</th>\n",
       "      <th>airdrop_verification</th>\n",
       "    </tr>\n",
       "  </thead>\n",
       "  <tbody>\n",
       "    <tr>\n",
       "      <th>farcaster_prepermissionless</th>\n",
       "      <td>1.000000</td>\n",
       "      <td>0.106460</td>\n",
       "      <td>-0.247477</td>\n",
       "      <td>0.092035</td>\n",
       "      <td>-0.065982</td>\n",
       "    </tr>\n",
       "    <tr>\n",
       "      <th>eigentrust_verification</th>\n",
       "      <td>0.106460</td>\n",
       "      <td>1.000000</td>\n",
       "      <td>-0.690420</td>\n",
       "      <td>-0.136182</td>\n",
       "      <td>-0.251715</td>\n",
       "    </tr>\n",
       "    <tr>\n",
       "      <th>passport_verification</th>\n",
       "      <td>-0.247477</td>\n",
       "      <td>-0.690420</td>\n",
       "      <td>1.000000</td>\n",
       "      <td>-0.105571</td>\n",
       "      <td>0.144494</td>\n",
       "    </tr>\n",
       "    <tr>\n",
       "      <th>optimist_nft_verification</th>\n",
       "      <td>0.092035</td>\n",
       "      <td>-0.136182</td>\n",
       "      <td>-0.105571</td>\n",
       "      <td>1.000000</td>\n",
       "      <td>-0.033716</td>\n",
       "    </tr>\n",
       "    <tr>\n",
       "      <th>airdrop_verification</th>\n",
       "      <td>-0.065982</td>\n",
       "      <td>-0.251715</td>\n",
       "      <td>0.144494</td>\n",
       "      <td>-0.033716</td>\n",
       "      <td>1.000000</td>\n",
       "    </tr>\n",
       "  </tbody>\n",
       "</table>\n",
       "</div>"
      ],
      "text/plain": [
       "                             farcaster_prepermissionless  \\\n",
       "farcaster_prepermissionless                     1.000000   \n",
       "eigentrust_verification                         0.106460   \n",
       "passport_verification                          -0.247477   \n",
       "optimist_nft_verification                       0.092035   \n",
       "airdrop_verification                           -0.065982   \n",
       "\n",
       "                             eigentrust_verification  passport_verification  \\\n",
       "farcaster_prepermissionless                 0.106460              -0.247477   \n",
       "eigentrust_verification                     1.000000              -0.690420   \n",
       "passport_verification                      -0.690420               1.000000   \n",
       "optimist_nft_verification                  -0.136182              -0.105571   \n",
       "airdrop_verification                       -0.251715               0.144494   \n",
       "\n",
       "                             optimist_nft_verification  airdrop_verification  \n",
       "farcaster_prepermissionless                   0.092035             -0.065982  \n",
       "eigentrust_verification                      -0.136182             -0.251715  \n",
       "passport_verification                        -0.105571              0.144494  \n",
       "optimist_nft_verification                     1.000000             -0.033716  \n",
       "airdrop_verification                         -0.033716              1.000000  "
      ]
     },
     "execution_count": 6,
     "metadata": {},
     "output_type": "execute_result"
    }
   ],
   "source": [
    "df.corr()"
   ]
  },
  {
   "cell_type": "code",
   "execution_count": 7,
   "id": "9290a129-8bf9-438a-9f7d-b3859c3ff5a6",
   "metadata": {},
   "outputs": [
    {
     "data": {
      "text/plain": [
       "farcaster_prepermissionless    14999\n",
       "eigentrust_verification        44979\n",
       "passport_verification          39498\n",
       "optimist_nft_verification       3187\n",
       "airdrop_verification           15721\n",
       "dtype: Int64"
      ]
     },
     "execution_count": 7,
     "metadata": {},
     "output_type": "execute_result"
    }
   ],
   "source": [
    "df.sum(axis=0)"
   ]
  },
  {
   "cell_type": "code",
   "execution_count": 8,
   "id": "83359c6d-51ab-49b3-84f9-d00646d11819",
   "metadata": {},
   "outputs": [
    {
     "data": {
      "text/plain": [
       "<Axes: >"
      ]
     },
     "execution_count": 8,
     "metadata": {},
     "output_type": "execute_result"
    },
    {
     "data": {
      "image/png": "[encoded data removed]",
      "text/plain": [
       "<Figure size 640x480 with 1 Axes>"
      ]
     },
     "metadata": {},
     "output_type": "display_data"
    }
   ],
   "source": [
    "df.sum(axis=1).value_counts().plot(kind='bar')"
   ]
  },
  {
   "cell_type": "code",
   "execution_count": 9,
   "id": "d484c321-658e-4ac7-8aeb-36e17477c7a9",
   "metadata": {},
   "outputs": [],
   "source": [
    "df.sort_index().reset_index()['address'].to_csv('data/op_rf4_trusted_addresses.csv')"
   ]
  }
 ],
 "metadata": {
  "kernelspec": {
   "display_name": "Python 3 (ipykernel)",
   "language": "python",
   "name": "python3"
  },
  "language_info": {
   "codemirror_mode": {
    "name": "ipython",
    "version": 3
   },
   "file_extension": ".py",
   "mimetype": "text/x-python",
   "name": "python",
   "nbconvert_exporter": "python",
   "pygments_lexer": "ipython3",
   "version": "3.11.7"
  }
 },
 "nbformat": 4,
 "nbformat_minor": 5
}
