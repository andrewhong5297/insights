{
 "cells": [
  {
   "cell_type": "code",
   "execution_count": 1,
   "id": "4c9f67be-3465-4ced-baee-9b8e217b84f2",
   "metadata": {},
   "outputs": [],
   "source": [
    "from google.cloud import bigquery\n",
    "import os\n",
    "import pandas as pd\n",
    "\n",
    "os.environ['GOOGLE_APPLICATION_CREDENTIALS'] = '../../../gcp_credentials.json'\n",
    "client = bigquery.Client()"
   ]
  },
  {
   "cell_type": "code",
   "execution_count": 2,
   "id": "dfec2df7-ffb0-4cba-8a38-237878dbf1d2",
   "metadata": {},
   "outputs": [],
   "source": [
    "query = \"\"\"\n",
    "    select\n",
    "      address,\n",
    "      farcaster_prepermissionless > 0 as farcaster_prepermissionless,\n",
    "      eigentrust_verification > 0 as eigentrust_verification,\n",
    "      passport_verification > 0 as passport_verification,\n",
    "      optimist_nft_verification > 0 as optimist_nft_verification,\n",
    "      airdrop_verification > 0 as airdrop_verification\n",
    "    from `opensource-observer.oso.rf4_trusted_users`\n",
    "    where is_trusted_user = True\n",
    "\"\"\"\n",
    "results = client.query(query)"
   ]
  },
  {
   "cell_type": "code",
   "execution_count": 3,
   "id": "e5baf798-a0b2-46b0-9ab9-70fe0d35dc49",
   "metadata": {},
   "outputs": [
    {
     "data": {
      "text/html": [
       "<div>\n",
       "<style scoped>\n",
       "    .dataframe tbody tr th:only-of-type {\n",
       "        vertical-align: middle;\n",
       "    }\n",
       "\n",
       "    .dataframe tbody tr th {\n",
       "        vertical-align: top;\n",
       "    }\n",
       "\n",
       "    .dataframe thead th {\n",
       "        text-align: right;\n",
       "    }\n",
       "</style>\n",
       "<table border=\"1\" class=\"dataframe\">\n",
       "  <thead>\n",
       "    <tr style=\"text-align: right;\">\n",
       "      <th></th>\n",
       "      <th>address</th>\n",
       "      <th>farcaster_prepermissionless</th>\n",
       "      <th>eigentrust_verification</th>\n",
       "      <th>passport_verification</th>\n",
       "      <th>optimist_nft_verification</th>\n",
       "      <th>airdrop_verification</th>\n",
       "    </tr>\n",
       "  </thead>\n",
       "  <tbody>\n",
       "    <tr>\n",
       "      <th>0</th>\n",
       "      <td>0x21aa4bb76c5ee4727a3cc29f0a56ec47a018453e</td>\n",
       "      <td>True</td>\n",
       "      <td>False</td>\n",
       "      <td>False</td>\n",
       "      <td>False</td>\n",
       "      <td>False</td>\n",
       "    </tr>\n",
       "  </tbody>\n",
       "</table>\n",
       "</div>"
      ],
      "text/plain": [
       "                                      address  farcaster_prepermissionless  \\\n",
       "0  0x21aa4bb76c5ee4727a3cc29f0a56ec47a018453e                         True   \n",
       "\n",
       "   eigentrust_verification  passport_verification  optimist_nft_verification  \\\n",
       "0                    False                  False                      False   \n",
       "\n",
       "   airdrop_verification  \n",
       "0                 False  "
      ]
     },
     "execution_count": 3,
     "metadata": {},
     "output_type": "execute_result"
    }
   ],
   "source": [
    "df = results.to_dataframe()\n",
    "df.head(1)"
   ]
  },
  {
   "cell_type": "code",
   "execution_count": 4,
   "id": "50b87cd1-11fc-4269-be22-a5f25f5ef957",
   "metadata": {},
   "outputs": [
    {
     "data": {
      "text/plain": [
       "90714"
      ]
     },
     "execution_count": 4,
     "metadata": {},
     "output_type": "execute_result"
    }
   ],
   "source": [
    "len(df)"
   ]
  },
  {
   "cell_type": "code",
   "execution_count": 5,
   "id": "c44220c6-d21c-4cfc-84e3-eaf28252ccd9",
   "metadata": {},
   "outputs": [
    {
     "data": {
      "text/plain": [
       "83753"
      ]
     },
     "execution_count": 5,
     "metadata": {},
     "output_type": "execute_result"
    }
   ],
   "source": [
    "df = df[df['address'].str.contains('0x') == True]\n",
    "df.set_index('address', inplace=True)\n",
    "len(df)"
   ]
  },
  {
   "cell_type": "code",
   "execution_count": 6,
   "id": "3f77df28-08f6-4308-9f77-6737d8998dc9",
   "metadata": {},
   "outputs": [
    {
     "data": {
      "text/html": [
       "<div>\n",
       "<style scoped>\n",
       "    .dataframe tbody tr th:only-of-type {\n",
       "        vertical-align: middle;\n",
       "    }\n",
       "\n",
       "    .dataframe tbody tr th {\n",
       "        vertical-align: top;\n",
       "    }\n",
       "\n",
       "    .dataframe thead th {\n",
       "        text-align: right;\n",
       "    }\n",
       "</style>\n",
       "<table border=\"1\" class=\"dataframe\">\n",
       "  <thead>\n",
       "    <tr style=\"text-align: right;\">\n",
       "      <th></th>\n",
       "      <th>farcaster_prepermissionless</th>\n",
       "      <th>eigentrust_verification</th>\n",
       "      <th>passport_verification</th>\n",
       "      <th>optimist_nft_verification</th>\n",
       "      <th>airdrop_verification</th>\n",
       "    </tr>\n",
       "  </thead>\n",
       "  <tbody>\n",
       "    <tr>\n",
       "      <th>farcaster_prepermissionless</th>\n",
       "      <td>1.000000</td>\n",
       "      <td>0.125265</td>\n",
       "      <td>-0.287054</td>\n",
       "      <td>0.086661</td>\n",
       "      <td>-0.081948</td>\n",
       "    </tr>\n",
       "    <tr>\n",
       "      <th>eigentrust_verification</th>\n",
       "      <td>0.125265</td>\n",
       "      <td>1.000000</td>\n",
       "      <td>-0.677823</td>\n",
       "      <td>-0.125421</td>\n",
       "      <td>-0.229539</td>\n",
       "    </tr>\n",
       "    <tr>\n",
       "      <th>passport_verification</th>\n",
       "      <td>-0.287054</td>\n",
       "      <td>-0.677823</td>\n",
       "      <td>1.000000</td>\n",
       "      <td>-0.121849</td>\n",
       "      <td>0.120036</td>\n",
       "    </tr>\n",
       "    <tr>\n",
       "      <th>optimist_nft_verification</th>\n",
       "      <td>0.086661</td>\n",
       "      <td>-0.125421</td>\n",
       "      <td>-0.121849</td>\n",
       "      <td>1.000000</td>\n",
       "      <td>-0.040561</td>\n",
       "    </tr>\n",
       "    <tr>\n",
       "      <th>airdrop_verification</th>\n",
       "      <td>-0.081948</td>\n",
       "      <td>-0.229539</td>\n",
       "      <td>0.120036</td>\n",
       "      <td>-0.040561</td>\n",
       "      <td>1.000000</td>\n",
       "    </tr>\n",
       "  </tbody>\n",
       "</table>\n",
       "</div>"
      ],
      "text/plain": [
       "                             farcaster_prepermissionless  \\\n",
       "farcaster_prepermissionless                     1.000000   \n",
       "eigentrust_verification                         0.125265   \n",
       "passport_verification                          -0.287054   \n",
       "optimist_nft_verification                       0.086661   \n",
       "airdrop_verification                           -0.081948   \n",
       "\n",
       "                             eigentrust_verification  passport_verification  \\\n",
       "farcaster_prepermissionless                 0.125265              -0.287054   \n",
       "eigentrust_verification                     1.000000              -0.677823   \n",
       "passport_verification                      -0.677823               1.000000   \n",
       "optimist_nft_verification                  -0.125421              -0.121849   \n",
       "airdrop_verification                       -0.229539               0.120036   \n",
       "\n",
       "                             optimist_nft_verification  airdrop_verification  \n",
       "farcaster_prepermissionless                   0.086661             -0.081948  \n",
       "eigentrust_verification                      -0.125421             -0.229539  \n",
       "passport_verification                        -0.121849              0.120036  \n",
       "optimist_nft_verification                     1.000000             -0.040561  \n",
       "airdrop_verification                         -0.040561              1.000000  "
      ]
     },
     "execution_count": 6,
     "metadata": {},
     "output_type": "execute_result"
    }
   ],
   "source": [
    "df.corr()"
   ]
  },
  {
   "cell_type": "code",
   "execution_count": 7,
   "id": "19711a10",
   "metadata": {},
   "outputs": [
    {
     "data": {
      "text/plain": [
       "farcaster_prepermissionless    14999\n",
       "eigentrust_verification        37565\n",
       "passport_verification          40023\n",
       "optimist_nft_verification       3194\n",
       "airdrop_verification           15800\n",
       "dtype: int64"
      ]
     },
     "execution_count": 7,
     "metadata": {},
     "output_type": "execute_result"
    }
   ],
   "source": [
    "df.sum(axis=0)"
   ]
  },
  {
   "cell_type": "code",
   "execution_count": 8,
   "id": "83359c6d-51ab-49b3-84f9-d00646d11819",
   "metadata": {},
   "outputs": [
    {
     "data": {
      "text/plain": [
       "<Axes: >"
      ]
     },
     "execution_count": 8,
     "metadata": {},
     "output_type": "execute_result"
    },
    {
     "data": {
      "image/png": "[encoded data removed]",
      "text/plain": [
       "<Figure size 640x480 with 1 Axes>"
      ]
     },
     "metadata": {},
     "output_type": "display_data"
    }
   ],
   "source": [
    "df.sum(axis=1).value_counts().plot(kind='bar')"
   ]
  },
  {
   "cell_type": "code",
   "execution_count": 9,
   "id": "d484c321-658e-4ac7-8aeb-36e17477c7a9",
   "metadata": {},
   "outputs": [],
   "source": [
    "df.sort_index().reset_index()['address'].to_csv('data/op_rf4_trusted_addresses.csv')"
   ]
  }
 ],
 "metadata": {
  "kernelspec": {
   "display_name": "Python 3 (ipykernel)",
   "language": "python",
   "name": "python3"
  },
  "language_info": {
   "codemirror_mode": {
    "name": "ipython",
    "version": 3
   },
   "file_extension": ".py",
   "mimetype": "text/x-python",
   "name": "python",
   "nbconvert_exporter": "python",
   "pygments_lexer": "ipython3",
   "version": "3.11.5"
  }
 },
 "nbformat": 4,
 "nbformat_minor": 5
}
