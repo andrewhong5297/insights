{
 "cells": [
  {
   "cell_type": "code",
   "execution_count": 1,
   "id": "43897f09",
   "metadata": {},
   "outputs": [],
   "source": [
    "from google.cloud import bigquery\n",
    "import os\n",
    "import pandas as pd\n",
    "import plotly.express as px\n",
    "import sys\n",
    "\n",
    "sys.path.append('../../../visualizations/')\n",
    "os.environ['GOOGLE_APPLICATION_CREDENTIALS'] = '../../../gcp_credentials.json'\n",
    "\n",
    "from venn_diagram import venn3_diagram\n",
    "\n",
    "client = bigquery.Client()"
   ]
  },
  {
   "cell_type": "markdown",
   "id": "a2946316",
   "metadata": {},
   "source": [
    "# Get projects by cohort"
   ]
  },
  {
   "cell_type": "code",
   "execution_count": 2,
   "id": "7885d302",
   "metadata": {},
   "outputs": [],
   "source": [
    "query = \"\"\"\n",
    "    select\n",
    "      project_id,\n",
    "      project_name,\n",
    "      collection_name\n",
    "    from `opensource-observer.oso.projects_by_collection_v1`\n",
    "    where collection_name in ('op-rpgf3', 'op-rpgf2', 'op-retrofunding-4')\n",
    "\"\"\"\n",
    "projects_by_collection = client.query(query).to_dataframe()"
   ]
  },
  {
   "cell_type": "code",
   "execution_count": 3,
   "id": "1e19f897-6597-4a2c-97bb-381880ac2ee3",
   "metadata": {},
   "outputs": [],
   "source": [
    "collections = {}\n",
    "for _,row in projects_by_collection.iterrows():\n",
    "    c = row['collection_name'] \n",
    "    if c not in collections:\n",
    "        collections.update({c:[]})\n",
    "    collections[c].append(row['project_id'])\n",
    "collections = {x:set(y) for x,y in collections.items()}"
   ]
  },
  {
   "cell_type": "code",
   "execution_count": 4,
   "id": "a6ec6f8b-aa0f-40a1-8a5a-a17d09dc29b9",
   "metadata": {},
   "outputs": [
    {
     "data": {
      "text/plain": [
       "524"
      ]
     },
     "execution_count": 4,
     "metadata": {},
     "output_type": "execute_result"
    }
   ],
   "source": [
    "projects = (\n",
    "    projects_by_collection[['project_id', 'project_name']]\n",
    "    .drop_duplicates()\n",
    "    .set_index('project_id')['project_name']\n",
    "    .to_dict()\n",
    ")\n",
    "project_list = list(projects.keys())\n",
    "project_list_str = \"'\" + \"','\".join(project_list) + \"'\"\n",
    "len(project_list)"
   ]
  },
  {
   "cell_type": "code",
   "execution_count": 33,
   "id": "bca736f9",
   "metadata": {},
   "outputs": [],
   "source": [
    "for pid,pname in projects.items():\n",
    "    if pname in ['layer3xyz', 'multicaller-vectorized']:\n",
    "        collections['op-rpgf3'].add(pid)"
   ]
  },
  {
   "cell_type": "markdown",
   "id": "0dc34342-acac-4909-b8e3-38bc05f1e17f",
   "metadata": {},
   "source": [
    "# Get project events"
   ]
  },
  {
   "cell_type": "code",
   "execution_count": 5,
   "id": "3eb230c5-cfea-4c5d-8f0d-2945a68912de",
   "metadata": {},
   "outputs": [],
   "source": [
    "query = f\"\"\"\n",
    "    select\n",
    "      project_id,\n",
    "      bucket_month,\n",
    "      event_source,\n",
    "      event_type,\n",
    "      sum(amount) as amount\n",
    "    from `opensource-observer.oso.int_events_monthly_to_project`\n",
    "    where\n",
    "      bucket_month > '2023-01-01' and bucket_month < '2024-07-01'\n",
    "      and event_type in (\n",
    "          'CONTRACT_INVOCATION_DAILY_L2_GAS_USED',\n",
    "          'CONTRACT_INVOCATION_SUCCESS_DAILY_COUNT',\n",
    "          'COMMIT_CODE'\n",
    "      )\n",
    "      and project_id in ({project_list_str})\n",
    "    group by 1,2,3,4\n",
    "\"\"\"\n",
    "events_results = client.query(query)"
   ]
  },
  {
   "cell_type": "code",
   "execution_count": 6,
   "id": "5e37c358-5ade-4621-93da-84718f074cbc",
   "metadata": {},
   "outputs": [
    {
     "data": {
      "text/html": [
       "<div>\n",
       "<style scoped>\n",
       "    .dataframe tbody tr th:only-of-type {\n",
       "        vertical-align: middle;\n",
       "    }\n",
       "\n",
       "    .dataframe tbody tr th {\n",
       "        vertical-align: top;\n",
       "    }\n",
       "\n",
       "    .dataframe thead th {\n",
       "        text-align: right;\n",
       "    }\n",
       "</style>\n",
       "<table border=\"1\" class=\"dataframe\">\n",
       "  <thead>\n",
       "    <tr style=\"text-align: right;\">\n",
       "      <th></th>\n",
       "      <th>project_id</th>\n",
       "      <th>bucket_month</th>\n",
       "      <th>event_source</th>\n",
       "      <th>event_type</th>\n",
       "      <th>amount</th>\n",
       "    </tr>\n",
       "  </thead>\n",
       "  <tbody>\n",
       "    <tr>\n",
       "      <th>0</th>\n",
       "      <td>w3cYd84PoRdRJ0aJSg_A5Fn_WPpCROPaeq403DjEOAg=</td>\n",
       "      <td>2023-04-01 00:00:00+00:00</td>\n",
       "      <td>OPTIMISM</td>\n",
       "      <td>CONTRACT_INVOCATION_DAILY_L2_GAS_USED</td>\n",
       "      <td>6.154334e+15</td>\n",
       "    </tr>\n",
       "  </tbody>\n",
       "</table>\n",
       "</div>"
      ],
      "text/plain": [
       "                                     project_id              bucket_month  \\\n",
       "0  w3cYd84PoRdRJ0aJSg_A5Fn_WPpCROPaeq403DjEOAg= 2023-04-01 00:00:00+00:00   \n",
       "\n",
       "  event_source                             event_type        amount  \n",
       "0     OPTIMISM  CONTRACT_INVOCATION_DAILY_L2_GAS_USED  6.154334e+15  "
      ]
     },
     "execution_count": 6,
     "metadata": {},
     "output_type": "execute_result"
    }
   ],
   "source": [
    "events_by_project = events_results.to_dataframe()\n",
    "events_by_project.head(1)"
   ]
  },
  {
   "cell_type": "markdown",
   "id": "175a8c2a",
   "metadata": {},
   "source": [
    "# Visualize projects set membership"
   ]
  },
  {
   "cell_type": "code",
   "execution_count": 34,
   "id": "8f0b1ac3-a905-4729-a162-f91cc1c93736",
   "metadata": {},
   "outputs": [
    {
     "data": {
      "text/plain": [
       "(<Figure size 1440x1440 with 1 Axes>, <Axes: >)"
      ]
     },
     "execution_count": 34,
     "metadata": {},
     "output_type": "execute_result"
    },
    {
     "data": {
      "image/png": "[encoded data removed]",
      "text/plain": [
       "<Figure size 1440x1440 with 1 Axes>"
      ]
     },
     "metadata": {},
     "output_type": "display_data"
    }
   ],
   "source": [
    "venn3_diagram(\n",
    "    subsets=[\n",
    "        collections['op-retrofunding-4'],\n",
    "        collections['op-rpgf3'],\n",
    "        collections['op-rpgf2']\n",
    "    ],\n",
    "    labels=[\n",
    "        f\"RF4\\n{len(collections['op-retrofunding-4'])}\",\n",
    "        f\"RF3\\n{len(collections['op-rpgf3'])}\",\n",
    "        f\"RF2\\n{len(collections['op-rpgf2'])}\"\n",
    "    ],\n",
    "    colors=[\n",
    "        '#FF0420',\n",
    "        '#DDD',\n",
    "        '#DDD'\n",
    "    ]\n",
    ")"
   ]
  },
  {
   "cell_type": "code",
   "execution_count": 35,
   "id": "ef7025b0",
   "metadata": {},
   "outputs": [
    {
     "data": {
      "text/plain": [
       "272"
      ]
     },
     "execution_count": 35,
     "metadata": {},
     "output_type": "execute_result"
    }
   ],
   "source": [
    "txns_by_project = (\n",
    "    events_by_project[events_by_project['event_type'] == 'CONTRACT_INVOCATION_SUCCESS_DAILY_COUNT']\n",
    "    .groupby('project_id')\n",
    "    ['amount'].sum()\n",
    ")\n",
    "onchain_projects = set(txns_by_project[txns_by_project>420].index)\n",
    "len(onchain_projects)"
   ]
  },
  {
   "cell_type": "code",
   "execution_count": 36,
   "id": "aee67538-e30d-4765-b01e-2f362b419e8d",
   "metadata": {},
   "outputs": [
    {
     "data": {
      "text/plain": [
       "(<Figure size 1440x1440 with 1 Axes>, <Axes: >)"
      ]
     },
     "execution_count": 36,
     "metadata": {},
     "output_type": "execute_result"
    },
    {
     "data": {
      "image/png": "[encoded data removed]",
      "text/plain": [
       "<Figure size 1440x1440 with 1 Axes>"
      ]
     },
     "metadata": {},
     "output_type": "display_data"
    }
   ],
   "source": [
    "venn3_diagram(\n",
    "    subsets=[\n",
    "        collections['op-retrofunding-4'],\n",
    "        collections['op-rpgf3'].intersection(onchain_projects),\n",
    "        collections['op-rpgf2'].intersection(onchain_projects)\n",
    "    ],\n",
    "    labels=[\n",
    "        f\"RF4\\n{len(collections['op-retrofunding-4'])}\",\n",
    "        f\"RF3\\n{len(collections['op-rpgf3'].intersection(onchain_projects))}\",\n",
    "        f\"RF2\\n{len(collections['op-rpgf2'].intersection(onchain_projects))}\"\n",
    "    ],\n",
    "    colors=[\n",
    "        '#FF0420',\n",
    "        '#DDD',\n",
    "        '#DDD'\n",
    "    ]\n",
    ")"
   ]
  },
  {
   "cell_type": "markdown",
   "id": "eaaf6492",
   "metadata": {},
   "source": [
    "# Analyze cohort performance"
   ]
  },
  {
   "cell_type": "code",
   "execution_count": 37,
   "id": "1110de4c-c3f6-4b85-a82a-6c0eb8c0e310",
   "metadata": {},
   "outputs": [
    {
     "data": {
      "text/html": [
       "<div>\n",
       "<style scoped>\n",
       "    .dataframe tbody tr th:only-of-type {\n",
       "        vertical-align: middle;\n",
       "    }\n",
       "\n",
       "    .dataframe tbody tr th {\n",
       "        vertical-align: top;\n",
       "    }\n",
       "\n",
       "    .dataframe thead th {\n",
       "        text-align: right;\n",
       "    }\n",
       "</style>\n",
       "<table border=\"1\" class=\"dataframe\">\n",
       "  <thead>\n",
       "    <tr style=\"text-align: right;\">\n",
       "      <th></th>\n",
       "      <th>project_id</th>\n",
       "      <th>bucket_month</th>\n",
       "      <th>event_source</th>\n",
       "      <th>event_type</th>\n",
       "      <th>amount</th>\n",
       "      <th>project_name</th>\n",
       "      <th>in_rf4</th>\n",
       "    </tr>\n",
       "  </thead>\n",
       "  <tbody>\n",
       "    <tr>\n",
       "      <th>0</th>\n",
       "      <td>w3cYd84PoRdRJ0aJSg_A5Fn_WPpCROPaeq403DjEOAg=</td>\n",
       "      <td>2023-04-01 00:00:00+00:00</td>\n",
       "      <td>OPTIMISM</td>\n",
       "      <td>Gas Fees (ETH)</td>\n",
       "      <td>0.006154</td>\n",
       "      <td>galxe</td>\n",
       "      <td>False</td>\n",
       "    </tr>\n",
       "    <tr>\n",
       "      <th>1</th>\n",
       "      <td>iCKGtNOhEODQBvv6hcfWklD3P_3tOipTR10x1Yx-qkg=</td>\n",
       "      <td>2023-04-01 00:00:00+00:00</td>\n",
       "      <td>OPTIMISM</td>\n",
       "      <td>Transactions (M)</td>\n",
       "      <td>0.013582</td>\n",
       "      <td>pool-together</td>\n",
       "      <td>True</td>\n",
       "    </tr>\n",
       "    <tr>\n",
       "      <th>2</th>\n",
       "      <td>o7Tegl37mRn3t51qS50mf-ENGA98ACIQV01Ae_NWWf0=</td>\n",
       "      <td>2023-04-01 00:00:00+00:00</td>\n",
       "      <td>OPTIMISM</td>\n",
       "      <td>Gas Fees (ETH)</td>\n",
       "      <td>0.459242</td>\n",
       "      <td>0xproject</td>\n",
       "      <td>True</td>\n",
       "    </tr>\n",
       "    <tr>\n",
       "      <th>3</th>\n",
       "      <td>7gqfws0MWRPiMksDMMfnZZFhU66gzItyl2x5wJa6mEE=</td>\n",
       "      <td>2023-04-01 00:00:00+00:00</td>\n",
       "      <td>OPTIMISM</td>\n",
       "      <td>Gas Fees (ETH)</td>\n",
       "      <td>0.027041</td>\n",
       "      <td>socket</td>\n",
       "      <td>False</td>\n",
       "    </tr>\n",
       "    <tr>\n",
       "      <th>4</th>\n",
       "      <td>jEwXVxDdBJ7TGKYlbAWvoLKqCjFY_iuzY7PabwtIoF8=</td>\n",
       "      <td>2023-04-01 00:00:00+00:00</td>\n",
       "      <td>OPTIMISM</td>\n",
       "      <td>Gas Fees (ETH)</td>\n",
       "      <td>0.006963</td>\n",
       "      <td>voteagora</td>\n",
       "      <td>False</td>\n",
       "    </tr>\n",
       "  </tbody>\n",
       "</table>\n",
       "</div>"
      ],
      "text/plain": [
       "                                     project_id              bucket_month  \\\n",
       "0  w3cYd84PoRdRJ0aJSg_A5Fn_WPpCROPaeq403DjEOAg= 2023-04-01 00:00:00+00:00   \n",
       "1  iCKGtNOhEODQBvv6hcfWklD3P_3tOipTR10x1Yx-qkg= 2023-04-01 00:00:00+00:00   \n",
       "2  o7Tegl37mRn3t51qS50mf-ENGA98ACIQV01Ae_NWWf0= 2023-04-01 00:00:00+00:00   \n",
       "3  7gqfws0MWRPiMksDMMfnZZFhU66gzItyl2x5wJa6mEE= 2023-04-01 00:00:00+00:00   \n",
       "4  jEwXVxDdBJ7TGKYlbAWvoLKqCjFY_iuzY7PabwtIoF8= 2023-04-01 00:00:00+00:00   \n",
       "\n",
       "  event_source        event_type    amount   project_name  in_rf4  \n",
       "0     OPTIMISM    Gas Fees (ETH)  0.006154          galxe   False  \n",
       "1     OPTIMISM  Transactions (M)  0.013582  pool-together    True  \n",
       "2     OPTIMISM    Gas Fees (ETH)  0.459242      0xproject    True  \n",
       "3     OPTIMISM    Gas Fees (ETH)  0.027041         socket   False  \n",
       "4     OPTIMISM    Gas Fees (ETH)  0.006963      voteagora   False  "
      ]
     },
     "execution_count": 37,
     "metadata": {},
     "output_type": "execute_result"
    }
   ],
   "source": [
    "df = events_by_project.copy()\n",
    "\n",
    "df['event_type'] = df['event_type'].map({\n",
    "    'COMMIT_CODE': 'Code Commits (K)', \n",
    "    'CONTRACT_INVOCATION_SUCCESS_DAILY_COUNT': 'Transactions (M)',\n",
    "    'CONTRACT_INVOCATION_DAILY_L2_GAS_USED': 'Gas Fees (ETH)'\n",
    "})\n",
    "df.update(df[df['event_type'] == 'Gas Fees (ETH)']['amount'] / (10**18))\n",
    "df.update(df[df['event_type'] == 'Transactions (M)']['amount'] / 1_000_000)\n",
    "df.update(df[df['event_type'] == 'Code Commits (K)']['amount'] / 1_000)\n",
    "\n",
    "df['project_name'] = df['project_id'].map(projects)\n",
    "df['in_rf4'] = df['project_id'].apply(lambda x: x in collections['op-retrofunding-4'])\n",
    "\n",
    "df.head()"
   ]
  },
  {
   "cell_type": "code",
   "execution_count": 38,
   "id": "9e0197ab-ef0f-45af-9e9d-0af15845753e",
   "metadata": {},
   "outputs": [
    {
     "data": {
      "text/html": [
       "<div>\n",
       "<style scoped>\n",
       "    .dataframe tbody tr th:only-of-type {\n",
       "        vertical-align: middle;\n",
       "    }\n",
       "\n",
       "    .dataframe tbody tr th {\n",
       "        vertical-align: top;\n",
       "    }\n",
       "\n",
       "    .dataframe thead th {\n",
       "        text-align: right;\n",
       "    }\n",
       "</style>\n",
       "<table border=\"1\" class=\"dataframe\">\n",
       "  <thead>\n",
       "    <tr style=\"text-align: right;\">\n",
       "      <th></th>\n",
       "      <th>project_id</th>\n",
       "      <th>bucket_month</th>\n",
       "      <th>event_source</th>\n",
       "      <th>event_type</th>\n",
       "      <th>amount</th>\n",
       "      <th>project_name</th>\n",
       "      <th>in_rf4</th>\n",
       "      <th>cohort</th>\n",
       "      <th>cohort_label</th>\n",
       "      <th>time_interval</th>\n",
       "    </tr>\n",
       "  </thead>\n",
       "  <tbody>\n",
       "    <tr>\n",
       "      <th>0</th>\n",
       "      <td>w3cYd84PoRdRJ0aJSg_A5Fn_WPpCROPaeq403DjEOAg=</td>\n",
       "      <td>2023-04-01 00:00:00+00:00</td>\n",
       "      <td>OPTIMISM</td>\n",
       "      <td>Gas Fees (ETH)</td>\n",
       "      <td>0.006154</td>\n",
       "      <td>galxe</td>\n",
       "      <td>False</td>\n",
       "      <td>RF3</td>\n",
       "      <td>Past RFs only</td>\n",
       "      <td>RF3 window</td>\n",
       "    </tr>\n",
       "  </tbody>\n",
       "</table>\n",
       "</div>"
      ],
      "text/plain": [
       "                                     project_id              bucket_month  \\\n",
       "0  w3cYd84PoRdRJ0aJSg_A5Fn_WPpCROPaeq403DjEOAg= 2023-04-01 00:00:00+00:00   \n",
       "\n",
       "  event_source      event_type    amount project_name  in_rf4 cohort  \\\n",
       "0     OPTIMISM  Gas Fees (ETH)  0.006154        galxe   False    RF3   \n",
       "\n",
       "    cohort_label time_interval  \n",
       "0  Past RFs only    RF3 window  "
      ]
     },
     "execution_count": 38,
     "metadata": {},
     "output_type": "execute_result"
    }
   ],
   "source": [
    "def assign_cohort(project_id):\n",
    "    round_list = []\n",
    "    for c,lst in collections.items():\n",
    "        if project_id in lst:\n",
    "            rnd = c[-1]\n",
    "            round_list.append(rnd)\n",
    "    return 'RF'+'/'.join(sorted(round_list))\n",
    "\n",
    "df['cohort'] = df['project_id'].apply(assign_cohort)\n",
    "df['cohort_label'] = df['cohort'].map({\n",
    "    'RF4': 'RF4 only',\n",
    "    'RF3/4': 'Multiple RFs',\n",
    "    'RF2/3/4': 'Multiple RFs',\n",
    "    'RF2/4': 'Multiple RFs',    \n",
    "    'RF3': 'Past RFs only',\n",
    "    'RF2/3': 'Past RFs only',\n",
    "    'RF2': 'Past RFs only'\n",
    "})\n",
    "\n",
    "\n",
    "def assign_month(bucket_month):\n",
    "    month = f'{bucket_month.year}-{str(bucket_month.month).zfill(2)}'\n",
    "    if month >= '2024-06':\n",
    "        return 'Post RF4'\n",
    "    elif month >= '2023-10':\n",
    "        return 'RF4 window'\n",
    "    elif month >= '2023-02':\n",
    "        return 'RF3 window'\n",
    "    else:\n",
    "        return 'Other'\n",
    "    \n",
    "df['time_interval'] = df['bucket_month'].apply(assign_month)\n",
    "\n",
    "df.head(1)"
   ]
  },
  {
   "cell_type": "code",
   "execution_count": 39,
   "id": "9e72c6f4-840e-4542-987f-2ea67c9505c9",
   "metadata": {},
   "outputs": [
    {
     "data": {
      "application/vnd.plotly.v1+json": {
       "config": {
        "plotlyServerURL": "https://plot.ly"
       },
       "data": [
        {
         "branchvalues": "total",
         "domain": {
          "x": [
           0,
           1
          ],
          "y": [
           0,
           1
          ]
         },
         "hovertemplate": "labels=%{label}<br>amount=%{value}<br>parent=%{parent}<br>id=%{id}<extra></extra>",
         "ids": [
          "Multiple RFs/0x-splits",
          "RF4 only/0xdeployer-ham",
          "RF4 only/0xkawz-circle-tech",
          "RF4 only/0xproject",
          "RF4 only/0xsend",
          "RF4 only/0xsequence",
          "RF4 only/3dns-xyz",
          "RF4 only/aave",
          "Multiple RFs/across",
          "Multiple RFs/aerodrome-finance",
          "RF4 only/alchemix",
          "RF4 only/alienbase-xyz",
          "RF4 only/ambiretech",
          "RF4 only/aragon",
          "RF4 only/arcadia-finance",
          "RF4 only/archlyfi",
          "RF4 only/arks-labs",
          "RF4 only/ashwwwin-liquidify",
          "RF4 only/astariaxyz",
          "RF4 only/aura",
          "RF4 only/avantis-labs",
          "RF4 only/balancer",
          "RF4 only/based-bodega",
          "RF4 only/basepaint",
          "RF4 only/basepunks-apexethdev",
          "RF4 only/baseswapfi",
          "RF4 only/beefy-finance",
          "RF4 only/bguan2020-unlonely",
          "RF4 only/biconomy",
          "RF4 only/blobs-live-apexethdev",
          "RF4 only/bodhi-levi0214",
          "RF4 only/bored-town",
          "RF4 only/brine-finance",
          "RF4 only/bsx-exchange",
          "RF4 only/buidlerfi-talentprotocol",
          "Multiple RFs/buidlguidl",
          "RF4 only/byte-masons-ethos-reserve",
          "RF4 only/catalogworks",
          "RF4 only/coinvise",
          "RF4 only/compound-finance",
          "Multiple RFs/coordinape",
          "Multiple RFs/copin-protocol",
          "RF4 only/corbinpage-king-of-the-degens",
          "RF4 only/createmytoken",
          "Multiple RFs/crowdmuse",
          "RF4 only/cyberconnecthq",
          "RF4 only/d-hedge",
          "RF4 only/dackienft-contracts-dackieswap",
          "RF4 only/dackieswap",
          "Multiple RFs/daimo-eth",
          "Multiple RFs/dapp-learning-dao",
          "Multiple RFs/dappradar",
          "RF4 only/debridge-finance",
          "Multiple RFs/decent",
          "Multiple RFs/defi-llama",
          "Multiple RFs/defieye",
          "RF4 only/devtrou-int",
          "RF4 only/dino_contracts-apexethdev",
          "RF4 only/distractionboy-optichads",
          "RF4 only/dmailofficial",
          "RF4 only/doginme",
          "RF4 only/duonghb53-piraswap",
          "Multiple RFs/eco-association",
          "RF4 only/egg-wars",
          "RF4 only/elonsdev-blob-farm",
          "RF4 only/enjoy-tech",
          "Multiple RFs/eth-infinitism-account-abstraction",
          "Multiple RFs/ethereum-attestation-service",
          "RF4 only/eugenix.io",
          "RF4 only/exactly",
          "RF4 only/extra-finance",
          "RF4 only/figs999-basic-dog-meme",
          "Multiple RFs/fractal-visions",
          "RF4 only/ftm1337-equalizer",
          "RF4 only/fxhash",
          "RF4 only/gammastrategies",
          "RF4 only/getmint-io",
          "RF4 only/gfx-labs",
          "Multiple RFs/gitcoin",
          "Multiple RFs/giveth",
          "RF4 only/glo-foundation",
          "RF4 only/gloom-labs",
          "RF4 only/granary",
          "RF4 only/guacbase-dailofrog",
          "Multiple RFs/guildxyz",
          "RF4 only/hai-on-op",
          "RF4 only/harvestfi",
          "Multiple RFs/hats-protocol",
          "Multiple RFs/hedgey-finance",
          "RF4 only/highlightxyz",
          "RF4 only/hoanhan101-your-brians",
          "Multiple RFs/holograph",
          "Multiple RFs/holonym-foundation",
          "RF4 only/hyperlane-xyz",
          "RF4 only/idle-finance",
          "RF4 only/infusion-finance",
          "RF4 only/ionicprotocol",
          "RF4 only/izumi-finance",
          "RF4 only/jhekub-building-blocks",
          "RF4 only/kenglernitas",
          "RF4 only/kim-protocol",
          "RF4 only/kingsimpa69-homes",
          "Multiple RFs/kiwi-news-attestate",
          "Multiple RFs/kwenta",
          "RF4 only/l2pass",
          "RF4 only/layer-zero",
          "Multiple RFs/layer3xyz",
          "RF4 only/lenspost-labs",
          "RF4 only/lido",
          "RF4 only/lifinance",
          "RF4 only/linkdrophq",
          "RF4 only/llamapay",
          "RF4 only/manifold",
          "RF4 only/maverickprotocol",
          "RF4 only/mcgingras-loot2",
          "RF4 only/metronome-autonomoussoftware",
          "RF4 only/michaelcohen716-crypto-composite",
          "RF4 only/mintify-inc",
          "RF4 only/mochimons-mochimonsdev",
          "RF4 only/moneymandoug-base-doge",
          "Multiple RFs/moonwell-fi",
          "RF4 only/morkiexyz",
          "RF4 only/morphex-labs",
          "Multiple RFs/multicall-mds1",
          "Multiple RFs/multicaller-vectorized",
          "RF4 only/mystcl",
          "RF4 only/nfthook",
          "RF4 only/nfts2me",
          "RF4 only/nifty-kit",
          "RF4 only/nnsprotocol",
          "RF4 only/nogem-app",
          "Multiple RFs/nouns-ourzora",
          "RF4 only/odos-xyz",
          "RF4 only/omni-x-nft",
          "RF4 only/omnihub-xyz",
          "RF4 only/omnisea",
          "RF4 only/onchain-cubes-dailofrog",
          "Multiple RFs/openocean-finance",
          "Multiple RFs/opti-domains",
          "RF4 only/ora-io",
          "RF4 only/orderlynetwork",
          "RF4 only/overnight",
          "RF4 only/owlto-finance",
          "RF4 only/paragraph-xyz",
          "RF4 only/paraswap",
          "RF4 only/party-dao",
          "RF4 only/passportxyz",
          "RF4 only/paws-vote-mykcryptodev",
          "RF4 only/perpetual-protocol",
          "Multiple RFs/pheasant-network",
          "RF4 only/phi-labs-inc",
          "RF4 only/pika-protocol",
          "RF4 only/pixotchi",
          "RF4 only/pods-media",
          "Multiple RFs/polynomial-protocol",
          "Multiple RFs/pool-together",
          "RF4 only/portals-fi",
          "RF4 only/preonmoney",
          "RF4 only/print3rxyz",
          "Multiple RFs/punk-domains",
          "Multiple RFs/pyth-network",
          "RF4 only/qidao-mai-finance",
          "Multiple RFs/rabbithole",
          "Multiple RFs/rainbow",
          "RF4 only/rarible",
          "RF4 only/reserve-protocol",
          "Multiple RFs/revert-finance",
          "RF4 only/rmrk-team",
          "RF4 only/router-protocol",
          "RF4 only/rubyscore",
          "RF4 only/runners-dev",
          "RF4 only/sablier",
          "RF4 only/sbauch-speedtracer",
          "Multiple RFs/scryprotocol",
          "Multiple RFs/seamless-protocol",
          "RF4 only/sheep-nft-oktomaschine",
          "Multiple RFs/shipyard-software",
          "RF4 only/showtime-xyz",
          "RF4 only/sixonchain-blocks",
          "RF4 only/slice-so",
          "Multiple RFs/slugs-protocol-bernatfp",
          "Multiple RFs/smoldapp",
          "Multiple RFs/sonne-finance",
          "RF4 only/sound-xyz",
          "RF4 only/stargate-finance",
          "RF4 only/stephharris-receipts",
          "Multiple RFs/streamethorg",
          "RF4 only/sturdyfi",
          "RF4 only/sudoswap",
          "RF4 only/summer-fi",
          "RF4 only/superfluid",
          "RF4 only/supswap",
          "Multiple RFs/sushi",
          "RF4 only/swapbased",
          "RF4 only/swapmode",
          "RF4 only/symm-io",
          "Multiple RFs/synapse",
          "RF4 only/synonymfinance",
          "Multiple RFs/synthetix",
          "RF4 only/talentprotocol",
          "RF4 only/tarot-finance",
          "RF4 only/thales",
          "RF4 only/theopenxproject",
          "RF4 only/tinybasedfrog-dailofrog",
          "RF4 only/titlesnyc",
          "RF4 only/tlx-protocol",
          "RF4 only/tokepad-smolstudios",
          "RF4 only/trashnfts",
          "Multiple RFs/umbra-scopelift",
          "RF4 only/uncx-network",
          "RF4 only/unioncredit",
          "RF4 only/unitapapp",
          "RF4 only/velocimeter",
          "Multiple RFs/velodrome",
          "RF4 only/vesper",
          "RF4 only/virtual-protocol",
          "RF4 only/wearedayone-casino-tycoon",
          "RF4 only/wieldlabs",
          "RF4 only/withfabricxyz",
          "RF4 only/wombat-exchange",
          "RF4 only/woonetwork",
          "RF4 only/wormhole",
          "RF4 only/xswaplink",
          "RF4 only/z80dev-ethxy_poker",
          "RF4 only/zerion",
          "RF4 only/zerius-io",
          "RF4 only/zkbob",
          "RF4 only/zkp2p",
          "Multiple RFs/zora",
          "RF4 only/zwergdev-whale-bridge",
          "Multiple RFs",
          "RF4 only"
         ],
         "labels": [
          "0x-splits",
          "0xdeployer-ham",
          "0xkawz-circle-tech",
          "0xproject",
          "0xsend",
          "0xsequence",
          "3dns-xyz",
          "aave",
          "across",
          "aerodrome-finance",
          "alchemix",
          "alienbase-xyz",
          "ambiretech",
          "aragon",
          "arcadia-finance",
          "archlyfi",
          "arks-labs",
          "ashwwwin-liquidify",
          "astariaxyz",
          "aura",
          "avantis-labs",
          "balancer",
          "based-bodega",
          "basepaint",
          "basepunks-apexethdev",
          "baseswapfi",
          "beefy-finance",
          "bguan2020-unlonely",
          "biconomy",
          "blobs-live-apexethdev",
          "bodhi-levi0214",
          "bored-town",
          "brine-finance",
          "bsx-exchange",
          "buidlerfi-talentprotocol",
          "buidlguidl",
          "byte-masons-ethos-reserve",
          "catalogworks",
          "coinvise",
          "compound-finance",
          "coordinape",
          "copin-protocol",
          "corbinpage-king-of-the-degens",
          "createmytoken",
          "crowdmuse",
          "cyberconnecthq",
          "d-hedge",
          "dackienft-contracts-dackieswap",
          "dackieswap",
          "daimo-eth",
          "dapp-learning-dao",
          "dappradar",
          "debridge-finance",
          "decent",
          "defi-llama",
          "defieye",
          "devtrou-int",
          "dino_contracts-apexethdev",
          "distractionboy-optichads",
          "dmailofficial",
          "doginme",
          "duonghb53-piraswap",
          "eco-association",
          "egg-wars",
          "elonsdev-blob-farm",
          "enjoy-tech",
          "eth-infinitism-account-abstraction",
          "ethereum-attestation-service",
          "eugenix.io",
          "exactly",
          "extra-finance",
          "figs999-basic-dog-meme",
          "fractal-visions",
          "ftm1337-equalizer",
          "fxhash",
          "gammastrategies",
          "getmint-io",
          "gfx-labs",
          "gitcoin",
          "giveth",
          "glo-foundation",
          "gloom-labs",
          "granary",
          "guacbase-dailofrog",
          "guildxyz",
          "hai-on-op",
          "harvestfi",
          "hats-protocol",
          "hedgey-finance",
          "highlightxyz",
          "hoanhan101-your-brians",
          "holograph",
          "holonym-foundation",
          "hyperlane-xyz",
          "idle-finance",
          "infusion-finance",
          "ionicprotocol",
          "izumi-finance",
          "jhekub-building-blocks",
          "kenglernitas",
          "kim-protocol",
          "kingsimpa69-homes",
          "kiwi-news-attestate",
          "kwenta",
          "l2pass",
          "layer-zero",
          "layer3xyz",
          "lenspost-labs",
          "lido",
          "lifinance",
          "linkdrophq",
          "llamapay",
          "manifold",
          "maverickprotocol",
          "mcgingras-loot2",
          "metronome-autonomoussoftware",
          "michaelcohen716-crypto-composite",
          "mintify-inc",
          "mochimons-mochimonsdev",
          "moneymandoug-base-doge",
          "moonwell-fi",
          "morkiexyz",
          "morphex-labs",
          "multicall-mds1",
          "multicaller-vectorized",
          "mystcl",
          "nfthook",
          "nfts2me",
          "nifty-kit",
          "nnsprotocol",
          "nogem-app",
          "nouns-ourzora",
          "odos-xyz",
          "omni-x-nft",
          "omnihub-xyz",
          "omnisea",
          "onchain-cubes-dailofrog",
          "openocean-finance",
          "opti-domains",
          "ora-io",
          "orderlynetwork",
          "overnight",
          "owlto-finance",
          "paragraph-xyz",
          "paraswap",
          "party-dao",
          "passportxyz",
          "paws-vote-mykcryptodev",
          "perpetual-protocol",
          "pheasant-network",
          "phi-labs-inc",
          "pika-protocol",
          "pixotchi",
          "pods-media",
          "polynomial-protocol",
          "pool-together",
          "portals-fi",
          "preonmoney",
          "print3rxyz",
          "punk-domains",
          "pyth-network",
          "qidao-mai-finance",
          "rabbithole",
          "rainbow",
          "rarible",
          "reserve-protocol",
          "revert-finance",
          "rmrk-team",
          "router-protocol",
          "rubyscore",
          "runners-dev",
          "sablier",
          "sbauch-speedtracer",
          "scryprotocol",
          "seamless-protocol",
          "sheep-nft-oktomaschine",
          "shipyard-software",
          "showtime-xyz",
          "sixonchain-blocks",
          "slice-so",
          "slugs-protocol-bernatfp",
          "smoldapp",
          "sonne-finance",
          "sound-xyz",
          "stargate-finance",
          "stephharris-receipts",
          "streamethorg",
          "sturdyfi",
          "sudoswap",
          "summer-fi",
          "superfluid",
          "supswap",
          "sushi",
          "swapbased",
          "swapmode",
          "symm-io",
          "synapse",
          "synonymfinance",
          "synthetix",
          "talentprotocol",
          "tarot-finance",
          "thales",
          "theopenxproject",
          "tinybasedfrog-dailofrog",
          "titlesnyc",
          "tlx-protocol",
          "tokepad-smolstudios",
          "trashnfts",
          "umbra-scopelift",
          "uncx-network",
          "unioncredit",
          "unitapapp",
          "velocimeter",
          "velodrome",
          "vesper",
          "virtual-protocol",
          "wearedayone-casino-tycoon",
          "wieldlabs",
          "withfabricxyz",
          "wombat-exchange",
          "woonetwork",
          "wormhole",
          "xswaplink",
          "z80dev-ethxy_poker",
          "zerion",
          "zerius-io",
          "zkbob",
          "zkp2p",
          "zora",
          "zwergdev-whale-bridge",
          "Multiple RFs",
          "RF4 only"
         ],
         "name": "",
         "parents": [
          "Multiple RFs",
          "RF4 only",
          "RF4 only",
          "RF4 only",
          "RF4 only",
          "RF4 only",
          "RF4 only",
          "RF4 only",
          "Multiple RFs",
          "Multiple RFs",
          "RF4 only",
          "RF4 only",
          "RF4 only",
          "RF4 only",
          "RF4 only",
          "RF4 only",
          "RF4 only",
          "RF4 only",
          "RF4 only",
          "RF4 only",
          "RF4 only",
          "RF4 only",
          "RF4 only",
          "RF4 only",
          "RF4 only",
          "RF4 only",
          "RF4 only",
          "RF4 only",
          "RF4 only",
          "RF4 only",
          "RF4 only",
          "RF4 only",
          "RF4 only",
          "RF4 only",
          "RF4 only",
          "Multiple RFs",
          "RF4 only",
          "RF4 only",
          "RF4 only",
          "RF4 only",
          "Multiple RFs",
          "Multiple RFs",
          "RF4 only",
          "RF4 only",
          "Multiple RFs",
          "RF4 only",
          "RF4 only",
          "RF4 only",
          "RF4 only",
          "Multiple RFs",
          "Multiple RFs",
          "Multiple RFs",
          "RF4 only",
          "Multiple RFs",
          "Multiple RFs",
          "Multiple RFs",
          "RF4 only",
          "RF4 only",
          "RF4 only",
          "RF4 only",
          "RF4 only",
          "RF4 only",
          "Multiple RFs",
          "RF4 only",
          "RF4 only",
          "RF4 only",
          "Multiple RFs",
          "Multiple RFs",
          "RF4 only",
          "RF4 only",
          "RF4 only",
          "RF4 only",
          "Multiple RFs",
          "RF4 only",
          "RF4 only",
          "RF4 only",
          "RF4 only",
          "RF4 only",
          "Multiple RFs",
          "Multiple RFs",
          "RF4 only",
          "RF4 only",
          "RF4 only",
          "RF4 only",
          "Multiple RFs",
          "RF4 only",
          "RF4 only",
          "Multiple RFs",
          "Multiple RFs",
          "RF4 only",
          "RF4 only",
          "Multiple RFs",
          "Multiple RFs",
          "RF4 only",
          "RF4 only",
          "RF4 only",
          "RF4 only",
          "RF4 only",
          "RF4 only",
          "RF4 only",
          "RF4 only",
          "RF4 only",
          "Multiple RFs",
          "Multiple RFs",
          "RF4 only",
          "RF4 only",
          "Multiple RFs",
          "RF4 only",
          "RF4 only",
          "RF4 only",
          "RF4 only",
          "RF4 only",
          "RF4 only",
          "RF4 only",
          "RF4 only",
          "RF4 only",
          "RF4 only",
          "RF4 only",
          "RF4 only",
          "RF4 only",
          "Multiple RFs",
          "RF4 only",
          "RF4 only",
          "Multiple RFs",
          "Multiple RFs",
          "RF4 only",
          "RF4 only",
          "RF4 only",
          "RF4 only",
          "RF4 only",
          "RF4 only",
          "Multiple RFs",
          "RF4 only",
          "RF4 only",
          "RF4 only",
          "RF4 only",
          "RF4 only",
          "Multiple RFs",
          "Multiple RFs",
          "RF4 only",
          "RF4 only",
          "RF4 only",
          "RF4 only",
          "RF4 only",
          "RF4 only",
          "RF4 only",
          "RF4 only",
          "RF4 only",
          "RF4 only",
          "Multiple RFs",
          "RF4 only",
          "RF4 only",
          "RF4 only",
          "RF4 only",
          "Multiple RFs",
          "Multiple RFs",
          "RF4 only",
          "RF4 only",
          "RF4 only",
          "Multiple RFs",
          "Multiple RFs",
          "RF4 only",
          "Multiple RFs",
          "Multiple RFs",
          "RF4 only",
          "RF4 only",
          "Multiple RFs",
          "RF4 only",
          "RF4 only",
          "RF4 only",
          "RF4 only",
          "RF4 only",
          "RF4 only",
          "Multiple RFs",
          "Multiple RFs",
          "RF4 only",
          "Multiple RFs",
          "RF4 only",
          "RF4 only",
          "RF4 only",
          "Multiple RFs",
          "Multiple RFs",
          "Multiple RFs",
          "RF4 only",
          "RF4 only",
          "RF4 only",
          "Multiple RFs",
          "RF4 only",
          "RF4 only",
          "RF4 only",
          "RF4 only",
          "RF4 only",
          "Multiple RFs",
          "RF4 only",
          "RF4 only",
          "RF4 only",
          "Multiple RFs",
          "RF4 only",
          "Multiple RFs",
          "RF4 only",
          "RF4 only",
          "RF4 only",
          "RF4 only",
          "RF4 only",
          "RF4 only",
          "RF4 only",
          "RF4 only",
          "RF4 only",
          "Multiple RFs",
          "RF4 only",
          "RF4 only",
          "RF4 only",
          "RF4 only",
          "Multiple RFs",
          "RF4 only",
          "RF4 only",
          "RF4 only",
          "RF4 only",
          "RF4 only",
          "RF4 only",
          "RF4 only",
          "RF4 only",
          "RF4 only",
          "RF4 only",
          "RF4 only",
          "RF4 only",
          "RF4 only",
          "RF4 only",
          "Multiple RFs",
          "RF4 only",
          "",
          ""
         ],
         "type": "treemap",
         "values": [
          0.19768603831017761,
          1.0916556090868037,
          2.879917674375382,
          75.02457221635107,
          0.03273209264632626,
          0.04765171946855675,
          0.2736470151315789,
          10.351225989925803,
          26.09199693720343,
          118.94163553450247,
          0.02606605105363639,
          11.843084263116225,
          0.024270149649836946,
          0.06509420897104902,
          0.6836566937965135,
          0.05007349242260291,
          0.1392065462524215,
          0.16550681677180998,
          0.088242136886214,
          0.331553474490688,
          17.640430064363624,
          3.256639035768248,
          0.002622191581146136,
          1.739642977498492,
          0.027486610629785344,
          26.535283861752966,
          5.892651927802948,
          0.06751252103821812,
          0.6806975686827653,
          0.06892907009855553,
          0.3008040688704945,
          0.28818706956068185,
          0.005955103208982554,
          7.868028575285777,
          0.2571284672781097,
          0.407910367511829,
          0.15477353633099145,
          0.06165310588264916,
          3.236933204066948,
          4.125726664963424,
          0.24504445501625707,
          0.4880413483527684,
          0.2623083238900922,
          1.9588143598524e-05,
          0.0393394149086328,
          12.138704700561776,
          2.8945925050189625,
          0.6002071203665965,
          3.5951175683031122,
          0.1502769371462509,
          0.01748947752609256,
          0.04208021164520655,
          89.13475850976846,
          8.88327451286646,
          0.171650909016711,
          0.05123594333313486,
          0.05110202077062919,
          0.04873865452454023,
          0.0972746667526442,
          4.409356866367965,
          0.7448166162103765,
          0.02800518331071139,
          0.00170227395523221,
          0.10923371180816845,
          0.32964299773060435,
          0.3874724319826508,
          203.22877421575032,
          4.806589000959493,
          26.14392122318593,
          1.3211168347729263,
          49.74179213814894,
          0.051225951624223935,
          0.03376013156349466,
          3.757420312770804,
          3.6948102325042087,
          6.854989063979817,
          0.6530442006799774,
          0.04234341905939241,
          0.31878843736065643,
          0.01911547113688545,
          0.014527647631074066,
          0.17210146705989207,
          0.7887309402100284,
          0.043885872711315804,
          0.6644730008334047,
          1.0645376359511305,
          0.5108717659473346,
          0.011554201029329504,
          0.998603081559622,
          2.375989872560658,
          0.06372696965653385,
          26.260799731698423,
          27.98619563259394,
          11.586571262440046,
          0.241175344109333,
          0.9834955886667408,
          73.1534735973345,
          4.212423739982305,
          0.007300263651801349,
          0.4034201869405662,
          51.455011173580715,
          0.20826045514394959,
          0.007477284700065432,
          102.90798764536615,
          5.225852217466217,
          115.86988758044956,
          106.7203903022887,
          0.3991157908246882,
          0.07501136860053627,
          41.44298969164959,
          1.1383292937363059,
          0.032908575034234167,
          13.272952941848361,
          10.832237879010094,
          0.32629079594482924,
          0.19482630675273704,
          0.004814245119858751,
          0.2062484171819187,
          0.15373270464620942,
          0.026232655883776997,
          14.990774992834561,
          0.10539303054815824,
          2.9242346358299836,
          20.654134396033815,
          11.66756837561213,
          0.7643289894813524,
          2.4166207928213073,
          20.302418449471393,
          0.4755142670209826,
          0.10698523116544195,
          1.0205496350350227,
          1.3233626976467807,
          70.37063752481154,
          1.558597293537293,
          0.37431094363211037,
          1.523493281691827,
          0.004840640080042925,
          5.120034008843355,
          0.4049166820029914,
          0.3673723357693413,
          1.0481922178018053,
          4.388609311467346,
          0.8744730567001633,
          2.8414889231732245,
          9.164179338063194,
          6.97922686214344,
          2.6151145699952627,
          0.03134961510087858,
          119.54084677158048,
          0.5238486012734643,
          6.248182323001004,
          3.0422057443931805,
          0.8908041295327691,
          1.2820938227288816,
          1.7426306726954464,
          0.4886495134667913,
          0.33328820375681406,
          0.12787803947689458,
          2.4218605071562043,
          0.5641889896358208,
          0.08494982319626436,
          0.09403265866750618,
          7.082430963034182,
          4.639844277818541,
          0.17426427019181004,
          0.4593118242977347,
          0.804851092652373,
          0.3112007472391192,
          2.441342527421171,
          0.7793697804734468,
          0.025662672549686783,
          0.010245009958772373,
          0.28168492845040716,
          0.31269905325805564,
          11.262816231012632,
          0.1840451761809633,
          0.1676350575927466,
          0.4877926752963717,
          6.169622417111807,
          0.18757105041345873,
          0.2072571897865567,
          13.305803350226274,
          6.2435386495470935,
          7.32774594336066,
          102.90828717861237,
          0.010891759431733166,
          0.014073986319672743,
          0.08794933746349272,
          0.8284688600705115,
          0.2719980215334488,
          9.893684245975484,
          15.098235319767745,
          45.50196397369881,
          7.452203127738046,
          5.691656642521487,
          0.3262728836531537,
          9.802563867471001,
          0.015783205919239145,
          161.59962312103312,
          9.895767262442e-06,
          27.537859093905606,
          12.968456929705924,
          0.40772199096077977,
          0.00867500329266616,
          0.24676541507958152,
          1.7632210746019208,
          0.24365253963087188,
          0.021006340778792373,
          0.06802373015746757,
          0.3748641581854611,
          0.14098370051415438,
          0.015298651309877443,
          1.186724879497085,
          36.72554492931326,
          0.13203938972533308,
          1.687656751863696,
          0.736386374939177,
          0.4202829257065528,
          0.2822518075608595,
          0.20343858837883402,
          15.701017926012366,
          2.614115751448282,
          7.628627023139949,
          5.319695043739884,
          3.962015961049982,
          1.1102486962346767,
          0.3773637643102999,
          0.031382059841402646,
          151.6051533183381,
          0.4288381964848607,
          1136.6027540426364,
          1230.1232035499584
         ]
        }
       ],
       "layout": {
        "legend": {
         "tracegroupgap": 0
        },
        "margin": {
         "t": 60
        },
        "template": {
         "data": {
          "bar": [
           {
            "error_x": {
             "color": "#2a3f5f"
            },
            "error_y": {
             "color": "#2a3f5f"
            },
            "marker": {
             "line": {
              "color": "#E5ECF6",
              "width": 0.5
             },
             "pattern": {
              "fillmode": "overlay",
              "size": 10,
              "solidity": 0.2
             }
            },
            "type": "bar"
           }
          ],
          "barpolar": [
           {
            "marker": {
             "line": {
              "color": "#E5ECF6",
              "width": 0.5
             },
             "pattern": {
              "fillmode": "overlay",
              "size": 10,
              "solidity": 0.2
             }
            },
            "type": "barpolar"
           }
          ],
          "carpet": [
           {
            "aaxis": {
             "endlinecolor": "#2a3f5f",
             "gridcolor": "white",
             "linecolor": "white",
             "minorgridcolor": "white",
             "startlinecolor": "#2a3f5f"
            },
            "baxis": {
             "endlinecolor": "#2a3f5f",
             "gridcolor": "white",
             "linecolor": "white",
             "minorgridcolor": "white",
             "startlinecolor": "#2a3f5f"
            },
            "type": "carpet"
           }
          ],
          "choropleth": [
           {
            "colorbar": {
             "outlinewidth": 0,
             "ticks": ""
            },
            "type": "choropleth"
           }
          ],
          "contour": [
           {
            "colorbar": {
             "outlinewidth": 0,
             "ticks": ""
            },
            "colorscale": [
             [
              0,
              "#0d0887"
             ],
             [
              0.1111111111111111,
              "#46039f"
             ],
             [
              0.2222222222222222,
              "#7201a8"
             ],
             [
              0.3333333333333333,
              "#9c179e"
             ],
             [
              0.4444444444444444,
              "#bd3786"
             ],
             [
              0.5555555555555556,
              "#d8576b"
             ],
             [
              0.6666666666666666,
              "#ed7953"
             ],
             [
              0.7777777777777778,
              "#fb9f3a"
             ],
             [
              0.8888888888888888,
              "#fdca26"
             ],
             [
              1,
              "#f0f921"
             ]
            ],
            "type": "contour"
           }
          ],
          "contourcarpet": [
           {
            "colorbar": {
             "outlinewidth": 0,
             "ticks": ""
            },
            "type": "contourcarpet"
           }
          ],
          "heatmap": [
           {
            "colorbar": {
             "outlinewidth": 0,
             "ticks": ""
            },
            "colorscale": [
             [
              0,
              "#0d0887"
             ],
             [
              0.1111111111111111,
              "#46039f"
             ],
             [
              0.2222222222222222,
              "#7201a8"
             ],
             [
              0.3333333333333333,
              "#9c179e"
             ],
             [
              0.4444444444444444,
              "#bd3786"
             ],
             [
              0.5555555555555556,
              "#d8576b"
             ],
             [
              0.6666666666666666,
              "#ed7953"
             ],
             [
              0.7777777777777778,
              "#fb9f3a"
             ],
             [
              0.8888888888888888,
              "#fdca26"
             ],
             [
              1,
              "#f0f921"
             ]
            ],
            "type": "heatmap"
           }
          ],
          "heatmapgl": [
           {
            "colorbar": {
             "outlinewidth": 0,
             "ticks": ""
            },
            "colorscale": [
             [
              0,
              "#0d0887"
             ],
             [
              0.1111111111111111,
              "#46039f"
             ],
             [
              0.2222222222222222,
              "#7201a8"
             ],
             [
              0.3333333333333333,
              "#9c179e"
             ],
             [
              0.4444444444444444,
              "#bd3786"
             ],
             [
              0.5555555555555556,
              "#d8576b"
             ],
             [
              0.6666666666666666,
              "#ed7953"
             ],
             [
              0.7777777777777778,
              "#fb9f3a"
             ],
             [
              0.8888888888888888,
              "#fdca26"
             ],
             [
              1,
              "#f0f921"
             ]
            ],
            "type": "heatmapgl"
           }
          ],
          "histogram": [
           {
            "marker": {
             "pattern": {
              "fillmode": "overlay",
              "size": 10,
              "solidity": 0.2
             }
            },
            "type": "histogram"
           }
          ],
          "histogram2d": [
           {
            "colorbar": {
             "outlinewidth": 0,
             "ticks": ""
            },
            "colorscale": [
             [
              0,
              "#0d0887"
             ],
             [
              0.1111111111111111,
              "#46039f"
             ],
             [
              0.2222222222222222,
              "#7201a8"
             ],
             [
              0.3333333333333333,
              "#9c179e"
             ],
             [
              0.4444444444444444,
              "#bd3786"
             ],
             [
              0.5555555555555556,
              "#d8576b"
             ],
             [
              0.6666666666666666,
              "#ed7953"
             ],
             [
              0.7777777777777778,
              "#fb9f3a"
             ],
             [
              0.8888888888888888,
              "#fdca26"
             ],
             [
              1,
              "#f0f921"
             ]
            ],
            "type": "histogram2d"
           }
          ],
          "histogram2dcontour": [
           {
            "colorbar": {
             "outlinewidth": 0,
             "ticks": ""
            },
            "colorscale": [
             [
              0,
              "#0d0887"
             ],
             [
              0.1111111111111111,
              "#46039f"
             ],
             [
              0.2222222222222222,
              "#7201a8"
             ],
             [
              0.3333333333333333,
              "#9c179e"
             ],
             [
              0.4444444444444444,
              "#bd3786"
             ],
             [
              0.5555555555555556,
              "#d8576b"
             ],
             [
              0.6666666666666666,
              "#ed7953"
             ],
             [
              0.7777777777777778,
              "#fb9f3a"
             ],
             [
              0.8888888888888888,
              "#fdca26"
             ],
             [
              1,
              "#f0f921"
             ]
            ],
            "type": "histogram2dcontour"
           }
          ],
          "mesh3d": [
           {
            "colorbar": {
             "outlinewidth": 0,
             "ticks": ""
            },
            "type": "mesh3d"
           }
          ],
          "parcoords": [
           {
            "line": {
             "colorbar": {
              "outlinewidth": 0,
              "ticks": ""
             }
            },
            "type": "parcoords"
           }
          ],
          "pie": [
           {
            "automargin": true,
            "type": "pie"
           }
          ],
          "scatter": [
           {
            "fillpattern": {
             "fillmode": "overlay",
             "size": 10,
             "solidity": 0.2
            },
            "type": "scatter"
           }
          ],
          "scatter3d": [
           {
            "line": {
             "colorbar": {
              "outlinewidth": 0,
              "ticks": ""
             }
            },
            "marker": {
             "colorbar": {
              "outlinewidth": 0,
              "ticks": ""
             }
            },
            "type": "scatter3d"
           }
          ],
          "scattercarpet": [
           {
            "marker": {
             "colorbar": {
              "outlinewidth": 0,
              "ticks": ""
             }
            },
            "type": "scattercarpet"
           }
          ],
          "scattergeo": [
           {
            "marker": {
             "colorbar": {
              "outlinewidth": 0,
              "ticks": ""
             }
            },
            "type": "scattergeo"
           }
          ],
          "scattergl": [
           {
            "marker": {
             "colorbar": {
              "outlinewidth": 0,
              "ticks": ""
             }
            },
            "type": "scattergl"
           }
          ],
          "scattermapbox": [
           {
            "marker": {
             "colorbar": {
              "outlinewidth": 0,
              "ticks": ""
             }
            },
            "type": "scattermapbox"
           }
          ],
          "scatterpolar": [
           {
            "marker": {
             "colorbar": {
              "outlinewidth": 0,
              "ticks": ""
             }
            },
            "type": "scatterpolar"
           }
          ],
          "scatterpolargl": [
           {
            "marker": {
             "colorbar": {
              "outlinewidth": 0,
              "ticks": ""
             }
            },
            "type": "scatterpolargl"
           }
          ],
          "scatterternary": [
           {
            "marker": {
             "colorbar": {
              "outlinewidth": 0,
              "ticks": ""
             }
            },
            "type": "scatterternary"
           }
          ],
          "surface": [
           {
            "colorbar": {
             "outlinewidth": 0,
             "ticks": ""
            },
            "colorscale": [
             [
              0,
              "#0d0887"
             ],
             [
              0.1111111111111111,
              "#46039f"
             ],
             [
              0.2222222222222222,
              "#7201a8"
             ],
             [
              0.3333333333333333,
              "#9c179e"
             ],
             [
              0.4444444444444444,
              "#bd3786"
             ],
             [
              0.5555555555555556,
              "#d8576b"
             ],
             [
              0.6666666666666666,
              "#ed7953"
             ],
             [
              0.7777777777777778,
              "#fb9f3a"
             ],
             [
              0.8888888888888888,
              "#fdca26"
             ],
             [
              1,
              "#f0f921"
             ]
            ],
            "type": "surface"
           }
          ],
          "table": [
           {
            "cells": {
             "fill": {
              "color": "#EBF0F8"
             },
             "line": {
              "color": "white"
             }
            },
            "header": {
             "fill": {
              "color": "#C8D4E3"
             },
             "line": {
              "color": "white"
             }
            },
            "type": "table"
           }
          ]
         },
         "layout": {
          "annotationdefaults": {
           "arrowcolor": "#2a3f5f",
           "arrowhead": 0,
           "arrowwidth": 1
          },
          "autotypenumbers": "strict",
          "coloraxis": {
           "colorbar": {
            "outlinewidth": 0,
            "ticks": ""
           }
          },
          "colorscale": {
           "diverging": [
            [
             0,
             "#8e0152"
            ],
            [
             0.1,
             "#c51b7d"
            ],
            [
             0.2,
             "#de77ae"
            ],
            [
             0.3,
             "#f1b6da"
            ],
            [
             0.4,
             "#fde0ef"
            ],
            [
             0.5,
             "#f7f7f7"
            ],
            [
             0.6,
             "#e6f5d0"
            ],
            [
             0.7,
             "#b8e186"
            ],
            [
             0.8,
             "#7fbc41"
            ],
            [
             0.9,
             "#4d9221"
            ],
            [
             1,
             "#276419"
            ]
           ],
           "sequential": [
            [
             0,
             "#0d0887"
            ],
            [
             0.1111111111111111,
             "#46039f"
            ],
            [
             0.2222222222222222,
             "#7201a8"
            ],
            [
             0.3333333333333333,
             "#9c179e"
            ],
            [
             0.4444444444444444,
             "#bd3786"
            ],
            [
             0.5555555555555556,
             "#d8576b"
            ],
            [
             0.6666666666666666,
             "#ed7953"
            ],
            [
             0.7777777777777778,
             "#fb9f3a"
            ],
            [
             0.8888888888888888,
             "#fdca26"
            ],
            [
             1,
             "#f0f921"
            ]
           ],
           "sequentialminus": [
            [
             0,
             "#0d0887"
            ],
            [
             0.1111111111111111,
             "#46039f"
            ],
            [
             0.2222222222222222,
             "#7201a8"
            ],
            [
             0.3333333333333333,
             "#9c179e"
            ],
            [
             0.4444444444444444,
             "#bd3786"
            ],
            [
             0.5555555555555556,
             "#d8576b"
            ],
            [
             0.6666666666666666,
             "#ed7953"
            ],
            [
             0.7777777777777778,
             "#fb9f3a"
            ],
            [
             0.8888888888888888,
             "#fdca26"
            ],
            [
             1,
             "#f0f921"
            ]
           ]
          },
          "colorway": [
           "#636efa",
           "#EF553B",
           "#00cc96",
           "#ab63fa",
           "#FFA15A",
           "#19d3f3",
           "#FF6692",
           "#B6E880",
           "#FF97FF",
           "#FECB52"
          ],
          "font": {
           "color": "#2a3f5f"
          },
          "geo": {
           "bgcolor": "white",
           "lakecolor": "white",
           "landcolor": "#E5ECF6",
           "showlakes": true,
           "showland": true,
           "subunitcolor": "white"
          },
          "hoverlabel": {
           "align": "left"
          },
          "hovermode": "closest",
          "mapbox": {
           "style": "light"
          },
          "paper_bgcolor": "white",
          "plot_bgcolor": "#E5ECF6",
          "polar": {
           "angularaxis": {
            "gridcolor": "white",
            "linecolor": "white",
            "ticks": ""
           },
           "bgcolor": "#E5ECF6",
           "radialaxis": {
            "gridcolor": "white",
            "linecolor": "white",
            "ticks": ""
           }
          },
          "scene": {
           "xaxis": {
            "backgroundcolor": "#E5ECF6",
            "gridcolor": "white",
            "gridwidth": 2,
            "linecolor": "white",
            "showbackground": true,
            "ticks": "",
            "zerolinecolor": "white"
           },
           "yaxis": {
            "backgroundcolor": "#E5ECF6",
            "gridcolor": "white",
            "gridwidth": 2,
            "linecolor": "white",
            "showbackground": true,
            "ticks": "",
            "zerolinecolor": "white"
           },
           "zaxis": {
            "backgroundcolor": "#E5ECF6",
            "gridcolor": "white",
            "gridwidth": 2,
            "linecolor": "white",
            "showbackground": true,
            "ticks": "",
            "zerolinecolor": "white"
           }
          },
          "shapedefaults": {
           "line": {
            "color": "#2a3f5f"
           }
          },
          "ternary": {
           "aaxis": {
            "gridcolor": "white",
            "linecolor": "white",
            "ticks": ""
           },
           "baxis": {
            "gridcolor": "white",
            "linecolor": "white",
            "ticks": ""
           },
           "bgcolor": "#E5ECF6",
           "caxis": {
            "gridcolor": "white",
            "linecolor": "white",
            "ticks": ""
           }
          },
          "title": {
           "x": 0.05
          },
          "xaxis": {
           "automargin": true,
           "gridcolor": "white",
           "linecolor": "white",
           "ticks": "",
           "title": {
            "standoff": 15
           },
           "zerolinecolor": "white",
           "zerolinewidth": 2
          },
          "yaxis": {
           "automargin": true,
           "gridcolor": "white",
           "linecolor": "white",
           "ticks": "",
           "title": {
            "standoff": 15
           },
           "zerolinecolor": "white",
           "zerolinewidth": 2
          }
         }
        },
        "treemapcolorway": [
         "#FF0420",
         "#DDD"
        ]
       }
      },
      "text/html": [
       "<div>                            <div id=\"ee2b4e3f-c4c4-4e56-80b3-0e29360abc66\" class=\"plotly-graph-div\" style=\"height:525px; width:100%;\"></div>            <script type=\"text/javascript\">                require([\"plotly\"], function(Plotly) {                    window.PLOTLYENV=window.PLOTLYENV || {};                                    if (document.getElementById(\"ee2b4e3f-c4c4-4e56-80b3-0e29360abc66\")) {                    Plotly.newPlot(                        \"ee2b4e3f-c4c4-4e56-80b3-0e29360abc66\",                        [{\"branchvalues\":\"total\",\"domain\":{\"x\":[0.0,1.0],\"y\":[0.0,1.0]},\"hovertemplate\":\"labels=%{label}<br>amount=%{value}<br>parent=%{parent}<br>id=%{id}<extra></extra>\",\"ids\":[\"Multiple RFs/0x-splits\",\"RF4 only/0xdeployer-ham\",\"RF4 only/0xkawz-circle-tech\",\"RF4 only/0xproject\",\"RF4 only/0xsend\",\"RF4 only/0xsequence\",\"RF4 only/3dns-xyz\",\"RF4 only/aave\",\"Multiple RFs/across\",\"Multiple RFs/aerodrome-finance\",\"RF4 only/alchemix\",\"RF4 only/alienbase-xyz\",\"RF4 only/ambiretech\",\"RF4 only/aragon\",\"RF4 only/arcadia-finance\",\"RF4 only/archlyfi\",\"RF4 only/arks-labs\",\"RF4 only/ashwwwin-liquidify\",\"RF4 only/astariaxyz\",\"RF4 only/aura\",\"RF4 only/avantis-labs\",\"RF4 only/balancer\",\"RF4 only/based-bodega\",\"RF4 only/basepaint\",\"RF4 only/basepunks-apexethdev\",\"RF4 only/baseswapfi\",\"RF4 only/beefy-finance\",\"RF4 only/bguan2020-unlonely\",\"RF4 only/biconomy\",\"RF4 only/blobs-live-apexethdev\",\"RF4 only/bodhi-levi0214\",\"RF4 only/bored-town\",\"RF4 only/brine-finance\",\"RF4 only/bsx-exchange\",\"RF4 only/buidlerfi-talentprotocol\",\"Multiple RFs/buidlguidl\",\"RF4 only/byte-masons-ethos-reserve\",\"RF4 only/catalogworks\",\"RF4 only/coinvise\",\"RF4 only/compound-finance\",\"Multiple RFs/coordinape\",\"Multiple RFs/copin-protocol\",\"RF4 only/corbinpage-king-of-the-degens\",\"RF4 only/createmytoken\",\"Multiple RFs/crowdmuse\",\"RF4 only/cyberconnecthq\",\"RF4 only/d-hedge\",\"RF4 only/dackienft-contracts-dackieswap\",\"RF4 only/dackieswap\",\"Multiple RFs/daimo-eth\",\"Multiple RFs/dapp-learning-dao\",\"Multiple RFs/dappradar\",\"RF4 only/debridge-finance\",\"Multiple RFs/decent\",\"Multiple RFs/defi-llama\",\"Multiple RFs/defieye\",\"RF4 only/devtrou-int\",\"RF4 only/dino_contracts-apexethdev\",\"RF4 only/distractionboy-optichads\",\"RF4 only/dmailofficial\",\"RF4 only/doginme\",\"RF4 only/duonghb53-piraswap\",\"Multiple RFs/eco-association\",\"RF4 only/egg-wars\",\"RF4 only/elonsdev-blob-farm\",\"RF4 only/enjoy-tech\",\"Multiple RFs/eth-infinitism-account-abstraction\",\"Multiple RFs/ethereum-attestation-service\",\"RF4 only/eugenix.io\",\"RF4 only/exactly\",\"RF4 only/extra-finance\",\"RF4 only/figs999-basic-dog-meme\",\"Multiple RFs/fractal-visions\",\"RF4 only/ftm1337-equalizer\",\"RF4 only/fxhash\",\"RF4 only/gammastrategies\",\"RF4 only/getmint-io\",\"RF4 only/gfx-labs\",\"Multiple RFs/gitcoin\",\"Multiple RFs/giveth\",\"RF4 only/glo-foundation\",\"RF4 only/gloom-labs\",\"RF4 only/granary\",\"RF4 only/guacbase-dailofrog\",\"Multiple RFs/guildxyz\",\"RF4 only/hai-on-op\",\"RF4 only/harvestfi\",\"Multiple RFs/hats-protocol\",\"Multiple RFs/hedgey-finance\",\"RF4 only/highlightxyz\",\"RF4 only/hoanhan101-your-brians\",\"Multiple RFs/holograph\",\"Multiple RFs/holonym-foundation\",\"RF4 only/hyperlane-xyz\",\"RF4 only/idle-finance\",\"RF4 only/infusion-finance\",\"RF4 only/ionicprotocol\",\"RF4 only/izumi-finance\",\"RF4 only/jhekub-building-blocks\",\"RF4 only/kenglernitas\",\"RF4 only/kim-protocol\",\"RF4 only/kingsimpa69-homes\",\"Multiple RFs/kiwi-news-attestate\",\"Multiple RFs/kwenta\",\"RF4 only/l2pass\",\"RF4 only/layer-zero\",\"Multiple RFs/layer3xyz\",\"RF4 only/lenspost-labs\",\"RF4 only/lido\",\"RF4 only/lifinance\",\"RF4 only/linkdrophq\",\"RF4 only/llamapay\",\"RF4 only/manifold\",\"RF4 only/maverickprotocol\",\"RF4 only/mcgingras-loot2\",\"RF4 only/metronome-autonomoussoftware\",\"RF4 only/michaelcohen716-crypto-composite\",\"RF4 only/mintify-inc\",\"RF4 only/mochimons-mochimonsdev\",\"RF4 only/moneymandoug-base-doge\",\"Multiple RFs/moonwell-fi\",\"RF4 only/morkiexyz\",\"RF4 only/morphex-labs\",\"Multiple RFs/multicall-mds1\",\"Multiple RFs/multicaller-vectorized\",\"RF4 only/mystcl\",\"RF4 only/nfthook\",\"RF4 only/nfts2me\",\"RF4 only/nifty-kit\",\"RF4 only/nnsprotocol\",\"RF4 only/nogem-app\",\"Multiple RFs/nouns-ourzora\",\"RF4 only/odos-xyz\",\"RF4 only/omni-x-nft\",\"RF4 only/omnihub-xyz\",\"RF4 only/omnisea\",\"RF4 only/onchain-cubes-dailofrog\",\"Multiple RFs/openocean-finance\",\"Multiple RFs/opti-domains\",\"RF4 only/ora-io\",\"RF4 only/orderlynetwork\",\"RF4 only/overnight\",\"RF4 only/owlto-finance\",\"RF4 only/paragraph-xyz\",\"RF4 only/paraswap\",\"RF4 only/party-dao\",\"RF4 only/passportxyz\",\"RF4 only/paws-vote-mykcryptodev\",\"RF4 only/perpetual-protocol\",\"Multiple RFs/pheasant-network\",\"RF4 only/phi-labs-inc\",\"RF4 only/pika-protocol\",\"RF4 only/pixotchi\",\"RF4 only/pods-media\",\"Multiple RFs/polynomial-protocol\",\"Multiple RFs/pool-together\",\"RF4 only/portals-fi\",\"RF4 only/preonmoney\",\"RF4 only/print3rxyz\",\"Multiple RFs/punk-domains\",\"Multiple RFs/pyth-network\",\"RF4 only/qidao-mai-finance\",\"Multiple RFs/rabbithole\",\"Multiple RFs/rainbow\",\"RF4 only/rarible\",\"RF4 only/reserve-protocol\",\"Multiple RFs/revert-finance\",\"RF4 only/rmrk-team\",\"RF4 only/router-protocol\",\"RF4 only/rubyscore\",\"RF4 only/runners-dev\",\"RF4 only/sablier\",\"RF4 only/sbauch-speedtracer\",\"Multiple RFs/scryprotocol\",\"Multiple RFs/seamless-protocol\",\"RF4 only/sheep-nft-oktomaschine\",\"Multiple RFs/shipyard-software\",\"RF4 only/showtime-xyz\",\"RF4 only/sixonchain-blocks\",\"RF4 only/slice-so\",\"Multiple RFs/slugs-protocol-bernatfp\",\"Multiple RFs/smoldapp\",\"Multiple RFs/sonne-finance\",\"RF4 only/sound-xyz\",\"RF4 only/stargate-finance\",\"RF4 only/stephharris-receipts\",\"Multiple RFs/streamethorg\",\"RF4 only/sturdyfi\",\"RF4 only/sudoswap\",\"RF4 only/summer-fi\",\"RF4 only/superfluid\",\"RF4 only/supswap\",\"Multiple RFs/sushi\",\"RF4 only/swapbased\",\"RF4 only/swapmode\",\"RF4 only/symm-io\",\"Multiple RFs/synapse\",\"RF4 only/synonymfinance\",\"Multiple RFs/synthetix\",\"RF4 only/talentprotocol\",\"RF4 only/tarot-finance\",\"RF4 only/thales\",\"RF4 only/theopenxproject\",\"RF4 only/tinybasedfrog-dailofrog\",\"RF4 only/titlesnyc\",\"RF4 only/tlx-protocol\",\"RF4 only/tokepad-smolstudios\",\"RF4 only/trashnfts\",\"Multiple RFs/umbra-scopelift\",\"RF4 only/uncx-network\",\"RF4 only/unioncredit\",\"RF4 only/unitapapp\",\"RF4 only/velocimeter\",\"Multiple RFs/velodrome\",\"RF4 only/vesper\",\"RF4 only/virtual-protocol\",\"RF4 only/wearedayone-casino-tycoon\",\"RF4 only/wieldlabs\",\"RF4 only/withfabricxyz\",\"RF4 only/wombat-exchange\",\"RF4 only/woonetwork\",\"RF4 only/wormhole\",\"RF4 only/xswaplink\",\"RF4 only/z80dev-ethxy_poker\",\"RF4 only/zerion\",\"RF4 only/zerius-io\",\"RF4 only/zkbob\",\"RF4 only/zkp2p\",\"Multiple RFs/zora\",\"RF4 only/zwergdev-whale-bridge\",\"Multiple RFs\",\"RF4 only\"],\"labels\":[\"0x-splits\",\"0xdeployer-ham\",\"0xkawz-circle-tech\",\"0xproject\",\"0xsend\",\"0xsequence\",\"3dns-xyz\",\"aave\",\"across\",\"aerodrome-finance\",\"alchemix\",\"alienbase-xyz\",\"ambiretech\",\"aragon\",\"arcadia-finance\",\"archlyfi\",\"arks-labs\",\"ashwwwin-liquidify\",\"astariaxyz\",\"aura\",\"avantis-labs\",\"balancer\",\"based-bodega\",\"basepaint\",\"basepunks-apexethdev\",\"baseswapfi\",\"beefy-finance\",\"bguan2020-unlonely\",\"biconomy\",\"blobs-live-apexethdev\",\"bodhi-levi0214\",\"bored-town\",\"brine-finance\",\"bsx-exchange\",\"buidlerfi-talentprotocol\",\"buidlguidl\",\"byte-masons-ethos-reserve\",\"catalogworks\",\"coinvise\",\"compound-finance\",\"coordinape\",\"copin-protocol\",\"corbinpage-king-of-the-degens\",\"createmytoken\",\"crowdmuse\",\"cyberconnecthq\",\"d-hedge\",\"dackienft-contracts-dackieswap\",\"dackieswap\",\"daimo-eth\",\"dapp-learning-dao\",\"dappradar\",\"debridge-finance\",\"decent\",\"defi-llama\",\"defieye\",\"devtrou-int\",\"dino_contracts-apexethdev\",\"distractionboy-optichads\",\"dmailofficial\",\"doginme\",\"duonghb53-piraswap\",\"eco-association\",\"egg-wars\",\"elonsdev-blob-farm\",\"enjoy-tech\",\"eth-infinitism-account-abstraction\",\"ethereum-attestation-service\",\"eugenix.io\",\"exactly\",\"extra-finance\",\"figs999-basic-dog-meme\",\"fractal-visions\",\"ftm1337-equalizer\",\"fxhash\",\"gammastrategies\",\"getmint-io\",\"gfx-labs\",\"gitcoin\",\"giveth\",\"glo-foundation\",\"gloom-labs\",\"granary\",\"guacbase-dailofrog\",\"guildxyz\",\"hai-on-op\",\"harvestfi\",\"hats-protocol\",\"hedgey-finance\",\"highlightxyz\",\"hoanhan101-your-brians\",\"holograph\",\"holonym-foundation\",\"hyperlane-xyz\",\"idle-finance\",\"infusion-finance\",\"ionicprotocol\",\"izumi-finance\",\"jhekub-building-blocks\",\"kenglernitas\",\"kim-protocol\",\"kingsimpa69-homes\",\"kiwi-news-attestate\",\"kwenta\",\"l2pass\",\"layer-zero\",\"layer3xyz\",\"lenspost-labs\",\"lido\",\"lifinance\",\"linkdrophq\",\"llamapay\",\"manifold\",\"maverickprotocol\",\"mcgingras-loot2\",\"metronome-autonomoussoftware\",\"michaelcohen716-crypto-composite\",\"mintify-inc\",\"mochimons-mochimonsdev\",\"moneymandoug-base-doge\",\"moonwell-fi\",\"morkiexyz\",\"morphex-labs\",\"multicall-mds1\",\"multicaller-vectorized\",\"mystcl\",\"nfthook\",\"nfts2me\",\"nifty-kit\",\"nnsprotocol\",\"nogem-app\",\"nouns-ourzora\",\"odos-xyz\",\"omni-x-nft\",\"omnihub-xyz\",\"omnisea\",\"onchain-cubes-dailofrog\",\"openocean-finance\",\"opti-domains\",\"ora-io\",\"orderlynetwork\",\"overnight\",\"owlto-finance\",\"paragraph-xyz\",\"paraswap\",\"party-dao\",\"passportxyz\",\"paws-vote-mykcryptodev\",\"perpetual-protocol\",\"pheasant-network\",\"phi-labs-inc\",\"pika-protocol\",\"pixotchi\",\"pods-media\",\"polynomial-protocol\",\"pool-together\",\"portals-fi\",\"preonmoney\",\"print3rxyz\",\"punk-domains\",\"pyth-network\",\"qidao-mai-finance\",\"rabbithole\",\"rainbow\",\"rarible\",\"reserve-protocol\",\"revert-finance\",\"rmrk-team\",\"router-protocol\",\"rubyscore\",\"runners-dev\",\"sablier\",\"sbauch-speedtracer\",\"scryprotocol\",\"seamless-protocol\",\"sheep-nft-oktomaschine\",\"shipyard-software\",\"showtime-xyz\",\"sixonchain-blocks\",\"slice-so\",\"slugs-protocol-bernatfp\",\"smoldapp\",\"sonne-finance\",\"sound-xyz\",\"stargate-finance\",\"stephharris-receipts\",\"streamethorg\",\"sturdyfi\",\"sudoswap\",\"summer-fi\",\"superfluid\",\"supswap\",\"sushi\",\"swapbased\",\"swapmode\",\"symm-io\",\"synapse\",\"synonymfinance\",\"synthetix\",\"talentprotocol\",\"tarot-finance\",\"thales\",\"theopenxproject\",\"tinybasedfrog-dailofrog\",\"titlesnyc\",\"tlx-protocol\",\"tokepad-smolstudios\",\"trashnfts\",\"umbra-scopelift\",\"uncx-network\",\"unioncredit\",\"unitapapp\",\"velocimeter\",\"velodrome\",\"vesper\",\"virtual-protocol\",\"wearedayone-casino-tycoon\",\"wieldlabs\",\"withfabricxyz\",\"wombat-exchange\",\"woonetwork\",\"wormhole\",\"xswaplink\",\"z80dev-ethxy_poker\",\"zerion\",\"zerius-io\",\"zkbob\",\"zkp2p\",\"zora\",\"zwergdev-whale-bridge\",\"Multiple RFs\",\"RF4 only\"],\"name\":\"\",\"parents\":[\"Multiple RFs\",\"RF4 only\",\"RF4 only\",\"RF4 only\",\"RF4 only\",\"RF4 only\",\"RF4 only\",\"RF4 only\",\"Multiple RFs\",\"Multiple RFs\",\"RF4 only\",\"RF4 only\",\"RF4 only\",\"RF4 only\",\"RF4 only\",\"RF4 only\",\"RF4 only\",\"RF4 only\",\"RF4 only\",\"RF4 only\",\"RF4 only\",\"RF4 only\",\"RF4 only\",\"RF4 only\",\"RF4 only\",\"RF4 only\",\"RF4 only\",\"RF4 only\",\"RF4 only\",\"RF4 only\",\"RF4 only\",\"RF4 only\",\"RF4 only\",\"RF4 only\",\"RF4 only\",\"Multiple RFs\",\"RF4 only\",\"RF4 only\",\"RF4 only\",\"RF4 only\",\"Multiple RFs\",\"Multiple RFs\",\"RF4 only\",\"RF4 only\",\"Multiple RFs\",\"RF4 only\",\"RF4 only\",\"RF4 only\",\"RF4 only\",\"Multiple RFs\",\"Multiple RFs\",\"Multiple RFs\",\"RF4 only\",\"Multiple RFs\",\"Multiple RFs\",\"Multiple RFs\",\"RF4 only\",\"RF4 only\",\"RF4 only\",\"RF4 only\",\"RF4 only\",\"RF4 only\",\"Multiple RFs\",\"RF4 only\",\"RF4 only\",\"RF4 only\",\"Multiple RFs\",\"Multiple RFs\",\"RF4 only\",\"RF4 only\",\"RF4 only\",\"RF4 only\",\"Multiple RFs\",\"RF4 only\",\"RF4 only\",\"RF4 only\",\"RF4 only\",\"RF4 only\",\"Multiple RFs\",\"Multiple RFs\",\"RF4 only\",\"RF4 only\",\"RF4 only\",\"RF4 only\",\"Multiple RFs\",\"RF4 only\",\"RF4 only\",\"Multiple RFs\",\"Multiple RFs\",\"RF4 only\",\"RF4 only\",\"Multiple RFs\",\"Multiple RFs\",\"RF4 only\",\"RF4 only\",\"RF4 only\",\"RF4 only\",\"RF4 only\",\"RF4 only\",\"RF4 only\",\"RF4 only\",\"RF4 only\",\"Multiple RFs\",\"Multiple RFs\",\"RF4 only\",\"RF4 only\",\"Multiple RFs\",\"RF4 only\",\"RF4 only\",\"RF4 only\",\"RF4 only\",\"RF4 only\",\"RF4 only\",\"RF4 only\",\"RF4 only\",\"RF4 only\",\"RF4 only\",\"RF4 only\",\"RF4 only\",\"RF4 only\",\"Multiple RFs\",\"RF4 only\",\"RF4 only\",\"Multiple RFs\",\"Multiple RFs\",\"RF4 only\",\"RF4 only\",\"RF4 only\",\"RF4 only\",\"RF4 only\",\"RF4 only\",\"Multiple RFs\",\"RF4 only\",\"RF4 only\",\"RF4 only\",\"RF4 only\",\"RF4 only\",\"Multiple RFs\",\"Multiple RFs\",\"RF4 only\",\"RF4 only\",\"RF4 only\",\"RF4 only\",\"RF4 only\",\"RF4 only\",\"RF4 only\",\"RF4 only\",\"RF4 only\",\"RF4 only\",\"Multiple RFs\",\"RF4 only\",\"RF4 only\",\"RF4 only\",\"RF4 only\",\"Multiple RFs\",\"Multiple RFs\",\"RF4 only\",\"RF4 only\",\"RF4 only\",\"Multiple RFs\",\"Multiple RFs\",\"RF4 only\",\"Multiple RFs\",\"Multiple RFs\",\"RF4 only\",\"RF4 only\",\"Multiple RFs\",\"RF4 only\",\"RF4 only\",\"RF4 only\",\"RF4 only\",\"RF4 only\",\"RF4 only\",\"Multiple RFs\",\"Multiple RFs\",\"RF4 only\",\"Multiple RFs\",\"RF4 only\",\"RF4 only\",\"RF4 only\",\"Multiple RFs\",\"Multiple RFs\",\"Multiple RFs\",\"RF4 only\",\"RF4 only\",\"RF4 only\",\"Multiple RFs\",\"RF4 only\",\"RF4 only\",\"RF4 only\",\"RF4 only\",\"RF4 only\",\"Multiple RFs\",\"RF4 only\",\"RF4 only\",\"RF4 only\",\"Multiple RFs\",\"RF4 only\",\"Multiple RFs\",\"RF4 only\",\"RF4 only\",\"RF4 only\",\"RF4 only\",\"RF4 only\",\"RF4 only\",\"RF4 only\",\"RF4 only\",\"RF4 only\",\"Multiple RFs\",\"RF4 only\",\"RF4 only\",\"RF4 only\",\"RF4 only\",\"Multiple RFs\",\"RF4 only\",\"RF4 only\",\"RF4 only\",\"RF4 only\",\"RF4 only\",\"RF4 only\",\"RF4 only\",\"RF4 only\",\"RF4 only\",\"RF4 only\",\"RF4 only\",\"RF4 only\",\"RF4 only\",\"RF4 only\",\"Multiple RFs\",\"RF4 only\",\"\",\"\"],\"values\":[0.19768603831017761,1.0916556090868037,2.879917674375382,75.02457221635107,0.03273209264632626,0.04765171946855675,0.2736470151315789,10.351225989925803,26.09199693720343,118.94163553450247,0.02606605105363639,11.843084263116225,0.024270149649836946,0.06509420897104902,0.6836566937965135,0.05007349242260291,0.1392065462524215,0.16550681677180998,0.088242136886214,0.331553474490688,17.640430064363624,3.256639035768248,0.002622191581146136,1.739642977498492,0.027486610629785344,26.535283861752966,5.892651927802948,0.06751252103821812,0.6806975686827653,0.06892907009855553,0.3008040688704945,0.28818706956068185,0.005955103208982554,7.868028575285777,0.2571284672781097,0.407910367511829,0.15477353633099145,0.06165310588264916,3.236933204066948,4.125726664963424,0.24504445501625707,0.4880413483527684,0.2623083238900922,1.9588143598524e-05,0.0393394149086328,12.138704700561776,2.8945925050189625,0.6002071203665965,3.5951175683031122,0.1502769371462509,0.01748947752609256,0.04208021164520655,89.13475850976846,8.88327451286646,0.171650909016711,0.05123594333313486,0.05110202077062919,0.04873865452454023,0.0972746667526442,4.409356866367965,0.7448166162103765,0.02800518331071139,0.00170227395523221,0.10923371180816845,0.32964299773060435,0.3874724319826508,203.22877421575032,4.806589000959493,26.14392122318593,1.3211168347729263,49.74179213814894,0.051225951624223935,0.03376013156349466,3.757420312770804,3.6948102325042087,6.854989063979817,0.6530442006799774,0.04234341905939241,0.31878843736065643,0.01911547113688545,0.014527647631074066,0.17210146705989207,0.7887309402100284,0.043885872711315804,0.6644730008334047,1.0645376359511305,0.5108717659473346,0.011554201029329504,0.998603081559622,2.375989872560658,0.06372696965653385,26.260799731698423,27.98619563259394,11.586571262440046,0.241175344109333,0.9834955886667408,73.1534735973345,4.212423739982305,0.007300263651801349,0.4034201869405662,51.455011173580715,0.20826045514394959,0.007477284700065432,102.90798764536615,5.225852217466217,115.86988758044956,106.7203903022887,0.3991157908246882,0.07501136860053627,41.44298969164959,1.1383292937363059,0.032908575034234167,13.272952941848361,10.832237879010094,0.32629079594482924,0.19482630675273704,0.004814245119858751,0.2062484171819187,0.15373270464620942,0.026232655883776997,14.990774992834561,0.10539303054815824,2.9242346358299836,20.654134396033815,11.66756837561213,0.7643289894813524,2.4166207928213073,20.302418449471393,0.4755142670209826,0.10698523116544195,1.0205496350350227,1.3233626976467807,70.37063752481154,1.558597293537293,0.37431094363211037,1.523493281691827,0.004840640080042925,5.120034008843355,0.4049166820029914,0.3673723357693413,1.0481922178018053,4.388609311467346,0.8744730567001633,2.8414889231732245,9.164179338063194,6.97922686214344,2.6151145699952627,0.03134961510087858,119.54084677158048,0.5238486012734643,6.248182323001004,3.0422057443931805,0.8908041295327691,1.2820938227288816,1.7426306726954464,0.4886495134667913,0.33328820375681406,0.12787803947689458,2.4218605071562043,0.5641889896358208,0.08494982319626436,0.09403265866750618,7.082430963034182,4.639844277818541,0.17426427019181004,0.4593118242977347,0.804851092652373,0.3112007472391192,2.441342527421171,0.7793697804734468,0.025662672549686783,0.010245009958772373,0.28168492845040716,0.31269905325805564,11.262816231012632,0.1840451761809633,0.1676350575927466,0.4877926752963717,6.169622417111807,0.18757105041345873,0.2072571897865567,13.305803350226274,6.2435386495470935,7.32774594336066,102.90828717861237,0.010891759431733166,0.014073986319672743,0.08794933746349272,0.8284688600705115,0.2719980215334488,9.893684245975484,15.098235319767745,45.50196397369881,7.452203127738046,5.691656642521487,0.3262728836531537,9.802563867471001,0.015783205919239145,161.59962312103312,9.895767262442e-06,27.537859093905606,12.968456929705924,0.40772199096077977,0.00867500329266616,0.24676541507958152,1.7632210746019208,0.24365253963087188,0.021006340778792373,0.06802373015746757,0.3748641581854611,0.14098370051415438,0.015298651309877443,1.186724879497085,36.72554492931326,0.13203938972533308,1.687656751863696,0.736386374939177,0.4202829257065528,0.2822518075608595,0.20343858837883402,15.701017926012366,2.614115751448282,7.628627023139949,5.319695043739884,3.962015961049982,1.1102486962346767,0.3773637643102999,0.031382059841402646,151.6051533183381,0.4288381964848607,1136.6027540426364,1230.1232035499584],\"type\":\"treemap\"}],                        {\"template\":{\"data\":{\"histogram2dcontour\":[{\"type\":\"histogram2dcontour\",\"colorbar\":{\"outlinewidth\":0,\"ticks\":\"\"},\"colorscale\":[[0.0,\"#0d0887\"],[0.1111111111111111,\"#46039f\"],[0.2222222222222222,\"#7201a8\"],[0.3333333333333333,\"#9c179e\"],[0.4444444444444444,\"#bd3786\"],[0.5555555555555556,\"#d8576b\"],[0.6666666666666666,\"#ed7953\"],[0.7777777777777778,\"#fb9f3a\"],[0.8888888888888888,\"#fdca26\"],[1.0,\"#f0f921\"]]}],\"choropleth\":[{\"type\":\"choropleth\",\"colorbar\":{\"outlinewidth\":0,\"ticks\":\"\"}}],\"histogram2d\":[{\"type\":\"histogram2d\",\"colorbar\":{\"outlinewidth\":0,\"ticks\":\"\"},\"colorscale\":[[0.0,\"#0d0887\"],[0.1111111111111111,\"#46039f\"],[0.2222222222222222,\"#7201a8\"],[0.3333333333333333,\"#9c179e\"],[0.4444444444444444,\"#bd3786\"],[0.5555555555555556,\"#d8576b\"],[0.6666666666666666,\"#ed7953\"],[0.7777777777777778,\"#fb9f3a\"],[0.8888888888888888,\"#fdca26\"],[1.0,\"#f0f921\"]]}],\"heatmap\":[{\"type\":\"heatmap\",\"colorbar\":{\"outlinewidth\":0,\"ticks\":\"\"},\"colorscale\":[[0.0,\"#0d0887\"],[0.1111111111111111,\"#46039f\"],[0.2222222222222222,\"#7201a8\"],[0.3333333333333333,\"#9c179e\"],[0.4444444444444444,\"#bd3786\"],[0.5555555555555556,\"#d8576b\"],[0.6666666666666666,\"#ed7953\"],[0.7777777777777778,\"#fb9f3a\"],[0.8888888888888888,\"#fdca26\"],[1.0,\"#f0f921\"]]}],\"heatmapgl\":[{\"type\":\"heatmapgl\",\"colorbar\":{\"outlinewidth\":0,\"ticks\":\"\"},\"colorscale\":[[0.0,\"#0d0887\"],[0.1111111111111111,\"#46039f\"],[0.2222222222222222,\"#7201a8\"],[0.3333333333333333,\"#9c179e\"],[0.4444444444444444,\"#bd3786\"],[0.5555555555555556,\"#d8576b\"],[0.6666666666666666,\"#ed7953\"],[0.7777777777777778,\"#fb9f3a\"],[0.8888888888888888,\"#fdca26\"],[1.0,\"#f0f921\"]]}],\"contourcarpet\":[{\"type\":\"contourcarpet\",\"colorbar\":{\"outlinewidth\":0,\"ticks\":\"\"}}],\"contour\":[{\"type\":\"contour\",\"colorbar\":{\"outlinewidth\":0,\"ticks\":\"\"},\"colorscale\":[[0.0,\"#0d0887\"],[0.1111111111111111,\"#46039f\"],[0.2222222222222222,\"#7201a8\"],[0.3333333333333333,\"#9c179e\"],[0.4444444444444444,\"#bd3786\"],[0.5555555555555556,\"#d8576b\"],[0.6666666666666666,\"#ed7953\"],[0.7777777777777778,\"#fb9f3a\"],[0.8888888888888888,\"#fdca26\"],[1.0,\"#f0f921\"]]}],\"surface\":[{\"type\":\"surface\",\"colorbar\":{\"outlinewidth\":0,\"ticks\":\"\"},\"colorscale\":[[0.0,\"#0d0887\"],[0.1111111111111111,\"#46039f\"],[0.2222222222222222,\"#7201a8\"],[0.3333333333333333,\"#9c179e\"],[0.4444444444444444,\"#bd3786\"],[0.5555555555555556,\"#d8576b\"],[0.6666666666666666,\"#ed7953\"],[0.7777777777777778,\"#fb9f3a\"],[0.8888888888888888,\"#fdca26\"],[1.0,\"#f0f921\"]]}],\"mesh3d\":[{\"type\":\"mesh3d\",\"colorbar\":{\"outlinewidth\":0,\"ticks\":\"\"}}],\"scatter\":[{\"fillpattern\":{\"fillmode\":\"overlay\",\"size\":10,\"solidity\":0.2},\"type\":\"scatter\"}],\"parcoords\":[{\"type\":\"parcoords\",\"line\":{\"colorbar\":{\"outlinewidth\":0,\"ticks\":\"\"}}}],\"scatterpolargl\":[{\"type\":\"scatterpolargl\",\"marker\":{\"colorbar\":{\"outlinewidth\":0,\"ticks\":\"\"}}}],\"bar\":[{\"error_x\":{\"color\":\"#2a3f5f\"},\"error_y\":{\"color\":\"#2a3f5f\"},\"marker\":{\"line\":{\"color\":\"#E5ECF6\",\"width\":0.5},\"pattern\":{\"fillmode\":\"overlay\",\"size\":10,\"solidity\":0.2}},\"type\":\"bar\"}],\"scattergeo\":[{\"type\":\"scattergeo\",\"marker\":{\"colorbar\":{\"outlinewidth\":0,\"ticks\":\"\"}}}],\"scatterpolar\":[{\"type\":\"scatterpolar\",\"marker\":{\"colorbar\":{\"outlinewidth\":0,\"ticks\":\"\"}}}],\"histogram\":[{\"marker\":{\"pattern\":{\"fillmode\":\"overlay\",\"size\":10,\"solidity\":0.2}},\"type\":\"histogram\"}],\"scattergl\":[{\"type\":\"scattergl\",\"marker\":{\"colorbar\":{\"outlinewidth\":0,\"ticks\":\"\"}}}],\"scatter3d\":[{\"type\":\"scatter3d\",\"line\":{\"colorbar\":{\"outlinewidth\":0,\"ticks\":\"\"}},\"marker\":{\"colorbar\":{\"outlinewidth\":0,\"ticks\":\"\"}}}],\"scattermapbox\":[{\"type\":\"scattermapbox\",\"marker\":{\"colorbar\":{\"outlinewidth\":0,\"ticks\":\"\"}}}],\"scatterternary\":[{\"type\":\"scatterternary\",\"marker\":{\"colorbar\":{\"outlinewidth\":0,\"ticks\":\"\"}}}],\"scattercarpet\":[{\"type\":\"scattercarpet\",\"marker\":{\"colorbar\":{\"outlinewidth\":0,\"ticks\":\"\"}}}],\"carpet\":[{\"aaxis\":{\"endlinecolor\":\"#2a3f5f\",\"gridcolor\":\"white\",\"linecolor\":\"white\",\"minorgridcolor\":\"white\",\"startlinecolor\":\"#2a3f5f\"},\"baxis\":{\"endlinecolor\":\"#2a3f5f\",\"gridcolor\":\"white\",\"linecolor\":\"white\",\"minorgridcolor\":\"white\",\"startlinecolor\":\"#2a3f5f\"},\"type\":\"carpet\"}],\"table\":[{\"cells\":{\"fill\":{\"color\":\"#EBF0F8\"},\"line\":{\"color\":\"white\"}},\"header\":{\"fill\":{\"color\":\"#C8D4E3\"},\"line\":{\"color\":\"white\"}},\"type\":\"table\"}],\"barpolar\":[{\"marker\":{\"line\":{\"color\":\"#E5ECF6\",\"width\":0.5},\"pattern\":{\"fillmode\":\"overlay\",\"size\":10,\"solidity\":0.2}},\"type\":\"barpolar\"}],\"pie\":[{\"automargin\":true,\"type\":\"pie\"}]},\"layout\":{\"autotypenumbers\":\"strict\",\"colorway\":[\"#636efa\",\"#EF553B\",\"#00cc96\",\"#ab63fa\",\"#FFA15A\",\"#19d3f3\",\"#FF6692\",\"#B6E880\",\"#FF97FF\",\"#FECB52\"],\"font\":{\"color\":\"#2a3f5f\"},\"hovermode\":\"closest\",\"hoverlabel\":{\"align\":\"left\"},\"paper_bgcolor\":\"white\",\"plot_bgcolor\":\"#E5ECF6\",\"polar\":{\"bgcolor\":\"#E5ECF6\",\"angularaxis\":{\"gridcolor\":\"white\",\"linecolor\":\"white\",\"ticks\":\"\"},\"radialaxis\":{\"gridcolor\":\"white\",\"linecolor\":\"white\",\"ticks\":\"\"}},\"ternary\":{\"bgcolor\":\"#E5ECF6\",\"aaxis\":{\"gridcolor\":\"white\",\"linecolor\":\"white\",\"ticks\":\"\"},\"baxis\":{\"gridcolor\":\"white\",\"linecolor\":\"white\",\"ticks\":\"\"},\"caxis\":{\"gridcolor\":\"white\",\"linecolor\":\"white\",\"ticks\":\"\"}},\"coloraxis\":{\"colorbar\":{\"outlinewidth\":0,\"ticks\":\"\"}},\"colorscale\":{\"sequential\":[[0.0,\"#0d0887\"],[0.1111111111111111,\"#46039f\"],[0.2222222222222222,\"#7201a8\"],[0.3333333333333333,\"#9c179e\"],[0.4444444444444444,\"#bd3786\"],[0.5555555555555556,\"#d8576b\"],[0.6666666666666666,\"#ed7953\"],[0.7777777777777778,\"#fb9f3a\"],[0.8888888888888888,\"#fdca26\"],[1.0,\"#f0f921\"]],\"sequentialminus\":[[0.0,\"#0d0887\"],[0.1111111111111111,\"#46039f\"],[0.2222222222222222,\"#7201a8\"],[0.3333333333333333,\"#9c179e\"],[0.4444444444444444,\"#bd3786\"],[0.5555555555555556,\"#d8576b\"],[0.6666666666666666,\"#ed7953\"],[0.7777777777777778,\"#fb9f3a\"],[0.8888888888888888,\"#fdca26\"],[1.0,\"#f0f921\"]],\"diverging\":[[0,\"#8e0152\"],[0.1,\"#c51b7d\"],[0.2,\"#de77ae\"],[0.3,\"#f1b6da\"],[0.4,\"#fde0ef\"],[0.5,\"#f7f7f7\"],[0.6,\"#e6f5d0\"],[0.7,\"#b8e186\"],[0.8,\"#7fbc41\"],[0.9,\"#4d9221\"],[1,\"#276419\"]]},\"xaxis\":{\"gridcolor\":\"white\",\"linecolor\":\"white\",\"ticks\":\"\",\"title\":{\"standoff\":15},\"zerolinecolor\":\"white\",\"automargin\":true,\"zerolinewidth\":2},\"yaxis\":{\"gridcolor\":\"white\",\"linecolor\":\"white\",\"ticks\":\"\",\"title\":{\"standoff\":15},\"zerolinecolor\":\"white\",\"automargin\":true,\"zerolinewidth\":2},\"scene\":{\"xaxis\":{\"backgroundcolor\":\"#E5ECF6\",\"gridcolor\":\"white\",\"linecolor\":\"white\",\"showbackground\":true,\"ticks\":\"\",\"zerolinecolor\":\"white\",\"gridwidth\":2},\"yaxis\":{\"backgroundcolor\":\"#E5ECF6\",\"gridcolor\":\"white\",\"linecolor\":\"white\",\"showbackground\":true,\"ticks\":\"\",\"zerolinecolor\":\"white\",\"gridwidth\":2},\"zaxis\":{\"backgroundcolor\":\"#E5ECF6\",\"gridcolor\":\"white\",\"linecolor\":\"white\",\"showbackground\":true,\"ticks\":\"\",\"zerolinecolor\":\"white\",\"gridwidth\":2}},\"shapedefaults\":{\"line\":{\"color\":\"#2a3f5f\"}},\"annotationdefaults\":{\"arrowcolor\":\"#2a3f5f\",\"arrowhead\":0,\"arrowwidth\":1},\"geo\":{\"bgcolor\":\"white\",\"landcolor\":\"#E5ECF6\",\"subunitcolor\":\"white\",\"showland\":true,\"showlakes\":true,\"lakecolor\":\"white\"},\"title\":{\"x\":0.05},\"mapbox\":{\"style\":\"light\"}}},\"legend\":{\"tracegroupgap\":0},\"margin\":{\"t\":60},\"treemapcolorway\":[\"#FF0420\",\"#DDD\"]},                        {\"responsive\": true}                    ).then(function(){\n",
       "                            \n",
       "var gd = document.getElementById('ee2b4e3f-c4c4-4e56-80b3-0e29360abc66');\n",
       "var x = new MutationObserver(function (mutations, observer) {{\n",
       "        var display = window.getComputedStyle(gd).display;\n",
       "        if (!display || display === 'none') {{\n",
       "            console.log([gd, 'removed!']);\n",
       "            Plotly.purge(gd);\n",
       "            observer.disconnect();\n",
       "        }}\n",
       "}});\n",
       "\n",
       "// Listen for the removal of the full notebook cells\n",
       "var notebookContainer = gd.closest('#notebook-container');\n",
       "if (notebookContainer) {{\n",
       "    x.observe(notebookContainer, {childList: true});\n",
       "}}\n",
       "\n",
       "// Listen for the clearing of the current output cell\n",
       "var outputEl = gd.closest('.output');\n",
       "if (outputEl) {{\n",
       "    x.observe(outputEl, {childList: true});\n",
       "}}\n",
       "\n",
       "                        })                };                });            </script>        </div>"
      ]
     },
     "metadata": {},
     "output_type": "display_data"
    }
   ],
   "source": [
    "px.treemap(\n",
    "    data_frame=df[\n",
    "        (df['event_type'] == 'Gas Fees (ETH)')\n",
    "         & (df['time_interval'] == 'RF4 window')\n",
    "         & (df['in_rf4']==True)\n",
    "    ].dropna(),\n",
    "    path=['cohort_label', 'project_name'],\n",
    "    values='amount',\n",
    "    color_discrete_sequence=['#FF0420', '#DDD'],\n",
    "    \n",
    ")"
   ]
  },
  {
   "cell_type": "code",
   "execution_count": 40,
   "id": "565d519a",
   "metadata": {},
   "outputs": [
    {
     "data": {
      "text/html": [
       "<div>\n",
       "<style scoped>\n",
       "    .dataframe tbody tr th:only-of-type {\n",
       "        vertical-align: middle;\n",
       "    }\n",
       "\n",
       "    .dataframe tbody tr th {\n",
       "        vertical-align: top;\n",
       "    }\n",
       "\n",
       "    .dataframe thead th {\n",
       "        text-align: right;\n",
       "    }\n",
       "</style>\n",
       "<table border=\"1\" class=\"dataframe\">\n",
       "  <thead>\n",
       "    <tr style=\"text-align: right;\">\n",
       "      <th></th>\n",
       "      <th>bucket_month</th>\n",
       "      <th>cohort_label</th>\n",
       "      <th>amount</th>\n",
       "    </tr>\n",
       "  </thead>\n",
       "  <tbody>\n",
       "    <tr>\n",
       "      <th>0</th>\n",
       "      <td>2023-02-01 00:00:00+00:00</td>\n",
       "      <td>Multiple RFs</td>\n",
       "      <td>0.657073</td>\n",
       "    </tr>\n",
       "  </tbody>\n",
       "</table>\n",
       "</div>"
      ],
      "text/plain": [
       "               bucket_month  cohort_label    amount\n",
       "0 2023-02-01 00:00:00+00:00  Multiple RFs  0.657073"
      ]
     },
     "execution_count": 40,
     "metadata": {},
     "output_type": "execute_result"
    }
   ],
   "source": [
    "txns = (\n",
    "    df[df['event_type'] == 'Transactions (M)']\n",
    "    .groupby(['bucket_month','cohort_label'])\n",
    "    ['amount'].sum()\n",
    "    .reset_index()\n",
    ")\n",
    "txns.head(1)"
   ]
  },
  {
   "cell_type": "code",
   "execution_count": 56,
   "id": "e884e20b",
   "metadata": {},
   "outputs": [
    {
     "data": {
      "application/vnd.plotly.v1+json": {
       "config": {
        "plotlyServerURL": "https://plot.ly"
       },
       "data": [
        {
         "fillpattern": {
          "shape": ""
         },
         "hovertemplate": "cohort_label=Multiple RFs<br>bucket_month=%{x}<br>amount=%{y}<extra></extra>",
         "legendgroup": "Multiple RFs",
         "line": {
          "color": "purple",
          "width": 1
         },
         "marker": {
          "symbol": "circle"
         },
         "mode": "lines",
         "name": "Multiple RFs",
         "orientation": "v",
         "showlegend": true,
         "stackgroup": "1",
         "type": "scatter",
         "x": [
          "2023-02-01T00:00:00+00:00",
          "2023-03-01T00:00:00+00:00",
          "2023-04-01T00:00:00+00:00",
          "2023-05-01T00:00:00+00:00",
          "2023-06-01T00:00:00+00:00",
          "2023-07-01T00:00:00+00:00",
          "2023-08-01T00:00:00+00:00",
          "2023-09-01T00:00:00+00:00",
          "2023-10-01T00:00:00+00:00",
          "2023-11-01T00:00:00+00:00",
          "2023-12-01T00:00:00+00:00",
          "2024-01-01T00:00:00+00:00",
          "2024-02-01T00:00:00+00:00",
          "2024-03-01T00:00:00+00:00",
          "2024-04-01T00:00:00+00:00",
          "2024-05-01T00:00:00+00:00",
          "2024-06-01T00:00:00+00:00"
         ],
         "xaxis": "x",
         "y": [
          0.657073,
          0.8437129999999999,
          0.764794,
          0.967848,
          1.374762,
          1.599785,
          3.345937,
          2.682642,
          1.759183,
          1.548038,
          1.535273,
          1.354895,
          2.624121,
          4.551603,
          8.282748,
          9.022484,
          7.440652
         ],
         "yaxis": "y"
        },
        {
         "fillpattern": {
          "shape": ""
         },
         "hovertemplate": "cohort_label=Past RFs only<br>bucket_month=%{x}<br>amount=%{y}<extra></extra>",
         "legendgroup": "Past RFs only",
         "line": {
          "color": "cyan",
          "width": 1
         },
         "marker": {
          "symbol": "circle"
         },
         "mode": "lines",
         "name": "Past RFs only",
         "orientation": "v",
         "showlegend": true,
         "stackgroup": "1",
         "type": "scatter",
         "x": [
          "2023-02-01T00:00:00+00:00",
          "2023-03-01T00:00:00+00:00",
          "2023-04-01T00:00:00+00:00",
          "2023-05-01T00:00:00+00:00",
          "2023-06-01T00:00:00+00:00",
          "2023-07-01T00:00:00+00:00",
          "2023-08-01T00:00:00+00:00",
          "2023-09-01T00:00:00+00:00",
          "2023-10-01T00:00:00+00:00",
          "2023-11-01T00:00:00+00:00",
          "2023-12-01T00:00:00+00:00",
          "2024-01-01T00:00:00+00:00",
          "2024-02-01T00:00:00+00:00",
          "2024-03-01T00:00:00+00:00",
          "2024-04-01T00:00:00+00:00",
          "2024-05-01T00:00:00+00:00",
          "2024-06-01T00:00:00+00:00"
         ],
         "xaxis": "x",
         "y": [
          0.359801,
          0.355618,
          0.379885,
          0.725576,
          2.393444,
          2.579501,
          2.7044780000000004,
          0.697419,
          0.541486,
          0.40952,
          0.35129900000000003,
          0.40101,
          0.48036799999999996,
          0.610737,
          0.879348,
          0.650084,
          0.529088
         ],
         "yaxis": "y"
        },
        {
         "fillpattern": {
          "shape": ""
         },
         "hovertemplate": "cohort_label=RF4 only<br>bucket_month=%{x}<br>amount=%{y}<extra></extra>",
         "legendgroup": "RF4 only",
         "line": {
          "color": "#FF0420",
          "width": 1
         },
         "marker": {
          "symbol": "circle"
         },
         "mode": "lines",
         "name": "RF4 only",
         "orientation": "v",
         "showlegend": true,
         "stackgroup": "1",
         "type": "scatter",
         "x": [
          "2023-02-01T00:00:00+00:00",
          "2023-03-01T00:00:00+00:00",
          "2023-04-01T00:00:00+00:00",
          "2023-05-01T00:00:00+00:00",
          "2023-06-01T00:00:00+00:00",
          "2023-07-01T00:00:00+00:00",
          "2023-08-01T00:00:00+00:00",
          "2023-09-01T00:00:00+00:00",
          "2023-10-01T00:00:00+00:00",
          "2023-11-01T00:00:00+00:00",
          "2023-12-01T00:00:00+00:00",
          "2024-01-01T00:00:00+00:00",
          "2024-02-01T00:00:00+00:00",
          "2024-03-01T00:00:00+00:00",
          "2024-04-01T00:00:00+00:00",
          "2024-05-01T00:00:00+00:00",
          "2024-06-01T00:00:00+00:00"
         ],
         "xaxis": "x",
         "y": [
          1.11152,
          1.575511,
          4.89546,
          2.4929289999999997,
          4.091434,
          5.568621,
          7.299884,
          5.585534,
          4.155201,
          3.107458,
          3.814295,
          4.645268,
          5.513435,
          7.96932,
          13.227429,
          9.403259,
          9.868834
         ],
         "yaxis": "y"
        }
       ],
       "layout": {
        "legend": {
         "title": {
          "text": "Cohort"
         },
         "tracegroupgap": 0
        },
        "margin": {
         "t": 60
        },
        "paper_bgcolor": "white",
        "plot_bgcolor": "white",
        "template": {
         "data": {
          "bar": [
           {
            "error_x": {
             "color": "#2a3f5f"
            },
            "error_y": {
             "color": "#2a3f5f"
            },
            "marker": {
             "line": {
              "color": "#E5ECF6",
              "width": 0.5
             },
             "pattern": {
              "fillmode": "overlay",
              "size": 10,
              "solidity": 0.2
             }
            },
            "type": "bar"
           }
          ],
          "barpolar": [
           {
            "marker": {
             "line": {
              "color": "#E5ECF6",
              "width": 0.5
             },
             "pattern": {
              "fillmode": "overlay",
              "size": 10,
              "solidity": 0.2
             }
            },
            "type": "barpolar"
           }
          ],
          "carpet": [
           {
            "aaxis": {
             "endlinecolor": "#2a3f5f",
             "gridcolor": "white",
             "linecolor": "white",
             "minorgridcolor": "white",
             "startlinecolor": "#2a3f5f"
            },
            "baxis": {
             "endlinecolor": "#2a3f5f",
             "gridcolor": "white",
             "linecolor": "white",
             "minorgridcolor": "white",
             "startlinecolor": "#2a3f5f"
            },
            "type": "carpet"
           }
          ],
          "choropleth": [
           {
            "colorbar": {
             "outlinewidth": 0,
             "ticks": ""
            },
            "type": "choropleth"
           }
          ],
          "contour": [
           {
            "colorbar": {
             "outlinewidth": 0,
             "ticks": ""
            },
            "colorscale": [
             [
              0,
              "#0d0887"
             ],
             [
              0.1111111111111111,
              "#46039f"
             ],
             [
              0.2222222222222222,
              "#7201a8"
             ],
             [
              0.3333333333333333,
              "#9c179e"
             ],
             [
              0.4444444444444444,
              "#bd3786"
             ],
             [
              0.5555555555555556,
              "#d8576b"
             ],
             [
              0.6666666666666666,
              "#ed7953"
             ],
             [
              0.7777777777777778,
              "#fb9f3a"
             ],
             [
              0.8888888888888888,
              "#fdca26"
             ],
             [
              1,
              "#f0f921"
             ]
            ],
            "type": "contour"
           }
          ],
          "contourcarpet": [
           {
            "colorbar": {
             "outlinewidth": 0,
             "ticks": ""
            },
            "type": "contourcarpet"
           }
          ],
          "heatmap": [
           {
            "colorbar": {
             "outlinewidth": 0,
             "ticks": ""
            },
            "colorscale": [
             [
              0,
              "#0d0887"
             ],
             [
              0.1111111111111111,
              "#46039f"
             ],
             [
              0.2222222222222222,
              "#7201a8"
             ],
             [
              0.3333333333333333,
              "#9c179e"
             ],
             [
              0.4444444444444444,
              "#bd3786"
             ],
             [
              0.5555555555555556,
              "#d8576b"
             ],
             [
              0.6666666666666666,
              "#ed7953"
             ],
             [
              0.7777777777777778,
              "#fb9f3a"
             ],
             [
              0.8888888888888888,
              "#fdca26"
             ],
             [
              1,
              "#f0f921"
             ]
            ],
            "type": "heatmap"
           }
          ],
          "heatmapgl": [
           {
            "colorbar": {
             "outlinewidth": 0,
             "ticks": ""
            },
            "colorscale": [
             [
              0,
              "#0d0887"
             ],
             [
              0.1111111111111111,
              "#46039f"
             ],
             [
              0.2222222222222222,
              "#7201a8"
             ],
             [
              0.3333333333333333,
              "#9c179e"
             ],
             [
              0.4444444444444444,
              "#bd3786"
             ],
             [
              0.5555555555555556,
              "#d8576b"
             ],
             [
              0.6666666666666666,
              "#ed7953"
             ],
             [
              0.7777777777777778,
              "#fb9f3a"
             ],
             [
              0.8888888888888888,
              "#fdca26"
             ],
             [
              1,
              "#f0f921"
             ]
            ],
            "type": "heatmapgl"
           }
          ],
          "histogram": [
           {
            "marker": {
             "pattern": {
              "fillmode": "overlay",
              "size": 10,
              "solidity": 0.2
             }
            },
            "type": "histogram"
           }
          ],
          "histogram2d": [
           {
            "colorbar": {
             "outlinewidth": 0,
             "ticks": ""
            },
            "colorscale": [
             [
              0,
              "#0d0887"
             ],
             [
              0.1111111111111111,
              "#46039f"
             ],
             [
              0.2222222222222222,
              "#7201a8"
             ],
             [
              0.3333333333333333,
              "#9c179e"
             ],
             [
              0.4444444444444444,
              "#bd3786"
             ],
             [
              0.5555555555555556,
              "#d8576b"
             ],
             [
              0.6666666666666666,
              "#ed7953"
             ],
             [
              0.7777777777777778,
              "#fb9f3a"
             ],
             [
              0.8888888888888888,
              "#fdca26"
             ],
             [
              1,
              "#f0f921"
             ]
            ],
            "type": "histogram2d"
           }
          ],
          "histogram2dcontour": [
           {
            "colorbar": {
             "outlinewidth": 0,
             "ticks": ""
            },
            "colorscale": [
             [
              0,
              "#0d0887"
             ],
             [
              0.1111111111111111,
              "#46039f"
             ],
             [
              0.2222222222222222,
              "#7201a8"
             ],
             [
              0.3333333333333333,
              "#9c179e"
             ],
             [
              0.4444444444444444,
              "#bd3786"
             ],
             [
              0.5555555555555556,
              "#d8576b"
             ],
             [
              0.6666666666666666,
              "#ed7953"
             ],
             [
              0.7777777777777778,
              "#fb9f3a"
             ],
             [
              0.8888888888888888,
              "#fdca26"
             ],
             [
              1,
              "#f0f921"
             ]
            ],
            "type": "histogram2dcontour"
           }
          ],
          "mesh3d": [
           {
            "colorbar": {
             "outlinewidth": 0,
             "ticks": ""
            },
            "type": "mesh3d"
           }
          ],
          "parcoords": [
           {
            "line": {
             "colorbar": {
              "outlinewidth": 0,
              "ticks": ""
             }
            },
            "type": "parcoords"
           }
          ],
          "pie": [
           {
            "automargin": true,
            "type": "pie"
           }
          ],
          "scatter": [
           {
            "fillpattern": {
             "fillmode": "overlay",
             "size": 10,
             "solidity": 0.2
            },
            "type": "scatter"
           }
          ],
          "scatter3d": [
           {
            "line": {
             "colorbar": {
              "outlinewidth": 0,
              "ticks": ""
             }
            },
            "marker": {
             "colorbar": {
              "outlinewidth": 0,
              "ticks": ""
             }
            },
            "type": "scatter3d"
           }
          ],
          "scattercarpet": [
           {
            "marker": {
             "colorbar": {
              "outlinewidth": 0,
              "ticks": ""
             }
            },
            "type": "scattercarpet"
           }
          ],
          "scattergeo": [
           {
            "marker": {
             "colorbar": {
              "outlinewidth": 0,
              "ticks": ""
             }
            },
            "type": "scattergeo"
           }
          ],
          "scattergl": [
           {
            "marker": {
             "colorbar": {
              "outlinewidth": 0,
              "ticks": ""
             }
            },
            "type": "scattergl"
           }
          ],
          "scattermapbox": [
           {
            "marker": {
             "colorbar": {
              "outlinewidth": 0,
              "ticks": ""
             }
            },
            "type": "scattermapbox"
           }
          ],
          "scatterpolar": [
           {
            "marker": {
             "colorbar": {
              "outlinewidth": 0,
              "ticks": ""
             }
            },
            "type": "scatterpolar"
           }
          ],
          "scatterpolargl": [
           {
            "marker": {
             "colorbar": {
              "outlinewidth": 0,
              "ticks": ""
             }
            },
            "type": "scatterpolargl"
           }
          ],
          "scatterternary": [
           {
            "marker": {
             "colorbar": {
              "outlinewidth": 0,
              "ticks": ""
             }
            },
            "type": "scatterternary"
           }
          ],
          "surface": [
           {
            "colorbar": {
             "outlinewidth": 0,
             "ticks": ""
            },
            "colorscale": [
             [
              0,
              "#0d0887"
             ],
             [
              0.1111111111111111,
              "#46039f"
             ],
             [
              0.2222222222222222,
              "#7201a8"
             ],
             [
              0.3333333333333333,
              "#9c179e"
             ],
             [
              0.4444444444444444,
              "#bd3786"
             ],
             [
              0.5555555555555556,
              "#d8576b"
             ],
             [
              0.6666666666666666,
              "#ed7953"
             ],
             [
              0.7777777777777778,
              "#fb9f3a"
             ],
             [
              0.8888888888888888,
              "#fdca26"
             ],
             [
              1,
              "#f0f921"
             ]
            ],
            "type": "surface"
           }
          ],
          "table": [
           {
            "cells": {
             "fill": {
              "color": "#EBF0F8"
             },
             "line": {
              "color": "white"
             }
            },
            "header": {
             "fill": {
              "color": "#C8D4E3"
             },
             "line": {
              "color": "white"
             }
            },
            "type": "table"
           }
          ]
         },
         "layout": {
          "annotationdefaults": {
           "arrowcolor": "#2a3f5f",
           "arrowhead": 0,
           "arrowwidth": 1
          },
          "autotypenumbers": "strict",
          "coloraxis": {
           "colorbar": {
            "outlinewidth": 0,
            "ticks": ""
           }
          },
          "colorscale": {
           "diverging": [
            [
             0,
             "#8e0152"
            ],
            [
             0.1,
             "#c51b7d"
            ],
            [
             0.2,
             "#de77ae"
            ],
            [
             0.3,
             "#f1b6da"
            ],
            [
             0.4,
             "#fde0ef"
            ],
            [
             0.5,
             "#f7f7f7"
            ],
            [
             0.6,
             "#e6f5d0"
            ],
            [
             0.7,
             "#b8e186"
            ],
            [
             0.8,
             "#7fbc41"
            ],
            [
             0.9,
             "#4d9221"
            ],
            [
             1,
             "#276419"
            ]
           ],
           "sequential": [
            [
             0,
             "#0d0887"
            ],
            [
             0.1111111111111111,
             "#46039f"
            ],
            [
             0.2222222222222222,
             "#7201a8"
            ],
            [
             0.3333333333333333,
             "#9c179e"
            ],
            [
             0.4444444444444444,
             "#bd3786"
            ],
            [
             0.5555555555555556,
             "#d8576b"
            ],
            [
             0.6666666666666666,
             "#ed7953"
            ],
            [
             0.7777777777777778,
             "#fb9f3a"
            ],
            [
             0.8888888888888888,
             "#fdca26"
            ],
            [
             1,
             "#f0f921"
            ]
           ],
           "sequentialminus": [
            [
             0,
             "#0d0887"
            ],
            [
             0.1111111111111111,
             "#46039f"
            ],
            [
             0.2222222222222222,
             "#7201a8"
            ],
            [
             0.3333333333333333,
             "#9c179e"
            ],
            [
             0.4444444444444444,
             "#bd3786"
            ],
            [
             0.5555555555555556,
             "#d8576b"
            ],
            [
             0.6666666666666666,
             "#ed7953"
            ],
            [
             0.7777777777777778,
             "#fb9f3a"
            ],
            [
             0.8888888888888888,
             "#fdca26"
            ],
            [
             1,
             "#f0f921"
            ]
           ]
          },
          "colorway": [
           "#636efa",
           "#EF553B",
           "#00cc96",
           "#ab63fa",
           "#FFA15A",
           "#19d3f3",
           "#FF6692",
           "#B6E880",
           "#FF97FF",
           "#FECB52"
          ],
          "font": {
           "color": "#2a3f5f"
          },
          "geo": {
           "bgcolor": "white",
           "lakecolor": "white",
           "landcolor": "#E5ECF6",
           "showlakes": true,
           "showland": true,
           "subunitcolor": "white"
          },
          "hoverlabel": {
           "align": "left"
          },
          "hovermode": "closest",
          "mapbox": {
           "style": "light"
          },
          "paper_bgcolor": "white",
          "plot_bgcolor": "#E5ECF6",
          "polar": {
           "angularaxis": {
            "gridcolor": "white",
            "linecolor": "white",
            "ticks": ""
           },
           "bgcolor": "#E5ECF6",
           "radialaxis": {
            "gridcolor": "white",
            "linecolor": "white",
            "ticks": ""
           }
          },
          "scene": {
           "xaxis": {
            "backgroundcolor": "#E5ECF6",
            "gridcolor": "white",
            "gridwidth": 2,
            "linecolor": "white",
            "showbackground": true,
            "ticks": "",
            "zerolinecolor": "white"
           },
           "yaxis": {
            "backgroundcolor": "#E5ECF6",
            "gridcolor": "white",
            "gridwidth": 2,
            "linecolor": "white",
            "showbackground": true,
            "ticks": "",
            "zerolinecolor": "white"
           },
           "zaxis": {
            "backgroundcolor": "#E5ECF6",
            "gridcolor": "white",
            "gridwidth": 2,
            "linecolor": "white",
            "showbackground": true,
            "ticks": "",
            "zerolinecolor": "white"
           }
          },
          "shapedefaults": {
           "line": {
            "color": "#2a3f5f"
           }
          },
          "ternary": {
           "aaxis": {
            "gridcolor": "white",
            "linecolor": "white",
            "ticks": ""
           },
           "baxis": {
            "gridcolor": "white",
            "linecolor": "white",
            "ticks": ""
           },
           "bgcolor": "#E5ECF6",
           "caxis": {
            "gridcolor": "white",
            "linecolor": "white",
            "ticks": ""
           }
          },
          "title": {
           "x": 0.05
          },
          "xaxis": {
           "automargin": true,
           "gridcolor": "white",
           "linecolor": "white",
           "ticks": "",
           "title": {
            "standoff": 15
           },
           "zerolinecolor": "white",
           "zerolinewidth": 2
          },
          "yaxis": {
           "automargin": true,
           "gridcolor": "white",
           "linecolor": "white",
           "ticks": "",
           "title": {
            "standoff": 15
           },
           "zerolinecolor": "white",
           "zerolinewidth": 2
          }
         }
        },
        "xaxis": {
         "anchor": "y",
         "domain": [
          0,
          1
         ],
         "showgrid": true,
         "title": {
          "text": ""
         }
        },
        "yaxis": {
         "anchor": "x",
         "domain": [
          0,
          1
         ],
         "showgrid": true,
         "title": {
          "text": "Superchain Transactions (M)"
         }
        }
       }
      },
      "text/html": [
       "<div>                            <div id=\"5be3c8cc-9e05-44cc-a0e5-f6ae52261cfa\" class=\"plotly-graph-div\" style=\"height:525px; width:100%;\"></div>            <script type=\"text/javascript\">                require([\"plotly\"], function(Plotly) {                    window.PLOTLYENV=window.PLOTLYENV || {};                                    if (document.getElementById(\"5be3c8cc-9e05-44cc-a0e5-f6ae52261cfa\")) {                    Plotly.newPlot(                        \"5be3c8cc-9e05-44cc-a0e5-f6ae52261cfa\",                        [{\"fillpattern\":{\"shape\":\"\"},\"hovertemplate\":\"cohort_label=Multiple RFs<br>bucket_month=%{x}<br>amount=%{y}<extra></extra>\",\"legendgroup\":\"Multiple RFs\",\"line\":{\"color\":\"purple\",\"width\":1},\"marker\":{\"symbol\":\"circle\"},\"mode\":\"lines\",\"name\":\"Multiple RFs\",\"orientation\":\"v\",\"showlegend\":true,\"stackgroup\":\"1\",\"x\":[\"2023-02-01T00:00:00+00:00\",\"2023-03-01T00:00:00+00:00\",\"2023-04-01T00:00:00+00:00\",\"2023-05-01T00:00:00+00:00\",\"2023-06-01T00:00:00+00:00\",\"2023-07-01T00:00:00+00:00\",\"2023-08-01T00:00:00+00:00\",\"2023-09-01T00:00:00+00:00\",\"2023-10-01T00:00:00+00:00\",\"2023-11-01T00:00:00+00:00\",\"2023-12-01T00:00:00+00:00\",\"2024-01-01T00:00:00+00:00\",\"2024-02-01T00:00:00+00:00\",\"2024-03-01T00:00:00+00:00\",\"2024-04-01T00:00:00+00:00\",\"2024-05-01T00:00:00+00:00\",\"2024-06-01T00:00:00+00:00\"],\"xaxis\":\"x\",\"y\":[0.657073,0.8437129999999999,0.764794,0.967848,1.374762,1.599785,3.345937,2.682642,1.759183,1.548038,1.535273,1.354895,2.624121,4.551603,8.282748,9.022484,7.440652],\"yaxis\":\"y\",\"type\":\"scatter\"},{\"fillpattern\":{\"shape\":\"\"},\"hovertemplate\":\"cohort_label=Past RFs only<br>bucket_month=%{x}<br>amount=%{y}<extra></extra>\",\"legendgroup\":\"Past RFs only\",\"line\":{\"color\":\"cyan\",\"width\":1},\"marker\":{\"symbol\":\"circle\"},\"mode\":\"lines\",\"name\":\"Past RFs only\",\"orientation\":\"v\",\"showlegend\":true,\"stackgroup\":\"1\",\"x\":[\"2023-02-01T00:00:00+00:00\",\"2023-03-01T00:00:00+00:00\",\"2023-04-01T00:00:00+00:00\",\"2023-05-01T00:00:00+00:00\",\"2023-06-01T00:00:00+00:00\",\"2023-07-01T00:00:00+00:00\",\"2023-08-01T00:00:00+00:00\",\"2023-09-01T00:00:00+00:00\",\"2023-10-01T00:00:00+00:00\",\"2023-11-01T00:00:00+00:00\",\"2023-12-01T00:00:00+00:00\",\"2024-01-01T00:00:00+00:00\",\"2024-02-01T00:00:00+00:00\",\"2024-03-01T00:00:00+00:00\",\"2024-04-01T00:00:00+00:00\",\"2024-05-01T00:00:00+00:00\",\"2024-06-01T00:00:00+00:00\"],\"xaxis\":\"x\",\"y\":[0.359801,0.355618,0.379885,0.725576,2.393444,2.579501,2.7044780000000004,0.697419,0.541486,0.40952,0.35129900000000003,0.40101,0.48036799999999996,0.610737,0.879348,0.650084,0.529088],\"yaxis\":\"y\",\"type\":\"scatter\"},{\"fillpattern\":{\"shape\":\"\"},\"hovertemplate\":\"cohort_label=RF4 only<br>bucket_month=%{x}<br>amount=%{y}<extra></extra>\",\"legendgroup\":\"RF4 only\",\"line\":{\"color\":\"#FF0420\",\"width\":1},\"marker\":{\"symbol\":\"circle\"},\"mode\":\"lines\",\"name\":\"RF4 only\",\"orientation\":\"v\",\"showlegend\":true,\"stackgroup\":\"1\",\"x\":[\"2023-02-01T00:00:00+00:00\",\"2023-03-01T00:00:00+00:00\",\"2023-04-01T00:00:00+00:00\",\"2023-05-01T00:00:00+00:00\",\"2023-06-01T00:00:00+00:00\",\"2023-07-01T00:00:00+00:00\",\"2023-08-01T00:00:00+00:00\",\"2023-09-01T00:00:00+00:00\",\"2023-10-01T00:00:00+00:00\",\"2023-11-01T00:00:00+00:00\",\"2023-12-01T00:00:00+00:00\",\"2024-01-01T00:00:00+00:00\",\"2024-02-01T00:00:00+00:00\",\"2024-03-01T00:00:00+00:00\",\"2024-04-01T00:00:00+00:00\",\"2024-05-01T00:00:00+00:00\",\"2024-06-01T00:00:00+00:00\"],\"xaxis\":\"x\",\"y\":[1.11152,1.575511,4.89546,2.4929289999999997,4.091434,5.568621,7.299884,5.585534,4.155201,3.107458,3.814295,4.645268,5.513435,7.96932,13.227429,9.403259,9.868834],\"yaxis\":\"y\",\"type\":\"scatter\"}],                        {\"template\":{\"data\":{\"histogram2dcontour\":[{\"type\":\"histogram2dcontour\",\"colorbar\":{\"outlinewidth\":0,\"ticks\":\"\"},\"colorscale\":[[0.0,\"#0d0887\"],[0.1111111111111111,\"#46039f\"],[0.2222222222222222,\"#7201a8\"],[0.3333333333333333,\"#9c179e\"],[0.4444444444444444,\"#bd3786\"],[0.5555555555555556,\"#d8576b\"],[0.6666666666666666,\"#ed7953\"],[0.7777777777777778,\"#fb9f3a\"],[0.8888888888888888,\"#fdca26\"],[1.0,\"#f0f921\"]]}],\"choropleth\":[{\"type\":\"choropleth\",\"colorbar\":{\"outlinewidth\":0,\"ticks\":\"\"}}],\"histogram2d\":[{\"type\":\"histogram2d\",\"colorbar\":{\"outlinewidth\":0,\"ticks\":\"\"},\"colorscale\":[[0.0,\"#0d0887\"],[0.1111111111111111,\"#46039f\"],[0.2222222222222222,\"#7201a8\"],[0.3333333333333333,\"#9c179e\"],[0.4444444444444444,\"#bd3786\"],[0.5555555555555556,\"#d8576b\"],[0.6666666666666666,\"#ed7953\"],[0.7777777777777778,\"#fb9f3a\"],[0.8888888888888888,\"#fdca26\"],[1.0,\"#f0f921\"]]}],\"heatmap\":[{\"type\":\"heatmap\",\"colorbar\":{\"outlinewidth\":0,\"ticks\":\"\"},\"colorscale\":[[0.0,\"#0d0887\"],[0.1111111111111111,\"#46039f\"],[0.2222222222222222,\"#7201a8\"],[0.3333333333333333,\"#9c179e\"],[0.4444444444444444,\"#bd3786\"],[0.5555555555555556,\"#d8576b\"],[0.6666666666666666,\"#ed7953\"],[0.7777777777777778,\"#fb9f3a\"],[0.8888888888888888,\"#fdca26\"],[1.0,\"#f0f921\"]]}],\"heatmapgl\":[{\"type\":\"heatmapgl\",\"colorbar\":{\"outlinewidth\":0,\"ticks\":\"\"},\"colorscale\":[[0.0,\"#0d0887\"],[0.1111111111111111,\"#46039f\"],[0.2222222222222222,\"#7201a8\"],[0.3333333333333333,\"#9c179e\"],[0.4444444444444444,\"#bd3786\"],[0.5555555555555556,\"#d8576b\"],[0.6666666666666666,\"#ed7953\"],[0.7777777777777778,\"#fb9f3a\"],[0.8888888888888888,\"#fdca26\"],[1.0,\"#f0f921\"]]}],\"contourcarpet\":[{\"type\":\"contourcarpet\",\"colorbar\":{\"outlinewidth\":0,\"ticks\":\"\"}}],\"contour\":[{\"type\":\"contour\",\"colorbar\":{\"outlinewidth\":0,\"ticks\":\"\"},\"colorscale\":[[0.0,\"#0d0887\"],[0.1111111111111111,\"#46039f\"],[0.2222222222222222,\"#7201a8\"],[0.3333333333333333,\"#9c179e\"],[0.4444444444444444,\"#bd3786\"],[0.5555555555555556,\"#d8576b\"],[0.6666666666666666,\"#ed7953\"],[0.7777777777777778,\"#fb9f3a\"],[0.8888888888888888,\"#fdca26\"],[1.0,\"#f0f921\"]]}],\"surface\":[{\"type\":\"surface\",\"colorbar\":{\"outlinewidth\":0,\"ticks\":\"\"},\"colorscale\":[[0.0,\"#0d0887\"],[0.1111111111111111,\"#46039f\"],[0.2222222222222222,\"#7201a8\"],[0.3333333333333333,\"#9c179e\"],[0.4444444444444444,\"#bd3786\"],[0.5555555555555556,\"#d8576b\"],[0.6666666666666666,\"#ed7953\"],[0.7777777777777778,\"#fb9f3a\"],[0.8888888888888888,\"#fdca26\"],[1.0,\"#f0f921\"]]}],\"mesh3d\":[{\"type\":\"mesh3d\",\"colorbar\":{\"outlinewidth\":0,\"ticks\":\"\"}}],\"scatter\":[{\"fillpattern\":{\"fillmode\":\"overlay\",\"size\":10,\"solidity\":0.2},\"type\":\"scatter\"}],\"parcoords\":[{\"type\":\"parcoords\",\"line\":{\"colorbar\":{\"outlinewidth\":0,\"ticks\":\"\"}}}],\"scatterpolargl\":[{\"type\":\"scatterpolargl\",\"marker\":{\"colorbar\":{\"outlinewidth\":0,\"ticks\":\"\"}}}],\"bar\":[{\"error_x\":{\"color\":\"#2a3f5f\"},\"error_y\":{\"color\":\"#2a3f5f\"},\"marker\":{\"line\":{\"color\":\"#E5ECF6\",\"width\":0.5},\"pattern\":{\"fillmode\":\"overlay\",\"size\":10,\"solidity\":0.2}},\"type\":\"bar\"}],\"scattergeo\":[{\"type\":\"scattergeo\",\"marker\":{\"colorbar\":{\"outlinewidth\":0,\"ticks\":\"\"}}}],\"scatterpolar\":[{\"type\":\"scatterpolar\",\"marker\":{\"colorbar\":{\"outlinewidth\":0,\"ticks\":\"\"}}}],\"histogram\":[{\"marker\":{\"pattern\":{\"fillmode\":\"overlay\",\"size\":10,\"solidity\":0.2}},\"type\":\"histogram\"}],\"scattergl\":[{\"type\":\"scattergl\",\"marker\":{\"colorbar\":{\"outlinewidth\":0,\"ticks\":\"\"}}}],\"scatter3d\":[{\"type\":\"scatter3d\",\"line\":{\"colorbar\":{\"outlinewidth\":0,\"ticks\":\"\"}},\"marker\":{\"colorbar\":{\"outlinewidth\":0,\"ticks\":\"\"}}}],\"scattermapbox\":[{\"type\":\"scattermapbox\",\"marker\":{\"colorbar\":{\"outlinewidth\":0,\"ticks\":\"\"}}}],\"scatterternary\":[{\"type\":\"scatterternary\",\"marker\":{\"colorbar\":{\"outlinewidth\":0,\"ticks\":\"\"}}}],\"scattercarpet\":[{\"type\":\"scattercarpet\",\"marker\":{\"colorbar\":{\"outlinewidth\":0,\"ticks\":\"\"}}}],\"carpet\":[{\"aaxis\":{\"endlinecolor\":\"#2a3f5f\",\"gridcolor\":\"white\",\"linecolor\":\"white\",\"minorgridcolor\":\"white\",\"startlinecolor\":\"#2a3f5f\"},\"baxis\":{\"endlinecolor\":\"#2a3f5f\",\"gridcolor\":\"white\",\"linecolor\":\"white\",\"minorgridcolor\":\"white\",\"startlinecolor\":\"#2a3f5f\"},\"type\":\"carpet\"}],\"table\":[{\"cells\":{\"fill\":{\"color\":\"#EBF0F8\"},\"line\":{\"color\":\"white\"}},\"header\":{\"fill\":{\"color\":\"#C8D4E3\"},\"line\":{\"color\":\"white\"}},\"type\":\"table\"}],\"barpolar\":[{\"marker\":{\"line\":{\"color\":\"#E5ECF6\",\"width\":0.5},\"pattern\":{\"fillmode\":\"overlay\",\"size\":10,\"solidity\":0.2}},\"type\":\"barpolar\"}],\"pie\":[{\"automargin\":true,\"type\":\"pie\"}]},\"layout\":{\"autotypenumbers\":\"strict\",\"colorway\":[\"#636efa\",\"#EF553B\",\"#00cc96\",\"#ab63fa\",\"#FFA15A\",\"#19d3f3\",\"#FF6692\",\"#B6E880\",\"#FF97FF\",\"#FECB52\"],\"font\":{\"color\":\"#2a3f5f\"},\"hovermode\":\"closest\",\"hoverlabel\":{\"align\":\"left\"},\"paper_bgcolor\":\"white\",\"plot_bgcolor\":\"#E5ECF6\",\"polar\":{\"bgcolor\":\"#E5ECF6\",\"angularaxis\":{\"gridcolor\":\"white\",\"linecolor\":\"white\",\"ticks\":\"\"},\"radialaxis\":{\"gridcolor\":\"white\",\"linecolor\":\"white\",\"ticks\":\"\"}},\"ternary\":{\"bgcolor\":\"#E5ECF6\",\"aaxis\":{\"gridcolor\":\"white\",\"linecolor\":\"white\",\"ticks\":\"\"},\"baxis\":{\"gridcolor\":\"white\",\"linecolor\":\"white\",\"ticks\":\"\"},\"caxis\":{\"gridcolor\":\"white\",\"linecolor\":\"white\",\"ticks\":\"\"}},\"coloraxis\":{\"colorbar\":{\"outlinewidth\":0,\"ticks\":\"\"}},\"colorscale\":{\"sequential\":[[0.0,\"#0d0887\"],[0.1111111111111111,\"#46039f\"],[0.2222222222222222,\"#7201a8\"],[0.3333333333333333,\"#9c179e\"],[0.4444444444444444,\"#bd3786\"],[0.5555555555555556,\"#d8576b\"],[0.6666666666666666,\"#ed7953\"],[0.7777777777777778,\"#fb9f3a\"],[0.8888888888888888,\"#fdca26\"],[1.0,\"#f0f921\"]],\"sequentialminus\":[[0.0,\"#0d0887\"],[0.1111111111111111,\"#46039f\"],[0.2222222222222222,\"#7201a8\"],[0.3333333333333333,\"#9c179e\"],[0.4444444444444444,\"#bd3786\"],[0.5555555555555556,\"#d8576b\"],[0.6666666666666666,\"#ed7953\"],[0.7777777777777778,\"#fb9f3a\"],[0.8888888888888888,\"#fdca26\"],[1.0,\"#f0f921\"]],\"diverging\":[[0,\"#8e0152\"],[0.1,\"#c51b7d\"],[0.2,\"#de77ae\"],[0.3,\"#f1b6da\"],[0.4,\"#fde0ef\"],[0.5,\"#f7f7f7\"],[0.6,\"#e6f5d0\"],[0.7,\"#b8e186\"],[0.8,\"#7fbc41\"],[0.9,\"#4d9221\"],[1,\"#276419\"]]},\"xaxis\":{\"gridcolor\":\"white\",\"linecolor\":\"white\",\"ticks\":\"\",\"title\":{\"standoff\":15},\"zerolinecolor\":\"white\",\"automargin\":true,\"zerolinewidth\":2},\"yaxis\":{\"gridcolor\":\"white\",\"linecolor\":\"white\",\"ticks\":\"\",\"title\":{\"standoff\":15},\"zerolinecolor\":\"white\",\"automargin\":true,\"zerolinewidth\":2},\"scene\":{\"xaxis\":{\"backgroundcolor\":\"#E5ECF6\",\"gridcolor\":\"white\",\"linecolor\":\"white\",\"showbackground\":true,\"ticks\":\"\",\"zerolinecolor\":\"white\",\"gridwidth\":2},\"yaxis\":{\"backgroundcolor\":\"#E5ECF6\",\"gridcolor\":\"white\",\"linecolor\":\"white\",\"showbackground\":true,\"ticks\":\"\",\"zerolinecolor\":\"white\",\"gridwidth\":2},\"zaxis\":{\"backgroundcolor\":\"#E5ECF6\",\"gridcolor\":\"white\",\"linecolor\":\"white\",\"showbackground\":true,\"ticks\":\"\",\"zerolinecolor\":\"white\",\"gridwidth\":2}},\"shapedefaults\":{\"line\":{\"color\":\"#2a3f5f\"}},\"annotationdefaults\":{\"arrowcolor\":\"#2a3f5f\",\"arrowhead\":0,\"arrowwidth\":1},\"geo\":{\"bgcolor\":\"white\",\"landcolor\":\"#E5ECF6\",\"subunitcolor\":\"white\",\"showland\":true,\"showlakes\":true,\"lakecolor\":\"white\"},\"title\":{\"x\":0.05},\"mapbox\":{\"style\":\"light\"}}},\"xaxis\":{\"anchor\":\"y\",\"domain\":[0.0,1.0],\"title\":{\"text\":\"\"},\"showgrid\":true},\"yaxis\":{\"anchor\":\"x\",\"domain\":[0.0,1.0],\"title\":{\"text\":\"Superchain Transactions (M)\"},\"showgrid\":true},\"legend\":{\"title\":{\"text\":\"Cohort\"},\"tracegroupgap\":0},\"margin\":{\"t\":60},\"plot_bgcolor\":\"white\",\"paper_bgcolor\":\"white\"},                        {\"responsive\": true}                    ).then(function(){\n",
       "                            \n",
       "var gd = document.getElementById('5be3c8cc-9e05-44cc-a0e5-f6ae52261cfa');\n",
       "var x = new MutationObserver(function (mutations, observer) {{\n",
       "        var display = window.getComputedStyle(gd).display;\n",
       "        if (!display || display === 'none') {{\n",
       "            console.log([gd, 'removed!']);\n",
       "            Plotly.purge(gd);\n",
       "            observer.disconnect();\n",
       "        }}\n",
       "}});\n",
       "\n",
       "// Listen for the removal of the full notebook cells\n",
       "var notebookContainer = gd.closest('#notebook-container');\n",
       "if (notebookContainer) {{\n",
       "    x.observe(notebookContainer, {childList: true});\n",
       "}}\n",
       "\n",
       "// Listen for the clearing of the current output cell\n",
       "var outputEl = gd.closest('.output');\n",
       "if (outputEl) {{\n",
       "    x.observe(outputEl, {childList: true});\n",
       "}}\n",
       "\n",
       "                        })                };                });            </script>        </div>"
      ]
     },
     "metadata": {},
     "output_type": "display_data"
    }
   ],
   "source": [
    "fig = px.area(\n",
    "    data_frame=txns,\n",
    "    x='bucket_month',\n",
    "    y='amount',\n",
    "    color='cohort_label',\n",
    "    color_discrete_sequence=['purple', 'cyan', '#FF0420'],\n",
    ")\n",
    "fig.update_layout(\n",
    "    xaxis=dict(showgrid=True, title=''),\n",
    "    yaxis=dict(showgrid=True, title='Superchain Transactions (M)'),\n",
    "    legend=dict(title='Cohort'),\n",
    "    plot_bgcolor='white',\n",
    "    paper_bgcolor='white'\n",
    ")\n",
    "fig.update_traces(line=dict(width=1))"
   ]
  },
  {
   "cell_type": "code",
   "execution_count": 16,
   "id": "2e980a27-023d-4d53-be66-aae6ceedae38",
   "metadata": {},
   "outputs": [
    {
     "data": {
      "text/html": [
       "<div>\n",
       "<style scoped>\n",
       "    .dataframe tbody tr th:only-of-type {\n",
       "        vertical-align: middle;\n",
       "    }\n",
       "\n",
       "    .dataframe tbody tr th {\n",
       "        vertical-align: top;\n",
       "    }\n",
       "\n",
       "    .dataframe thead tr th {\n",
       "        text-align: left;\n",
       "    }\n",
       "\n",
       "    .dataframe thead tr:last-of-type th {\n",
       "        text-align: right;\n",
       "    }\n",
       "</style>\n",
       "<table border=\"1\" class=\"dataframe\">\n",
       "  <thead>\n",
       "    <tr>\n",
       "      <th>event_type</th>\n",
       "      <th colspan=\"2\" halign=\"left\">Code Commits (K)</th>\n",
       "      <th colspan=\"2\" halign=\"left\">Gas Fees (ETH)</th>\n",
       "      <th colspan=\"2\" halign=\"left\">Transactions (M)</th>\n",
       "    </tr>\n",
       "    <tr>\n",
       "      <th>time_interval</th>\n",
       "      <th>RF3 window</th>\n",
       "      <th>RF4 window</th>\n",
       "      <th>RF3 window</th>\n",
       "      <th>RF4 window</th>\n",
       "      <th>RF3 window</th>\n",
       "      <th>RF4 window</th>\n",
       "    </tr>\n",
       "    <tr>\n",
       "      <th>cohort_label</th>\n",
       "      <th></th>\n",
       "      <th></th>\n",
       "      <th></th>\n",
       "      <th></th>\n",
       "      <th></th>\n",
       "      <th></th>\n",
       "    </tr>\n",
       "  </thead>\n",
       "  <tbody>\n",
       "    <tr>\n",
       "      <th>RF4 only</th>\n",
       "      <td>58</td>\n",
       "      <td>59</td>\n",
       "      <td>701</td>\n",
       "      <td>1349</td>\n",
       "      <td>33</td>\n",
       "      <td>58</td>\n",
       "    </tr>\n",
       "    <tr>\n",
       "      <th>Multiple RFs</th>\n",
       "      <td>47</td>\n",
       "      <td>49</td>\n",
       "      <td>355</td>\n",
       "      <td>1018</td>\n",
       "      <td>12</td>\n",
       "      <td>24</td>\n",
       "    </tr>\n",
       "    <tr>\n",
       "      <th>Past RFs only</th>\n",
       "      <td>24</td>\n",
       "      <td>21</td>\n",
       "      <td>119</td>\n",
       "      <td>109</td>\n",
       "      <td>10</td>\n",
       "      <td>4</td>\n",
       "    </tr>\n",
       "  </tbody>\n",
       "</table>\n",
       "</div>"
      ],
      "text/plain": [
       "event_type    Code Commits (K)            Gas Fees (ETH)             \\\n",
       "time_interval       RF3 window RF4 window     RF3 window RF4 window   \n",
       "cohort_label                                                          \n",
       "RF4 only                    58         59            701       1349   \n",
       "Multiple RFs                47         49            355       1018   \n",
       "Past RFs only               24         21            119        109   \n",
       "\n",
       "event_type    Transactions (M)             \n",
       "time_interval       RF3 window RF4 window  \n",
       "cohort_label                               \n",
       "RF4 only                    33         58  \n",
       "Multiple RFs                12         24  \n",
       "Past RFs only               10          4  "
      ]
     },
     "execution_count": 16,
     "metadata": {},
     "output_type": "execute_result"
    }
   ],
   "source": [
    "(\n",
    "    df[\n",
    "        (df['time_interval'].isin(['RF4 window', 'RF3 window']))\n",
    "        & (df['project_id'].isin(onchain_projects))\n",
    "      ]\n",
    "    .pivot_table(\n",
    "        index='cohort_label',\n",
    "        columns=['event_type', 'time_interval'],\n",
    "        values='amount',\n",
    "        aggfunc='sum')\n",
    "    .applymap(round)\n",
    "    .reindex(['RF4 only', 'Multiple RFs', 'Past RFs only'])\n",
    ")"
   ]
  },
  {
   "cell_type": "code",
   "execution_count": 17,
   "id": "f896c3a7",
   "metadata": {},
   "outputs": [],
   "source": [
    "pvt = (\n",
    "    df[\n",
    "        (df['time_interval'].isin(['RF4 window', 'RF3 window']))\n",
    "        & (df['project_id'].isin(onchain_projects))\n",
    "      ]\n",
    "    .pivot_table(\n",
    "        index=['cohort_label', 'project_name'],\n",
    "        columns=['event_type', 'time_interval'],\n",
    "        values='amount',\n",
    "        aggfunc='sum', \n",
    "        fill_value=0\n",
    "    )\n",
    ")"
   ]
  },
  {
   "cell_type": "code",
   "execution_count": 18,
   "id": "57278020",
   "metadata": {},
   "outputs": [
    {
     "data": {
      "text/html": [
       "<div>\n",
       "<style scoped>\n",
       "    .dataframe tbody tr th:only-of-type {\n",
       "        vertical-align: middle;\n",
       "    }\n",
       "\n",
       "    .dataframe tbody tr th {\n",
       "        vertical-align: top;\n",
       "    }\n",
       "\n",
       "    .dataframe thead tr th {\n",
       "        text-align: left;\n",
       "    }\n",
       "\n",
       "    .dataframe thead tr:last-of-type th {\n",
       "        text-align: right;\n",
       "    }\n",
       "</style>\n",
       "<table border=\"1\" class=\"dataframe\">\n",
       "  <thead>\n",
       "    <tr>\n",
       "      <th></th>\n",
       "      <th>event_type</th>\n",
       "      <th colspan=\"2\" halign=\"left\">Code Commits (K)</th>\n",
       "      <th colspan=\"2\" halign=\"left\">Gas Fees (ETH)</th>\n",
       "      <th colspan=\"2\" halign=\"left\">Transactions (M)</th>\n",
       "    </tr>\n",
       "    <tr>\n",
       "      <th></th>\n",
       "      <th>time_interval</th>\n",
       "      <th>RF3 window</th>\n",
       "      <th>RF4 window</th>\n",
       "      <th>RF3 window</th>\n",
       "      <th>RF4 window</th>\n",
       "      <th>RF3 window</th>\n",
       "      <th>RF4 window</th>\n",
       "    </tr>\n",
       "    <tr>\n",
       "      <th>cohort_label</th>\n",
       "      <th>project_name</th>\n",
       "      <th></th>\n",
       "      <th></th>\n",
       "      <th></th>\n",
       "      <th></th>\n",
       "      <th></th>\n",
       "      <th></th>\n",
       "    </tr>\n",
       "  </thead>\n",
       "  <tbody>\n",
       "    <tr>\n",
       "      <th rowspan=\"5\" valign=\"top\">Multiple RFs</th>\n",
       "      <th>0x-splits</th>\n",
       "      <td>0.399</td>\n",
       "      <td>0.296</td>\n",
       "      <td>0.006573</td>\n",
       "      <td>0.197686</td>\n",
       "      <td>0.000766</td>\n",
       "      <td>0.011147</td>\n",
       "    </tr>\n",
       "    <tr>\n",
       "      <th>across</th>\n",
       "      <td>0.796</td>\n",
       "      <td>1.125</td>\n",
       "      <td>3.063905</td>\n",
       "      <td>26.091997</td>\n",
       "      <td>0.124029</td>\n",
       "      <td>1.036695</td>\n",
       "    </tr>\n",
       "    <tr>\n",
       "      <th>aerodrome-finance</th>\n",
       "      <td>0.001</td>\n",
       "      <td>0.041</td>\n",
       "      <td>7.888162</td>\n",
       "      <td>118.941636</td>\n",
       "      <td>0.302434</td>\n",
       "      <td>3.958043</td>\n",
       "    </tr>\n",
       "    <tr>\n",
       "      <th>buidlguidl</th>\n",
       "      <td>0.709</td>\n",
       "      <td>1.483</td>\n",
       "      <td>0.000071</td>\n",
       "      <td>0.407910</td>\n",
       "      <td>0.000027</td>\n",
       "      <td>0.024952</td>\n",
       "    </tr>\n",
       "    <tr>\n",
       "      <th>coordinape</th>\n",
       "      <td>0.485</td>\n",
       "      <td>0.553</td>\n",
       "      <td>0.432166</td>\n",
       "      <td>0.245044</td>\n",
       "      <td>0.042617</td>\n",
       "      <td>0.038769</td>\n",
       "    </tr>\n",
       "    <tr>\n",
       "      <th>...</th>\n",
       "      <th>...</th>\n",
       "      <td>...</td>\n",
       "      <td>...</td>\n",
       "      <td>...</td>\n",
       "      <td>...</td>\n",
       "      <td>...</td>\n",
       "      <td>...</td>\n",
       "    </tr>\n",
       "    <tr>\n",
       "      <th rowspan=\"5\" valign=\"top\">RF4 only</th>\n",
       "      <th>zerion</th>\n",
       "      <td>0.034</td>\n",
       "      <td>0.185</td>\n",
       "      <td>0.571975</td>\n",
       "      <td>3.962016</td>\n",
       "      <td>0.058307</td>\n",
       "      <td>0.121741</td>\n",
       "    </tr>\n",
       "    <tr>\n",
       "      <th>zerius-io</th>\n",
       "      <td>0.000</td>\n",
       "      <td>0.030</td>\n",
       "      <td>0.000000</td>\n",
       "      <td>1.110249</td>\n",
       "      <td>0.000000</td>\n",
       "      <td>0.139076</td>\n",
       "    </tr>\n",
       "    <tr>\n",
       "      <th>zkbob</th>\n",
       "      <td>0.612</td>\n",
       "      <td>0.136</td>\n",
       "      <td>0.224327</td>\n",
       "      <td>0.377364</td>\n",
       "      <td>0.006254</td>\n",
       "      <td>0.018175</td>\n",
       "    </tr>\n",
       "    <tr>\n",
       "      <th>zkp2p</th>\n",
       "      <td>0.239</td>\n",
       "      <td>0.559</td>\n",
       "      <td>0.000000</td>\n",
       "      <td>0.031382</td>\n",
       "      <td>0.000000</td>\n",
       "      <td>0.001761</td>\n",
       "    </tr>\n",
       "    <tr>\n",
       "      <th>zwergdev-whale-bridge</th>\n",
       "      <td>0.000</td>\n",
       "      <td>0.005</td>\n",
       "      <td>0.000000</td>\n",
       "      <td>0.428838</td>\n",
       "      <td>0.000000</td>\n",
       "      <td>0.038876</td>\n",
       "    </tr>\n",
       "  </tbody>\n",
       "</table>\n",
       "<p>272 rows × 6 columns</p>\n",
       "</div>"
      ],
      "text/plain": [
       "event_type                         Code Commits (K)            Gas Fees (ETH)  \\\n",
       "time_interval                            RF3 window RF4 window     RF3 window   \n",
       "cohort_label project_name                                                       \n",
       "Multiple RFs 0x-splits                        0.399      0.296       0.006573   \n",
       "             across                           0.796      1.125       3.063905   \n",
       "             aerodrome-finance                0.001      0.041       7.888162   \n",
       "             buidlguidl                       0.709      1.483       0.000071   \n",
       "             coordinape                       0.485      0.553       0.432166   \n",
       "...                                             ...        ...            ...   \n",
       "RF4 only     zerion                           0.034      0.185       0.571975   \n",
       "             zerius-io                        0.000      0.030       0.000000   \n",
       "             zkbob                            0.612      0.136       0.224327   \n",
       "             zkp2p                            0.239      0.559       0.000000   \n",
       "             zwergdev-whale-bridge            0.000      0.005       0.000000   \n",
       "\n",
       "event_type                                     Transactions (M)             \n",
       "time_interval                       RF4 window       RF3 window RF4 window  \n",
       "cohort_label project_name                                                   \n",
       "Multiple RFs 0x-splits                0.197686         0.000766   0.011147  \n",
       "             across                  26.091997         0.124029   1.036695  \n",
       "             aerodrome-finance      118.941636         0.302434   3.958043  \n",
       "             buidlguidl               0.407910         0.000027   0.024952  \n",
       "             coordinape               0.245044         0.042617   0.038769  \n",
       "...                                        ...              ...        ...  \n",
       "RF4 only     zerion                   3.962016         0.058307   0.121741  \n",
       "             zerius-io                1.110249         0.000000   0.139076  \n",
       "             zkbob                    0.377364         0.006254   0.018175  \n",
       "             zkp2p                    0.031382         0.000000   0.001761  \n",
       "             zwergdev-whale-bridge    0.428838         0.000000   0.038876  \n",
       "\n",
       "[272 rows x 6 columns]"
      ]
     },
     "execution_count": 18,
     "metadata": {},
     "output_type": "execute_result"
    }
   ],
   "source": [
    "pvt"
   ]
  },
  {
   "cell_type": "code",
   "execution_count": 57,
   "id": "4a55da68",
   "metadata": {},
   "outputs": [
    {
     "data": {
      "text/html": [
       "<div>\n",
       "<style scoped>\n",
       "    .dataframe tbody tr th:only-of-type {\n",
       "        vertical-align: middle;\n",
       "    }\n",
       "\n",
       "    .dataframe tbody tr th {\n",
       "        vertical-align: top;\n",
       "    }\n",
       "\n",
       "    .dataframe thead tr th {\n",
       "        text-align: left;\n",
       "    }\n",
       "\n",
       "    .dataframe thead tr:last-of-type th {\n",
       "        text-align: right;\n",
       "    }\n",
       "</style>\n",
       "<table border=\"1\" class=\"dataframe\">\n",
       "  <thead>\n",
       "    <tr>\n",
       "      <th></th>\n",
       "      <th>event_type</th>\n",
       "      <th colspan=\"2\" halign=\"left\">Code Commits (K)</th>\n",
       "      <th colspan=\"2\" halign=\"left\">Gas Fees (ETH)</th>\n",
       "      <th colspan=\"2\" halign=\"left\">Transactions (M)</th>\n",
       "    </tr>\n",
       "    <tr>\n",
       "      <th></th>\n",
       "      <th>time_interval</th>\n",
       "      <th>RF3 window</th>\n",
       "      <th>RF4 window</th>\n",
       "      <th>RF3 window</th>\n",
       "      <th>RF4 window</th>\n",
       "      <th>RF3 window</th>\n",
       "      <th>RF4 window</th>\n",
       "    </tr>\n",
       "    <tr>\n",
       "      <th>cohort_label</th>\n",
       "      <th>project_name</th>\n",
       "      <th></th>\n",
       "      <th></th>\n",
       "      <th></th>\n",
       "      <th></th>\n",
       "      <th></th>\n",
       "      <th></th>\n",
       "    </tr>\n",
       "  </thead>\n",
       "  <tbody>\n",
       "    <tr>\n",
       "      <th rowspan=\"5\" valign=\"top\">Multiple RFs</th>\n",
       "      <th>0x-splits</th>\n",
       "      <td>0.399</td>\n",
       "      <td>0.296</td>\n",
       "      <td>0.006573</td>\n",
       "      <td>0.197686</td>\n",
       "      <td>0.000766</td>\n",
       "      <td>0.011147</td>\n",
       "    </tr>\n",
       "    <tr>\n",
       "      <th>across</th>\n",
       "      <td>0.796</td>\n",
       "      <td>1.125</td>\n",
       "      <td>3.063905</td>\n",
       "      <td>26.091997</td>\n",
       "      <td>0.124029</td>\n",
       "      <td>1.036695</td>\n",
       "    </tr>\n",
       "    <tr>\n",
       "      <th>aerodrome-finance</th>\n",
       "      <td>0.001</td>\n",
       "      <td>0.041</td>\n",
       "      <td>7.888162</td>\n",
       "      <td>118.941636</td>\n",
       "      <td>0.302434</td>\n",
       "      <td>3.958043</td>\n",
       "    </tr>\n",
       "    <tr>\n",
       "      <th>buidlguidl</th>\n",
       "      <td>0.709</td>\n",
       "      <td>1.483</td>\n",
       "      <td>0.000071</td>\n",
       "      <td>0.407910</td>\n",
       "      <td>0.000027</td>\n",
       "      <td>0.024952</td>\n",
       "    </tr>\n",
       "    <tr>\n",
       "      <th>coordinape</th>\n",
       "      <td>0.485</td>\n",
       "      <td>0.553</td>\n",
       "      <td>0.432166</td>\n",
       "      <td>0.245044</td>\n",
       "      <td>0.042617</td>\n",
       "      <td>0.038769</td>\n",
       "    </tr>\n",
       "    <tr>\n",
       "      <th>...</th>\n",
       "      <th>...</th>\n",
       "      <td>...</td>\n",
       "      <td>...</td>\n",
       "      <td>...</td>\n",
       "      <td>...</td>\n",
       "      <td>...</td>\n",
       "      <td>...</td>\n",
       "    </tr>\n",
       "    <tr>\n",
       "      <th rowspan=\"5\" valign=\"top\">RF4 only</th>\n",
       "      <th>zerion</th>\n",
       "      <td>0.034</td>\n",
       "      <td>0.185</td>\n",
       "      <td>0.571975</td>\n",
       "      <td>3.962016</td>\n",
       "      <td>0.058307</td>\n",
       "      <td>0.121741</td>\n",
       "    </tr>\n",
       "    <tr>\n",
       "      <th>zerius-io</th>\n",
       "      <td>0.000</td>\n",
       "      <td>0.030</td>\n",
       "      <td>0.000000</td>\n",
       "      <td>1.110249</td>\n",
       "      <td>0.000000</td>\n",
       "      <td>0.139076</td>\n",
       "    </tr>\n",
       "    <tr>\n",
       "      <th>zkbob</th>\n",
       "      <td>0.612</td>\n",
       "      <td>0.136</td>\n",
       "      <td>0.224327</td>\n",
       "      <td>0.377364</td>\n",
       "      <td>0.006254</td>\n",
       "      <td>0.018175</td>\n",
       "    </tr>\n",
       "    <tr>\n",
       "      <th>zkp2p</th>\n",
       "      <td>0.239</td>\n",
       "      <td>0.559</td>\n",
       "      <td>0.000000</td>\n",
       "      <td>0.031382</td>\n",
       "      <td>0.000000</td>\n",
       "      <td>0.001761</td>\n",
       "    </tr>\n",
       "    <tr>\n",
       "      <th>zwergdev-whale-bridge</th>\n",
       "      <td>0.000</td>\n",
       "      <td>0.005</td>\n",
       "      <td>0.000000</td>\n",
       "      <td>0.428838</td>\n",
       "      <td>0.000000</td>\n",
       "      <td>0.038876</td>\n",
       "    </tr>\n",
       "  </tbody>\n",
       "</table>\n",
       "<p>272 rows × 6 columns</p>\n",
       "</div>"
      ],
      "text/plain": [
       "event_type                         Code Commits (K)            Gas Fees (ETH)  \\\n",
       "time_interval                            RF3 window RF4 window     RF3 window   \n",
       "cohort_label project_name                                                       \n",
       "Multiple RFs 0x-splits                        0.399      0.296       0.006573   \n",
       "             across                           0.796      1.125       3.063905   \n",
       "             aerodrome-finance                0.001      0.041       7.888162   \n",
       "             buidlguidl                       0.709      1.483       0.000071   \n",
       "             coordinape                       0.485      0.553       0.432166   \n",
       "...                                             ...        ...            ...   \n",
       "RF4 only     zerion                           0.034      0.185       0.571975   \n",
       "             zerius-io                        0.000      0.030       0.000000   \n",
       "             zkbob                            0.612      0.136       0.224327   \n",
       "             zkp2p                            0.239      0.559       0.000000   \n",
       "             zwergdev-whale-bridge            0.000      0.005       0.000000   \n",
       "\n",
       "event_type                                     Transactions (M)             \n",
       "time_interval                       RF4 window       RF3 window RF4 window  \n",
       "cohort_label project_name                                                   \n",
       "Multiple RFs 0x-splits                0.197686         0.000766   0.011147  \n",
       "             across                  26.091997         0.124029   1.036695  \n",
       "             aerodrome-finance      118.941636         0.302434   3.958043  \n",
       "             buidlguidl               0.407910         0.000027   0.024952  \n",
       "             coordinape               0.245044         0.042617   0.038769  \n",
       "...                                        ...              ...        ...  \n",
       "RF4 only     zerion                   3.962016         0.058307   0.121741  \n",
       "             zerius-io                1.110249         0.000000   0.139076  \n",
       "             zkbob                    0.377364         0.006254   0.018175  \n",
       "             zkp2p                    0.031382         0.000000   0.001761  \n",
       "             zwergdev-whale-bridge    0.428838         0.000000   0.038876  \n",
       "\n",
       "[272 rows x 6 columns]"
      ]
     },
     "execution_count": 57,
     "metadata": {},
     "output_type": "execute_result"
    }
   ],
   "source": [
    "pvt"
   ]
  },
  {
   "cell_type": "code",
   "execution_count": null,
   "id": "33b888f4",
   "metadata": {},
   "outputs": [],
   "source": []
  }
 ],
 "metadata": {
  "kernelspec": {
   "display_name": "Python 3 (ipykernel)",
   "language": "python",
   "name": "python3"
  },
  "language_info": {
   "codemirror_mode": {
    "name": "ipython",
    "version": 3
   },
   "file_extension": ".py",
   "mimetype": "text/x-python",
   "name": "python",
   "nbconvert_exporter": "python",
   "pygments_lexer": "ipython3",
   "version": "3.11.5"
  }
 },
 "nbformat": 4,
 "nbformat_minor": 5
}
