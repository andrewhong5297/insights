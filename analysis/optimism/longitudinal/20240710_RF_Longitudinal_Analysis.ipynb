{
 "cells": [
  {
   "cell_type": "code",
   "execution_count": 1,
   "id": "43897f09",
   "metadata": {},
   "outputs": [],
   "source": [
    "from google.cloud import bigquery\n",
    "import os\n",
    "import pandas as pd\n",
    "import plotly.express as px\n",
    "import sys\n",
    "\n",
    "sys.path.append('../../../visualizations/')\n",
    "os.environ['GOOGLE_APPLICATION_CREDENTIALS'] = '../../../gcp_credentials.json'\n",
    "\n",
    "from venn_diagram import venn3_diagram\n",
    "\n",
    "client = bigquery.Client()"
   ]
  },
  {
   "cell_type": "markdown",
   "id": "a2946316",
   "metadata": {},
   "source": [
    "# Get projects by cohort"
   ]
  },
  {
   "cell_type": "code",
   "execution_count": 13,
   "id": "7885d302",
   "metadata": {},
   "outputs": [],
   "source": [
    "query = \"\"\"\n",
    "    select\n",
    "      project_id,\n",
    "      project_name,\n",
    "      collection_name\n",
    "    from `opensource-observer.oso.projects_by_collection_v1`\n",
    "\"\"\"\n",
    "projects_by_collection = client.query(query).to_dataframe()"
   ]
  },
  {
   "cell_type": "code",
   "execution_count": 14,
   "id": "1e19f897-6597-4a2c-97bb-381880ac2ee3",
   "metadata": {},
   "outputs": [],
   "source": [
    "collections = {}\n",
    "for _,row in projects_by_collection.iterrows():\n",
    "    c = row['collection_name'] \n",
    "    if c not in collections:\n",
    "        collections.update({c:[]})\n",
    "    collections[c].append(row['project_id'])\n",
    "collections = {x:set(y) for x,y in collections.items()}"
   ]
  },
  {
   "cell_type": "code",
   "execution_count": 15,
   "id": "a6ec6f8b-aa0f-40a1-8a5a-a17d09dc29b9",
   "metadata": {},
   "outputs": [
    {
     "data": {
      "text/plain": [
       "1507"
      ]
     },
     "execution_count": 15,
     "metadata": {},
     "output_type": "execute_result"
    }
   ],
   "source": [
    "projects = (\n",
    "    projects_by_collection[['project_id', 'project_name']]\n",
    "    .drop_duplicates()\n",
    "    .set_index('project_id')['project_name']\n",
    "    .to_dict()\n",
    ")\n",
    "project_list = list(projects.keys())\n",
    "project_list_str = \"'\" + \"','\".join(project_list) + \"'\"\n",
    "len(project_list)"
   ]
  },
  {
   "cell_type": "code",
   "execution_count": 16,
   "id": "5f3bafbc",
   "metadata": {},
   "outputs": [],
   "source": [
    "for pid,pname in projects.items():\n",
    "    if pname in ['layer3xyz', 'multicaller-vectorized']:\n",
    "        collections['op-rpgf3'].add(pid)"
   ]
  },
  {
   "cell_type": "markdown",
   "id": "0dc34342-acac-4909-b8e3-38bc05f1e17f",
   "metadata": {},
   "source": [
    "# Get project events"
   ]
  },
  {
   "cell_type": "code",
   "execution_count": 17,
   "id": "3eb230c5-cfea-4c5d-8f0d-2945a68912de",
   "metadata": {},
   "outputs": [],
   "source": [
    "query = f\"\"\"\n",
    "    with metrics as (\n",
    "      select * from `oso.int_code_metric__bus_factor`\n",
    "      union all\n",
    "      select * from `oso.int_code_metric__commits_prs_issues`\n",
    "      union all\n",
    "      select * from `oso.int_code_metric__active_developers`\n",
    "      union all\n",
    "      select * from `oso.int_code_metric__contributors`\n",
    "      union all\n",
    "      select * from `oso.int_code_metric__new_contributors`\n",
    "      union all\n",
    "      select * from `oso.int_code_metric__fulltime_developers_average`\n",
    "    )\n",
    "\n",
    "    select * from metrics\n",
    "\"\"\"\n",
    "#metrics = client.query(query)"
   ]
  },
  {
   "cell_type": "code",
   "execution_count": 18,
   "id": "5e37c358-5ade-4621-93da-84718f074cbc",
   "metadata": {},
   "outputs": [
    {
     "data": {
      "text/html": [
       "<div>\n",
       "<style scoped>\n",
       "    .dataframe tbody tr th:only-of-type {\n",
       "        vertical-align: middle;\n",
       "    }\n",
       "\n",
       "    .dataframe tbody tr th {\n",
       "        vertical-align: top;\n",
       "    }\n",
       "\n",
       "    .dataframe thead th {\n",
       "        text-align: right;\n",
       "    }\n",
       "</style>\n",
       "<table border=\"1\" class=\"dataframe\">\n",
       "  <thead>\n",
       "    <tr style=\"text-align: right;\">\n",
       "      <th></th>\n",
       "      <th>project_id</th>\n",
       "      <th>event_source</th>\n",
       "      <th>time_interval</th>\n",
       "      <th>metric</th>\n",
       "      <th>amount</th>\n",
       "    </tr>\n",
       "  </thead>\n",
       "  <tbody>\n",
       "    <tr>\n",
       "      <th>62151</th>\n",
       "      <td>2Ml1RLRnwPl8cfHkrEmKa4eBEsV5eJZUEtW0LsU9bqM=</td>\n",
       "      <td>GITHUB</td>\n",
       "      <td>6 MONTHS</td>\n",
       "      <td>issue_closed_count</td>\n",
       "      <td>1.0</td>\n",
       "    </tr>\n",
       "  </tbody>\n",
       "</table>\n",
       "</div>"
      ],
      "text/plain": [
       "                                         project_id event_source  \\\n",
       "62151  2Ml1RLRnwPl8cfHkrEmKa4eBEsV5eJZUEtW0LsU9bqM=       GITHUB   \n",
       "\n",
       "      time_interval              metric  amount  \n",
       "62151      6 MONTHS  issue_closed_count     1.0  "
      ]
     },
     "execution_count": 18,
     "metadata": {},
     "output_type": "execute_result"
    }
   ],
   "source": [
    "metrics = pd.read_csv('data/code_metrics_by_project.csv')\n",
    "metrics.tail(1)"
   ]
  },
  {
   "cell_type": "markdown",
   "id": "ad6e54ee",
   "metadata": {},
   "source": [
    "# Analyze cohort performance"
   ]
  },
  {
   "cell_type": "code",
   "execution_count": 19,
   "id": "1110de4c-c3f6-4b85-a82a-6c0eb8c0e310",
   "metadata": {},
   "outputs": [
    {
     "data": {
      "text/html": [
       "<div>\n",
       "<style scoped>\n",
       "    .dataframe tbody tr th:only-of-type {\n",
       "        vertical-align: middle;\n",
       "    }\n",
       "\n",
       "    .dataframe tbody tr th {\n",
       "        vertical-align: top;\n",
       "    }\n",
       "\n",
       "    .dataframe thead th {\n",
       "        text-align: right;\n",
       "    }\n",
       "</style>\n",
       "<table border=\"1\" class=\"dataframe\">\n",
       "  <thead>\n",
       "    <tr style=\"text-align: right;\">\n",
       "      <th></th>\n",
       "      <th>project_id</th>\n",
       "      <th>event_source</th>\n",
       "      <th>time_interval</th>\n",
       "      <th>metric</th>\n",
       "      <th>amount</th>\n",
       "      <th>project_name</th>\n",
       "      <th>in_rf4</th>\n",
       "    </tr>\n",
       "  </thead>\n",
       "  <tbody>\n",
       "    <tr>\n",
       "      <th>0</th>\n",
       "      <td>KEEBnsnsYBPgW5YvPDLHWm08v6YnPGXVnSJIxblxT6M=</td>\n",
       "      <td>GITHUB</td>\n",
       "      <td>ALL</td>\n",
       "      <td>bus_factor</td>\n",
       "      <td>1.0</td>\n",
       "      <td>pickle-finance</td>\n",
       "      <td>False</td>\n",
       "    </tr>\n",
       "    <tr>\n",
       "      <th>1</th>\n",
       "      <td>Q3efMLCb0mVeIGbjTSD4n0pQQWBAjUPMzndBrrDS2Q0=</td>\n",
       "      <td>GITHUB</td>\n",
       "      <td>ALL</td>\n",
       "      <td>bus_factor</td>\n",
       "      <td>1.0</td>\n",
       "      <td>tickerdao</td>\n",
       "      <td>False</td>\n",
       "    </tr>\n",
       "    <tr>\n",
       "      <th>2</th>\n",
       "      <td>h4xIFWYVPRWL8fHuVz0qy5biZxNBtDwxihPsLN8Hxes=</td>\n",
       "      <td>GITHUB</td>\n",
       "      <td>ALL</td>\n",
       "      <td>bus_factor</td>\n",
       "      <td>1.0</td>\n",
       "      <td>rentality-xyz</td>\n",
       "      <td>False</td>\n",
       "    </tr>\n",
       "    <tr>\n",
       "      <th>3</th>\n",
       "      <td>EMZ0Oshl_8gwlIC9MX2pUAAXqaR5ju8W8vmgL7PewFs=</td>\n",
       "      <td>GITHUB</td>\n",
       "      <td>ALL</td>\n",
       "      <td>bus_factor</td>\n",
       "      <td>1.0</td>\n",
       "      <td>vmex-finance</td>\n",
       "      <td>False</td>\n",
       "    </tr>\n",
       "    <tr>\n",
       "      <th>4</th>\n",
       "      <td>JGCJIFl8QtH4BDZmXHDbQwrkyPgfvx3rdwzJr77X0ZU=</td>\n",
       "      <td>GITHUB</td>\n",
       "      <td>ALL</td>\n",
       "      <td>bus_factor</td>\n",
       "      <td>1.0</td>\n",
       "      <td>NaN</td>\n",
       "      <td>False</td>\n",
       "    </tr>\n",
       "  </tbody>\n",
       "</table>\n",
       "</div>"
      ],
      "text/plain": [
       "                                     project_id event_source time_interval  \\\n",
       "0  KEEBnsnsYBPgW5YvPDLHWm08v6YnPGXVnSJIxblxT6M=       GITHUB           ALL   \n",
       "1  Q3efMLCb0mVeIGbjTSD4n0pQQWBAjUPMzndBrrDS2Q0=       GITHUB           ALL   \n",
       "2  h4xIFWYVPRWL8fHuVz0qy5biZxNBtDwxihPsLN8Hxes=       GITHUB           ALL   \n",
       "3  EMZ0Oshl_8gwlIC9MX2pUAAXqaR5ju8W8vmgL7PewFs=       GITHUB           ALL   \n",
       "4  JGCJIFl8QtH4BDZmXHDbQwrkyPgfvx3rdwzJr77X0ZU=       GITHUB           ALL   \n",
       "\n",
       "       metric  amount    project_name  in_rf4  \n",
       "0  bus_factor     1.0  pickle-finance   False  \n",
       "1  bus_factor     1.0       tickerdao   False  \n",
       "2  bus_factor     1.0   rentality-xyz   False  \n",
       "3  bus_factor     1.0    vmex-finance   False  \n",
       "4  bus_factor     1.0             NaN   False  "
      ]
     },
     "execution_count": 19,
     "metadata": {},
     "output_type": "execute_result"
    }
   ],
   "source": [
    "df = metrics.copy()\n",
    "df['project_name'] = df['project_id'].map(projects)\n",
    "df['in_rf4'] = df['project_id'].apply(lambda x: x in collections['op-retrofunding-4'])\n",
    "\n",
    "df.head()"
   ]
  },
  {
   "cell_type": "code",
   "execution_count": 23,
   "id": "9e0197ab-ef0f-45af-9e9d-0af15845753e",
   "metadata": {},
   "outputs": [
    {
     "data": {
      "text/html": [
       "<div>\n",
       "<style scoped>\n",
       "    .dataframe tbody tr th:only-of-type {\n",
       "        vertical-align: middle;\n",
       "    }\n",
       "\n",
       "    .dataframe tbody tr th {\n",
       "        vertical-align: top;\n",
       "    }\n",
       "\n",
       "    .dataframe thead th {\n",
       "        text-align: right;\n",
       "    }\n",
       "</style>\n",
       "<table border=\"1\" class=\"dataframe\">\n",
       "  <thead>\n",
       "    <tr style=\"text-align: right;\">\n",
       "      <th></th>\n",
       "      <th>project_id</th>\n",
       "      <th>event_source</th>\n",
       "      <th>time_interval</th>\n",
       "      <th>metric</th>\n",
       "      <th>amount</th>\n",
       "      <th>project_name</th>\n",
       "      <th>in_rf4</th>\n",
       "      <th>cohort</th>\n",
       "      <th>cohort_label</th>\n",
       "    </tr>\n",
       "  </thead>\n",
       "  <tbody>\n",
       "    <tr>\n",
       "      <th>0</th>\n",
       "      <td>KEEBnsnsYBPgW5YvPDLHWm08v6YnPGXVnSJIxblxT6M=</td>\n",
       "      <td>GITHUB</td>\n",
       "      <td>ALL</td>\n",
       "      <td>bus_factor</td>\n",
       "      <td>1.0</td>\n",
       "      <td>pickle-finance</td>\n",
       "      <td>False</td>\n",
       "      <td>None</td>\n",
       "      <td>NaN</td>\n",
       "    </tr>\n",
       "  </tbody>\n",
       "</table>\n",
       "</div>"
      ],
      "text/plain": [
       "                                     project_id event_source time_interval  \\\n",
       "0  KEEBnsnsYBPgW5YvPDLHWm08v6YnPGXVnSJIxblxT6M=       GITHUB           ALL   \n",
       "\n",
       "       metric  amount    project_name  in_rf4 cohort cohort_label  \n",
       "0  bus_factor     1.0  pickle-finance   False   None          NaN  "
      ]
     },
     "execution_count": 23,
     "metadata": {},
     "output_type": "execute_result"
    }
   ],
   "source": [
    "def assign_cohort(project_id):\n",
    "    round_list = []\n",
    "    for c,lst in collections.items():\n",
    "        if c not in ('op-rpgf2', 'op-rpgf3', 'op-retrofunding-4'):\n",
    "            continue\n",
    "        if project_id in lst:\n",
    "            rnd = c[-1]\n",
    "            round_list.append(rnd)\n",
    "    if round_list:\n",
    "        return 'RF'+'/'.join(sorted(round_list))\n",
    "    return None\n",
    "\n",
    "df['cohort'] = df['project_id'].apply(assign_cohort)\n",
    "df['cohort_label'] = df['cohort'].map({\n",
    "    'RF4': 'First time participants in Retro Funding',\n",
    "    'RF3/4': 'Returning participants',\n",
    "    'RF2/3/4': 'Returning participants',\n",
    "    'RF2/4': 'Returning participants',    \n",
    "    'RF3': 'Past RFs only',\n",
    "    'RF2/3': 'Past RFs only',\n",
    "    'RF2': 'Past RFs only'\n",
    "})\n",
    "\n",
    "df.head(1)"
   ]
  },
  {
   "cell_type": "code",
   "execution_count": 44,
   "id": "949dbee4",
   "metadata": {},
   "outputs": [
    {
     "data": {
      "text/plain": [
       "array(['bus_factor', 'issue_closed_count', 'issue_opened_count',\n",
       "       'commit_code_count', 'pull_request_opened_count',\n",
       "       'pull_request_merged_count', 'active_developer_count',\n",
       "       'new_contributor_count', 'contributor_count',\n",
       "       'fulltime_developer_average'], dtype=object)"
      ]
     },
     "execution_count": 44,
     "metadata": {},
     "output_type": "execute_result"
    }
   ],
   "source": [
    "df['metric'].unique()"
   ]
  },
  {
   "cell_type": "code",
   "execution_count": 78,
   "id": "dc54bb94",
   "metadata": {},
   "outputs": [
    {
     "ename": "SyntaxError",
     "evalue": "invalid syntax (1172328868.py, line 11)",
     "output_type": "error",
     "traceback": [
      "\u001b[0;36m  Cell \u001b[0;32mIn[78], line 11\u001b[0;36m\u001b[0m\n\u001b[0;31m    dff =\u001b[0m\n\u001b[0m          ^\u001b[0m\n\u001b[0;31mSyntaxError\u001b[0m\u001b[0;31m:\u001b[0m invalid syntax\n"
     ]
    }
   ],
   "source": [
    "#df.groupby(['cohort_label']\n",
    "\n",
    "INTERVALS = ['1 YEAR', '6 MONTHS']\n",
    "#COLLECTION = 'protocol-labs-network'\n",
    "COLLECTION = 'op-rpgf3'\n",
    "\n",
    "#m = 'new_contributor_count'\n",
    "#m = 'pull_request_merged_count'\n",
    "METRIC = 'active_developer_count'\n",
    "\n",
    "dff = \n",
    "dfm = (\n",
    " df[\n",
    "     (df['project_id'].isin(collections[COLLECTION])) \n",
    "     & (df['time_interval'].isin(INTERVALS))\n",
    "     & (df['metric']==METRIC)\n",
    " ]\n",
    " .query(\"metric == @m\")\n",
    " .pivot_table(\n",
    "     index='project_name',\n",
    "     columns='time_interval', \n",
    "     values='amount', \n",
    "     aggfunc='sum',\n",
    "     fill_value=0     \n",
    " )\n",
    ".rename(\n",
    "    columns={\n",
    "        '1 YEAR': 'pre-RF',\n",
    "        '6 MONTHS': 'post-RF'\n",
    "        }\n",
    "    )\n",
    ".reset_index()       \n",
    ")\n",
    "\n",
    "dfm['pre-RF'] = dfm['pre-RF']/2\n",
    "dfm['delta'] = dfm['post-RF'] / dfm['pre-RF']\n",
    "\n",
    "print(dfm['post-RF'].sum() / dfm['pre-RF'].sum())\n",
    "\n",
    "fig = px.scatter(\n",
    "    data_frame=dfm,\n",
    "    x='pre-RF',\n",
    "    y='post-RF',\n",
    "    labels='project_name',\n",
    "    color='delta',\n",
    "    color_continuous_scale='RdBu_r',\n",
    "    log_x=True,\n",
    "    log_y=True,   \n",
    "    trendline='ols',\n",
    "    custom_data=['project_name']\n",
    "\n",
    ")\n",
    "fig.update_layout(\n",
    "    plot_bgcolor='white',\n",
    "    paper_bgcolor='white')\n",
    "fig.update_traces(\n",
    "    line=dict(width=2, color='black'),\n",
    "    hovertemplate='<b>Project Name:</b> %{customdata[0]}<br>' +\n",
    "              '<b>Pre-RF:</b> %{x}<br>' +\n",
    "              '<b>Post-RF:</b> %{y}<br>' +\n",
    "              '<b>Delta:</b> %{marker.color}<extra></extra>'\n",
    ")"
   ]
  },
  {
   "cell_type": "code",
   "execution_count": 69,
   "id": "a0285cfb",
   "metadata": {},
   "outputs": [],
   "source": [
    "? px.scatter"
   ]
  },
  {
   "cell_type": "code",
   "execution_count": 24,
   "id": "9e72c6f4-840e-4542-987f-2ea67c9505c9",
   "metadata": {},
   "outputs": [
    {
     "data": {
      "application/vnd.plotly.v1+json": {
       "config": {
        "plotlyServerURL": "https://plot.ly"
       },
       "data": [
        {
         "branchvalues": "total",
         "domain": {
          "x": [
           0,
           1
          ],
          "y": [
           0,
           1
          ]
         },
         "hovertemplate": "labels=%{label}<br>amount=%{value}<br>parent=%{parent}<br>id=%{id}<extra></extra>",
         "ids": [
          "Returning participants/0x-splits",
          "First time participants in Retro Funding/0xdeployer-ham",
          "First time participants in Retro Funding/0xkawz-circle-tech",
          "First time participants in Retro Funding/0xproject",
          "First time participants in Retro Funding/0xsend",
          "First time participants in Retro Funding/0xsequence",
          "First time participants in Retro Funding/3dns-xyz",
          "First time participants in Retro Funding/aave",
          "Returning participants/across",
          "Returning participants/aerodrome-finance",
          "First time participants in Retro Funding/alchemix",
          "First time participants in Retro Funding/alienbase-xyz",
          "First time participants in Retro Funding/ambiretech",
          "First time participants in Retro Funding/aragon",
          "First time participants in Retro Funding/arcadia-finance",
          "First time participants in Retro Funding/archlyfi",
          "First time participants in Retro Funding/arks-labs",
          "First time participants in Retro Funding/ashwwwin-liquidify",
          "First time participants in Retro Funding/astariaxyz",
          "First time participants in Retro Funding/aura",
          "First time participants in Retro Funding/avantis-labs",
          "First time participants in Retro Funding/balancer",
          "First time participants in Retro Funding/based-bodega",
          "First time participants in Retro Funding/basepaint",
          "First time participants in Retro Funding/basepunks-apexethdev",
          "First time participants in Retro Funding/baseswapfi",
          "First time participants in Retro Funding/beefy-finance",
          "First time participants in Retro Funding/bguan2020-unlonely",
          "First time participants in Retro Funding/biconomy",
          "First time participants in Retro Funding/blobs-live-apexethdev",
          "First time participants in Retro Funding/bodhi-levi0214",
          "First time participants in Retro Funding/bored-town",
          "First time participants in Retro Funding/brine-finance",
          "First time participants in Retro Funding/bsx-exchange",
          "First time participants in Retro Funding/buidlerfi-talentprotocol",
          "Returning participants/buidlguidl",
          "First time participants in Retro Funding/byte-masons-ethos-reserve",
          "First time participants in Retro Funding/catalogworks",
          "First time participants in Retro Funding/coinvise",
          "First time participants in Retro Funding/compound-finance",
          "Returning participants/coordinape",
          "Returning participants/copin-protocol",
          "First time participants in Retro Funding/corbinpage-king-of-the-degens",
          "First time participants in Retro Funding/createmytoken",
          "Returning participants/crowdmuse",
          "First time participants in Retro Funding/cyberconnecthq",
          "First time participants in Retro Funding/d-hedge",
          "First time participants in Retro Funding/dackienft-contracts-dackieswap",
          "First time participants in Retro Funding/dackieswap",
          "Returning participants/daimo-eth",
          "Returning participants/dapp-learning-dao",
          "Returning participants/dappradar",
          "First time participants in Retro Funding/debridge-finance",
          "Returning participants/decent",
          "Returning participants/defi-llama",
          "Returning participants/defieye",
          "First time participants in Retro Funding/devtrou-int",
          "First time participants in Retro Funding/dino_contracts-apexethdev",
          "First time participants in Retro Funding/distractionboy-optichads",
          "First time participants in Retro Funding/dmailofficial",
          "First time participants in Retro Funding/doginme",
          "First time participants in Retro Funding/duonghb53-piraswap",
          "Returning participants/eco-association",
          "First time participants in Retro Funding/egg-wars",
          "First time participants in Retro Funding/elonsdev-blob-farm",
          "First time participants in Retro Funding/enjoy-tech",
          "Returning participants/eth-infinitism-account-abstraction",
          "Returning participants/ethereum-attestation-service",
          "First time participants in Retro Funding/eugenix.io",
          "First time participants in Retro Funding/exactly",
          "First time participants in Retro Funding/extra-finance",
          "First time participants in Retro Funding/figs999-basic-dog-meme",
          "Returning participants/fractal-visions",
          "First time participants in Retro Funding/ftm1337-equalizer",
          "First time participants in Retro Funding/fxhash",
          "First time participants in Retro Funding/gammastrategies",
          "First time participants in Retro Funding/getmint-io",
          "First time participants in Retro Funding/gfx-labs",
          "Returning participants/gitcoin",
          "Returning participants/giveth",
          "First time participants in Retro Funding/glo-foundation",
          "First time participants in Retro Funding/gloom-labs",
          "First time participants in Retro Funding/granary",
          "First time participants in Retro Funding/guacbase-dailofrog",
          "Returning participants/guildxyz",
          "First time participants in Retro Funding/hai-on-op",
          "First time participants in Retro Funding/harvestfi",
          "Returning participants/hats-protocol",
          "Returning participants/hedgey-finance",
          "First time participants in Retro Funding/highlightxyz",
          "First time participants in Retro Funding/hoanhan101-your-brians",
          "Returning participants/holograph",
          "Returning participants/holonym-foundation",
          "First time participants in Retro Funding/hyperlane-xyz",
          "First time participants in Retro Funding/idle-finance",
          "First time participants in Retro Funding/infusion-finance",
          "First time participants in Retro Funding/ionicprotocol",
          "First time participants in Retro Funding/izumi-finance",
          "First time participants in Retro Funding/jhekub-building-blocks",
          "First time participants in Retro Funding/kenglernitas",
          "First time participants in Retro Funding/kim-protocol",
          "First time participants in Retro Funding/kingsimpa69-homes",
          "Returning participants/kiwi-news-attestate",
          "Returning participants/kwenta",
          "First time participants in Retro Funding/l2pass",
          "First time participants in Retro Funding/layer-zero",
          "Returning participants/layer3xyz",
          "First time participants in Retro Funding/lenspost-labs",
          "First time participants in Retro Funding/lido",
          "First time participants in Retro Funding/lifinance",
          "First time participants in Retro Funding/linkdrophq",
          "First time participants in Retro Funding/llamapay",
          "First time participants in Retro Funding/manifold",
          "First time participants in Retro Funding/maverickprotocol",
          "First time participants in Retro Funding/mcgingras-loot2",
          "First time participants in Retro Funding/metronome-autonomoussoftware",
          "First time participants in Retro Funding/michaelcohen716-crypto-composite",
          "First time participants in Retro Funding/mintify-inc",
          "First time participants in Retro Funding/mochimons-mochimonsdev",
          "First time participants in Retro Funding/moneymandoug-base-doge",
          "Returning participants/moonwell-fi",
          "First time participants in Retro Funding/morkiexyz",
          "First time participants in Retro Funding/morphex-labs",
          "Returning participants/multicall-mds1",
          "Returning participants/multicaller-vectorized",
          "First time participants in Retro Funding/mystcl",
          "First time participants in Retro Funding/nfthook",
          "First time participants in Retro Funding/nfts2me",
          "First time participants in Retro Funding/nifty-kit",
          "First time participants in Retro Funding/nnsprotocol",
          "First time participants in Retro Funding/nogem-app",
          "Returning participants/nouns-ourzora",
          "First time participants in Retro Funding/odos-xyz",
          "First time participants in Retro Funding/omni-x-nft",
          "First time participants in Retro Funding/omnihub-xyz",
          "First time participants in Retro Funding/omnisea",
          "First time participants in Retro Funding/onchain-cubes-dailofrog",
          "Returning participants/openocean-finance",
          "Returning participants/opti-domains",
          "First time participants in Retro Funding/ora-io",
          "First time participants in Retro Funding/orderlynetwork",
          "First time participants in Retro Funding/overnight",
          "First time participants in Retro Funding/owlto-finance",
          "First time participants in Retro Funding/paragraph-xyz",
          "First time participants in Retro Funding/paraswap",
          "First time participants in Retro Funding/party-dao",
          "First time participants in Retro Funding/passportxyz",
          "First time participants in Retro Funding/paws-vote-mykcryptodev",
          "First time participants in Retro Funding/perpetual-protocol",
          "Returning participants/pheasant-network",
          "First time participants in Retro Funding/phi-labs-inc",
          "First time participants in Retro Funding/pika-protocol",
          "First time participants in Retro Funding/pixotchi",
          "First time participants in Retro Funding/pods-media",
          "Returning participants/polynomial-protocol",
          "Returning participants/pool-together",
          "First time participants in Retro Funding/portals-fi",
          "First time participants in Retro Funding/preonmoney",
          "First time participants in Retro Funding/print3rxyz",
          "Returning participants/punk-domains",
          "Returning participants/pyth-network",
          "First time participants in Retro Funding/qidao-mai-finance",
          "Returning participants/rabbithole",
          "Returning participants/rainbow",
          "First time participants in Retro Funding/rarible",
          "First time participants in Retro Funding/reserve-protocol",
          "Returning participants/revert-finance",
          "First time participants in Retro Funding/rmrk-team",
          "First time participants in Retro Funding/router-protocol",
          "First time participants in Retro Funding/rubyscore",
          "First time participants in Retro Funding/runners-dev",
          "First time participants in Retro Funding/sablier",
          "First time participants in Retro Funding/sbauch-speedtracer",
          "Returning participants/scryprotocol",
          "Returning participants/seamless-protocol",
          "First time participants in Retro Funding/sheep-nft-oktomaschine",
          "Returning participants/shipyard-software",
          "First time participants in Retro Funding/showtime-xyz",
          "First time participants in Retro Funding/sixonchain-blocks",
          "First time participants in Retro Funding/slice-so",
          "Returning participants/slugs-protocol-bernatfp",
          "Returning participants/smoldapp",
          "Returning participants/sonne-finance",
          "First time participants in Retro Funding/sound-xyz",
          "First time participants in Retro Funding/stargate-finance",
          "First time participants in Retro Funding/stephharris-receipts",
          "Returning participants/streamethorg",
          "First time participants in Retro Funding/sturdyfi",
          "First time participants in Retro Funding/sudoswap",
          "First time participants in Retro Funding/summer-fi",
          "First time participants in Retro Funding/superfluid",
          "First time participants in Retro Funding/supswap",
          "Returning participants/sushi",
          "First time participants in Retro Funding/swapbased",
          "First time participants in Retro Funding/swapmode",
          "First time participants in Retro Funding/symm-io",
          "Returning participants/synapse",
          "First time participants in Retro Funding/synonymfinance",
          "Returning participants/synthetix",
          "First time participants in Retro Funding/talentprotocol",
          "First time participants in Retro Funding/tarot-finance",
          "First time participants in Retro Funding/thales",
          "First time participants in Retro Funding/theopenxproject",
          "First time participants in Retro Funding/tinybasedfrog-dailofrog",
          "First time participants in Retro Funding/titlesnyc",
          "First time participants in Retro Funding/tlx-protocol",
          "First time participants in Retro Funding/tokepad-smolstudios",
          "First time participants in Retro Funding/trashnfts",
          "Returning participants/umbra-scopelift",
          "First time participants in Retro Funding/uncx-network",
          "First time participants in Retro Funding/unioncredit",
          "First time participants in Retro Funding/unitapapp",
          "First time participants in Retro Funding/velocimeter",
          "Returning participants/velodrome",
          "First time participants in Retro Funding/vesper",
          "First time participants in Retro Funding/virtual-protocol",
          "First time participants in Retro Funding/wearedayone-casino-tycoon",
          "First time participants in Retro Funding/wieldlabs",
          "First time participants in Retro Funding/withfabricxyz",
          "First time participants in Retro Funding/wombat-exchange",
          "First time participants in Retro Funding/woonetwork",
          "First time participants in Retro Funding/wormhole",
          "First time participants in Retro Funding/xswaplink",
          "First time participants in Retro Funding/z80dev-ethxy_poker",
          "First time participants in Retro Funding/zerion",
          "First time participants in Retro Funding/zerius-io",
          "First time participants in Retro Funding/zkbob",
          "First time participants in Retro Funding/zkp2p",
          "Returning participants/zora",
          "First time participants in Retro Funding/zwergdev-whale-bridge",
          "First time participants in Retro Funding",
          "Returning participants"
         ],
         "labels": [
          "0x-splits",
          "0xdeployer-ham",
          "0xkawz-circle-tech",
          "0xproject",
          "0xsend",
          "0xsequence",
          "3dns-xyz",
          "aave",
          "across",
          "aerodrome-finance",
          "alchemix",
          "alienbase-xyz",
          "ambiretech",
          "aragon",
          "arcadia-finance",
          "archlyfi",
          "arks-labs",
          "ashwwwin-liquidify",
          "astariaxyz",
          "aura",
          "avantis-labs",
          "balancer",
          "based-bodega",
          "basepaint",
          "basepunks-apexethdev",
          "baseswapfi",
          "beefy-finance",
          "bguan2020-unlonely",
          "biconomy",
          "blobs-live-apexethdev",
          "bodhi-levi0214",
          "bored-town",
          "brine-finance",
          "bsx-exchange",
          "buidlerfi-talentprotocol",
          "buidlguidl",
          "byte-masons-ethos-reserve",
          "catalogworks",
          "coinvise",
          "compound-finance",
          "coordinape",
          "copin-protocol",
          "corbinpage-king-of-the-degens",
          "createmytoken",
          "crowdmuse",
          "cyberconnecthq",
          "d-hedge",
          "dackienft-contracts-dackieswap",
          "dackieswap",
          "daimo-eth",
          "dapp-learning-dao",
          "dappradar",
          "debridge-finance",
          "decent",
          "defi-llama",
          "defieye",
          "devtrou-int",
          "dino_contracts-apexethdev",
          "distractionboy-optichads",
          "dmailofficial",
          "doginme",
          "duonghb53-piraswap",
          "eco-association",
          "egg-wars",
          "elonsdev-blob-farm",
          "enjoy-tech",
          "eth-infinitism-account-abstraction",
          "ethereum-attestation-service",
          "eugenix.io",
          "exactly",
          "extra-finance",
          "figs999-basic-dog-meme",
          "fractal-visions",
          "ftm1337-equalizer",
          "fxhash",
          "gammastrategies",
          "getmint-io",
          "gfx-labs",
          "gitcoin",
          "giveth",
          "glo-foundation",
          "gloom-labs",
          "granary",
          "guacbase-dailofrog",
          "guildxyz",
          "hai-on-op",
          "harvestfi",
          "hats-protocol",
          "hedgey-finance",
          "highlightxyz",
          "hoanhan101-your-brians",
          "holograph",
          "holonym-foundation",
          "hyperlane-xyz",
          "idle-finance",
          "infusion-finance",
          "ionicprotocol",
          "izumi-finance",
          "jhekub-building-blocks",
          "kenglernitas",
          "kim-protocol",
          "kingsimpa69-homes",
          "kiwi-news-attestate",
          "kwenta",
          "l2pass",
          "layer-zero",
          "layer3xyz",
          "lenspost-labs",
          "lido",
          "lifinance",
          "linkdrophq",
          "llamapay",
          "manifold",
          "maverickprotocol",
          "mcgingras-loot2",
          "metronome-autonomoussoftware",
          "michaelcohen716-crypto-composite",
          "mintify-inc",
          "mochimons-mochimonsdev",
          "moneymandoug-base-doge",
          "moonwell-fi",
          "morkiexyz",
          "morphex-labs",
          "multicall-mds1",
          "multicaller-vectorized",
          "mystcl",
          "nfthook",
          "nfts2me",
          "nifty-kit",
          "nnsprotocol",
          "nogem-app",
          "nouns-ourzora",
          "odos-xyz",
          "omni-x-nft",
          "omnihub-xyz",
          "omnisea",
          "onchain-cubes-dailofrog",
          "openocean-finance",
          "opti-domains",
          "ora-io",
          "orderlynetwork",
          "overnight",
          "owlto-finance",
          "paragraph-xyz",
          "paraswap",
          "party-dao",
          "passportxyz",
          "paws-vote-mykcryptodev",
          "perpetual-protocol",
          "pheasant-network",
          "phi-labs-inc",
          "pika-protocol",
          "pixotchi",
          "pods-media",
          "polynomial-protocol",
          "pool-together",
          "portals-fi",
          "preonmoney",
          "print3rxyz",
          "punk-domains",
          "pyth-network",
          "qidao-mai-finance",
          "rabbithole",
          "rainbow",
          "rarible",
          "reserve-protocol",
          "revert-finance",
          "rmrk-team",
          "router-protocol",
          "rubyscore",
          "runners-dev",
          "sablier",
          "sbauch-speedtracer",
          "scryprotocol",
          "seamless-protocol",
          "sheep-nft-oktomaschine",
          "shipyard-software",
          "showtime-xyz",
          "sixonchain-blocks",
          "slice-so",
          "slugs-protocol-bernatfp",
          "smoldapp",
          "sonne-finance",
          "sound-xyz",
          "stargate-finance",
          "stephharris-receipts",
          "streamethorg",
          "sturdyfi",
          "sudoswap",
          "summer-fi",
          "superfluid",
          "supswap",
          "sushi",
          "swapbased",
          "swapmode",
          "symm-io",
          "synapse",
          "synonymfinance",
          "synthetix",
          "talentprotocol",
          "tarot-finance",
          "thales",
          "theopenxproject",
          "tinybasedfrog-dailofrog",
          "titlesnyc",
          "tlx-protocol",
          "tokepad-smolstudios",
          "trashnfts",
          "umbra-scopelift",
          "uncx-network",
          "unioncredit",
          "unitapapp",
          "velocimeter",
          "velodrome",
          "vesper",
          "virtual-protocol",
          "wearedayone-casino-tycoon",
          "wieldlabs",
          "withfabricxyz",
          "wombat-exchange",
          "woonetwork",
          "wormhole",
          "xswaplink",
          "z80dev-ethxy_poker",
          "zerion",
          "zerius-io",
          "zkbob",
          "zkp2p",
          "zora",
          "zwergdev-whale-bridge",
          "First time participants in Retro Funding",
          "Returning participants"
         ],
         "name": "",
         "parents": [
          "Returning participants",
          "First time participants in Retro Funding",
          "First time participants in Retro Funding",
          "First time participants in Retro Funding",
          "First time participants in Retro Funding",
          "First time participants in Retro Funding",
          "First time participants in Retro Funding",
          "First time participants in Retro Funding",
          "Returning participants",
          "Returning participants",
          "First time participants in Retro Funding",
          "First time participants in Retro Funding",
          "First time participants in Retro Funding",
          "First time participants in Retro Funding",
          "First time participants in Retro Funding",
          "First time participants in Retro Funding",
          "First time participants in Retro Funding",
          "First time participants in Retro Funding",
          "First time participants in Retro Funding",
          "First time participants in Retro Funding",
          "First time participants in Retro Funding",
          "First time participants in Retro Funding",
          "First time participants in Retro Funding",
          "First time participants in Retro Funding",
          "First time participants in Retro Funding",
          "First time participants in Retro Funding",
          "First time participants in Retro Funding",
          "First time participants in Retro Funding",
          "First time participants in Retro Funding",
          "First time participants in Retro Funding",
          "First time participants in Retro Funding",
          "First time participants in Retro Funding",
          "First time participants in Retro Funding",
          "First time participants in Retro Funding",
          "First time participants in Retro Funding",
          "Returning participants",
          "First time participants in Retro Funding",
          "First time participants in Retro Funding",
          "First time participants in Retro Funding",
          "First time participants in Retro Funding",
          "Returning participants",
          "Returning participants",
          "First time participants in Retro Funding",
          "First time participants in Retro Funding",
          "Returning participants",
          "First time participants in Retro Funding",
          "First time participants in Retro Funding",
          "First time participants in Retro Funding",
          "First time participants in Retro Funding",
          "Returning participants",
          "Returning participants",
          "Returning participants",
          "First time participants in Retro Funding",
          "Returning participants",
          "Returning participants",
          "Returning participants",
          "First time participants in Retro Funding",
          "First time participants in Retro Funding",
          "First time participants in Retro Funding",
          "First time participants in Retro Funding",
          "First time participants in Retro Funding",
          "First time participants in Retro Funding",
          "Returning participants",
          "First time participants in Retro Funding",
          "First time participants in Retro Funding",
          "First time participants in Retro Funding",
          "Returning participants",
          "Returning participants",
          "First time participants in Retro Funding",
          "First time participants in Retro Funding",
          "First time participants in Retro Funding",
          "First time participants in Retro Funding",
          "Returning participants",
          "First time participants in Retro Funding",
          "First time participants in Retro Funding",
          "First time participants in Retro Funding",
          "First time participants in Retro Funding",
          "First time participants in Retro Funding",
          "Returning participants",
          "Returning participants",
          "First time participants in Retro Funding",
          "First time participants in Retro Funding",
          "First time participants in Retro Funding",
          "First time participants in Retro Funding",
          "Returning participants",
          "First time participants in Retro Funding",
          "First time participants in Retro Funding",
          "Returning participants",
          "Returning participants",
          "First time participants in Retro Funding",
          "First time participants in Retro Funding",
          "Returning participants",
          "Returning participants",
          "First time participants in Retro Funding",
          "First time participants in Retro Funding",
          "First time participants in Retro Funding",
          "First time participants in Retro Funding",
          "First time participants in Retro Funding",
          "First time participants in Retro Funding",
          "First time participants in Retro Funding",
          "First time participants in Retro Funding",
          "First time participants in Retro Funding",
          "Returning participants",
          "Returning participants",
          "First time participants in Retro Funding",
          "First time participants in Retro Funding",
          "Returning participants",
          "First time participants in Retro Funding",
          "First time participants in Retro Funding",
          "First time participants in Retro Funding",
          "First time participants in Retro Funding",
          "First time participants in Retro Funding",
          "First time participants in Retro Funding",
          "First time participants in Retro Funding",
          "First time participants in Retro Funding",
          "First time participants in Retro Funding",
          "First time participants in Retro Funding",
          "First time participants in Retro Funding",
          "First time participants in Retro Funding",
          "First time participants in Retro Funding",
          "Returning participants",
          "First time participants in Retro Funding",
          "First time participants in Retro Funding",
          "Returning participants",
          "Returning participants",
          "First time participants in Retro Funding",
          "First time participants in Retro Funding",
          "First time participants in Retro Funding",
          "First time participants in Retro Funding",
          "First time participants in Retro Funding",
          "First time participants in Retro Funding",
          "Returning participants",
          "First time participants in Retro Funding",
          "First time participants in Retro Funding",
          "First time participants in Retro Funding",
          "First time participants in Retro Funding",
          "First time participants in Retro Funding",
          "Returning participants",
          "Returning participants",
          "First time participants in Retro Funding",
          "First time participants in Retro Funding",
          "First time participants in Retro Funding",
          "First time participants in Retro Funding",
          "First time participants in Retro Funding",
          "First time participants in Retro Funding",
          "First time participants in Retro Funding",
          "First time participants in Retro Funding",
          "First time participants in Retro Funding",
          "First time participants in Retro Funding",
          "Returning participants",
          "First time participants in Retro Funding",
          "First time participants in Retro Funding",
          "First time participants in Retro Funding",
          "First time participants in Retro Funding",
          "Returning participants",
          "Returning participants",
          "First time participants in Retro Funding",
          "First time participants in Retro Funding",
          "First time participants in Retro Funding",
          "Returning participants",
          "Returning participants",
          "First time participants in Retro Funding",
          "Returning participants",
          "Returning participants",
          "First time participants in Retro Funding",
          "First time participants in Retro Funding",
          "Returning participants",
          "First time participants in Retro Funding",
          "First time participants in Retro Funding",
          "First time participants in Retro Funding",
          "First time participants in Retro Funding",
          "First time participants in Retro Funding",
          "First time participants in Retro Funding",
          "Returning participants",
          "Returning participants",
          "First time participants in Retro Funding",
          "Returning participants",
          "First time participants in Retro Funding",
          "First time participants in Retro Funding",
          "First time participants in Retro Funding",
          "Returning participants",
          "Returning participants",
          "Returning participants",
          "First time participants in Retro Funding",
          "First time participants in Retro Funding",
          "First time participants in Retro Funding",
          "Returning participants",
          "First time participants in Retro Funding",
          "First time participants in Retro Funding",
          "First time participants in Retro Funding",
          "First time participants in Retro Funding",
          "First time participants in Retro Funding",
          "Returning participants",
          "First time participants in Retro Funding",
          "First time participants in Retro Funding",
          "First time participants in Retro Funding",
          "Returning participants",
          "First time participants in Retro Funding",
          "Returning participants",
          "First time participants in Retro Funding",
          "First time participants in Retro Funding",
          "First time participants in Retro Funding",
          "First time participants in Retro Funding",
          "First time participants in Retro Funding",
          "First time participants in Retro Funding",
          "First time participants in Retro Funding",
          "First time participants in Retro Funding",
          "First time participants in Retro Funding",
          "Returning participants",
          "First time participants in Retro Funding",
          "First time participants in Retro Funding",
          "First time participants in Retro Funding",
          "First time participants in Retro Funding",
          "Returning participants",
          "First time participants in Retro Funding",
          "First time participants in Retro Funding",
          "First time participants in Retro Funding",
          "First time participants in Retro Funding",
          "First time participants in Retro Funding",
          "First time participants in Retro Funding",
          "First time participants in Retro Funding",
          "First time participants in Retro Funding",
          "First time participants in Retro Funding",
          "First time participants in Retro Funding",
          "First time participants in Retro Funding",
          "First time participants in Retro Funding",
          "First time participants in Retro Funding",
          "First time participants in Retro Funding",
          "Returning participants",
          "First time participants in Retro Funding",
          "",
          ""
         ],
         "textinfo": "label+text+value",
         "type": "treemap",
         "values": [
          0.19768603831017761,
          1.0916556090868037,
          2.879917674375382,
          75.02457221635105,
          0.03273209264632625,
          0.04765171946855676,
          0.27364701513157913,
          10.351225989925805,
          26.091996937203433,
          118.94163553450252,
          0.02606605105363639,
          11.843084263116225,
          0.024270149649836946,
          0.06509420897104902,
          0.6836566937965134,
          0.0500734924226029,
          0.1392065462524215,
          0.16550681677181014,
          0.088242136886214,
          0.33155347449068806,
          17.640430064363624,
          3.25663903576825,
          0.002622191581146136,
          1.7396429774984912,
          0.027486610629785357,
          26.535283861752966,
          5.892651927802947,
          0.06751252103821812,
          0.6806975686827653,
          0.06892907009855552,
          0.3008040688704946,
          0.2881870695606818,
          0.005955103208982554,
          7.8680285752857815,
          0.2571284672781097,
          0.40791036751182963,
          0.15477353633099145,
          0.061653105882649224,
          3.23693320406695,
          4.125726664963422,
          0.24504445501625707,
          0.48804134835276836,
          0.26230832389009223,
          1.9588143598524e-05,
          0.0393394149086328,
          12.138704700561778,
          2.894592505018963,
          0.6002071203665958,
          3.59511756830311,
          0.15027693714625087,
          0.017489477526092558,
          0.04208021164520654,
          89.13475850976855,
          8.883274512866452,
          0.17165090901671098,
          0.05123594333313486,
          0.05110202077062922,
          0.04873865452454019,
          0.0972746667526442,
          4.409356866367965,
          0.7448166162103762,
          0.02800518331071139,
          0.00170227395523221,
          0.10923371180816853,
          0.32964299773060435,
          0.38747243198265047,
          203.2287742157504,
          4.8065890009594865,
          26.14392122318592,
          1.3211168347729263,
          49.741792138148924,
          0.051225951624223914,
          0.03376013156349465,
          3.757420312770803,
          3.694810232504209,
          6.854989063979817,
          0.6530442006799773,
          0.04234341905939241,
          0.3187884373606564,
          0.01911547113688545,
          0.014527647631074066,
          0.17210146705989215,
          0.7887309402100283,
          0.04388587271131582,
          0.6644730008334049,
          1.0645376359511305,
          0.5108717659473346,
          0.011554201029329504,
          0.9986030815596221,
          2.375989872560658,
          0.06372696965653384,
          26.260799731698423,
          27.986195632593944,
          11.586571262440048,
          0.24117534410933295,
          0.9834955886667411,
          73.15347359733454,
          4.212423739982305,
          0.007300263651801349,
          0.40342018694056603,
          51.45501117358072,
          0.20826045514394959,
          0.007477284700065432,
          102.90798764536615,
          5.225852217466219,
          115.86988758044957,
          106.72039030228866,
          0.3991157908246882,
          0.07501136860053624,
          41.4429896916496,
          1.1383292937363056,
          0.03290857503423413,
          13.272952941848361,
          10.832237879010092,
          0.32629079594482907,
          0.19482630675273702,
          0.004814245119858751,
          0.2062484171819187,
          0.1537327046462094,
          0.026232655883776997,
          14.990774992834558,
          0.10539303054815825,
          2.924234635829984,
          20.654134396033808,
          11.667568375612133,
          0.7643289894813521,
          2.4166207928213073,
          20.302418449471393,
          0.4755142670209828,
          0.10698523116544194,
          1.0205496350350234,
          1.323362697646781,
          70.37063752481153,
          1.5585972935372936,
          0.37431094363211026,
          1.5234932816918267,
          0.004840640080042925,
          5.120034008843352,
          0.4049166820029914,
          0.36737233576934153,
          1.0481922178018053,
          4.388609311467343,
          0.8744730567001635,
          2.841488923173226,
          9.164179338063192,
          6.979226862143445,
          2.615114569995264,
          0.03134961510087854,
          119.54084677158042,
          0.523848601273464,
          6.248182323001005,
          3.042205744393182,
          0.8908041295327696,
          1.2820938227288805,
          1.742630672695446,
          0.4886495134667913,
          0.3332882037568139,
          0.1278780394768946,
          2.4218605071562047,
          0.5641889896358212,
          0.08494982319626436,
          0.09403265866750618,
          7.082430963034182,
          4.639844277818535,
          0.17426427019181004,
          0.45931182429773454,
          0.8048510926523729,
          0.3112007472391193,
          2.441342527421171,
          0.7793697804734474,
          0.025662672549686787,
          0.010245009958772373,
          0.28168492845040727,
          0.31269905325805564,
          11.262816231012632,
          0.1840451761809635,
          0.16763505759274658,
          0.48779267529637177,
          6.169622417111807,
          0.18757105041345884,
          0.20725718978655688,
          13.305803350226268,
          6.2435386495470935,
          7.327745943360658,
          102.9082871786124,
          0.010891759431733166,
          0.014073986319672748,
          0.08794933746349266,
          0.8284688600705113,
          0.2719980215334488,
          9.89368424597548,
          15.09823531976772,
          45.501963973698786,
          7.452203127738048,
          5.691656642521493,
          0.3262728836531537,
          9.802563867471,
          0.015783205919239138,
          161.59962312103298,
          9.895767262442e-06,
          27.537859093905606,
          12.968456929705923,
          0.4077219909607799,
          0.00867500329266616,
          0.24676541507958155,
          1.7632210746019217,
          0.24365253963087197,
          0.021006340778792376,
          0.06802373015746761,
          0.3748641581854611,
          0.14098370051415446,
          0.015298651309877441,
          1.1867248794970853,
          36.72554492931326,
          0.1320393897253331,
          1.6876567518636965,
          0.736386374939177,
          0.42028292570655296,
          0.2822518075608595,
          0.203438588378834,
          15.701017926012376,
          2.614115751448281,
          7.628627023139944,
          5.319695043739883,
          3.9620159610499797,
          1.1102486962346767,
          0.3773637643103,
          0.03138205984140264,
          151.60515331833813,
          0.4288381964848606,
          1230.1232035499584,
          1136.6027540426364
         ]
        }
       ],
       "layout": {
        "hovermode": false,
        "legend": {
         "tracegroupgap": 0
        },
        "margin": {
         "t": 60
        },
        "template": {
         "data": {
          "bar": [
           {
            "error_x": {
             "color": "#2a3f5f"
            },
            "error_y": {
             "color": "#2a3f5f"
            },
            "marker": {
             "line": {
              "color": "#E5ECF6",
              "width": 0.5
             },
             "pattern": {
              "fillmode": "overlay",
              "size": 10,
              "solidity": 0.2
             }
            },
            "type": "bar"
           }
          ],
          "barpolar": [
           {
            "marker": {
             "line": {
              "color": "#E5ECF6",
              "width": 0.5
             },
             "pattern": {
              "fillmode": "overlay",
              "size": 10,
              "solidity": 0.2
             }
            },
            "type": "barpolar"
           }
          ],
          "carpet": [
           {
            "aaxis": {
             "endlinecolor": "#2a3f5f",
             "gridcolor": "white",
             "linecolor": "white",
             "minorgridcolor": "white",
             "startlinecolor": "#2a3f5f"
            },
            "baxis": {
             "endlinecolor": "#2a3f5f",
             "gridcolor": "white",
             "linecolor": "white",
             "minorgridcolor": "white",
             "startlinecolor": "#2a3f5f"
            },
            "type": "carpet"
           }
          ],
          "choropleth": [
           {
            "colorbar": {
             "outlinewidth": 0,
             "ticks": ""
            },
            "type": "choropleth"
           }
          ],
          "contour": [
           {
            "colorbar": {
             "outlinewidth": 0,
             "ticks": ""
            },
            "colorscale": [
             [
              0,
              "#0d0887"
             ],
             [
              0.1111111111111111,
              "#46039f"
             ],
             [
              0.2222222222222222,
              "#7201a8"
             ],
             [
              0.3333333333333333,
              "#9c179e"
             ],
             [
              0.4444444444444444,
              "#bd3786"
             ],
             [
              0.5555555555555556,
              "#d8576b"
             ],
             [
              0.6666666666666666,
              "#ed7953"
             ],
             [
              0.7777777777777778,
              "#fb9f3a"
             ],
             [
              0.8888888888888888,
              "#fdca26"
             ],
             [
              1,
              "#f0f921"
             ]
            ],
            "type": "contour"
           }
          ],
          "contourcarpet": [
           {
            "colorbar": {
             "outlinewidth": 0,
             "ticks": ""
            },
            "type": "contourcarpet"
           }
          ],
          "heatmap": [
           {
            "colorbar": {
             "outlinewidth": 0,
             "ticks": ""
            },
            "colorscale": [
             [
              0,
              "#0d0887"
             ],
             [
              0.1111111111111111,
              "#46039f"
             ],
             [
              0.2222222222222222,
              "#7201a8"
             ],
             [
              0.3333333333333333,
              "#9c179e"
             ],
             [
              0.4444444444444444,
              "#bd3786"
             ],
             [
              0.5555555555555556,
              "#d8576b"
             ],
             [
              0.6666666666666666,
              "#ed7953"
             ],
             [
              0.7777777777777778,
              "#fb9f3a"
             ],
             [
              0.8888888888888888,
              "#fdca26"
             ],
             [
              1,
              "#f0f921"
             ]
            ],
            "type": "heatmap"
           }
          ],
          "heatmapgl": [
           {
            "colorbar": {
             "outlinewidth": 0,
             "ticks": ""
            },
            "colorscale": [
             [
              0,
              "#0d0887"
             ],
             [
              0.1111111111111111,
              "#46039f"
             ],
             [
              0.2222222222222222,
              "#7201a8"
             ],
             [
              0.3333333333333333,
              "#9c179e"
             ],
             [
              0.4444444444444444,
              "#bd3786"
             ],
             [
              0.5555555555555556,
              "#d8576b"
             ],
             [
              0.6666666666666666,
              "#ed7953"
             ],
             [
              0.7777777777777778,
              "#fb9f3a"
             ],
             [
              0.8888888888888888,
              "#fdca26"
             ],
             [
              1,
              "#f0f921"
             ]
            ],
            "type": "heatmapgl"
           }
          ],
          "histogram": [
           {
            "marker": {
             "pattern": {
              "fillmode": "overlay",
              "size": 10,
              "solidity": 0.2
             }
            },
            "type": "histogram"
           }
          ],
          "histogram2d": [
           {
            "colorbar": {
             "outlinewidth": 0,
             "ticks": ""
            },
            "colorscale": [
             [
              0,
              "#0d0887"
             ],
             [
              0.1111111111111111,
              "#46039f"
             ],
             [
              0.2222222222222222,
              "#7201a8"
             ],
             [
              0.3333333333333333,
              "#9c179e"
             ],
             [
              0.4444444444444444,
              "#bd3786"
             ],
             [
              0.5555555555555556,
              "#d8576b"
             ],
             [
              0.6666666666666666,
              "#ed7953"
             ],
             [
              0.7777777777777778,
              "#fb9f3a"
             ],
             [
              0.8888888888888888,
              "#fdca26"
             ],
             [
              1,
              "#f0f921"
             ]
            ],
            "type": "histogram2d"
           }
          ],
          "histogram2dcontour": [
           {
            "colorbar": {
             "outlinewidth": 0,
             "ticks": ""
            },
            "colorscale": [
             [
              0,
              "#0d0887"
             ],
             [
              0.1111111111111111,
              "#46039f"
             ],
             [
              0.2222222222222222,
              "#7201a8"
             ],
             [
              0.3333333333333333,
              "#9c179e"
             ],
             [
              0.4444444444444444,
              "#bd3786"
             ],
             [
              0.5555555555555556,
              "#d8576b"
             ],
             [
              0.6666666666666666,
              "#ed7953"
             ],
             [
              0.7777777777777778,
              "#fb9f3a"
             ],
             [
              0.8888888888888888,
              "#fdca26"
             ],
             [
              1,
              "#f0f921"
             ]
            ],
            "type": "histogram2dcontour"
           }
          ],
          "mesh3d": [
           {
            "colorbar": {
             "outlinewidth": 0,
             "ticks": ""
            },
            "type": "mesh3d"
           }
          ],
          "parcoords": [
           {
            "line": {
             "colorbar": {
              "outlinewidth": 0,
              "ticks": ""
             }
            },
            "type": "parcoords"
           }
          ],
          "pie": [
           {
            "automargin": true,
            "type": "pie"
           }
          ],
          "scatter": [
           {
            "fillpattern": {
             "fillmode": "overlay",
             "size": 10,
             "solidity": 0.2
            },
            "type": "scatter"
           }
          ],
          "scatter3d": [
           {
            "line": {
             "colorbar": {
              "outlinewidth": 0,
              "ticks": ""
             }
            },
            "marker": {
             "colorbar": {
              "outlinewidth": 0,
              "ticks": ""
             }
            },
            "type": "scatter3d"
           }
          ],
          "scattercarpet": [
           {
            "marker": {
             "colorbar": {
              "outlinewidth": 0,
              "ticks": ""
             }
            },
            "type": "scattercarpet"
           }
          ],
          "scattergeo": [
           {
            "marker": {
             "colorbar": {
              "outlinewidth": 0,
              "ticks": ""
             }
            },
            "type": "scattergeo"
           }
          ],
          "scattergl": [
           {
            "marker": {
             "colorbar": {
              "outlinewidth": 0,
              "ticks": ""
             }
            },
            "type": "scattergl"
           }
          ],
          "scattermapbox": [
           {
            "marker": {
             "colorbar": {
              "outlinewidth": 0,
              "ticks": ""
             }
            },
            "type": "scattermapbox"
           }
          ],
          "scatterpolar": [
           {
            "marker": {
             "colorbar": {
              "outlinewidth": 0,
              "ticks": ""
             }
            },
            "type": "scatterpolar"
           }
          ],
          "scatterpolargl": [
           {
            "marker": {
             "colorbar": {
              "outlinewidth": 0,
              "ticks": ""
             }
            },
            "type": "scatterpolargl"
           }
          ],
          "scatterternary": [
           {
            "marker": {
             "colorbar": {
              "outlinewidth": 0,
              "ticks": ""
             }
            },
            "type": "scatterternary"
           }
          ],
          "surface": [
           {
            "colorbar": {
             "outlinewidth": 0,
             "ticks": ""
            },
            "colorscale": [
             [
              0,
              "#0d0887"
             ],
             [
              0.1111111111111111,
              "#46039f"
             ],
             [
              0.2222222222222222,
              "#7201a8"
             ],
             [
              0.3333333333333333,
              "#9c179e"
             ],
             [
              0.4444444444444444,
              "#bd3786"
             ],
             [
              0.5555555555555556,
              "#d8576b"
             ],
             [
              0.6666666666666666,
              "#ed7953"
             ],
             [
              0.7777777777777778,
              "#fb9f3a"
             ],
             [
              0.8888888888888888,
              "#fdca26"
             ],
             [
              1,
              "#f0f921"
             ]
            ],
            "type": "surface"
           }
          ],
          "table": [
           {
            "cells": {
             "fill": {
              "color": "#EBF0F8"
             },
             "line": {
              "color": "white"
             }
            },
            "header": {
             "fill": {
              "color": "#C8D4E3"
             },
             "line": {
              "color": "white"
             }
            },
            "type": "table"
           }
          ]
         },
         "layout": {
          "annotationdefaults": {
           "arrowcolor": "#2a3f5f",
           "arrowhead": 0,
           "arrowwidth": 1
          },
          "autotypenumbers": "strict",
          "coloraxis": {
           "colorbar": {
            "outlinewidth": 0,
            "ticks": ""
           }
          },
          "colorscale": {
           "diverging": [
            [
             0,
             "#8e0152"
            ],
            [
             0.1,
             "#c51b7d"
            ],
            [
             0.2,
             "#de77ae"
            ],
            [
             0.3,
             "#f1b6da"
            ],
            [
             0.4,
             "#fde0ef"
            ],
            [
             0.5,
             "#f7f7f7"
            ],
            [
             0.6,
             "#e6f5d0"
            ],
            [
             0.7,
             "#b8e186"
            ],
            [
             0.8,
             "#7fbc41"
            ],
            [
             0.9,
             "#4d9221"
            ],
            [
             1,
             "#276419"
            ]
           ],
           "sequential": [
            [
             0,
             "#0d0887"
            ],
            [
             0.1111111111111111,
             "#46039f"
            ],
            [
             0.2222222222222222,
             "#7201a8"
            ],
            [
             0.3333333333333333,
             "#9c179e"
            ],
            [
             0.4444444444444444,
             "#bd3786"
            ],
            [
             0.5555555555555556,
             "#d8576b"
            ],
            [
             0.6666666666666666,
             "#ed7953"
            ],
            [
             0.7777777777777778,
             "#fb9f3a"
            ],
            [
             0.8888888888888888,
             "#fdca26"
            ],
            [
             1,
             "#f0f921"
            ]
           ],
           "sequentialminus": [
            [
             0,
             "#0d0887"
            ],
            [
             0.1111111111111111,
             "#46039f"
            ],
            [
             0.2222222222222222,
             "#7201a8"
            ],
            [
             0.3333333333333333,
             "#9c179e"
            ],
            [
             0.4444444444444444,
             "#bd3786"
            ],
            [
             0.5555555555555556,
             "#d8576b"
            ],
            [
             0.6666666666666666,
             "#ed7953"
            ],
            [
             0.7777777777777778,
             "#fb9f3a"
            ],
            [
             0.8888888888888888,
             "#fdca26"
            ],
            [
             1,
             "#f0f921"
            ]
           ]
          },
          "colorway": [
           "#636efa",
           "#EF553B",
           "#00cc96",
           "#ab63fa",
           "#FFA15A",
           "#19d3f3",
           "#FF6692",
           "#B6E880",
           "#FF97FF",
           "#FECB52"
          ],
          "font": {
           "color": "#2a3f5f"
          },
          "geo": {
           "bgcolor": "white",
           "lakecolor": "white",
           "landcolor": "#E5ECF6",
           "showlakes": true,
           "showland": true,
           "subunitcolor": "white"
          },
          "hoverlabel": {
           "align": "left"
          },
          "hovermode": "closest",
          "mapbox": {
           "style": "light"
          },
          "paper_bgcolor": "white",
          "plot_bgcolor": "#E5ECF6",
          "polar": {
           "angularaxis": {
            "gridcolor": "white",
            "linecolor": "white",
            "ticks": ""
           },
           "bgcolor": "#E5ECF6",
           "radialaxis": {
            "gridcolor": "white",
            "linecolor": "white",
            "ticks": ""
           }
          },
          "scene": {
           "xaxis": {
            "backgroundcolor": "#E5ECF6",
            "gridcolor": "white",
            "gridwidth": 2,
            "linecolor": "white",
            "showbackground": true,
            "ticks": "",
            "zerolinecolor": "white"
           },
           "yaxis": {
            "backgroundcolor": "#E5ECF6",
            "gridcolor": "white",
            "gridwidth": 2,
            "linecolor": "white",
            "showbackground": true,
            "ticks": "",
            "zerolinecolor": "white"
           },
           "zaxis": {
            "backgroundcolor": "#E5ECF6",
            "gridcolor": "white",
            "gridwidth": 2,
            "linecolor": "white",
            "showbackground": true,
            "ticks": "",
            "zerolinecolor": "white"
           }
          },
          "shapedefaults": {
           "line": {
            "color": "#2a3f5f"
           }
          },
          "ternary": {
           "aaxis": {
            "gridcolor": "white",
            "linecolor": "white",
            "ticks": ""
           },
           "baxis": {
            "gridcolor": "white",
            "linecolor": "white",
            "ticks": ""
           },
           "bgcolor": "#E5ECF6",
           "caxis": {
            "gridcolor": "white",
            "linecolor": "white",
            "ticks": ""
           }
          },
          "title": {
           "x": 0.05
          },
          "xaxis": {
           "automargin": true,
           "gridcolor": "white",
           "linecolor": "white",
           "ticks": "",
           "title": {
            "standoff": 15
           },
           "zerolinecolor": "white",
           "zerolinewidth": 2
          },
          "yaxis": {
           "automargin": true,
           "gridcolor": "white",
           "linecolor": "white",
           "ticks": "",
           "title": {
            "standoff": 15
           },
           "zerolinecolor": "white",
           "zerolinewidth": 2
          }
         }
        },
        "treemapcolorway": [
         "#FF0420",
         "#DDD"
        ]
       }
      },
      "text/html": [
       "<div>                            <div id=\"8b4b1d31-ac29-4ae2-8686-f8910ace97e1\" class=\"plotly-graph-div\" style=\"height:525px; width:100%;\"></div>            <script type=\"text/javascript\">                require([\"plotly\"], function(Plotly) {                    window.PLOTLYENV=window.PLOTLYENV || {};                                    if (document.getElementById(\"8b4b1d31-ac29-4ae2-8686-f8910ace97e1\")) {                    Plotly.newPlot(                        \"8b4b1d31-ac29-4ae2-8686-f8910ace97e1\",                        [{\"branchvalues\":\"total\",\"domain\":{\"x\":[0.0,1.0],\"y\":[0.0,1.0]},\"hovertemplate\":\"labels=%{label}<br>amount=%{value}<br>parent=%{parent}<br>id=%{id}<extra></extra>\",\"ids\":[\"Returning participants/0x-splits\",\"First time participants in Retro Funding/0xdeployer-ham\",\"First time participants in Retro Funding/0xkawz-circle-tech\",\"First time participants in Retro Funding/0xproject\",\"First time participants in Retro Funding/0xsend\",\"First time participants in Retro Funding/0xsequence\",\"First time participants in Retro Funding/3dns-xyz\",\"First time participants in Retro Funding/aave\",\"Returning participants/across\",\"Returning participants/aerodrome-finance\",\"First time participants in Retro Funding/alchemix\",\"First time participants in Retro Funding/alienbase-xyz\",\"First time participants in Retro Funding/ambiretech\",\"First time participants in Retro Funding/aragon\",\"First time participants in Retro Funding/arcadia-finance\",\"First time participants in Retro Funding/archlyfi\",\"First time participants in Retro Funding/arks-labs\",\"First time participants in Retro Funding/ashwwwin-liquidify\",\"First time participants in Retro Funding/astariaxyz\",\"First time participants in Retro Funding/aura\",\"First time participants in Retro Funding/avantis-labs\",\"First time participants in Retro Funding/balancer\",\"First time participants in Retro Funding/based-bodega\",\"First time participants in Retro Funding/basepaint\",\"First time participants in Retro Funding/basepunks-apexethdev\",\"First time participants in Retro Funding/baseswapfi\",\"First time participants in Retro Funding/beefy-finance\",\"First time participants in Retro Funding/bguan2020-unlonely\",\"First time participants in Retro Funding/biconomy\",\"First time participants in Retro Funding/blobs-live-apexethdev\",\"First time participants in Retro Funding/bodhi-levi0214\",\"First time participants in Retro Funding/bored-town\",\"First time participants in Retro Funding/brine-finance\",\"First time participants in Retro Funding/bsx-exchange\",\"First time participants in Retro Funding/buidlerfi-talentprotocol\",\"Returning participants/buidlguidl\",\"First time participants in Retro Funding/byte-masons-ethos-reserve\",\"First time participants in Retro Funding/catalogworks\",\"First time participants in Retro Funding/coinvise\",\"First time participants in Retro Funding/compound-finance\",\"Returning participants/coordinape\",\"Returning participants/copin-protocol\",\"First time participants in Retro Funding/corbinpage-king-of-the-degens\",\"First time participants in Retro Funding/createmytoken\",\"Returning participants/crowdmuse\",\"First time participants in Retro Funding/cyberconnecthq\",\"First time participants in Retro Funding/d-hedge\",\"First time participants in Retro Funding/dackienft-contracts-dackieswap\",\"First time participants in Retro Funding/dackieswap\",\"Returning participants/daimo-eth\",\"Returning participants/dapp-learning-dao\",\"Returning participants/dappradar\",\"First time participants in Retro Funding/debridge-finance\",\"Returning participants/decent\",\"Returning participants/defi-llama\",\"Returning participants/defieye\",\"First time participants in Retro Funding/devtrou-int\",\"First time participants in Retro Funding/dino_contracts-apexethdev\",\"First time participants in Retro Funding/distractionboy-optichads\",\"First time participants in Retro Funding/dmailofficial\",\"First time participants in Retro Funding/doginme\",\"First time participants in Retro Funding/duonghb53-piraswap\",\"Returning participants/eco-association\",\"First time participants in Retro Funding/egg-wars\",\"First time participants in Retro Funding/elonsdev-blob-farm\",\"First time participants in Retro Funding/enjoy-tech\",\"Returning participants/eth-infinitism-account-abstraction\",\"Returning participants/ethereum-attestation-service\",\"First time participants in Retro Funding/eugenix.io\",\"First time participants in Retro Funding/exactly\",\"First time participants in Retro Funding/extra-finance\",\"First time participants in Retro Funding/figs999-basic-dog-meme\",\"Returning participants/fractal-visions\",\"First time participants in Retro Funding/ftm1337-equalizer\",\"First time participants in Retro Funding/fxhash\",\"First time participants in Retro Funding/gammastrategies\",\"First time participants in Retro Funding/getmint-io\",\"First time participants in Retro Funding/gfx-labs\",\"Returning participants/gitcoin\",\"Returning participants/giveth\",\"First time participants in Retro Funding/glo-foundation\",\"First time participants in Retro Funding/gloom-labs\",\"First time participants in Retro Funding/granary\",\"First time participants in Retro Funding/guacbase-dailofrog\",\"Returning participants/guildxyz\",\"First time participants in Retro Funding/hai-on-op\",\"First time participants in Retro Funding/harvestfi\",\"Returning participants/hats-protocol\",\"Returning participants/hedgey-finance\",\"First time participants in Retro Funding/highlightxyz\",\"First time participants in Retro Funding/hoanhan101-your-brians\",\"Returning participants/holograph\",\"Returning participants/holonym-foundation\",\"First time participants in Retro Funding/hyperlane-xyz\",\"First time participants in Retro Funding/idle-finance\",\"First time participants in Retro Funding/infusion-finance\",\"First time participants in Retro Funding/ionicprotocol\",\"First time participants in Retro Funding/izumi-finance\",\"First time participants in Retro Funding/jhekub-building-blocks\",\"First time participants in Retro Funding/kenglernitas\",\"First time participants in Retro Funding/kim-protocol\",\"First time participants in Retro Funding/kingsimpa69-homes\",\"Returning participants/kiwi-news-attestate\",\"Returning participants/kwenta\",\"First time participants in Retro Funding/l2pass\",\"First time participants in Retro Funding/layer-zero\",\"Returning participants/layer3xyz\",\"First time participants in Retro Funding/lenspost-labs\",\"First time participants in Retro Funding/lido\",\"First time participants in Retro Funding/lifinance\",\"First time participants in Retro Funding/linkdrophq\",\"First time participants in Retro Funding/llamapay\",\"First time participants in Retro Funding/manifold\",\"First time participants in Retro Funding/maverickprotocol\",\"First time participants in Retro Funding/mcgingras-loot2\",\"First time participants in Retro Funding/metronome-autonomoussoftware\",\"First time participants in Retro Funding/michaelcohen716-crypto-composite\",\"First time participants in Retro Funding/mintify-inc\",\"First time participants in Retro Funding/mochimons-mochimonsdev\",\"First time participants in Retro Funding/moneymandoug-base-doge\",\"Returning participants/moonwell-fi\",\"First time participants in Retro Funding/morkiexyz\",\"First time participants in Retro Funding/morphex-labs\",\"Returning participants/multicall-mds1\",\"Returning participants/multicaller-vectorized\",\"First time participants in Retro Funding/mystcl\",\"First time participants in Retro Funding/nfthook\",\"First time participants in Retro Funding/nfts2me\",\"First time participants in Retro Funding/nifty-kit\",\"First time participants in Retro Funding/nnsprotocol\",\"First time participants in Retro Funding/nogem-app\",\"Returning participants/nouns-ourzora\",\"First time participants in Retro Funding/odos-xyz\",\"First time participants in Retro Funding/omni-x-nft\",\"First time participants in Retro Funding/omnihub-xyz\",\"First time participants in Retro Funding/omnisea\",\"First time participants in Retro Funding/onchain-cubes-dailofrog\",\"Returning participants/openocean-finance\",\"Returning participants/opti-domains\",\"First time participants in Retro Funding/ora-io\",\"First time participants in Retro Funding/orderlynetwork\",\"First time participants in Retro Funding/overnight\",\"First time participants in Retro Funding/owlto-finance\",\"First time participants in Retro Funding/paragraph-xyz\",\"First time participants in Retro Funding/paraswap\",\"First time participants in Retro Funding/party-dao\",\"First time participants in Retro Funding/passportxyz\",\"First time participants in Retro Funding/paws-vote-mykcryptodev\",\"First time participants in Retro Funding/perpetual-protocol\",\"Returning participants/pheasant-network\",\"First time participants in Retro Funding/phi-labs-inc\",\"First time participants in Retro Funding/pika-protocol\",\"First time participants in Retro Funding/pixotchi\",\"First time participants in Retro Funding/pods-media\",\"Returning participants/polynomial-protocol\",\"Returning participants/pool-together\",\"First time participants in Retro Funding/portals-fi\",\"First time participants in Retro Funding/preonmoney\",\"First time participants in Retro Funding/print3rxyz\",\"Returning participants/punk-domains\",\"Returning participants/pyth-network\",\"First time participants in Retro Funding/qidao-mai-finance\",\"Returning participants/rabbithole\",\"Returning participants/rainbow\",\"First time participants in Retro Funding/rarible\",\"First time participants in Retro Funding/reserve-protocol\",\"Returning participants/revert-finance\",\"First time participants in Retro Funding/rmrk-team\",\"First time participants in Retro Funding/router-protocol\",\"First time participants in Retro Funding/rubyscore\",\"First time participants in Retro Funding/runners-dev\",\"First time participants in Retro Funding/sablier\",\"First time participants in Retro Funding/sbauch-speedtracer\",\"Returning participants/scryprotocol\",\"Returning participants/seamless-protocol\",\"First time participants in Retro Funding/sheep-nft-oktomaschine\",\"Returning participants/shipyard-software\",\"First time participants in Retro Funding/showtime-xyz\",\"First time participants in Retro Funding/sixonchain-blocks\",\"First time participants in Retro Funding/slice-so\",\"Returning participants/slugs-protocol-bernatfp\",\"Returning participants/smoldapp\",\"Returning participants/sonne-finance\",\"First time participants in Retro Funding/sound-xyz\",\"First time participants in Retro Funding/stargate-finance\",\"First time participants in Retro Funding/stephharris-receipts\",\"Returning participants/streamethorg\",\"First time participants in Retro Funding/sturdyfi\",\"First time participants in Retro Funding/sudoswap\",\"First time participants in Retro Funding/summer-fi\",\"First time participants in Retro Funding/superfluid\",\"First time participants in Retro Funding/supswap\",\"Returning participants/sushi\",\"First time participants in Retro Funding/swapbased\",\"First time participants in Retro Funding/swapmode\",\"First time participants in Retro Funding/symm-io\",\"Returning participants/synapse\",\"First time participants in Retro Funding/synonymfinance\",\"Returning participants/synthetix\",\"First time participants in Retro Funding/talentprotocol\",\"First time participants in Retro Funding/tarot-finance\",\"First time participants in Retro Funding/thales\",\"First time participants in Retro Funding/theopenxproject\",\"First time participants in Retro Funding/tinybasedfrog-dailofrog\",\"First time participants in Retro Funding/titlesnyc\",\"First time participants in Retro Funding/tlx-protocol\",\"First time participants in Retro Funding/tokepad-smolstudios\",\"First time participants in Retro Funding/trashnfts\",\"Returning participants/umbra-scopelift\",\"First time participants in Retro Funding/uncx-network\",\"First time participants in Retro Funding/unioncredit\",\"First time participants in Retro Funding/unitapapp\",\"First time participants in Retro Funding/velocimeter\",\"Returning participants/velodrome\",\"First time participants in Retro Funding/vesper\",\"First time participants in Retro Funding/virtual-protocol\",\"First time participants in Retro Funding/wearedayone-casino-tycoon\",\"First time participants in Retro Funding/wieldlabs\",\"First time participants in Retro Funding/withfabricxyz\",\"First time participants in Retro Funding/wombat-exchange\",\"First time participants in Retro Funding/woonetwork\",\"First time participants in Retro Funding/wormhole\",\"First time participants in Retro Funding/xswaplink\",\"First time participants in Retro Funding/z80dev-ethxy_poker\",\"First time participants in Retro Funding/zerion\",\"First time participants in Retro Funding/zerius-io\",\"First time participants in Retro Funding/zkbob\",\"First time participants in Retro Funding/zkp2p\",\"Returning participants/zora\",\"First time participants in Retro Funding/zwergdev-whale-bridge\",\"First time participants in Retro Funding\",\"Returning participants\"],\"labels\":[\"0x-splits\",\"0xdeployer-ham\",\"0xkawz-circle-tech\",\"0xproject\",\"0xsend\",\"0xsequence\",\"3dns-xyz\",\"aave\",\"across\",\"aerodrome-finance\",\"alchemix\",\"alienbase-xyz\",\"ambiretech\",\"aragon\",\"arcadia-finance\",\"archlyfi\",\"arks-labs\",\"ashwwwin-liquidify\",\"astariaxyz\",\"aura\",\"avantis-labs\",\"balancer\",\"based-bodega\",\"basepaint\",\"basepunks-apexethdev\",\"baseswapfi\",\"beefy-finance\",\"bguan2020-unlonely\",\"biconomy\",\"blobs-live-apexethdev\",\"bodhi-levi0214\",\"bored-town\",\"brine-finance\",\"bsx-exchange\",\"buidlerfi-talentprotocol\",\"buidlguidl\",\"byte-masons-ethos-reserve\",\"catalogworks\",\"coinvise\",\"compound-finance\",\"coordinape\",\"copin-protocol\",\"corbinpage-king-of-the-degens\",\"createmytoken\",\"crowdmuse\",\"cyberconnecthq\",\"d-hedge\",\"dackienft-contracts-dackieswap\",\"dackieswap\",\"daimo-eth\",\"dapp-learning-dao\",\"dappradar\",\"debridge-finance\",\"decent\",\"defi-llama\",\"defieye\",\"devtrou-int\",\"dino_contracts-apexethdev\",\"distractionboy-optichads\",\"dmailofficial\",\"doginme\",\"duonghb53-piraswap\",\"eco-association\",\"egg-wars\",\"elonsdev-blob-farm\",\"enjoy-tech\",\"eth-infinitism-account-abstraction\",\"ethereum-attestation-service\",\"eugenix.io\",\"exactly\",\"extra-finance\",\"figs999-basic-dog-meme\",\"fractal-visions\",\"ftm1337-equalizer\",\"fxhash\",\"gammastrategies\",\"getmint-io\",\"gfx-labs\",\"gitcoin\",\"giveth\",\"glo-foundation\",\"gloom-labs\",\"granary\",\"guacbase-dailofrog\",\"guildxyz\",\"hai-on-op\",\"harvestfi\",\"hats-protocol\",\"hedgey-finance\",\"highlightxyz\",\"hoanhan101-your-brians\",\"holograph\",\"holonym-foundation\",\"hyperlane-xyz\",\"idle-finance\",\"infusion-finance\",\"ionicprotocol\",\"izumi-finance\",\"jhekub-building-blocks\",\"kenglernitas\",\"kim-protocol\",\"kingsimpa69-homes\",\"kiwi-news-attestate\",\"kwenta\",\"l2pass\",\"layer-zero\",\"layer3xyz\",\"lenspost-labs\",\"lido\",\"lifinance\",\"linkdrophq\",\"llamapay\",\"manifold\",\"maverickprotocol\",\"mcgingras-loot2\",\"metronome-autonomoussoftware\",\"michaelcohen716-crypto-composite\",\"mintify-inc\",\"mochimons-mochimonsdev\",\"moneymandoug-base-doge\",\"moonwell-fi\",\"morkiexyz\",\"morphex-labs\",\"multicall-mds1\",\"multicaller-vectorized\",\"mystcl\",\"nfthook\",\"nfts2me\",\"nifty-kit\",\"nnsprotocol\",\"nogem-app\",\"nouns-ourzora\",\"odos-xyz\",\"omni-x-nft\",\"omnihub-xyz\",\"omnisea\",\"onchain-cubes-dailofrog\",\"openocean-finance\",\"opti-domains\",\"ora-io\",\"orderlynetwork\",\"overnight\",\"owlto-finance\",\"paragraph-xyz\",\"paraswap\",\"party-dao\",\"passportxyz\",\"paws-vote-mykcryptodev\",\"perpetual-protocol\",\"pheasant-network\",\"phi-labs-inc\",\"pika-protocol\",\"pixotchi\",\"pods-media\",\"polynomial-protocol\",\"pool-together\",\"portals-fi\",\"preonmoney\",\"print3rxyz\",\"punk-domains\",\"pyth-network\",\"qidao-mai-finance\",\"rabbithole\",\"rainbow\",\"rarible\",\"reserve-protocol\",\"revert-finance\",\"rmrk-team\",\"router-protocol\",\"rubyscore\",\"runners-dev\",\"sablier\",\"sbauch-speedtracer\",\"scryprotocol\",\"seamless-protocol\",\"sheep-nft-oktomaschine\",\"shipyard-software\",\"showtime-xyz\",\"sixonchain-blocks\",\"slice-so\",\"slugs-protocol-bernatfp\",\"smoldapp\",\"sonne-finance\",\"sound-xyz\",\"stargate-finance\",\"stephharris-receipts\",\"streamethorg\",\"sturdyfi\",\"sudoswap\",\"summer-fi\",\"superfluid\",\"supswap\",\"sushi\",\"swapbased\",\"swapmode\",\"symm-io\",\"synapse\",\"synonymfinance\",\"synthetix\",\"talentprotocol\",\"tarot-finance\",\"thales\",\"theopenxproject\",\"tinybasedfrog-dailofrog\",\"titlesnyc\",\"tlx-protocol\",\"tokepad-smolstudios\",\"trashnfts\",\"umbra-scopelift\",\"uncx-network\",\"unioncredit\",\"unitapapp\",\"velocimeter\",\"velodrome\",\"vesper\",\"virtual-protocol\",\"wearedayone-casino-tycoon\",\"wieldlabs\",\"withfabricxyz\",\"wombat-exchange\",\"woonetwork\",\"wormhole\",\"xswaplink\",\"z80dev-ethxy_poker\",\"zerion\",\"zerius-io\",\"zkbob\",\"zkp2p\",\"zora\",\"zwergdev-whale-bridge\",\"First time participants in Retro Funding\",\"Returning participants\"],\"name\":\"\",\"parents\":[\"Returning participants\",\"First time participants in Retro Funding\",\"First time participants in Retro Funding\",\"First time participants in Retro Funding\",\"First time participants in Retro Funding\",\"First time participants in Retro Funding\",\"First time participants in Retro Funding\",\"First time participants in Retro Funding\",\"Returning participants\",\"Returning participants\",\"First time participants in Retro Funding\",\"First time participants in Retro Funding\",\"First time participants in Retro Funding\",\"First time participants in Retro Funding\",\"First time participants in Retro Funding\",\"First time participants in Retro Funding\",\"First time participants in Retro Funding\",\"First time participants in Retro Funding\",\"First time participants in Retro Funding\",\"First time participants in Retro Funding\",\"First time participants in Retro Funding\",\"First time participants in Retro Funding\",\"First time participants in Retro Funding\",\"First time participants in Retro Funding\",\"First time participants in Retro Funding\",\"First time participants in Retro Funding\",\"First time participants in Retro Funding\",\"First time participants in Retro Funding\",\"First time participants in Retro Funding\",\"First time participants in Retro Funding\",\"First time participants in Retro Funding\",\"First time participants in Retro Funding\",\"First time participants in Retro Funding\",\"First time participants in Retro Funding\",\"First time participants in Retro Funding\",\"Returning participants\",\"First time participants in Retro Funding\",\"First time participants in Retro Funding\",\"First time participants in Retro Funding\",\"First time participants in Retro Funding\",\"Returning participants\",\"Returning participants\",\"First time participants in Retro Funding\",\"First time participants in Retro Funding\",\"Returning participants\",\"First time participants in Retro Funding\",\"First time participants in Retro Funding\",\"First time participants in Retro Funding\",\"First time participants in Retro Funding\",\"Returning participants\",\"Returning participants\",\"Returning participants\",\"First time participants in Retro Funding\",\"Returning participants\",\"Returning participants\",\"Returning participants\",\"First time participants in Retro Funding\",\"First time participants in Retro Funding\",\"First time participants in Retro Funding\",\"First time participants in Retro Funding\",\"First time participants in Retro Funding\",\"First time participants in Retro Funding\",\"Returning participants\",\"First time participants in Retro Funding\",\"First time participants in Retro Funding\",\"First time participants in Retro Funding\",\"Returning participants\",\"Returning participants\",\"First time participants in Retro Funding\",\"First time participants in Retro Funding\",\"First time participants in Retro Funding\",\"First time participants in Retro Funding\",\"Returning participants\",\"First time participants in Retro Funding\",\"First time participants in Retro Funding\",\"First time participants in Retro Funding\",\"First time participants in Retro Funding\",\"First time participants in Retro Funding\",\"Returning participants\",\"Returning participants\",\"First time participants in Retro Funding\",\"First time participants in Retro Funding\",\"First time participants in Retro Funding\",\"First time participants in Retro Funding\",\"Returning participants\",\"First time participants in Retro Funding\",\"First time participants in Retro Funding\",\"Returning participants\",\"Returning participants\",\"First time participants in Retro Funding\",\"First time participants in Retro Funding\",\"Returning participants\",\"Returning participants\",\"First time participants in Retro Funding\",\"First time participants in Retro Funding\",\"First time participants in Retro Funding\",\"First time participants in Retro Funding\",\"First time participants in Retro Funding\",\"First time participants in Retro Funding\",\"First time participants in Retro Funding\",\"First time participants in Retro Funding\",\"First time participants in Retro Funding\",\"Returning participants\",\"Returning participants\",\"First time participants in Retro Funding\",\"First time participants in Retro Funding\",\"Returning participants\",\"First time participants in Retro Funding\",\"First time participants in Retro Funding\",\"First time participants in Retro Funding\",\"First time participants in Retro Funding\",\"First time participants in Retro Funding\",\"First time participants in Retro Funding\",\"First time participants in Retro Funding\",\"First time participants in Retro Funding\",\"First time participants in Retro Funding\",\"First time participants in Retro Funding\",\"First time participants in Retro Funding\",\"First time participants in Retro Funding\",\"First time participants in Retro Funding\",\"Returning participants\",\"First time participants in Retro Funding\",\"First time participants in Retro Funding\",\"Returning participants\",\"Returning participants\",\"First time participants in Retro Funding\",\"First time participants in Retro Funding\",\"First time participants in Retro Funding\",\"First time participants in Retro Funding\",\"First time participants in Retro Funding\",\"First time participants in Retro Funding\",\"Returning participants\",\"First time participants in Retro Funding\",\"First time participants in Retro Funding\",\"First time participants in Retro Funding\",\"First time participants in Retro Funding\",\"First time participants in Retro Funding\",\"Returning participants\",\"Returning participants\",\"First time participants in Retro Funding\",\"First time participants in Retro Funding\",\"First time participants in Retro Funding\",\"First time participants in Retro Funding\",\"First time participants in Retro Funding\",\"First time participants in Retro Funding\",\"First time participants in Retro Funding\",\"First time participants in Retro Funding\",\"First time participants in Retro Funding\",\"First time participants in Retro Funding\",\"Returning participants\",\"First time participants in Retro Funding\",\"First time participants in Retro Funding\",\"First time participants in Retro Funding\",\"First time participants in Retro Funding\",\"Returning participants\",\"Returning participants\",\"First time participants in Retro Funding\",\"First time participants in Retro Funding\",\"First time participants in Retro Funding\",\"Returning participants\",\"Returning participants\",\"First time participants in Retro Funding\",\"Returning participants\",\"Returning participants\",\"First time participants in Retro Funding\",\"First time participants in Retro Funding\",\"Returning participants\",\"First time participants in Retro Funding\",\"First time participants in Retro Funding\",\"First time participants in Retro Funding\",\"First time participants in Retro Funding\",\"First time participants in Retro Funding\",\"First time participants in Retro Funding\",\"Returning participants\",\"Returning participants\",\"First time participants in Retro Funding\",\"Returning participants\",\"First time participants in Retro Funding\",\"First time participants in Retro Funding\",\"First time participants in Retro Funding\",\"Returning participants\",\"Returning participants\",\"Returning participants\",\"First time participants in Retro Funding\",\"First time participants in Retro Funding\",\"First time participants in Retro Funding\",\"Returning participants\",\"First time participants in Retro Funding\",\"First time participants in Retro Funding\",\"First time participants in Retro Funding\",\"First time participants in Retro Funding\",\"First time participants in Retro Funding\",\"Returning participants\",\"First time participants in Retro Funding\",\"First time participants in Retro Funding\",\"First time participants in Retro Funding\",\"Returning participants\",\"First time participants in Retro Funding\",\"Returning participants\",\"First time participants in Retro Funding\",\"First time participants in Retro Funding\",\"First time participants in Retro Funding\",\"First time participants in Retro Funding\",\"First time participants in Retro Funding\",\"First time participants in Retro Funding\",\"First time participants in Retro Funding\",\"First time participants in Retro Funding\",\"First time participants in Retro Funding\",\"Returning participants\",\"First time participants in Retro Funding\",\"First time participants in Retro Funding\",\"First time participants in Retro Funding\",\"First time participants in Retro Funding\",\"Returning participants\",\"First time participants in Retro Funding\",\"First time participants in Retro Funding\",\"First time participants in Retro Funding\",\"First time participants in Retro Funding\",\"First time participants in Retro Funding\",\"First time participants in Retro Funding\",\"First time participants in Retro Funding\",\"First time participants in Retro Funding\",\"First time participants in Retro Funding\",\"First time participants in Retro Funding\",\"First time participants in Retro Funding\",\"First time participants in Retro Funding\",\"First time participants in Retro Funding\",\"First time participants in Retro Funding\",\"Returning participants\",\"First time participants in Retro Funding\",\"\",\"\"],\"values\":[0.19768603831017761,1.0916556090868037,2.879917674375382,75.02457221635105,0.03273209264632625,0.04765171946855676,0.27364701513157913,10.351225989925805,26.091996937203433,118.94163553450252,0.02606605105363639,11.843084263116225,0.024270149649836946,0.06509420897104902,0.6836566937965134,0.0500734924226029,0.1392065462524215,0.16550681677181014,0.088242136886214,0.33155347449068806,17.640430064363624,3.25663903576825,0.002622191581146136,1.7396429774984912,0.027486610629785357,26.535283861752966,5.892651927802947,0.06751252103821812,0.6806975686827653,0.06892907009855552,0.3008040688704946,0.2881870695606818,0.005955103208982554,7.8680285752857815,0.2571284672781097,0.40791036751182963,0.15477353633099145,0.061653105882649224,3.23693320406695,4.125726664963422,0.24504445501625707,0.48804134835276836,0.26230832389009223,1.9588143598524e-05,0.0393394149086328,12.138704700561778,2.894592505018963,0.6002071203665958,3.59511756830311,0.15027693714625087,0.017489477526092558,0.04208021164520654,89.13475850976855,8.883274512866452,0.17165090901671098,0.05123594333313486,0.05110202077062922,0.04873865452454019,0.0972746667526442,4.409356866367965,0.7448166162103762,0.02800518331071139,0.00170227395523221,0.10923371180816853,0.32964299773060435,0.38747243198265047,203.2287742157504,4.8065890009594865,26.14392122318592,1.3211168347729263,49.741792138148924,0.051225951624223914,0.03376013156349465,3.757420312770803,3.694810232504209,6.854989063979817,0.6530442006799773,0.04234341905939241,0.3187884373606564,0.01911547113688545,0.014527647631074066,0.17210146705989215,0.7887309402100283,0.04388587271131582,0.6644730008334049,1.0645376359511305,0.5108717659473346,0.011554201029329504,0.9986030815596221,2.375989872560658,0.06372696965653384,26.260799731698423,27.986195632593944,11.586571262440048,0.24117534410933295,0.9834955886667411,73.15347359733454,4.212423739982305,0.007300263651801349,0.40342018694056603,51.45501117358072,0.20826045514394959,0.007477284700065432,102.90798764536615,5.225852217466219,115.86988758044957,106.72039030228866,0.3991157908246882,0.07501136860053624,41.4429896916496,1.1383292937363056,0.03290857503423413,13.272952941848361,10.832237879010092,0.32629079594482907,0.19482630675273702,0.004814245119858751,0.2062484171819187,0.1537327046462094,0.026232655883776997,14.990774992834558,0.10539303054815825,2.924234635829984,20.654134396033808,11.667568375612133,0.7643289894813521,2.4166207928213073,20.302418449471393,0.4755142670209828,0.10698523116544194,1.0205496350350234,1.323362697646781,70.37063752481153,1.5585972935372936,0.37431094363211026,1.5234932816918267,0.004840640080042925,5.120034008843352,0.4049166820029914,0.36737233576934153,1.0481922178018053,4.388609311467343,0.8744730567001635,2.841488923173226,9.164179338063192,6.979226862143445,2.615114569995264,0.03134961510087854,119.54084677158042,0.523848601273464,6.248182323001005,3.042205744393182,0.8908041295327696,1.2820938227288805,1.742630672695446,0.4886495134667913,0.3332882037568139,0.1278780394768946,2.4218605071562047,0.5641889896358212,0.08494982319626436,0.09403265866750618,7.082430963034182,4.639844277818535,0.17426427019181004,0.45931182429773454,0.8048510926523729,0.3112007472391193,2.441342527421171,0.7793697804734474,0.025662672549686787,0.010245009958772373,0.28168492845040727,0.31269905325805564,11.262816231012632,0.1840451761809635,0.16763505759274658,0.48779267529637177,6.169622417111807,0.18757105041345884,0.20725718978655688,13.305803350226268,6.2435386495470935,7.327745943360658,102.9082871786124,0.010891759431733166,0.014073986319672748,0.08794933746349266,0.8284688600705113,0.2719980215334488,9.89368424597548,15.09823531976772,45.501963973698786,7.452203127738048,5.691656642521493,0.3262728836531537,9.802563867471,0.015783205919239138,161.59962312103298,9.895767262442e-06,27.537859093905606,12.968456929705923,0.4077219909607799,0.00867500329266616,0.24676541507958155,1.7632210746019217,0.24365253963087197,0.021006340778792376,0.06802373015746761,0.3748641581854611,0.14098370051415446,0.015298651309877441,1.1867248794970853,36.72554492931326,0.1320393897253331,1.6876567518636965,0.736386374939177,0.42028292570655296,0.2822518075608595,0.203438588378834,15.701017926012376,2.614115751448281,7.628627023139944,5.319695043739883,3.9620159610499797,1.1102486962346767,0.3773637643103,0.03138205984140264,151.60515331833813,0.4288381964848606,1230.1232035499584,1136.6027540426364],\"type\":\"treemap\",\"textinfo\":\"label+text+value\"}],                        {\"template\":{\"data\":{\"histogram2dcontour\":[{\"type\":\"histogram2dcontour\",\"colorbar\":{\"outlinewidth\":0,\"ticks\":\"\"},\"colorscale\":[[0.0,\"#0d0887\"],[0.1111111111111111,\"#46039f\"],[0.2222222222222222,\"#7201a8\"],[0.3333333333333333,\"#9c179e\"],[0.4444444444444444,\"#bd3786\"],[0.5555555555555556,\"#d8576b\"],[0.6666666666666666,\"#ed7953\"],[0.7777777777777778,\"#fb9f3a\"],[0.8888888888888888,\"#fdca26\"],[1.0,\"#f0f921\"]]}],\"choropleth\":[{\"type\":\"choropleth\",\"colorbar\":{\"outlinewidth\":0,\"ticks\":\"\"}}],\"histogram2d\":[{\"type\":\"histogram2d\",\"colorbar\":{\"outlinewidth\":0,\"ticks\":\"\"},\"colorscale\":[[0.0,\"#0d0887\"],[0.1111111111111111,\"#46039f\"],[0.2222222222222222,\"#7201a8\"],[0.3333333333333333,\"#9c179e\"],[0.4444444444444444,\"#bd3786\"],[0.5555555555555556,\"#d8576b\"],[0.6666666666666666,\"#ed7953\"],[0.7777777777777778,\"#fb9f3a\"],[0.8888888888888888,\"#fdca26\"],[1.0,\"#f0f921\"]]}],\"heatmap\":[{\"type\":\"heatmap\",\"colorbar\":{\"outlinewidth\":0,\"ticks\":\"\"},\"colorscale\":[[0.0,\"#0d0887\"],[0.1111111111111111,\"#46039f\"],[0.2222222222222222,\"#7201a8\"],[0.3333333333333333,\"#9c179e\"],[0.4444444444444444,\"#bd3786\"],[0.5555555555555556,\"#d8576b\"],[0.6666666666666666,\"#ed7953\"],[0.7777777777777778,\"#fb9f3a\"],[0.8888888888888888,\"#fdca26\"],[1.0,\"#f0f921\"]]}],\"heatmapgl\":[{\"type\":\"heatmapgl\",\"colorbar\":{\"outlinewidth\":0,\"ticks\":\"\"},\"colorscale\":[[0.0,\"#0d0887\"],[0.1111111111111111,\"#46039f\"],[0.2222222222222222,\"#7201a8\"],[0.3333333333333333,\"#9c179e\"],[0.4444444444444444,\"#bd3786\"],[0.5555555555555556,\"#d8576b\"],[0.6666666666666666,\"#ed7953\"],[0.7777777777777778,\"#fb9f3a\"],[0.8888888888888888,\"#fdca26\"],[1.0,\"#f0f921\"]]}],\"contourcarpet\":[{\"type\":\"contourcarpet\",\"colorbar\":{\"outlinewidth\":0,\"ticks\":\"\"}}],\"contour\":[{\"type\":\"contour\",\"colorbar\":{\"outlinewidth\":0,\"ticks\":\"\"},\"colorscale\":[[0.0,\"#0d0887\"],[0.1111111111111111,\"#46039f\"],[0.2222222222222222,\"#7201a8\"],[0.3333333333333333,\"#9c179e\"],[0.4444444444444444,\"#bd3786\"],[0.5555555555555556,\"#d8576b\"],[0.6666666666666666,\"#ed7953\"],[0.7777777777777778,\"#fb9f3a\"],[0.8888888888888888,\"#fdca26\"],[1.0,\"#f0f921\"]]}],\"surface\":[{\"type\":\"surface\",\"colorbar\":{\"outlinewidth\":0,\"ticks\":\"\"},\"colorscale\":[[0.0,\"#0d0887\"],[0.1111111111111111,\"#46039f\"],[0.2222222222222222,\"#7201a8\"],[0.3333333333333333,\"#9c179e\"],[0.4444444444444444,\"#bd3786\"],[0.5555555555555556,\"#d8576b\"],[0.6666666666666666,\"#ed7953\"],[0.7777777777777778,\"#fb9f3a\"],[0.8888888888888888,\"#fdca26\"],[1.0,\"#f0f921\"]]}],\"mesh3d\":[{\"type\":\"mesh3d\",\"colorbar\":{\"outlinewidth\":0,\"ticks\":\"\"}}],\"scatter\":[{\"fillpattern\":{\"fillmode\":\"overlay\",\"size\":10,\"solidity\":0.2},\"type\":\"scatter\"}],\"parcoords\":[{\"type\":\"parcoords\",\"line\":{\"colorbar\":{\"outlinewidth\":0,\"ticks\":\"\"}}}],\"scatterpolargl\":[{\"type\":\"scatterpolargl\",\"marker\":{\"colorbar\":{\"outlinewidth\":0,\"ticks\":\"\"}}}],\"bar\":[{\"error_x\":{\"color\":\"#2a3f5f\"},\"error_y\":{\"color\":\"#2a3f5f\"},\"marker\":{\"line\":{\"color\":\"#E5ECF6\",\"width\":0.5},\"pattern\":{\"fillmode\":\"overlay\",\"size\":10,\"solidity\":0.2}},\"type\":\"bar\"}],\"scattergeo\":[{\"type\":\"scattergeo\",\"marker\":{\"colorbar\":{\"outlinewidth\":0,\"ticks\":\"\"}}}],\"scatterpolar\":[{\"type\":\"scatterpolar\",\"marker\":{\"colorbar\":{\"outlinewidth\":0,\"ticks\":\"\"}}}],\"histogram\":[{\"marker\":{\"pattern\":{\"fillmode\":\"overlay\",\"size\":10,\"solidity\":0.2}},\"type\":\"histogram\"}],\"scattergl\":[{\"type\":\"scattergl\",\"marker\":{\"colorbar\":{\"outlinewidth\":0,\"ticks\":\"\"}}}],\"scatter3d\":[{\"type\":\"scatter3d\",\"line\":{\"colorbar\":{\"outlinewidth\":0,\"ticks\":\"\"}},\"marker\":{\"colorbar\":{\"outlinewidth\":0,\"ticks\":\"\"}}}],\"scattermapbox\":[{\"type\":\"scattermapbox\",\"marker\":{\"colorbar\":{\"outlinewidth\":0,\"ticks\":\"\"}}}],\"scatterternary\":[{\"type\":\"scatterternary\",\"marker\":{\"colorbar\":{\"outlinewidth\":0,\"ticks\":\"\"}}}],\"scattercarpet\":[{\"type\":\"scattercarpet\",\"marker\":{\"colorbar\":{\"outlinewidth\":0,\"ticks\":\"\"}}}],\"carpet\":[{\"aaxis\":{\"endlinecolor\":\"#2a3f5f\",\"gridcolor\":\"white\",\"linecolor\":\"white\",\"minorgridcolor\":\"white\",\"startlinecolor\":\"#2a3f5f\"},\"baxis\":{\"endlinecolor\":\"#2a3f5f\",\"gridcolor\":\"white\",\"linecolor\":\"white\",\"minorgridcolor\":\"white\",\"startlinecolor\":\"#2a3f5f\"},\"type\":\"carpet\"}],\"table\":[{\"cells\":{\"fill\":{\"color\":\"#EBF0F8\"},\"line\":{\"color\":\"white\"}},\"header\":{\"fill\":{\"color\":\"#C8D4E3\"},\"line\":{\"color\":\"white\"}},\"type\":\"table\"}],\"barpolar\":[{\"marker\":{\"line\":{\"color\":\"#E5ECF6\",\"width\":0.5},\"pattern\":{\"fillmode\":\"overlay\",\"size\":10,\"solidity\":0.2}},\"type\":\"barpolar\"}],\"pie\":[{\"automargin\":true,\"type\":\"pie\"}]},\"layout\":{\"autotypenumbers\":\"strict\",\"colorway\":[\"#636efa\",\"#EF553B\",\"#00cc96\",\"#ab63fa\",\"#FFA15A\",\"#19d3f3\",\"#FF6692\",\"#B6E880\",\"#FF97FF\",\"#FECB52\"],\"font\":{\"color\":\"#2a3f5f\"},\"hovermode\":\"closest\",\"hoverlabel\":{\"align\":\"left\"},\"paper_bgcolor\":\"white\",\"plot_bgcolor\":\"#E5ECF6\",\"polar\":{\"bgcolor\":\"#E5ECF6\",\"angularaxis\":{\"gridcolor\":\"white\",\"linecolor\":\"white\",\"ticks\":\"\"},\"radialaxis\":{\"gridcolor\":\"white\",\"linecolor\":\"white\",\"ticks\":\"\"}},\"ternary\":{\"bgcolor\":\"#E5ECF6\",\"aaxis\":{\"gridcolor\":\"white\",\"linecolor\":\"white\",\"ticks\":\"\"},\"baxis\":{\"gridcolor\":\"white\",\"linecolor\":\"white\",\"ticks\":\"\"},\"caxis\":{\"gridcolor\":\"white\",\"linecolor\":\"white\",\"ticks\":\"\"}},\"coloraxis\":{\"colorbar\":{\"outlinewidth\":0,\"ticks\":\"\"}},\"colorscale\":{\"sequential\":[[0.0,\"#0d0887\"],[0.1111111111111111,\"#46039f\"],[0.2222222222222222,\"#7201a8\"],[0.3333333333333333,\"#9c179e\"],[0.4444444444444444,\"#bd3786\"],[0.5555555555555556,\"#d8576b\"],[0.6666666666666666,\"#ed7953\"],[0.7777777777777778,\"#fb9f3a\"],[0.8888888888888888,\"#fdca26\"],[1.0,\"#f0f921\"]],\"sequentialminus\":[[0.0,\"#0d0887\"],[0.1111111111111111,\"#46039f\"],[0.2222222222222222,\"#7201a8\"],[0.3333333333333333,\"#9c179e\"],[0.4444444444444444,\"#bd3786\"],[0.5555555555555556,\"#d8576b\"],[0.6666666666666666,\"#ed7953\"],[0.7777777777777778,\"#fb9f3a\"],[0.8888888888888888,\"#fdca26\"],[1.0,\"#f0f921\"]],\"diverging\":[[0,\"#8e0152\"],[0.1,\"#c51b7d\"],[0.2,\"#de77ae\"],[0.3,\"#f1b6da\"],[0.4,\"#fde0ef\"],[0.5,\"#f7f7f7\"],[0.6,\"#e6f5d0\"],[0.7,\"#b8e186\"],[0.8,\"#7fbc41\"],[0.9,\"#4d9221\"],[1,\"#276419\"]]},\"xaxis\":{\"gridcolor\":\"white\",\"linecolor\":\"white\",\"ticks\":\"\",\"title\":{\"standoff\":15},\"zerolinecolor\":\"white\",\"automargin\":true,\"zerolinewidth\":2},\"yaxis\":{\"gridcolor\":\"white\",\"linecolor\":\"white\",\"ticks\":\"\",\"title\":{\"standoff\":15},\"zerolinecolor\":\"white\",\"automargin\":true,\"zerolinewidth\":2},\"scene\":{\"xaxis\":{\"backgroundcolor\":\"#E5ECF6\",\"gridcolor\":\"white\",\"linecolor\":\"white\",\"showbackground\":true,\"ticks\":\"\",\"zerolinecolor\":\"white\",\"gridwidth\":2},\"yaxis\":{\"backgroundcolor\":\"#E5ECF6\",\"gridcolor\":\"white\",\"linecolor\":\"white\",\"showbackground\":true,\"ticks\":\"\",\"zerolinecolor\":\"white\",\"gridwidth\":2},\"zaxis\":{\"backgroundcolor\":\"#E5ECF6\",\"gridcolor\":\"white\",\"linecolor\":\"white\",\"showbackground\":true,\"ticks\":\"\",\"zerolinecolor\":\"white\",\"gridwidth\":2}},\"shapedefaults\":{\"line\":{\"color\":\"#2a3f5f\"}},\"annotationdefaults\":{\"arrowcolor\":\"#2a3f5f\",\"arrowhead\":0,\"arrowwidth\":1},\"geo\":{\"bgcolor\":\"white\",\"landcolor\":\"#E5ECF6\",\"subunitcolor\":\"white\",\"showland\":true,\"showlakes\":true,\"lakecolor\":\"white\"},\"title\":{\"x\":0.05},\"mapbox\":{\"style\":\"light\"}}},\"legend\":{\"tracegroupgap\":0},\"margin\":{\"t\":60},\"treemapcolorway\":[\"#FF0420\",\"#DDD\"],\"hovermode\":false},                        {\"responsive\": true}                    ).then(function(){\n",
       "                            \n",
       "var gd = document.getElementById('8b4b1d31-ac29-4ae2-8686-f8910ace97e1');\n",
       "var x = new MutationObserver(function (mutations, observer) {{\n",
       "        var display = window.getComputedStyle(gd).display;\n",
       "        if (!display || display === 'none') {{\n",
       "            console.log([gd, 'removed!']);\n",
       "            Plotly.purge(gd);\n",
       "            observer.disconnect();\n",
       "        }}\n",
       "}});\n",
       "\n",
       "// Listen for the removal of the full notebook cells\n",
       "var notebookContainer = gd.closest('#notebook-container');\n",
       "if (notebookContainer) {{\n",
       "    x.observe(notebookContainer, {childList: true});\n",
       "}}\n",
       "\n",
       "// Listen for the clearing of the current output cell\n",
       "var outputEl = gd.closest('.output');\n",
       "if (outputEl) {{\n",
       "    x.observe(outputEl, {childList: true});\n",
       "}}\n",
       "\n",
       "                        })                };                });            </script>        </div>"
      ]
     },
     "metadata": {},
     "output_type": "display_data"
    }
   ],
   "source": [
    "fig = px.treemap(\n",
    "    data_frame=df[\n",
    "        (df['event_type'] == 'Gas Fees (ETH)')\n",
    "         & (df['time_interval'] == 'RF4 window')\n",
    "         & (df['in_rf4']==True)\n",
    "    ].dropna(),\n",
    "    path=['cohort_label', 'project_name'],\n",
    "    values='amount',\n",
    "    color_discrete_sequence=['#FF0420', '#DDD'],\n",
    "    \n",
    ")\n",
    "fig.data[0].textinfo = 'label+text+value'\n",
    "fig"
   ]
  },
  {
   "cell_type": "code",
   "execution_count": 14,
   "id": "92f175e3",
   "metadata": {},
   "outputs": [
    {
     "data": {
      "text/html": [
       "<div>\n",
       "<style scoped>\n",
       "    .dataframe tbody tr th:only-of-type {\n",
       "        vertical-align: middle;\n",
       "    }\n",
       "\n",
       "    .dataframe tbody tr th {\n",
       "        vertical-align: top;\n",
       "    }\n",
       "\n",
       "    .dataframe thead th {\n",
       "        text-align: right;\n",
       "    }\n",
       "</style>\n",
       "<table border=\"1\" class=\"dataframe\">\n",
       "  <thead>\n",
       "    <tr style=\"text-align: right;\">\n",
       "      <th></th>\n",
       "      <th>bucket_month</th>\n",
       "      <th>cohort_label</th>\n",
       "      <th>amount</th>\n",
       "    </tr>\n",
       "  </thead>\n",
       "  <tbody>\n",
       "    <tr>\n",
       "      <th>0</th>\n",
       "      <td>2023-02-01 00:00:00+00:00</td>\n",
       "      <td>Multiple RFs</td>\n",
       "      <td>0.657073</td>\n",
       "    </tr>\n",
       "  </tbody>\n",
       "</table>\n",
       "</div>"
      ],
      "text/plain": [
       "               bucket_month  cohort_label    amount\n",
       "0 2023-02-01 00:00:00+00:00  Multiple RFs  0.657073"
      ]
     },
     "execution_count": 14,
     "metadata": {},
     "output_type": "execute_result"
    }
   ],
   "source": [
    "txns = (\n",
    "    df[df['event_type'] == 'Transactions (M)']\n",
    "    .groupby(['bucket_month','cohort_label'])\n",
    "    ['amount'].sum()\n",
    "    .reset_index()\n",
    ")\n",
    "txns.head(1)"
   ]
  },
  {
   "cell_type": "code",
   "execution_count": 15,
   "id": "c93c5374",
   "metadata": {},
   "outputs": [
    {
     "data": {
      "application/vnd.plotly.v1+json": {
       "config": {
        "plotlyServerURL": "https://plot.ly"
       },
       "data": [
        {
         "fillpattern": {
          "shape": ""
         },
         "hovertemplate": "cohort_label=Multiple RFs<br>bucket_month=%{x}<br>amount=%{y}<extra></extra>",
         "legendgroup": "Multiple RFs",
         "line": {
          "color": "purple",
          "width": 1
         },
         "marker": {
          "symbol": "circle"
         },
         "mode": "lines",
         "name": "Multiple RFs",
         "orientation": "v",
         "showlegend": true,
         "stackgroup": "1",
         "type": "scatter",
         "x": [
          "2023-02-01T00:00:00+00:00",
          "2023-03-01T00:00:00+00:00",
          "2023-04-01T00:00:00+00:00",
          "2023-05-01T00:00:00+00:00",
          "2023-06-01T00:00:00+00:00",
          "2023-07-01T00:00:00+00:00",
          "2023-08-01T00:00:00+00:00",
          "2023-09-01T00:00:00+00:00",
          "2023-10-01T00:00:00+00:00",
          "2023-11-01T00:00:00+00:00",
          "2023-12-01T00:00:00+00:00",
          "2024-01-01T00:00:00+00:00",
          "2024-02-01T00:00:00+00:00",
          "2024-03-01T00:00:00+00:00",
          "2024-04-01T00:00:00+00:00",
          "2024-05-01T00:00:00+00:00",
          "2024-06-01T00:00:00+00:00"
         ],
         "xaxis": "x",
         "y": [
          0.657073,
          0.843713,
          0.7647940000000001,
          0.967848,
          1.374762,
          1.599785,
          3.345937,
          2.682642,
          1.759183,
          1.548038,
          1.535273,
          1.354895,
          2.624121,
          4.551603,
          8.282748,
          9.022484,
          7.437542
         ],
         "yaxis": "y"
        },
        {
         "fillpattern": {
          "shape": ""
         },
         "hovertemplate": "cohort_label=Past RFs only<br>bucket_month=%{x}<br>amount=%{y}<extra></extra>",
         "legendgroup": "Past RFs only",
         "line": {
          "color": "cyan",
          "width": 1
         },
         "marker": {
          "symbol": "circle"
         },
         "mode": "lines",
         "name": "Past RFs only",
         "orientation": "v",
         "showlegend": true,
         "stackgroup": "1",
         "type": "scatter",
         "x": [
          "2023-02-01T00:00:00+00:00",
          "2023-03-01T00:00:00+00:00",
          "2023-04-01T00:00:00+00:00",
          "2023-05-01T00:00:00+00:00",
          "2023-06-01T00:00:00+00:00",
          "2023-07-01T00:00:00+00:00",
          "2023-08-01T00:00:00+00:00",
          "2023-09-01T00:00:00+00:00",
          "2023-10-01T00:00:00+00:00",
          "2023-11-01T00:00:00+00:00",
          "2023-12-01T00:00:00+00:00",
          "2024-01-01T00:00:00+00:00",
          "2024-02-01T00:00:00+00:00",
          "2024-03-01T00:00:00+00:00",
          "2024-04-01T00:00:00+00:00",
          "2024-05-01T00:00:00+00:00",
          "2024-06-01T00:00:00+00:00"
         ],
         "xaxis": "x",
         "y": [
          0.359801,
          0.355618,
          0.379885,
          0.725576,
          2.393444,
          2.5795010000000005,
          2.704478,
          0.697419,
          0.541486,
          0.40952,
          0.35129900000000003,
          0.40101,
          0.48036799999999996,
          0.610737,
          0.879348,
          0.650084,
          0.5289079999999999
         ],
         "yaxis": "y"
        },
        {
         "fillpattern": {
          "shape": ""
         },
         "hovertemplate": "cohort_label=RF4 only<br>bucket_month=%{x}<br>amount=%{y}<extra></extra>",
         "legendgroup": "RF4 only",
         "line": {
          "color": "#FF0420",
          "width": 1
         },
         "marker": {
          "symbol": "circle"
         },
         "mode": "lines",
         "name": "RF4 only",
         "orientation": "v",
         "showlegend": true,
         "stackgroup": "1",
         "type": "scatter",
         "x": [
          "2023-02-01T00:00:00+00:00",
          "2023-03-01T00:00:00+00:00",
          "2023-04-01T00:00:00+00:00",
          "2023-05-01T00:00:00+00:00",
          "2023-06-01T00:00:00+00:00",
          "2023-07-01T00:00:00+00:00",
          "2023-08-01T00:00:00+00:00",
          "2023-09-01T00:00:00+00:00",
          "2023-10-01T00:00:00+00:00",
          "2023-11-01T00:00:00+00:00",
          "2023-12-01T00:00:00+00:00",
          "2024-01-01T00:00:00+00:00",
          "2024-02-01T00:00:00+00:00",
          "2024-03-01T00:00:00+00:00",
          "2024-04-01T00:00:00+00:00",
          "2024-05-01T00:00:00+00:00",
          "2024-06-01T00:00:00+00:00"
         ],
         "xaxis": "x",
         "y": [
          1.11152,
          1.575511,
          4.89546,
          2.492929,
          4.091434,
          5.568621,
          7.2998840000000005,
          5.585534,
          4.155201,
          3.107458,
          3.814295,
          4.645268,
          5.513435,
          7.96932,
          13.227429,
          9.403259,
          9.858085
         ],
         "yaxis": "y"
        }
       ],
       "layout": {
        "legend": {
         "title": {
          "text": "Cohort"
         },
         "tracegroupgap": 0
        },
        "margin": {
         "t": 60
        },
        "paper_bgcolor": "white",
        "plot_bgcolor": "white",
        "template": {
         "data": {
          "bar": [
           {
            "error_x": {
             "color": "#2a3f5f"
            },
            "error_y": {
             "color": "#2a3f5f"
            },
            "marker": {
             "line": {
              "color": "#E5ECF6",
              "width": 0.5
             },
             "pattern": {
              "fillmode": "overlay",
              "size": 10,
              "solidity": 0.2
             }
            },
            "type": "bar"
           }
          ],
          "barpolar": [
           {
            "marker": {
             "line": {
              "color": "#E5ECF6",
              "width": 0.5
             },
             "pattern": {
              "fillmode": "overlay",
              "size": 10,
              "solidity": 0.2
             }
            },
            "type": "barpolar"
           }
          ],
          "carpet": [
           {
            "aaxis": {
             "endlinecolor": "#2a3f5f",
             "gridcolor": "white",
             "linecolor": "white",
             "minorgridcolor": "white",
             "startlinecolor": "#2a3f5f"
            },
            "baxis": {
             "endlinecolor": "#2a3f5f",
             "gridcolor": "white",
             "linecolor": "white",
             "minorgridcolor": "white",
             "startlinecolor": "#2a3f5f"
            },
            "type": "carpet"
           }
          ],
          "choropleth": [
           {
            "colorbar": {
             "outlinewidth": 0,
             "ticks": ""
            },
            "type": "choropleth"
           }
          ],
          "contour": [
           {
            "colorbar": {
             "outlinewidth": 0,
             "ticks": ""
            },
            "colorscale": [
             [
              0,
              "#0d0887"
             ],
             [
              0.1111111111111111,
              "#46039f"
             ],
             [
              0.2222222222222222,
              "#7201a8"
             ],
             [
              0.3333333333333333,
              "#9c179e"
             ],
             [
              0.4444444444444444,
              "#bd3786"
             ],
             [
              0.5555555555555556,
              "#d8576b"
             ],
             [
              0.6666666666666666,
              "#ed7953"
             ],
             [
              0.7777777777777778,
              "#fb9f3a"
             ],
             [
              0.8888888888888888,
              "#fdca26"
             ],
             [
              1,
              "#f0f921"
             ]
            ],
            "type": "contour"
           }
          ],
          "contourcarpet": [
           {
            "colorbar": {
             "outlinewidth": 0,
             "ticks": ""
            },
            "type": "contourcarpet"
           }
          ],
          "heatmap": [
           {
            "colorbar": {
             "outlinewidth": 0,
             "ticks": ""
            },
            "colorscale": [
             [
              0,
              "#0d0887"
             ],
             [
              0.1111111111111111,
              "#46039f"
             ],
             [
              0.2222222222222222,
              "#7201a8"
             ],
             [
              0.3333333333333333,
              "#9c179e"
             ],
             [
              0.4444444444444444,
              "#bd3786"
             ],
             [
              0.5555555555555556,
              "#d8576b"
             ],
             [
              0.6666666666666666,
              "#ed7953"
             ],
             [
              0.7777777777777778,
              "#fb9f3a"
             ],
             [
              0.8888888888888888,
              "#fdca26"
             ],
             [
              1,
              "#f0f921"
             ]
            ],
            "type": "heatmap"
           }
          ],
          "heatmapgl": [
           {
            "colorbar": {
             "outlinewidth": 0,
             "ticks": ""
            },
            "colorscale": [
             [
              0,
              "#0d0887"
             ],
             [
              0.1111111111111111,
              "#46039f"
             ],
             [
              0.2222222222222222,
              "#7201a8"
             ],
             [
              0.3333333333333333,
              "#9c179e"
             ],
             [
              0.4444444444444444,
              "#bd3786"
             ],
             [
              0.5555555555555556,
              "#d8576b"
             ],
             [
              0.6666666666666666,
              "#ed7953"
             ],
             [
              0.7777777777777778,
              "#fb9f3a"
             ],
             [
              0.8888888888888888,
              "#fdca26"
             ],
             [
              1,
              "#f0f921"
             ]
            ],
            "type": "heatmapgl"
           }
          ],
          "histogram": [
           {
            "marker": {
             "pattern": {
              "fillmode": "overlay",
              "size": 10,
              "solidity": 0.2
             }
            },
            "type": "histogram"
           }
          ],
          "histogram2d": [
           {
            "colorbar": {
             "outlinewidth": 0,
             "ticks": ""
            },
            "colorscale": [
             [
              0,
              "#0d0887"
             ],
             [
              0.1111111111111111,
              "#46039f"
             ],
             [
              0.2222222222222222,
              "#7201a8"
             ],
             [
              0.3333333333333333,
              "#9c179e"
             ],
             [
              0.4444444444444444,
              "#bd3786"
             ],
             [
              0.5555555555555556,
              "#d8576b"
             ],
             [
              0.6666666666666666,
              "#ed7953"
             ],
             [
              0.7777777777777778,
              "#fb9f3a"
             ],
             [
              0.8888888888888888,
              "#fdca26"
             ],
             [
              1,
              "#f0f921"
             ]
            ],
            "type": "histogram2d"
           }
          ],
          "histogram2dcontour": [
           {
            "colorbar": {
             "outlinewidth": 0,
             "ticks": ""
            },
            "colorscale": [
             [
              0,
              "#0d0887"
             ],
             [
              0.1111111111111111,
              "#46039f"
             ],
             [
              0.2222222222222222,
              "#7201a8"
             ],
             [
              0.3333333333333333,
              "#9c179e"
             ],
             [
              0.4444444444444444,
              "#bd3786"
             ],
             [
              0.5555555555555556,
              "#d8576b"
             ],
             [
              0.6666666666666666,
              "#ed7953"
             ],
             [
              0.7777777777777778,
              "#fb9f3a"
             ],
             [
              0.8888888888888888,
              "#fdca26"
             ],
             [
              1,
              "#f0f921"
             ]
            ],
            "type": "histogram2dcontour"
           }
          ],
          "mesh3d": [
           {
            "colorbar": {
             "outlinewidth": 0,
             "ticks": ""
            },
            "type": "mesh3d"
           }
          ],
          "parcoords": [
           {
            "line": {
             "colorbar": {
              "outlinewidth": 0,
              "ticks": ""
             }
            },
            "type": "parcoords"
           }
          ],
          "pie": [
           {
            "automargin": true,
            "type": "pie"
           }
          ],
          "scatter": [
           {
            "fillpattern": {
             "fillmode": "overlay",
             "size": 10,
             "solidity": 0.2
            },
            "type": "scatter"
           }
          ],
          "scatter3d": [
           {
            "line": {
             "colorbar": {
              "outlinewidth": 0,
              "ticks": ""
             }
            },
            "marker": {
             "colorbar": {
              "outlinewidth": 0,
              "ticks": ""
             }
            },
            "type": "scatter3d"
           }
          ],
          "scattercarpet": [
           {
            "marker": {
             "colorbar": {
              "outlinewidth": 0,
              "ticks": ""
             }
            },
            "type": "scattercarpet"
           }
          ],
          "scattergeo": [
           {
            "marker": {
             "colorbar": {
              "outlinewidth": 0,
              "ticks": ""
             }
            },
            "type": "scattergeo"
           }
          ],
          "scattergl": [
           {
            "marker": {
             "colorbar": {
              "outlinewidth": 0,
              "ticks": ""
             }
            },
            "type": "scattergl"
           }
          ],
          "scattermapbox": [
           {
            "marker": {
             "colorbar": {
              "outlinewidth": 0,
              "ticks": ""
             }
            },
            "type": "scattermapbox"
           }
          ],
          "scatterpolar": [
           {
            "marker": {
             "colorbar": {
              "outlinewidth": 0,
              "ticks": ""
             }
            },
            "type": "scatterpolar"
           }
          ],
          "scatterpolargl": [
           {
            "marker": {
             "colorbar": {
              "outlinewidth": 0,
              "ticks": ""
             }
            },
            "type": "scatterpolargl"
           }
          ],
          "scatterternary": [
           {
            "marker": {
             "colorbar": {
              "outlinewidth": 0,
              "ticks": ""
             }
            },
            "type": "scatterternary"
           }
          ],
          "surface": [
           {
            "colorbar": {
             "outlinewidth": 0,
             "ticks": ""
            },
            "colorscale": [
             [
              0,
              "#0d0887"
             ],
             [
              0.1111111111111111,
              "#46039f"
             ],
             [
              0.2222222222222222,
              "#7201a8"
             ],
             [
              0.3333333333333333,
              "#9c179e"
             ],
             [
              0.4444444444444444,
              "#bd3786"
             ],
             [
              0.5555555555555556,
              "#d8576b"
             ],
             [
              0.6666666666666666,
              "#ed7953"
             ],
             [
              0.7777777777777778,
              "#fb9f3a"
             ],
             [
              0.8888888888888888,
              "#fdca26"
             ],
             [
              1,
              "#f0f921"
             ]
            ],
            "type": "surface"
           }
          ],
          "table": [
           {
            "cells": {
             "fill": {
              "color": "#EBF0F8"
             },
             "line": {
              "color": "white"
             }
            },
            "header": {
             "fill": {
              "color": "#C8D4E3"
             },
             "line": {
              "color": "white"
             }
            },
            "type": "table"
           }
          ]
         },
         "layout": {
          "annotationdefaults": {
           "arrowcolor": "#2a3f5f",
           "arrowhead": 0,
           "arrowwidth": 1
          },
          "autotypenumbers": "strict",
          "coloraxis": {
           "colorbar": {
            "outlinewidth": 0,
            "ticks": ""
           }
          },
          "colorscale": {
           "diverging": [
            [
             0,
             "#8e0152"
            ],
            [
             0.1,
             "#c51b7d"
            ],
            [
             0.2,
             "#de77ae"
            ],
            [
             0.3,
             "#f1b6da"
            ],
            [
             0.4,
             "#fde0ef"
            ],
            [
             0.5,
             "#f7f7f7"
            ],
            [
             0.6,
             "#e6f5d0"
            ],
            [
             0.7,
             "#b8e186"
            ],
            [
             0.8,
             "#7fbc41"
            ],
            [
             0.9,
             "#4d9221"
            ],
            [
             1,
             "#276419"
            ]
           ],
           "sequential": [
            [
             0,
             "#0d0887"
            ],
            [
             0.1111111111111111,
             "#46039f"
            ],
            [
             0.2222222222222222,
             "#7201a8"
            ],
            [
             0.3333333333333333,
             "#9c179e"
            ],
            [
             0.4444444444444444,
             "#bd3786"
            ],
            [
             0.5555555555555556,
             "#d8576b"
            ],
            [
             0.6666666666666666,
             "#ed7953"
            ],
            [
             0.7777777777777778,
             "#fb9f3a"
            ],
            [
             0.8888888888888888,
             "#fdca26"
            ],
            [
             1,
             "#f0f921"
            ]
           ],
           "sequentialminus": [
            [
             0,
             "#0d0887"
            ],
            [
             0.1111111111111111,
             "#46039f"
            ],
            [
             0.2222222222222222,
             "#7201a8"
            ],
            [
             0.3333333333333333,
             "#9c179e"
            ],
            [
             0.4444444444444444,
             "#bd3786"
            ],
            [
             0.5555555555555556,
             "#d8576b"
            ],
            [
             0.6666666666666666,
             "#ed7953"
            ],
            [
             0.7777777777777778,
             "#fb9f3a"
            ],
            [
             0.8888888888888888,
             "#fdca26"
            ],
            [
             1,
             "#f0f921"
            ]
           ]
          },
          "colorway": [
           "#636efa",
           "#EF553B",
           "#00cc96",
           "#ab63fa",
           "#FFA15A",
           "#19d3f3",
           "#FF6692",
           "#B6E880",
           "#FF97FF",
           "#FECB52"
          ],
          "font": {
           "color": "#2a3f5f"
          },
          "geo": {
           "bgcolor": "white",
           "lakecolor": "white",
           "landcolor": "#E5ECF6",
           "showlakes": true,
           "showland": true,
           "subunitcolor": "white"
          },
          "hoverlabel": {
           "align": "left"
          },
          "hovermode": "closest",
          "mapbox": {
           "style": "light"
          },
          "paper_bgcolor": "white",
          "plot_bgcolor": "#E5ECF6",
          "polar": {
           "angularaxis": {
            "gridcolor": "white",
            "linecolor": "white",
            "ticks": ""
           },
           "bgcolor": "#E5ECF6",
           "radialaxis": {
            "gridcolor": "white",
            "linecolor": "white",
            "ticks": ""
           }
          },
          "scene": {
           "xaxis": {
            "backgroundcolor": "#E5ECF6",
            "gridcolor": "white",
            "gridwidth": 2,
            "linecolor": "white",
            "showbackground": true,
            "ticks": "",
            "zerolinecolor": "white"
           },
           "yaxis": {
            "backgroundcolor": "#E5ECF6",
            "gridcolor": "white",
            "gridwidth": 2,
            "linecolor": "white",
            "showbackground": true,
            "ticks": "",
            "zerolinecolor": "white"
           },
           "zaxis": {
            "backgroundcolor": "#E5ECF6",
            "gridcolor": "white",
            "gridwidth": 2,
            "linecolor": "white",
            "showbackground": true,
            "ticks": "",
            "zerolinecolor": "white"
           }
          },
          "shapedefaults": {
           "line": {
            "color": "#2a3f5f"
           }
          },
          "ternary": {
           "aaxis": {
            "gridcolor": "white",
            "linecolor": "white",
            "ticks": ""
           },
           "baxis": {
            "gridcolor": "white",
            "linecolor": "white",
            "ticks": ""
           },
           "bgcolor": "#E5ECF6",
           "caxis": {
            "gridcolor": "white",
            "linecolor": "white",
            "ticks": ""
           }
          },
          "title": {
           "x": 0.05
          },
          "xaxis": {
           "automargin": true,
           "gridcolor": "white",
           "linecolor": "white",
           "ticks": "",
           "title": {
            "standoff": 15
           },
           "zerolinecolor": "white",
           "zerolinewidth": 2
          },
          "yaxis": {
           "automargin": true,
           "gridcolor": "white",
           "linecolor": "white",
           "ticks": "",
           "title": {
            "standoff": 15
           },
           "zerolinecolor": "white",
           "zerolinewidth": 2
          }
         }
        },
        "xaxis": {
         "anchor": "y",
         "domain": [
          0,
          1
         ],
         "showgrid": true,
         "title": {
          "text": ""
         }
        },
        "yaxis": {
         "anchor": "x",
         "domain": [
          0,
          1
         ],
         "showgrid": true,
         "title": {
          "text": "Superchain Transactions (M)"
         }
        }
       }
      },
      "text/html": [
       "<div>                            <div id=\"5f239fce-0505-446b-9866-5c17efc4f999\" class=\"plotly-graph-div\" style=\"height:525px; width:100%;\"></div>            <script type=\"text/javascript\">                require([\"plotly\"], function(Plotly) {                    window.PLOTLYENV=window.PLOTLYENV || {};                                    if (document.getElementById(\"5f239fce-0505-446b-9866-5c17efc4f999\")) {                    Plotly.newPlot(                        \"5f239fce-0505-446b-9866-5c17efc4f999\",                        [{\"fillpattern\":{\"shape\":\"\"},\"hovertemplate\":\"cohort_label=Multiple RFs<br>bucket_month=%{x}<br>amount=%{y}<extra></extra>\",\"legendgroup\":\"Multiple RFs\",\"line\":{\"color\":\"purple\",\"width\":1},\"marker\":{\"symbol\":\"circle\"},\"mode\":\"lines\",\"name\":\"Multiple RFs\",\"orientation\":\"v\",\"showlegend\":true,\"stackgroup\":\"1\",\"x\":[\"2023-02-01T00:00:00+00:00\",\"2023-03-01T00:00:00+00:00\",\"2023-04-01T00:00:00+00:00\",\"2023-05-01T00:00:00+00:00\",\"2023-06-01T00:00:00+00:00\",\"2023-07-01T00:00:00+00:00\",\"2023-08-01T00:00:00+00:00\",\"2023-09-01T00:00:00+00:00\",\"2023-10-01T00:00:00+00:00\",\"2023-11-01T00:00:00+00:00\",\"2023-12-01T00:00:00+00:00\",\"2024-01-01T00:00:00+00:00\",\"2024-02-01T00:00:00+00:00\",\"2024-03-01T00:00:00+00:00\",\"2024-04-01T00:00:00+00:00\",\"2024-05-01T00:00:00+00:00\",\"2024-06-01T00:00:00+00:00\"],\"xaxis\":\"x\",\"y\":[0.657073,0.843713,0.7647940000000001,0.967848,1.374762,1.599785,3.345937,2.682642,1.759183,1.548038,1.535273,1.354895,2.624121,4.551603,8.282748,9.022484,7.437542],\"yaxis\":\"y\",\"type\":\"scatter\"},{\"fillpattern\":{\"shape\":\"\"},\"hovertemplate\":\"cohort_label=Past RFs only<br>bucket_month=%{x}<br>amount=%{y}<extra></extra>\",\"legendgroup\":\"Past RFs only\",\"line\":{\"color\":\"cyan\",\"width\":1},\"marker\":{\"symbol\":\"circle\"},\"mode\":\"lines\",\"name\":\"Past RFs only\",\"orientation\":\"v\",\"showlegend\":true,\"stackgroup\":\"1\",\"x\":[\"2023-02-01T00:00:00+00:00\",\"2023-03-01T00:00:00+00:00\",\"2023-04-01T00:00:00+00:00\",\"2023-05-01T00:00:00+00:00\",\"2023-06-01T00:00:00+00:00\",\"2023-07-01T00:00:00+00:00\",\"2023-08-01T00:00:00+00:00\",\"2023-09-01T00:00:00+00:00\",\"2023-10-01T00:00:00+00:00\",\"2023-11-01T00:00:00+00:00\",\"2023-12-01T00:00:00+00:00\",\"2024-01-01T00:00:00+00:00\",\"2024-02-01T00:00:00+00:00\",\"2024-03-01T00:00:00+00:00\",\"2024-04-01T00:00:00+00:00\",\"2024-05-01T00:00:00+00:00\",\"2024-06-01T00:00:00+00:00\"],\"xaxis\":\"x\",\"y\":[0.359801,0.355618,0.379885,0.725576,2.393444,2.5795010000000005,2.704478,0.697419,0.541486,0.40952,0.35129900000000003,0.40101,0.48036799999999996,0.610737,0.879348,0.650084,0.5289079999999999],\"yaxis\":\"y\",\"type\":\"scatter\"},{\"fillpattern\":{\"shape\":\"\"},\"hovertemplate\":\"cohort_label=RF4 only<br>bucket_month=%{x}<br>amount=%{y}<extra></extra>\",\"legendgroup\":\"RF4 only\",\"line\":{\"color\":\"#FF0420\",\"width\":1},\"marker\":{\"symbol\":\"circle\"},\"mode\":\"lines\",\"name\":\"RF4 only\",\"orientation\":\"v\",\"showlegend\":true,\"stackgroup\":\"1\",\"x\":[\"2023-02-01T00:00:00+00:00\",\"2023-03-01T00:00:00+00:00\",\"2023-04-01T00:00:00+00:00\",\"2023-05-01T00:00:00+00:00\",\"2023-06-01T00:00:00+00:00\",\"2023-07-01T00:00:00+00:00\",\"2023-08-01T00:00:00+00:00\",\"2023-09-01T00:00:00+00:00\",\"2023-10-01T00:00:00+00:00\",\"2023-11-01T00:00:00+00:00\",\"2023-12-01T00:00:00+00:00\",\"2024-01-01T00:00:00+00:00\",\"2024-02-01T00:00:00+00:00\",\"2024-03-01T00:00:00+00:00\",\"2024-04-01T00:00:00+00:00\",\"2024-05-01T00:00:00+00:00\",\"2024-06-01T00:00:00+00:00\"],\"xaxis\":\"x\",\"y\":[1.11152,1.575511,4.89546,2.492929,4.091434,5.568621,7.2998840000000005,5.585534,4.155201,3.107458,3.814295,4.645268,5.513435,7.96932,13.227429,9.403259,9.858085],\"yaxis\":\"y\",\"type\":\"scatter\"}],                        {\"template\":{\"data\":{\"histogram2dcontour\":[{\"type\":\"histogram2dcontour\",\"colorbar\":{\"outlinewidth\":0,\"ticks\":\"\"},\"colorscale\":[[0.0,\"#0d0887\"],[0.1111111111111111,\"#46039f\"],[0.2222222222222222,\"#7201a8\"],[0.3333333333333333,\"#9c179e\"],[0.4444444444444444,\"#bd3786\"],[0.5555555555555556,\"#d8576b\"],[0.6666666666666666,\"#ed7953\"],[0.7777777777777778,\"#fb9f3a\"],[0.8888888888888888,\"#fdca26\"],[1.0,\"#f0f921\"]]}],\"choropleth\":[{\"type\":\"choropleth\",\"colorbar\":{\"outlinewidth\":0,\"ticks\":\"\"}}],\"histogram2d\":[{\"type\":\"histogram2d\",\"colorbar\":{\"outlinewidth\":0,\"ticks\":\"\"},\"colorscale\":[[0.0,\"#0d0887\"],[0.1111111111111111,\"#46039f\"],[0.2222222222222222,\"#7201a8\"],[0.3333333333333333,\"#9c179e\"],[0.4444444444444444,\"#bd3786\"],[0.5555555555555556,\"#d8576b\"],[0.6666666666666666,\"#ed7953\"],[0.7777777777777778,\"#fb9f3a\"],[0.8888888888888888,\"#fdca26\"],[1.0,\"#f0f921\"]]}],\"heatmap\":[{\"type\":\"heatmap\",\"colorbar\":{\"outlinewidth\":0,\"ticks\":\"\"},\"colorscale\":[[0.0,\"#0d0887\"],[0.1111111111111111,\"#46039f\"],[0.2222222222222222,\"#7201a8\"],[0.3333333333333333,\"#9c179e\"],[0.4444444444444444,\"#bd3786\"],[0.5555555555555556,\"#d8576b\"],[0.6666666666666666,\"#ed7953\"],[0.7777777777777778,\"#fb9f3a\"],[0.8888888888888888,\"#fdca26\"],[1.0,\"#f0f921\"]]}],\"heatmapgl\":[{\"type\":\"heatmapgl\",\"colorbar\":{\"outlinewidth\":0,\"ticks\":\"\"},\"colorscale\":[[0.0,\"#0d0887\"],[0.1111111111111111,\"#46039f\"],[0.2222222222222222,\"#7201a8\"],[0.3333333333333333,\"#9c179e\"],[0.4444444444444444,\"#bd3786\"],[0.5555555555555556,\"#d8576b\"],[0.6666666666666666,\"#ed7953\"],[0.7777777777777778,\"#fb9f3a\"],[0.8888888888888888,\"#fdca26\"],[1.0,\"#f0f921\"]]}],\"contourcarpet\":[{\"type\":\"contourcarpet\",\"colorbar\":{\"outlinewidth\":0,\"ticks\":\"\"}}],\"contour\":[{\"type\":\"contour\",\"colorbar\":{\"outlinewidth\":0,\"ticks\":\"\"},\"colorscale\":[[0.0,\"#0d0887\"],[0.1111111111111111,\"#46039f\"],[0.2222222222222222,\"#7201a8\"],[0.3333333333333333,\"#9c179e\"],[0.4444444444444444,\"#bd3786\"],[0.5555555555555556,\"#d8576b\"],[0.6666666666666666,\"#ed7953\"],[0.7777777777777778,\"#fb9f3a\"],[0.8888888888888888,\"#fdca26\"],[1.0,\"#f0f921\"]]}],\"surface\":[{\"type\":\"surface\",\"colorbar\":{\"outlinewidth\":0,\"ticks\":\"\"},\"colorscale\":[[0.0,\"#0d0887\"],[0.1111111111111111,\"#46039f\"],[0.2222222222222222,\"#7201a8\"],[0.3333333333333333,\"#9c179e\"],[0.4444444444444444,\"#bd3786\"],[0.5555555555555556,\"#d8576b\"],[0.6666666666666666,\"#ed7953\"],[0.7777777777777778,\"#fb9f3a\"],[0.8888888888888888,\"#fdca26\"],[1.0,\"#f0f921\"]]}],\"mesh3d\":[{\"type\":\"mesh3d\",\"colorbar\":{\"outlinewidth\":0,\"ticks\":\"\"}}],\"scatter\":[{\"fillpattern\":{\"fillmode\":\"overlay\",\"size\":10,\"solidity\":0.2},\"type\":\"scatter\"}],\"parcoords\":[{\"type\":\"parcoords\",\"line\":{\"colorbar\":{\"outlinewidth\":0,\"ticks\":\"\"}}}],\"scatterpolargl\":[{\"type\":\"scatterpolargl\",\"marker\":{\"colorbar\":{\"outlinewidth\":0,\"ticks\":\"\"}}}],\"bar\":[{\"error_x\":{\"color\":\"#2a3f5f\"},\"error_y\":{\"color\":\"#2a3f5f\"},\"marker\":{\"line\":{\"color\":\"#E5ECF6\",\"width\":0.5},\"pattern\":{\"fillmode\":\"overlay\",\"size\":10,\"solidity\":0.2}},\"type\":\"bar\"}],\"scattergeo\":[{\"type\":\"scattergeo\",\"marker\":{\"colorbar\":{\"outlinewidth\":0,\"ticks\":\"\"}}}],\"scatterpolar\":[{\"type\":\"scatterpolar\",\"marker\":{\"colorbar\":{\"outlinewidth\":0,\"ticks\":\"\"}}}],\"histogram\":[{\"marker\":{\"pattern\":{\"fillmode\":\"overlay\",\"size\":10,\"solidity\":0.2}},\"type\":\"histogram\"}],\"scattergl\":[{\"type\":\"scattergl\",\"marker\":{\"colorbar\":{\"outlinewidth\":0,\"ticks\":\"\"}}}],\"scatter3d\":[{\"type\":\"scatter3d\",\"line\":{\"colorbar\":{\"outlinewidth\":0,\"ticks\":\"\"}},\"marker\":{\"colorbar\":{\"outlinewidth\":0,\"ticks\":\"\"}}}],\"scattermapbox\":[{\"type\":\"scattermapbox\",\"marker\":{\"colorbar\":{\"outlinewidth\":0,\"ticks\":\"\"}}}],\"scatterternary\":[{\"type\":\"scatterternary\",\"marker\":{\"colorbar\":{\"outlinewidth\":0,\"ticks\":\"\"}}}],\"scattercarpet\":[{\"type\":\"scattercarpet\",\"marker\":{\"colorbar\":{\"outlinewidth\":0,\"ticks\":\"\"}}}],\"carpet\":[{\"aaxis\":{\"endlinecolor\":\"#2a3f5f\",\"gridcolor\":\"white\",\"linecolor\":\"white\",\"minorgridcolor\":\"white\",\"startlinecolor\":\"#2a3f5f\"},\"baxis\":{\"endlinecolor\":\"#2a3f5f\",\"gridcolor\":\"white\",\"linecolor\":\"white\",\"minorgridcolor\":\"white\",\"startlinecolor\":\"#2a3f5f\"},\"type\":\"carpet\"}],\"table\":[{\"cells\":{\"fill\":{\"color\":\"#EBF0F8\"},\"line\":{\"color\":\"white\"}},\"header\":{\"fill\":{\"color\":\"#C8D4E3\"},\"line\":{\"color\":\"white\"}},\"type\":\"table\"}],\"barpolar\":[{\"marker\":{\"line\":{\"color\":\"#E5ECF6\",\"width\":0.5},\"pattern\":{\"fillmode\":\"overlay\",\"size\":10,\"solidity\":0.2}},\"type\":\"barpolar\"}],\"pie\":[{\"automargin\":true,\"type\":\"pie\"}]},\"layout\":{\"autotypenumbers\":\"strict\",\"colorway\":[\"#636efa\",\"#EF553B\",\"#00cc96\",\"#ab63fa\",\"#FFA15A\",\"#19d3f3\",\"#FF6692\",\"#B6E880\",\"#FF97FF\",\"#FECB52\"],\"font\":{\"color\":\"#2a3f5f\"},\"hovermode\":\"closest\",\"hoverlabel\":{\"align\":\"left\"},\"paper_bgcolor\":\"white\",\"plot_bgcolor\":\"#E5ECF6\",\"polar\":{\"bgcolor\":\"#E5ECF6\",\"angularaxis\":{\"gridcolor\":\"white\",\"linecolor\":\"white\",\"ticks\":\"\"},\"radialaxis\":{\"gridcolor\":\"white\",\"linecolor\":\"white\",\"ticks\":\"\"}},\"ternary\":{\"bgcolor\":\"#E5ECF6\",\"aaxis\":{\"gridcolor\":\"white\",\"linecolor\":\"white\",\"ticks\":\"\"},\"baxis\":{\"gridcolor\":\"white\",\"linecolor\":\"white\",\"ticks\":\"\"},\"caxis\":{\"gridcolor\":\"white\",\"linecolor\":\"white\",\"ticks\":\"\"}},\"coloraxis\":{\"colorbar\":{\"outlinewidth\":0,\"ticks\":\"\"}},\"colorscale\":{\"sequential\":[[0.0,\"#0d0887\"],[0.1111111111111111,\"#46039f\"],[0.2222222222222222,\"#7201a8\"],[0.3333333333333333,\"#9c179e\"],[0.4444444444444444,\"#bd3786\"],[0.5555555555555556,\"#d8576b\"],[0.6666666666666666,\"#ed7953\"],[0.7777777777777778,\"#fb9f3a\"],[0.8888888888888888,\"#fdca26\"],[1.0,\"#f0f921\"]],\"sequentialminus\":[[0.0,\"#0d0887\"],[0.1111111111111111,\"#46039f\"],[0.2222222222222222,\"#7201a8\"],[0.3333333333333333,\"#9c179e\"],[0.4444444444444444,\"#bd3786\"],[0.5555555555555556,\"#d8576b\"],[0.6666666666666666,\"#ed7953\"],[0.7777777777777778,\"#fb9f3a\"],[0.8888888888888888,\"#fdca26\"],[1.0,\"#f0f921\"]],\"diverging\":[[0,\"#8e0152\"],[0.1,\"#c51b7d\"],[0.2,\"#de77ae\"],[0.3,\"#f1b6da\"],[0.4,\"#fde0ef\"],[0.5,\"#f7f7f7\"],[0.6,\"#e6f5d0\"],[0.7,\"#b8e186\"],[0.8,\"#7fbc41\"],[0.9,\"#4d9221\"],[1,\"#276419\"]]},\"xaxis\":{\"gridcolor\":\"white\",\"linecolor\":\"white\",\"ticks\":\"\",\"title\":{\"standoff\":15},\"zerolinecolor\":\"white\",\"automargin\":true,\"zerolinewidth\":2},\"yaxis\":{\"gridcolor\":\"white\",\"linecolor\":\"white\",\"ticks\":\"\",\"title\":{\"standoff\":15},\"zerolinecolor\":\"white\",\"automargin\":true,\"zerolinewidth\":2},\"scene\":{\"xaxis\":{\"backgroundcolor\":\"#E5ECF6\",\"gridcolor\":\"white\",\"linecolor\":\"white\",\"showbackground\":true,\"ticks\":\"\",\"zerolinecolor\":\"white\",\"gridwidth\":2},\"yaxis\":{\"backgroundcolor\":\"#E5ECF6\",\"gridcolor\":\"white\",\"linecolor\":\"white\",\"showbackground\":true,\"ticks\":\"\",\"zerolinecolor\":\"white\",\"gridwidth\":2},\"zaxis\":{\"backgroundcolor\":\"#E5ECF6\",\"gridcolor\":\"white\",\"linecolor\":\"white\",\"showbackground\":true,\"ticks\":\"\",\"zerolinecolor\":\"white\",\"gridwidth\":2}},\"shapedefaults\":{\"line\":{\"color\":\"#2a3f5f\"}},\"annotationdefaults\":{\"arrowcolor\":\"#2a3f5f\",\"arrowhead\":0,\"arrowwidth\":1},\"geo\":{\"bgcolor\":\"white\",\"landcolor\":\"#E5ECF6\",\"subunitcolor\":\"white\",\"showland\":true,\"showlakes\":true,\"lakecolor\":\"white\"},\"title\":{\"x\":0.05},\"mapbox\":{\"style\":\"light\"}}},\"xaxis\":{\"anchor\":\"y\",\"domain\":[0.0,1.0],\"title\":{\"text\":\"\"},\"showgrid\":true},\"yaxis\":{\"anchor\":\"x\",\"domain\":[0.0,1.0],\"title\":{\"text\":\"Superchain Transactions (M)\"},\"showgrid\":true},\"legend\":{\"title\":{\"text\":\"Cohort\"},\"tracegroupgap\":0},\"margin\":{\"t\":60},\"plot_bgcolor\":\"white\",\"paper_bgcolor\":\"white\"},                        {\"responsive\": true}                    ).then(function(){\n",
       "                            \n",
       "var gd = document.getElementById('5f239fce-0505-446b-9866-5c17efc4f999');\n",
       "var x = new MutationObserver(function (mutations, observer) {{\n",
       "        var display = window.getComputedStyle(gd).display;\n",
       "        if (!display || display === 'none') {{\n",
       "            console.log([gd, 'removed!']);\n",
       "            Plotly.purge(gd);\n",
       "            observer.disconnect();\n",
       "        }}\n",
       "}});\n",
       "\n",
       "// Listen for the removal of the full notebook cells\n",
       "var notebookContainer = gd.closest('#notebook-container');\n",
       "if (notebookContainer) {{\n",
       "    x.observe(notebookContainer, {childList: true});\n",
       "}}\n",
       "\n",
       "// Listen for the clearing of the current output cell\n",
       "var outputEl = gd.closest('.output');\n",
       "if (outputEl) {{\n",
       "    x.observe(outputEl, {childList: true});\n",
       "}}\n",
       "\n",
       "                        })                };                });            </script>        </div>"
      ]
     },
     "metadata": {},
     "output_type": "display_data"
    }
   ],
   "source": [
    "fig = px.area(\n",
    "    data_frame=txns,\n",
    "    x='bucket_month',\n",
    "    y='amount',\n",
    "    color='cohort_label',\n",
    "    color_discrete_sequence=['purple', 'cyan', '#FF0420'],\n",
    ")\n",
    "fig.update_layout(\n",
    "    xaxis=dict(showgrid=True, title=''),\n",
    "    yaxis=dict(showgrid=True, title='Superchain Transactions (M)'),\n",
    "    legend=dict(title='Cohort'),\n",
    "    plot_bgcolor='white',\n",
    "    paper_bgcolor='white'\n",
    ")\n",
    "fig.update_traces(line=dict(width=1))"
   ]
  },
  {
   "cell_type": "code",
   "execution_count": 16,
   "id": "2e980a27-023d-4d53-be66-aae6ceedae38",
   "metadata": {},
   "outputs": [
    {
     "data": {
      "text/html": [
       "<div>\n",
       "<style scoped>\n",
       "    .dataframe tbody tr th:only-of-type {\n",
       "        vertical-align: middle;\n",
       "    }\n",
       "\n",
       "    .dataframe tbody tr th {\n",
       "        vertical-align: top;\n",
       "    }\n",
       "\n",
       "    .dataframe thead tr th {\n",
       "        text-align: left;\n",
       "    }\n",
       "\n",
       "    .dataframe thead tr:last-of-type th {\n",
       "        text-align: right;\n",
       "    }\n",
       "</style>\n",
       "<table border=\"1\" class=\"dataframe\">\n",
       "  <thead>\n",
       "    <tr>\n",
       "      <th>event_type</th>\n",
       "      <th colspan=\"2\" halign=\"left\">Code Commits (K)</th>\n",
       "      <th colspan=\"2\" halign=\"left\">Gas Fees (ETH)</th>\n",
       "      <th colspan=\"2\" halign=\"left\">Transactions (M)</th>\n",
       "    </tr>\n",
       "    <tr>\n",
       "      <th>time_interval</th>\n",
       "      <th>RF3 window</th>\n",
       "      <th>RF4 window</th>\n",
       "      <th>RF3 window</th>\n",
       "      <th>RF4 window</th>\n",
       "      <th>RF3 window</th>\n",
       "      <th>RF4 window</th>\n",
       "    </tr>\n",
       "    <tr>\n",
       "      <th>cohort_label</th>\n",
       "      <th></th>\n",
       "      <th></th>\n",
       "      <th></th>\n",
       "      <th></th>\n",
       "      <th></th>\n",
       "      <th></th>\n",
       "    </tr>\n",
       "  </thead>\n",
       "  <tbody>\n",
       "    <tr>\n",
       "      <th>RF4 only</th>\n",
       "      <td>58</td>\n",
       "      <td>59</td>\n",
       "      <td>701</td>\n",
       "      <td>1230</td>\n",
       "      <td>33</td>\n",
       "      <td>52</td>\n",
       "    </tr>\n",
       "    <tr>\n",
       "      <th>Multiple RFs</th>\n",
       "      <td>47</td>\n",
       "      <td>49</td>\n",
       "      <td>355</td>\n",
       "      <td>1137</td>\n",
       "      <td>12</td>\n",
       "      <td>31</td>\n",
       "    </tr>\n",
       "    <tr>\n",
       "      <th>Past RFs only</th>\n",
       "      <td>24</td>\n",
       "      <td>21</td>\n",
       "      <td>119</td>\n",
       "      <td>109</td>\n",
       "      <td>10</td>\n",
       "      <td>4</td>\n",
       "    </tr>\n",
       "  </tbody>\n",
       "</table>\n",
       "</div>"
      ],
      "text/plain": [
       "event_type    Code Commits (K)            Gas Fees (ETH)             \\\n",
       "time_interval       RF3 window RF4 window     RF3 window RF4 window   \n",
       "cohort_label                                                          \n",
       "RF4 only                    58         59            701       1230   \n",
       "Multiple RFs                47         49            355       1137   \n",
       "Past RFs only               24         21            119        109   \n",
       "\n",
       "event_type    Transactions (M)             \n",
       "time_interval       RF3 window RF4 window  \n",
       "cohort_label                               \n",
       "RF4 only                    33         52  \n",
       "Multiple RFs                12         31  \n",
       "Past RFs only               10          4  "
      ]
     },
     "execution_count": 16,
     "metadata": {},
     "output_type": "execute_result"
    }
   ],
   "source": [
    "(\n",
    "    df[\n",
    "        (df['time_interval'].isin(['RF4 window', 'RF3 window']))\n",
    "        & (df['project_id'].isin(onchain_projects))\n",
    "      ]\n",
    "    .pivot_table(\n",
    "        index='cohort_label',\n",
    "        columns=['event_type', 'time_interval'],\n",
    "        values='amount',\n",
    "        aggfunc='sum')\n",
    "    .applymap(round)\n",
    "    .reindex(['RF4 only', 'Multiple RFs', 'Past RFs only'])\n",
    ")"
   ]
  },
  {
   "cell_type": "code",
   "execution_count": 17,
   "id": "203d56f5",
   "metadata": {},
   "outputs": [],
   "source": [
    "pvt = (\n",
    "    df[\n",
    "        (df['time_interval'].isin(['RF4 window', 'RF3 window']))\n",
    "        & (df['project_id'].isin(onchain_projects))\n",
    "      ]\n",
    "    .pivot_table(\n",
    "        index=['cohort_label', 'project_name'],\n",
    "        columns=['event_type', 'time_interval'],\n",
    "        values='amount',\n",
    "        aggfunc='sum', \n",
    "        fill_value=0\n",
    "    )\n",
    ")"
   ]
  },
  {
   "cell_type": "code",
   "execution_count": 18,
   "id": "b5ccb772",
   "metadata": {},
   "outputs": [
    {
     "data": {
      "text/html": [
       "<div>\n",
       "<style scoped>\n",
       "    .dataframe tbody tr th:only-of-type {\n",
       "        vertical-align: middle;\n",
       "    }\n",
       "\n",
       "    .dataframe tbody tr th {\n",
       "        vertical-align: top;\n",
       "    }\n",
       "\n",
       "    .dataframe thead tr th {\n",
       "        text-align: left;\n",
       "    }\n",
       "\n",
       "    .dataframe thead tr:last-of-type th {\n",
       "        text-align: right;\n",
       "    }\n",
       "</style>\n",
       "<table border=\"1\" class=\"dataframe\">\n",
       "  <thead>\n",
       "    <tr>\n",
       "      <th></th>\n",
       "      <th>event_type</th>\n",
       "      <th colspan=\"2\" halign=\"left\">Code Commits (K)</th>\n",
       "      <th colspan=\"2\" halign=\"left\">Gas Fees (ETH)</th>\n",
       "      <th colspan=\"2\" halign=\"left\">Transactions (M)</th>\n",
       "    </tr>\n",
       "    <tr>\n",
       "      <th></th>\n",
       "      <th>time_interval</th>\n",
       "      <th>RF3 window</th>\n",
       "      <th>RF4 window</th>\n",
       "      <th>RF3 window</th>\n",
       "      <th>RF4 window</th>\n",
       "      <th>RF3 window</th>\n",
       "      <th>RF4 window</th>\n",
       "    </tr>\n",
       "    <tr>\n",
       "      <th>cohort_label</th>\n",
       "      <th>project_name</th>\n",
       "      <th></th>\n",
       "      <th></th>\n",
       "      <th></th>\n",
       "      <th></th>\n",
       "      <th></th>\n",
       "      <th></th>\n",
       "    </tr>\n",
       "  </thead>\n",
       "  <tbody>\n",
       "    <tr>\n",
       "      <th rowspan=\"5\" valign=\"top\">Multiple RFs</th>\n",
       "      <th>0x-splits</th>\n",
       "      <td>0.399</td>\n",
       "      <td>0.296</td>\n",
       "      <td>0.006573</td>\n",
       "      <td>0.197686</td>\n",
       "      <td>0.000766</td>\n",
       "      <td>0.011147</td>\n",
       "    </tr>\n",
       "    <tr>\n",
       "      <th>across</th>\n",
       "      <td>0.796</td>\n",
       "      <td>1.125</td>\n",
       "      <td>3.063905</td>\n",
       "      <td>26.091997</td>\n",
       "      <td>0.124029</td>\n",
       "      <td>1.036695</td>\n",
       "    </tr>\n",
       "    <tr>\n",
       "      <th>aerodrome-finance</th>\n",
       "      <td>0.001</td>\n",
       "      <td>0.041</td>\n",
       "      <td>7.888162</td>\n",
       "      <td>118.941636</td>\n",
       "      <td>0.302434</td>\n",
       "      <td>3.958043</td>\n",
       "    </tr>\n",
       "    <tr>\n",
       "      <th>buidlguidl</th>\n",
       "      <td>0.709</td>\n",
       "      <td>1.483</td>\n",
       "      <td>0.000071</td>\n",
       "      <td>0.407910</td>\n",
       "      <td>0.000027</td>\n",
       "      <td>0.024952</td>\n",
       "    </tr>\n",
       "    <tr>\n",
       "      <th>coordinape</th>\n",
       "      <td>0.485</td>\n",
       "      <td>0.553</td>\n",
       "      <td>0.432166</td>\n",
       "      <td>0.245044</td>\n",
       "      <td>0.042617</td>\n",
       "      <td>0.038769</td>\n",
       "    </tr>\n",
       "    <tr>\n",
       "      <th>...</th>\n",
       "      <th>...</th>\n",
       "      <td>...</td>\n",
       "      <td>...</td>\n",
       "      <td>...</td>\n",
       "      <td>...</td>\n",
       "      <td>...</td>\n",
       "      <td>...</td>\n",
       "    </tr>\n",
       "    <tr>\n",
       "      <th rowspan=\"5\" valign=\"top\">RF4 only</th>\n",
       "      <th>zerion</th>\n",
       "      <td>0.034</td>\n",
       "      <td>0.185</td>\n",
       "      <td>0.571975</td>\n",
       "      <td>3.962016</td>\n",
       "      <td>0.058307</td>\n",
       "      <td>0.121741</td>\n",
       "    </tr>\n",
       "    <tr>\n",
       "      <th>zerius-io</th>\n",
       "      <td>0.000</td>\n",
       "      <td>0.030</td>\n",
       "      <td>0.000000</td>\n",
       "      <td>1.110249</td>\n",
       "      <td>0.000000</td>\n",
       "      <td>0.139076</td>\n",
       "    </tr>\n",
       "    <tr>\n",
       "      <th>zkbob</th>\n",
       "      <td>0.612</td>\n",
       "      <td>0.136</td>\n",
       "      <td>0.224327</td>\n",
       "      <td>0.377364</td>\n",
       "      <td>0.006254</td>\n",
       "      <td>0.018175</td>\n",
       "    </tr>\n",
       "    <tr>\n",
       "      <th>zkp2p</th>\n",
       "      <td>0.239</td>\n",
       "      <td>0.559</td>\n",
       "      <td>0.000000</td>\n",
       "      <td>0.031382</td>\n",
       "      <td>0.000000</td>\n",
       "      <td>0.001761</td>\n",
       "    </tr>\n",
       "    <tr>\n",
       "      <th>zwergdev-whale-bridge</th>\n",
       "      <td>0.000</td>\n",
       "      <td>0.005</td>\n",
       "      <td>0.000000</td>\n",
       "      <td>0.428838</td>\n",
       "      <td>0.000000</td>\n",
       "      <td>0.038876</td>\n",
       "    </tr>\n",
       "  </tbody>\n",
       "</table>\n",
       "<p>272 rows × 6 columns</p>\n",
       "</div>"
      ],
      "text/plain": [
       "event_type                         Code Commits (K)            Gas Fees (ETH)  \\\n",
       "time_interval                            RF3 window RF4 window     RF3 window   \n",
       "cohort_label project_name                                                       \n",
       "Multiple RFs 0x-splits                        0.399      0.296       0.006573   \n",
       "             across                           0.796      1.125       3.063905   \n",
       "             aerodrome-finance                0.001      0.041       7.888162   \n",
       "             buidlguidl                       0.709      1.483       0.000071   \n",
       "             coordinape                       0.485      0.553       0.432166   \n",
       "...                                             ...        ...            ...   \n",
       "RF4 only     zerion                           0.034      0.185       0.571975   \n",
       "             zerius-io                        0.000      0.030       0.000000   \n",
       "             zkbob                            0.612      0.136       0.224327   \n",
       "             zkp2p                            0.239      0.559       0.000000   \n",
       "             zwergdev-whale-bridge            0.000      0.005       0.000000   \n",
       "\n",
       "event_type                                     Transactions (M)             \n",
       "time_interval                       RF4 window       RF3 window RF4 window  \n",
       "cohort_label project_name                                                   \n",
       "Multiple RFs 0x-splits                0.197686         0.000766   0.011147  \n",
       "             across                  26.091997         0.124029   1.036695  \n",
       "             aerodrome-finance      118.941636         0.302434   3.958043  \n",
       "             buidlguidl               0.407910         0.000027   0.024952  \n",
       "             coordinape               0.245044         0.042617   0.038769  \n",
       "...                                        ...              ...        ...  \n",
       "RF4 only     zerion                   3.962016         0.058307   0.121741  \n",
       "             zerius-io                1.110249         0.000000   0.139076  \n",
       "             zkbob                    0.377364         0.006254   0.018175  \n",
       "             zkp2p                    0.031382         0.000000   0.001761  \n",
       "             zwergdev-whale-bridge    0.428838         0.000000   0.038876  \n",
       "\n",
       "[272 rows x 6 columns]"
      ]
     },
     "execution_count": 18,
     "metadata": {},
     "output_type": "execute_result"
    }
   ],
   "source": [
    "pvt"
   ]
  }
 ],
 "metadata": {
  "kernelspec": {
   "display_name": "Python 3 (ipykernel)",
   "language": "python",
   "name": "python3"
  },
  "language_info": {
   "codemirror_mode": {
    "name": "ipython",
    "version": 3
   },
   "file_extension": ".py",
   "mimetype": "text/x-python",
   "name": "python",
   "nbconvert_exporter": "python",
   "pygments_lexer": "ipython3",
   "version": "3.11.5"
  }
 },
 "nbformat": 4,
 "nbformat_minor": 5
}
