{
 "cells": [
  {
   "cell_type": "code",
   "execution_count": 1,
   "id": "471d85d3",
   "metadata": {},
   "outputs": [],
   "source": [
    "import json\n",
    "import os\n",
    "import sys\n",
    "\n",
    "# import local dependencies\n",
    "sys.path.append(os.path.abspath(\"../../scripts/\"))\n",
    "from oso_db import execute_query"
   ]
  },
  {
   "cell_type": "code",
   "execution_count": 5,
   "id": "0abf622d",
   "metadata": {},
   "outputs": [],
   "source": [
    "# gather all artifacts with at least one PR associated with projects in a given collection\n",
    "project_data = execute_query(\"\"\"\n",
    "    SELECT DISTINCT\n",
    "        p.slug AS slug,\n",
    "        p.name AS name,\n",
    "        a.name AS repo\n",
    "    FROM \n",
    "        project p\n",
    "        INNER JOIN project_artifacts_artifact paa ON p.id = paa.\"projectId\"\n",
    "        INNER JOIN artifact a ON paa.\"artifactId\" = a.id\n",
    "        INNER JOIN collection_projects_project cpp ON p.id = cpp.\"projectId\"\n",
    "        INNER JOIN collection c ON cpp.\"collectionId\" = c.id\n",
    "        INNER JOIN event e ON a.id = e.\"toId\"\n",
    "    WHERE \n",
    "        c.slug = 'optimism' \n",
    "        AND a.namespace = 'GITHUB'\n",
    "        AND e.\"typeId\" = 2 -- typeID for Pull Request Created\n",
    "    ORDER BY \n",
    "        p.slug;\n",
    "\"\"\", col_names=False)"
   ]
  },
  {
   "cell_type": "code",
   "execution_count": 6,
   "id": "eaa9e1e5",
   "metadata": {},
   "outputs": [],
   "source": [
    "# traverse the result and store it in a simple schema\n",
    "data = {}\n",
    "for (slug, name, repo) in project_data:\n",
    "    if slug not in data:\n",
    "        data[slug] = {\n",
    "            'name': name,\n",
    "            'collections': [],\n",
    "            'repos': [repo]\n",
    "        }\n",
    "    else:\n",
    "        data[slug]['repos'].append(repo)        "
   ]
  },
  {
   "cell_type": "code",
   "execution_count": 9,
   "id": "29276f71",
   "metadata": {},
   "outputs": [],
   "source": [
    "# create a string of the slugs\n",
    "slugs_str = \"','\".join(data.keys())\n",
    "\n",
    "# create a string of other collections to see if the project belongs to\n",
    "collections_str = \"','\".join([\n",
    "    'Optimism Onchain',\n",
    "    'Optimism RPGF1',\n",
    "    'Optimism RPGF2',\n",
    "    'Optimism RPGF3',\n",
    "    'OP GovGrants'\n",
    "])"
   ]
  },
  {
   "cell_type": "code",
   "execution_count": 10,
   "id": "15fad5df",
   "metadata": {},
   "outputs": [],
   "source": [
    "# execute another query to look up collection membership\n",
    "collection_mappings = execute_query(f\"\"\"\n",
    "    SELECT \n",
    "        p.slug AS slug,\n",
    "        c.name AS name\n",
    "    FROM project p\n",
    "    JOIN collection_projects_project cpp ON p.\"id\" = cpp.\"projectId\"\n",
    "    JOIN collection c ON cpp.\"collectionId\" = c.\"id\"\n",
    "    WHERE\n",
    "        p.slug IN ('{slugs_str}')    \n",
    "        AND c.\"name\" IN ('{collections_str}')\n",
    "\"\"\", col_names=False)"
   ]
  },
  {
   "cell_type": "code",
   "execution_count": 11,
   "id": "5c4781e3",
   "metadata": {},
   "outputs": [],
   "source": [
    "# append the collection tags to our data\n",
    "for (slug, collection) in collection_mappings:\n",
    "    data[slug]['collections'].append(collection)"
   ]
  },
  {
   "cell_type": "code",
   "execution_count": 12,
   "id": "1cced276",
   "metadata": {},
   "outputs": [],
   "source": [
    "# dump the data to json\n",
    "with open(\"oso-optimism-repo-dump.json\", 'w') as f:\n",
    "    json.dump(data, f, indent=2)"
   ]
  }
 ],
 "metadata": {
  "kernelspec": {
   "display_name": "Python 3 (ipykernel)",
   "language": "python",
   "name": "python3"
  },
  "language_info": {
   "codemirror_mode": {
    "name": "ipython",
    "version": 3
   },
   "file_extension": ".py",
   "mimetype": "text/x-python",
   "name": "python",
   "nbconvert_exporter": "python",
   "pygments_lexer": "ipython3",
   "version": "3.9.7"
  }
 },
 "nbformat": 4,
 "nbformat_minor": 5
}
