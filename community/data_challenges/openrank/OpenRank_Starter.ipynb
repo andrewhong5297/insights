{
 "cells": [
  {
   "cell_type": "code",
   "execution_count": 1,
   "id": "f6c29fe1-866a-41af-802e-2d9fd8c2ebbd",
   "metadata": {},
   "outputs": [],
   "source": [
    "# !pip install openrank-sdk"
   ]
  },
  {
   "cell_type": "code",
   "execution_count": 2,
   "id": "7c4cb7eb-c3c2-4477-b086-a8cb16a6bc42",
   "metadata": {},
   "outputs": [],
   "source": [
    "from google.cloud import bigquery\n",
    "from openrank_sdk import EigenTrust\n",
    "import os\n",
    "import pandas as pd"
   ]
  },
  {
   "cell_type": "code",
   "execution_count": 3,
   "id": "43d44514-e385-475f-811a-d4286f34472d",
   "metadata": {},
   "outputs": [],
   "source": [
    "os.environ['GOOGLE_APPLICATION_CREDENTIALS'] = \"../../../gcp_credentials.json\"\n",
    "client = bigquery.Client()\n",
    "a = EigenTrust()"
   ]
  },
  {
   "cell_type": "code",
   "execution_count": 4,
   "id": "0e919d3e-c54f-44c2-a381-1801b5ca6064",
   "metadata": {},
   "outputs": [],
   "source": [
    "query = \"\"\"\n",
    "    select\n",
    "      from_artifact_id as i,\n",
    "      to_artifact_id as j,\n",
    "      amount as v\n",
    "    from `opensource-observer.oso_playground.int_events_monthly_to_project`\n",
    "    where event_type = 'STARRED'\n",
    "\"\"\"\n",
    "result = client.query(query)\n",
    "dataframe = result.to_dataframe()"
   ]
  },
  {
   "cell_type": "code",
   "execution_count": 5,
   "id": "87ae386c-68cb-4489-839c-13890ebce3a7",
   "metadata": {},
   "outputs": [
    {
     "name": "stderr",
     "output_type": "stream",
     "text": [
      "INFO:root:eigentrust compute took 0.44674491600017063 secs \n"
     ]
    },
    {
     "name": "stdout",
     "output_type": "stream",
     "text": [
      "[{'i': 'dxsMNRXWzfg8lMvq0M4bY-NZ5961glN0Q-X64anZ8BI=', 'v': 0.027263616483517505}, {'i': '_uY2kb_KwmfjU4LXUeUfoBMHZR3Gc5Muy4xHN5ZM7xs=', 'v': 0.02178601714587872}, {'i': '1xNCqM8yvFSrAbyPwQ8RsWQIrOeNmHgk-jiiIohmreQ=', 'v': 0.017349865330190093}, {'i': 'nppQ3HGSbUstqd0ojoYNLjajNt5oS8w-SHlOBsx5P-A=', 'v': 0.013993087286958236}, {'i': 'MGdf1oWdttB63V1ErZaIN8xn4sDSJn9bxDdHF46vLYE=', 'v': 0.01148977182948378}, {'i': '3Bz1wXRUvNFMJdCD4pIQfkxWvggzKPXv6HfNl92tuw4=', 'v': 0.010384117970261168}, {'i': 'eMNTz5b_IjwL18W8-bsLyGx-SrzjWNHcsRELFjGrYvE=', 'v': 0.009892418156619126}, {'i': 'FC6p9CjbsVbd0gOXYuE3Wsxd7_nDtwOZgQUn9UhyObE=', 'v': 0.009384035670728515}, {'i': '0OFJDUYrKt2g-sOMzjzHPoP2DAPZlmvFtISHSk9FCD8=', 'v': 0.009029992293008878}, {'i': 'c_ybFW9q6Wwx9WxCKajLGw8sWHw2Py3XUvMAFbxUmkU=', 'v': 0.007536868736890221}]\n"
     ]
    }
   ],
   "source": [
    "recs = dataframe.to_dict(\"records\")\n",
    "localtrust = []\n",
    "for l in recs:\n",
    "    if l[\"v\"] == 0.0:\n",
    "        continue\n",
    "    localtrust.append(l)\n",
    "\n",
    "scores = a.run_eigentrust(localtrust)\n",
    "limit = 10\n",
    "print(scores[:limit])"
   ]
  }
 ],
 "metadata": {
  "kernelspec": {
   "display_name": "Python 3 (ipykernel)",
   "language": "python",
   "name": "python3"
  },
  "language_info": {
   "codemirror_mode": {
    "name": "ipython",
    "version": 3
   },
   "file_extension": ".py",
   "mimetype": "text/x-python",
   "name": "python",
   "nbconvert_exporter": "python",
   "pygments_lexer": "ipython3",
   "version": "3.11.7"
  }
 },
 "nbformat": 4,
 "nbformat_minor": 5
}
