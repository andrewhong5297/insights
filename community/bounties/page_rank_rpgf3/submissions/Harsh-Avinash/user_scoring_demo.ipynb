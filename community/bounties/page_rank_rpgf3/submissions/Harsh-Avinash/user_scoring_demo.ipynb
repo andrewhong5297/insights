{
 "cells": [
  {
   "cell_type": "code",
   "execution_count": 1,
   "metadata": {},
   "outputs": [],
   "source": [
    "import pandas as pd\n",
    "from scoring_tools.project_scores import calculate_impact_factor\n",
    "from scoring_tools.user_scores import calculate_user_contribution_score, calculate_user_diversity_index, calculate_user_influence_score, calculate_user_consistency_score, calculate_user_collaboration_index\n",
    "\n",
    "df = pd.read_csv('../../github_graph.csv')"
   ]
  },
  {
   "cell_type": "code",
   "execution_count": 2,
   "metadata": {},
   "outputs": [
    {
     "name": "stdout",
     "output_type": "stream",
     "text": [
      "           Total Contributions  Unique Projects  Unique Repositories  \\\n",
      "user                                                                   \n",
      "40283.0                20376.0              124                  718   \n",
      "38365.0                 8506.0              103                  419   \n",
      "3736142.0              47806.0               53                   99   \n",
      "35760.0                  577.0              108                  192   \n",
      "33251.0                 7704.0               49                  155   \n",
      "...                        ...              ...                  ...   \n",
      "171388.0                   0.0                1                    1   \n",
      "503912.0                   0.0                1                    1   \n",
      "462476.0                   0.0                1                    1   \n",
      "503909.0                   0.0                1                    1   \n",
      "337273.0                   0.0                1                    1   \n",
      "\n",
      "           Normalized Total Contributions  Normalized Unique Projects  \\\n",
      "user                                                                    \n",
      "40283.0                          0.426223                    1.000000   \n",
      "38365.0                          0.177927                    0.830645   \n",
      "3736142.0                        1.000000                    0.427419   \n",
      "35760.0                          0.012070                    0.870968   \n",
      "33251.0                          0.161151                    0.395161   \n",
      "...                                   ...                         ...   \n",
      "171388.0                         0.000000                    0.008065   \n",
      "503912.0                         0.000000                    0.008065   \n",
      "462476.0                         0.000000                    0.008065   \n",
      "503909.0                         0.000000                    0.008065   \n",
      "337273.0                         0.000000                    0.008065   \n",
      "\n",
      "           Normalized Unique Repositories  Contribution Score  \n",
      "user                                                           \n",
      "40283.0                          1.000000            0.808741  \n",
      "38365.0                          0.583565            0.530713  \n",
      "3736142.0                        0.137883            0.521767  \n",
      "35760.0                          0.267409            0.383482  \n",
      "33251.0                          0.215877            0.257397  \n",
      "...                                   ...                 ...  \n",
      "171388.0                         0.001393            0.003152  \n",
      "503912.0                         0.001393            0.003152  \n",
      "462476.0                         0.001393            0.003152  \n",
      "503909.0                         0.001393            0.003152  \n",
      "337273.0                         0.001393            0.003152  \n",
      "\n",
      "[25840 rows x 7 columns]\n"
     ]
    }
   ],
   "source": [
    "user_contribution_scores = calculate_user_contribution_score(df)\n",
    "print(user_contribution_scores)"
   ]
  },
  {
   "cell_type": "code",
   "execution_count": 3,
   "metadata": {},
   "outputs": [
    {
     "name": "stdout",
     "output_type": "stream",
     "text": [
      "            Unique Projects  Unique Repositories  Total Contributions  \\\n",
      "user                                                                    \n",
      "40283.0                 124                  718              20376.0   \n",
      "38365.0                 103                  419               8506.0   \n",
      "35760.0                 108                  192                577.0   \n",
      "33251.0                  49                  155               7704.0   \n",
      "40374.0                  39                  186               5517.0   \n",
      "...                     ...                  ...                  ...   \n",
      "199999.0                  1                    1                  3.0   \n",
      "199996.0                  1                    1                  1.0   \n",
      "199989.0                  1                    1                  1.0   \n",
      "199872.0                  1                    1                  1.0   \n",
      "24581226.0                1                    1                  2.0   \n",
      "\n",
      "            Normalized Project Diversity  Normalized Repository Diversity  \\\n",
      "user                                                                        \n",
      "40283.0                         1.000000                         1.000000   \n",
      "38365.0                         0.830645                         0.583565   \n",
      "35760.0                         0.870968                         0.267409   \n",
      "33251.0                         0.395161                         0.215877   \n",
      "40374.0                         0.314516                         0.259053   \n",
      "...                                  ...                              ...   \n",
      "199999.0                        0.008065                         0.001393   \n",
      "199996.0                        0.008065                         0.001393   \n",
      "199989.0                        0.008065                         0.001393   \n",
      "199872.0                        0.008065                         0.001393   \n",
      "24581226.0                      0.008065                         0.001393   \n",
      "\n",
      "            Diversity Index  \n",
      "user                         \n",
      "40283.0            1.000000  \n",
      "38365.0            0.707105  \n",
      "35760.0            0.569189  \n",
      "33251.0            0.305519  \n",
      "40374.0            0.286785  \n",
      "...                     ...  \n",
      "199999.0           0.004729  \n",
      "199996.0           0.004729  \n",
      "199989.0           0.004729  \n",
      "199872.0           0.004729  \n",
      "24581226.0         0.004729  \n",
      "\n",
      "[25840 rows x 6 columns]\n"
     ]
    }
   ],
   "source": [
    "user_diversity_scores = calculate_user_diversity_index(df)\n",
    "print(user_diversity_scores)"
   ]
  },
  {
   "cell_type": "code",
   "execution_count": 4,
   "metadata": {},
   "outputs": [
    {
     "name": "stdout",
     "output_type": "stream",
     "text": [
      "           Average Project Impact  Project Diversity  Total Contributions  \\\n",
      "user                                                                        \n",
      "35760.0                  0.294697                108                577.0   \n",
      "40283.0                  0.192795                124              20376.0   \n",
      "3736142.0                0.406395                 53              47806.0   \n",
      "38365.0                  0.192060                103               8506.0   \n",
      "61538.0                  0.487612                 28                163.0   \n",
      "...                           ...                ...                  ...   \n",
      "462476.0                 0.000000                  1                  0.0   \n",
      "503909.0                 0.000000                  1                  0.0   \n",
      "503912.0                 0.000000                  1                  0.0   \n",
      "337273.0                 0.000000                  1                  0.0   \n",
      "158306.0                 0.000000                  2                  0.0   \n",
      "\n",
      "           Influence Score  \n",
      "user                        \n",
      "35760.0           0.256672  \n",
      "40283.0           0.192795  \n",
      "3736142.0         0.173701  \n",
      "38365.0           0.159534  \n",
      "61538.0           0.110106  \n",
      "...                    ...  \n",
      "462476.0          0.000000  \n",
      "503909.0          0.000000  \n",
      "503912.0          0.000000  \n",
      "337273.0          0.000000  \n",
      "158306.0          0.000000  \n",
      "\n",
      "[25840 rows x 4 columns]\n"
     ]
    }
   ],
   "source": [
    "project_impact_scores = calculate_impact_factor(df, level='project')\n",
    "user_influence_scores = calculate_user_influence_score(df, project_impact_scores)\n",
    "\n",
    "print(user_influence_scores)"
   ]
  },
  {
   "cell_type": "code",
   "execution_count": 5,
   "metadata": {},
   "outputs": [
    {
     "name": "stdout",
     "output_type": "stream",
     "text": [
      "            Standard Deviation  Total Contributions  \\\n",
      "user                                                  \n",
      "94996.0                    0.0                 26.0   \n",
      "51766.0                    0.0                 26.0   \n",
      "186380.0                   0.0                 24.0   \n",
      "56319.0                    0.0                 20.0   \n",
      "5537955.0                  0.0                 18.0   \n",
      "...                        ...                  ...   \n",
      "22414764.0                 NaN                  1.0   \n",
      "24580692.0                 NaN                  1.0   \n",
      "24580885.0                 NaN                  6.0   \n",
      "24581114.0                 NaN                  1.0   \n",
      "24581226.0                 NaN                  2.0   \n",
      "\n",
      "            Adjusted Consistency Score  Normalized Consistency Score  \n",
      "user                                                                  \n",
      "94996.0                     26000000.0                      1.000000  \n",
      "51766.0                     26000000.0                      1.000000  \n",
      "186380.0                    24000000.0                      0.923077  \n",
      "56319.0                     20000000.0                      0.769231  \n",
      "5537955.0                   18000000.0                      0.692308  \n",
      "...                                ...                           ...  \n",
      "22414764.0                         NaN                           NaN  \n",
      "24580692.0                         NaN                           NaN  \n",
      "24580885.0                         NaN                           NaN  \n",
      "24581114.0                         NaN                           NaN  \n",
      "24581226.0                         NaN                           NaN  \n",
      "\n",
      "[25840 rows x 4 columns]\n"
     ]
    }
   ],
   "source": [
    "user_consistency_scores = calculate_user_consistency_score(df)\n",
    "print(user_consistency_scores)"
   ]
  },
  {
   "cell_type": "code",
   "execution_count": 6,
   "metadata": {},
   "outputs": [
    {
     "name": "stdout",
     "output_type": "stream",
     "text": [
      "           Total Unique Collaborators  Collaboration Index\n",
      "40283.0                       25532.0             1.000000\n",
      "35760.0                       24979.0             0.978341\n",
      "38365.0                       24685.0             0.966826\n",
      "61538.0                       18560.0             0.726931\n",
      "33251.0                       18292.0             0.716434\n",
      "...                               ...                  ...\n",
      "35090.0                           1.0             0.000039\n",
      "7517817.0                         1.0             0.000039\n",
      "7517818.0                         1.0             0.000039\n",
      "34476.0                           1.0             0.000039\n",
      "34335.0                           1.0             0.000039\n",
      "\n",
      "[25832 rows x 2 columns]\n"
     ]
    }
   ],
   "source": [
    "user_collaboration_index = calculate_user_collaboration_index(df)\n",
    "print(user_collaboration_index)"
   ]
  }
 ],
 "metadata": {
  "kernelspec": {
   "display_name": "Python 3",
   "language": "python",
   "name": "python3"
  },
  "language_info": {
   "codemirror_mode": {
    "name": "ipython",
    "version": 3
   },
   "file_extension": ".py",
   "mimetype": "text/x-python",
   "name": "python",
   "nbconvert_exporter": "python",
   "pygments_lexer": "ipython3",
   "version": "3.12.0"
  }
 },
 "nbformat": 4,
 "nbformat_minor": 2
}
